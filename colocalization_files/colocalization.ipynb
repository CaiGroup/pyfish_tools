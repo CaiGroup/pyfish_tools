{
 "cells": [
  {
   "cell_type": "code",
   "execution_count": null,
   "metadata": {},
   "outputs": [],
   "source": [
    "#general packages\n",
    "import pandas as pd\n",
    "import numpy as np\n",
    "import tifffile as tf\n",
    "from tqdm import tqdm\n",
    "#import custom function\n",
    "from colocalization import colocalizing_dots"
   ]
  },
  {
   "cell_type": "code",
   "execution_count": null,
   "metadata": {},
   "outputs": [],
   "source": [
    "import plotly.express as px\n",
    "import plotly.graph_objects as go\n",
    "import numpy as np\n",
    "\n",
    "def plot_2d_image(img_2d, df1, df2, zmax, add_trace = True):\n",
    "    \n",
    "    #For Plotting 2d image\n",
    "    #-------------------------------------------\n",
    "    fig = px.imshow(\n",
    "        img_2d,\n",
    "        width=600,\n",
    "        height=600,\n",
    "        binary_string=True,\n",
    "        binary_compression_level=4,\n",
    "        binary_backend='pil',\n",
    "        zmax = zmax,\n",
    "        #animation_frame=0\n",
    "    )\n",
    "    if add_trace==True:\n",
    "        fig.add_trace(go.Scattergl(\n",
    "            x=df1.x,\n",
    "            y=df1.y,\n",
    "            mode='markers',\n",
    "            marker_symbol='cross',\n",
    "            marker=dict(\n",
    "                #maxdisplayed=1000,\n",
    "                size=4\n",
    "                ),\n",
    "            name = \"first dot\"\n",
    "            ))\n",
    "        fig.add_trace(go.Scattergl(\n",
    "            x=df2.x,\n",
    "            y=df2.y,\n",
    "            mode='markers',\n",
    "            marker_symbol='cross',\n",
    "            marker=dict(\n",
    "                #maxdisplayed=1000,\n",
    "                size=4\n",
    "                ),\n",
    "            name = \"second dot\"\n",
    "            ))\n",
    "    fig.show()"
   ]
  },
  {
   "cell_type": "code",
   "execution_count": null,
   "metadata": {},
   "outputs": [],
   "source": [
    "#read in dots file\n",
    "pos = 1\n",
    "dot_src = f\"/groups/CaiLab/personal/Lex/raw/020422_20kdash_3t3/notebook_pyfiles/dots_detected/Pos{pos}/locations_z_0.csv\"\n",
    "dots_df = pd.read_csv(dot_src, index_col = 0)"
   ]
  },
  {
   "cell_type": "code",
   "execution_count": null,
   "metadata": {},
   "outputs": [],
   "source": [
    "#isolate channel and hyb you would like to compare\n",
    "dots_df1 = dots_df[(dots_df[\"hyb\"]==0)&(dots_df[\"ch\"]==1)]\n",
    "dots_df2 = dots_df[(dots_df[\"hyb\"]==12)&(dots_df[\"ch\"]==1)]\n",
    "\n",
    "eff, df = colocalizing_dots(dots_df1, dots_df2, radius=2, return_dots_not_coloc=True)"
   ]
  },
  {
   "cell_type": "code",
   "execution_count": null,
   "metadata": {},
   "outputs": [],
   "source": [
    "#read image for overlay\n",
    "hyb = 0\n",
    "pos = 1\n",
    "img_raw = f'/groups/CaiLab/personal/Lex/raw/020422_20kdash_3t3/notebook_pyfiles/aberration_corrected/HybCycle_{hyb}/MMStack_Pos{pos}.ome.tif'\n",
    "img = tf.imread(img_raw)"
   ]
  },
  {
   "cell_type": "code",
   "execution_count": null,
   "metadata": {},
   "outputs": [],
   "source": [
    "#look at shape\n",
    "img.shape"
   ]
  },
  {
   "cell_type": "code",
   "execution_count": null,
   "metadata": {
    "scrolled": true
   },
   "outputs": [],
   "source": [
    "#plot to see if the dots make sense\n",
    "plot_2d_image(img[0], df[0], df[1], zmax=3000, add_trace = True)"
   ]
  },
  {
   "cell_type": "code",
   "execution_count": null,
   "metadata": {},
   "outputs": [],
   "source": [
    "#read image for overlay\n",
    "hyb = 12\n",
    "pos = 1\n",
    "img_raw = f'/groups/CaiLab/personal/Lex/raw/020422_20kdash_3t3/notebook_pyfiles/aberration_corrected/HybCycle_{hyb}/MMStack_Pos{pos}.ome.tif'\n",
    "img = tf.imread(img_raw)"
   ]
  },
  {
   "cell_type": "code",
   "execution_count": null,
   "metadata": {},
   "outputs": [],
   "source": [
    "#plot to see if the dots make sense\n",
    "plot_2d_image(img[0], df[0], df[1], zmax=3000, add_trace = True)"
   ]
  },
  {
   "cell_type": "markdown",
   "metadata": {},
   "source": [
    "# Check efficiency for other channels and 10 pos"
   ]
  },
  {
   "cell_type": "code",
   "execution_count": null,
   "metadata": {},
   "outputs": [],
   "source": [
    "#specifiy hybs\n",
    "hybs = [0,12]\n",
    "#specify channel comparions\n",
    "channels = [2,2]\n",
    "#list for efficiency\n",
    "eff_list = []\n",
    "for pos in tqdm(np.arange(0,10,1)):\n",
    "    #get specific position\n",
    "    dot_src = f\"/groups/CaiLab/personal/Lex/raw/020422_20kdash_3t3/notebook_pyfiles/dots_detected/Pos{pos}/locations_z_0.csv\"\n",
    "    #read in csv\n",
    "    try:\n",
    "        dots_df = pd.read_csv(dot_src, index_col = 0)\n",
    "    except FileNotFoundError:\n",
    "        continue\n",
    "    #isolate channel and hyb you would like to compare\n",
    "    dots_df1 = dots_df[(dots_df[\"hyb\"]==hybs[0])&(dots_df[\"ch\"]==channels[0])]\n",
    "    dots_df2 = dots_df[(dots_df[\"hyb\"]==hybs[1])&(dots_df[\"ch\"]==channels[1])]\n",
    "    #get efficiency\n",
    "    eff, _, _ = colocalizing_dots(dots_df1, dots_df2, radius=3.0)\n",
    "    eff_list.append(eff)"
   ]
  },
  {
   "cell_type": "code",
   "execution_count": null,
   "metadata": {},
   "outputs": [],
   "source": [
    "eff_list"
   ]
  },
  {
   "cell_type": "code",
   "execution_count": null,
   "metadata": {},
   "outputs": [],
   "source": [
    "#check pos 5\n",
    "pos = 4\n",
    "dot_src = f\"/groups/CaiLab/personal/Lex/raw/020422_20kdash_3t3/notebook_pyfiles/dots_detected/Pos{pos}/locations_z_0.csv\"\n",
    "dots_df = pd.read_csv(dot_src, index_col = 0)"
   ]
  },
  {
   "cell_type": "code",
   "execution_count": null,
   "metadata": {},
   "outputs": [],
   "source": [
    "#isolate channel and hyb you would like to compare\n",
    "dots_df1 = dots_df[(dots_df[\"hyb\"]==0)&(dots_df[\"ch\"]==1)]\n",
    "dots_df2 = dots_df[(dots_df[\"hyb\"]==12)&(dots_df[\"ch\"]==1)]\n",
    "\n",
    "eff, new_df1, new_df2 = colocalizing_dots(dots_df1, dots_df2, radius=1.4)"
   ]
  },
  {
   "cell_type": "code",
   "execution_count": null,
   "metadata": {},
   "outputs": [],
   "source": [
    "#read image for overlay\n",
    "hyb = 12\n",
    "pos = 4\n",
    "img_raw = f'/groups/CaiLab/personal/Lex/raw/020422_20kdash_3t3/notebook_pyfiles/aberration_corrected/HybCycle_{hyb}/MMStack_Pos{pos}.ome.tif'\n",
    "img = tf.imread(img_raw)"
   ]
  },
  {
   "cell_type": "code",
   "execution_count": null,
   "metadata": {},
   "outputs": [],
   "source": [
    "#plot to see if the dots make sense\n",
    "plot_2d_image(img[0], new_df1, new_df2, zmax=3000, add_trace = True)"
   ]
  },
  {
   "cell_type": "code",
   "execution_count": null,
   "metadata": {},
   "outputs": [],
   "source": []
  }
 ],
 "metadata": {
  "kernelspec": {
   "display_name": "Python (Base Conda)",
   "language": "python",
   "name": "condabase"
  },
  "language_info": {
   "codemirror_mode": {
    "name": "ipython",
    "version": 3
   },
   "file_extension": ".py",
   "mimetype": "text/x-python",
   "name": "python",
   "nbconvert_exporter": "python",
   "pygments_lexer": "ipython3",
   "version": "3.8.5"
  }
 },
 "nbformat": 4,
 "nbformat_minor": 2
}
