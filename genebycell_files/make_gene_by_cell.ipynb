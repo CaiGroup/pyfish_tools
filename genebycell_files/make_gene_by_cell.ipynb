{
 "cells": [
  {
   "cell_type": "code",
   "execution_count": 8,
   "metadata": {},
   "outputs": [],
   "source": [
    "#general packages\n",
    "import pandas as pd\n",
    "import numpy as np\n",
    "from pathlib import Path\n",
    "#custom function\n",
    "from make_gene_by_cell import make_genebycell"
   ]
  },
  {
   "cell_type": "markdown",
   "metadata": {},
   "source": [
    "# Use this if you are threshold screening"
   ]
  },
  {
   "cell_type": "code",
   "execution_count": 11,
   "metadata": {},
   "outputs": [],
   "source": [
    "# #list of channels\n",
    "# for channel in [1]:\n",
    "#     #listy of pos\n",
    "#     for pos in range(5):\n",
    "#         #list of paths\n",
    "#         paths = []\n",
    "#         #list of thresholds\n",
    "#         for i in range(11):\n",
    "#             paths.append(f\"/groups/CaiLab/personal/Lex/raw/150genes3bind_040622/notebook_pyfiles/decoded/screen_11p52_23_heg_svm_test_mapped/Channel_{channel}/Threshold_{i}/Pos_{pos}/diff_0_minseed_3_z_0_finalgenes.csv\")\n",
    "\n",
    "#             output_dir = f\"/groups/CaiLab/personal/Lex/raw/150genes3bind_040622/notebook_pyfiles/genebycell/screen_11p52_23_heg_svm_test_mapped/Pos_{pos}\"\n",
    "#         #make gene by cell for each threshold set in each pos\n",
    "#         make_genebycell(paths, output_dir, check_thresholds=True, channel = channel)"
   ]
  },
  {
   "cell_type": "code",
   "execution_count": 12,
   "metadata": {},
   "outputs": [],
   "source": [
    "# #combine positions\n",
    "# for channel in [1]:\n",
    "#     for thresh in range(11):\n",
    "#         path = f\"/groups/CaiLab/personal/Lex/raw/150genes3bind_040622/notebook_pyfiles/genebycell/screen_11p52_23_heg_svm_test_mapped/Pos_0/Threshold_{thresh}/genebycell_{channel}.csv\"\n",
    "#         genebycell = pd.read_csv(path, index_col=0)\n",
    "#         num_cell_ini = 1\n",
    "#         num_cell = len(genebycell.columns)\n",
    "#         new_names= [f\"cell_{i}\" for i in np.arange(num_cell_ini,num_cell+1,1)]\n",
    "#         genebycell.columns = new_names\n",
    "#         num_cell_ini += num_cell\n",
    "#         #make new names\n",
    "#         for pos in np.arange(1,5,1):\n",
    "#             path_2 = f\"/groups/CaiLab/personal/Lex/raw/150genes3bind_040622/notebook_pyfiles/genebycell/screen_11p52_23_heg_svm_test_mapped/Pos_{pos}/Threshold_{thresh}/genebycell_{channel}.csv\"\n",
    "#             genebycell_2 = pd.read_csv(path_2,index_col=0)\n",
    "#             num_cell += len(genebycell_2.columns)\n",
    "#             new_names= [f\"cell_{i}\" for i in np.arange(num_cell_ini,num_cell+1,1)]\n",
    "#             num_cell_ini += len(genebycell_2.columns)\n",
    "#             genebycell_2.columns = new_names\n",
    "#             genebycell = pd.concat([genebycell, genebycell_2],axis=1).fillna(0)\n",
    "        \n",
    "#         output = Path(f\"/groups/CaiLab/personal/Lex/raw/150genes3bind_040622/notebook_pyfiles/genebycell/screen_11p52_23_heg_svm_test_mapped_comb/Threshold_{thresh}/comb_genebycell_{channel}.csv\")\n",
    "#         output.parent.mkdir(parents=True, exist_ok=True)\n",
    "#         genebycell.to_csv(str(output))"
   ]
  },
  {
   "cell_type": "markdown",
   "metadata": {},
   "source": [
    "# Make combined final gene by cell across all positions (final)"
   ]
  },
  {
   "cell_type": "code",
   "execution_count": 13,
   "metadata": {},
   "outputs": [],
   "source": [
    "#generate list of paths\n",
    "gene_loc_dir = []\n",
    "#total number of pos\n",
    "num_pos = np.arange(0,40,1)\n",
    "for i in num_pos:\n",
    "    gene_loc_dir.append(f\"/groups/CaiLab/personal/Lex/raw/150genes3bind_040622/notebook_pyfiles/decoded/final_11p52_23_heg_svm/Channel_1/Pos_{i}/diff_0_minseed_3_z_0_finalgenes.csv\")"
   ]
  },
  {
   "cell_type": "code",
   "execution_count": 14,
   "metadata": {},
   "outputs": [],
   "source": [
    "#generate combined gene by cell\n",
    "output_dir = \"/groups/CaiLab/personal/Lex/raw/150genes3bind_040622/notebook_pyfiles/genebycell/final_11p52_23_heg_svm\"\n",
    "make_genebycell(gene_loc_dir, output_dir, check_thresholds=False, channel = 1)"
   ]
  },
  {
   "cell_type": "code",
   "execution_count": null,
   "metadata": {},
   "outputs": [],
   "source": []
  }
 ],
 "metadata": {
  "kernelspec": {
   "display_name": "Python (Cai Lab common)",
   "language": "python",
   "name": "python_env"
  },
  "language_info": {
   "codemirror_mode": {
    "name": "ipython",
    "version": 3
   },
   "file_extension": ".py",
   "mimetype": "text/x-python",
   "name": "python",
   "nbconvert_exporter": "python",
   "pygments_lexer": "ipython3",
   "version": "3.9.1"
  }
 },
 "nbformat": 4,
 "nbformat_minor": 2
}
