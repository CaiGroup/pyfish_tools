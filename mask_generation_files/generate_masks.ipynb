{
 "cells": [
  {
   "cell_type": "code",
   "execution_count": null,
   "metadata": {},
   "outputs": [],
   "source": [
    "#general packages\n",
    "import numpy as np\n",
    "import time, os, sys\n",
    "import matplotlib.pyplot as plt\n",
    "import matplotlib as mpl\n",
    "import glob\n",
    "import re\n",
    "from tqdm import tqdm\n",
    "from util import pil_imread\n",
    "import tifffile as tf\n",
    "%matplotlib inline\n",
    "mpl.rcParams['figure.dpi'] = 300\n",
    "#import cellpose for segmentation\n",
    "from cellpose import models, io\n",
    "from cellpose import plot\n",
    "#ignore warnings\n",
    "import warnings\n",
    "warnings.filterwarnings(\"ignore\")"
   ]
  },
  {
   "cell_type": "code",
   "execution_count": null,
   "metadata": {},
   "outputs": [],
   "source": [
    "import plotly.express as px\n",
    "def plot_2d(img, zmax):\n",
    "    \"\"\"Function to generate plots with slide panel\n",
    "    Parameters:\n",
    "    -----------\n",
    "    img = image containing ref and corrected\n",
    "    zmax= set maximum intensity\"\"\"\n",
    "    \n",
    "    #For Plotting 2d image\n",
    "    #-------------------------------------------\n",
    "    fig = px.imshow(\n",
    "        img,\n",
    "        width=600,\n",
    "        height=600,\n",
    "        binary_string=True,\n",
    "        binary_compression_level=4,\n",
    "        binary_backend='pil',\n",
    "        zmax = zmax)\n",
    "    \n",
    "    fig.show()"
   ]
  },
  {
   "cell_type": "code",
   "execution_count": null,
   "metadata": {},
   "outputs": [],
   "source": [
    "import plotly.express as px\n",
    "def plot_slideshow(img, zmax):\n",
    "    \"\"\"Function to generate plots with slide panel\n",
    "    Parameters:\n",
    "    -----------\n",
    "    img = image containing ref and corrected\n",
    "    zmax= set maximum intensity\"\"\"\n",
    "    \n",
    "    #For Plotting 2d image\n",
    "    #-------------------------------------------\n",
    "    fig = px.imshow(\n",
    "        img,\n",
    "        width=600,\n",
    "        height=600,\n",
    "        binary_string=True,\n",
    "        binary_compression_level=4,\n",
    "        animation_frame=0,\n",
    "        binary_backend='pil',\n",
    "        zmax = zmax)\n",
    "    \n",
    "    fig.show()"
   ]
  },
  {
   "cell_type": "code",
   "execution_count": null,
   "metadata": {},
   "outputs": [],
   "source": [
    "directory = \"/groups/CaiLab/personal/Lex/raw/2020-08-08-takei/HybCycle_0/*.tif\"\n",
    "files=glob.glob(directory)"
   ]
  },
  {
   "cell_type": "code",
   "execution_count": null,
   "metadata": {},
   "outputs": [],
   "source": [
    "files"
   ]
  },
  {
   "cell_type": "code",
   "execution_count": null,
   "metadata": {},
   "outputs": [],
   "source": [
    "#read images and generate a list of arrays\n",
    "collection = []\n",
    "\n",
    "for i in tqdm(range(len(files))):\n",
    "    collection.append(pil_imread(files[i], swapaxes=True))\n",
    "# for i in tqdm(range(2)):\n",
    "#     collection.append(pil_imread(files[i], swapaxes=False))"
   ]
  },
  {
   "cell_type": "code",
   "execution_count": null,
   "metadata": {},
   "outputs": [],
   "source": [
    "#z,c,x,y\n",
    "collection[0].shape"
   ]
  },
  {
   "cell_type": "code",
   "execution_count": null,
   "metadata": {},
   "outputs": [],
   "source": [
    "plot_slideshow(collection[0][2], zmax=3000)"
   ]
  },
  {
   "cell_type": "code",
   "execution_count": null,
   "metadata": {},
   "outputs": [],
   "source": [
    "img = np.swapaxes(collection[0],0,1)\n",
    "maxc = np.max(img[1], axis=0)\n",
    "maxn = np.max(img[3],axis=0)"
   ]
  },
  {
   "cell_type": "code",
   "execution_count": null,
   "metadata": {},
   "outputs": [],
   "source": [
    "max_cell = np.array([maxc,maxn])"
   ]
  },
  {
   "cell_type": "code",
   "execution_count": null,
   "metadata": {},
   "outputs": [],
   "source": [
    "plot_2d(max_cell[1], zmax=5000)"
   ]
  },
  {
   "cell_type": "code",
   "execution_count": null,
   "metadata": {},
   "outputs": [],
   "source": [
    "# DEFINE CELLPOSE MODEL\n",
    "# model_type='cyto' or model_type='nuclei'\n",
    "model = models.Cellpose(gpu=False, model_type='cyto')"
   ]
  },
  {
   "cell_type": "code",
   "execution_count": null,
   "metadata": {},
   "outputs": [],
   "source": [
    "# define CHANNELS to run segementation on\n",
    "# grayscale=0, R=1, G=2, B=3\n",
    "# channels = [cytoplasm, nucleus]\n",
    "\n",
    "channels = [1,2]\n",
    "\n",
    "masks_cyto, flows, styles, diams = model.eval(max_cell, diameter=150, \n",
    "                                         channels=channels, flow_threshold=0.5,cellprob_threshold=0)\n"
   ]
  },
  {
   "cell_type": "code",
   "execution_count": null,
   "metadata": {},
   "outputs": [],
   "source": [
    "plt.imshow(masks_cyto)"
   ]
  },
  {
   "cell_type": "code",
   "execution_count": null,
   "metadata": {},
   "outputs": [],
   "source": [
    "# DISPLAY RESULTS\n",
    "\n",
    "fig = plt.figure(figsize=(30,30))\n",
    "plot.show_segmentation(fig, max_cell[0], masks_cyto, flows[0])\n",
    "#plt.tight_layout()\n",
    "plt.show()"
   ]
  },
  {
   "cell_type": "code",
   "execution_count": null,
   "metadata": {},
   "outputs": [],
   "source": [
    "#export cyto masks\n",
    "import os\n",
    "os.mkdir(\"../Labeled_Images\")\n",
    "tf.imwrite(\"/groups/CaiLab/personal/Lex/raw/2020-08-08-takei/notebook_pyfiles/Labeled_Images/MMStack_Pos0.tif\",masks_cyto)"
   ]
  },
  {
   "cell_type": "code",
   "execution_count": null,
   "metadata": {},
   "outputs": [],
   "source": [
    "# DEFINE CELLPOSE MODEL\n",
    "# model_type='cyto' or model_type='nuclei'\n",
    "model = models.Cellpose(gpu=False, model_type='nuclei')"
   ]
  },
  {
   "cell_type": "code",
   "execution_count": null,
   "metadata": {},
   "outputs": [],
   "source": [
    "# define CHANNELS to run segementation on\n",
    "# grayscale=0, R=1, G=2, B=3\n",
    "# channels = [cytoplasm, nucleus]\n",
    "\n",
    "channels = [0,2]\n",
    "\n",
    "masks_nuclear, flows, styles, diams = model.eval(z1_collection, diameter=200, \n",
    "                                         channels=channels, flow_threshold=0.4,cellprob_threshold=0)\n"
   ]
  },
  {
   "cell_type": "code",
   "execution_count": null,
   "metadata": {},
   "outputs": [],
   "source": [
    "# DISPLAY RESULTS\n",
    "\n",
    "fig = plt.figure(figsize=(30,30))\n",
    "plot.show_segmentation(fig, z1_collection[0][1], masks_nuclear[0], flows[0][0])\n",
    "#plt.tight_layout()\n",
    "plt.show()"
   ]
  },
  {
   "cell_type": "code",
   "execution_count": null,
   "metadata": {},
   "outputs": [],
   "source": [
    "#export cyto masks\n",
    "for i in range(len(masks_nuclear)):\n",
    "    tf.imwrite(\"/groups/CaiLab/personal/Lex/Sandbox/20k_dash_3t3_exp1/nuc_masks/nucmask{}.tif\".format(i), \n",
    "               masks_nuclear[i])"
   ]
  },
  {
   "cell_type": "markdown",
   "metadata": {},
   "source": [
    "---------------------------------------------------------------------------------------------------------------------"
   ]
  },
  {
   "cell_type": "code",
   "execution_count": null,
   "metadata": {},
   "outputs": [],
   "source": [
    "#read in masks\n",
    "nuc_paths = glob.glob(\"/groups/CaiLab/personal/Lex/Sandbox/20k_dash_3t3_exp1/nuc_masks/*.tif\")\n",
    "cyto_paths = glob.glob(\"/groups/CaiLab/personal/Lex/Sandbox/20k_dash_3t3_exp1/cell_masks/*.tif\")\n",
    "\n",
    "#organize files numerically\n",
    "key = [int(re.search('nucmask(\\\\d+)', f).group(1)) for f in nuc_paths]\n",
    "nuc_paths = list(np.array(nuc_paths)[np.argsort(key)])\n",
    "\n",
    "key = [int(re.search('cytomask(\\\\d+)', f).group(1)) for f in cyto_paths]\n",
    "cyto_paths = list(np.array(cyto_paths)[np.argsort(key)])"
   ]
  },
  {
   "cell_type": "code",
   "execution_count": null,
   "metadata": {},
   "outputs": [],
   "source": [
    "nuclear = []\n",
    "cyto = []\n",
    "for i in tqdm(range(len(nuc_paths))):\n",
    "    nuclear.append(pil_imread(nuc_paths[i]))\n",
    "    cyto.append(pil_imread(cyto_paths[i]))"
   ]
  },
  {
   "cell_type": "code",
   "execution_count": null,
   "metadata": {},
   "outputs": [],
   "source": [
    "def nuclear_cyto_matching(cyto, nuc, threshold=0.20):\n",
    "    \"\"\"Match cyto masks and nuclear masks. Keep cyto masks that have nucleus\n",
    "    Parameters\n",
    "    ----------\n",
    "    cyto=list of arrays or single cyto array\n",
    "    nuc=list of arrays or single nuc array\n",
    "    threshold=percent overlap\"\"\"\n",
    "    \n",
    "    if type(cyto) != list:\n",
    "        #make copy of mask to not overwrite original\n",
    "        cyto_new = np.copy(cyto)\n",
    "        #converst masks to only one of the cells\n",
    "        for i in np.arange(1, len(np.unique(cyto)),1):\n",
    "            arr1_int = (cyto==i).astype(int)\n",
    "            arr2_int = (nuc>0).astype(int)\n",
    "\n",
    "            #compare masks\n",
    "            matched_counts = np.where((arr1_int==1)& (arr2_int==1))\n",
    "            total_count = np.count_nonzero(arr1_int == 1)\n",
    "            percent = len(matched_counts[0])/total_count\n",
    "\n",
    "            #if percent overlap is greater than threshold keep, else throw away\n",
    "            if percent < threshold:\n",
    "                cyto_new[cyto_new==i]=0\n",
    "                \n",
    "        #get array of old number assignment\n",
    "        new_numbers = np.arange(0,len(np.unique(cyto_new)),1)\n",
    "            \n",
    "        #changes old number assignments to new\n",
    "        for i in range(len(np.unique(cyto_new))):\n",
    "            if i !=0:\n",
    "                old_number = np.unique(cyto_new)\n",
    "                cyto_new[cyto_new==old_number[i]]=new_numbers[i]\n",
    "                        \n",
    "        return cyto_new\n",
    "    \n",
    "    else:\n",
    "        #for new masks\n",
    "        new_arr = []\n",
    "        for i in tqdm(range(len(cyto))):\n",
    "            #make copy of mask to not overwrite original\n",
    "            cyto_new = np.copy(cyto[i])\n",
    "            #converst masks to only one of the cells\n",
    "            for j in np.arange(1, len(np.unique(cyto[i])),1):\n",
    "                arr1_int = (cyto[i]==j).astype(int)\n",
    "                arr2_int = (nuc[i]>0).astype(int)\n",
    "\n",
    "                #compare masks\n",
    "                matched_counts = np.where((arr1_int==1)& (arr2_int==1))\n",
    "                total_count = np.count_nonzero(arr1_int == 1)\n",
    "                percent = len(matched_counts[0])/total_count\n",
    "\n",
    "                #if percent overlap is greater than threshold keep else throw away\n",
    "                if percent < threshold:\n",
    "                    cyto_new[cyto_new==j]=0\n",
    "            #get array of old number assignment\n",
    "            new_numbers = np.arange(0,len(np.unique(cyto_new)),1)\n",
    "            \n",
    "            #changes old number assignments to new\n",
    "            for k in range(len(np.unique(cyto_new))):\n",
    "                if k !=0:\n",
    "                    old_number = np.unique(cyto_new)\n",
    "                    cyto_new[cyto_new==old_number[k]]=new_numbers[k]\n",
    "            new_arr.append(cyto_new)\n",
    "        return new_arr"
   ]
  },
  {
   "cell_type": "code",
   "execution_count": null,
   "metadata": {},
   "outputs": [],
   "source": [
    "cyto_new = nuclear_cyto_matching(cyto,nuclear, threshold=0.10)"
   ]
  },
  {
   "cell_type": "code",
   "execution_count": null,
   "metadata": {},
   "outputs": [],
   "source": [
    "for i in range(len(cyto_new)):\n",
    "    tf.imwrite(\"/groups/CaiLab/personal/Lex/Sandbox/20k_dash_3t3_exp1/Labeled_Images/MMStack_Pos{}.ome.tif\".format(i),\n",
    "               cyto_new[i])"
   ]
  },
  {
   "cell_type": "code",
   "execution_count": null,
   "metadata": {},
   "outputs": [],
   "source": [
    "# #path to labeled images\n",
    "# directory = \"./Labeled_Images/*.tif\"\n",
    "# files=glob.glob(directory)\n",
    "\n",
    "# #organize files numerically\n",
    "# key = [int(re.search('MMStack_Pos(\\\\d+)', f).group(1)) for f in files]\n",
    "# files = list(np.array(files)[np.argsort(key)])"
   ]
  },
  {
   "cell_type": "code",
   "execution_count": null,
   "metadata": {},
   "outputs": [],
   "source": [
    "# #read in images\n",
    "# labeled = []\n",
    "# for i in tqdm(range(len(files))):\n",
    "#     labeled.append(pil_imread(files[i]))"
   ]
  },
  {
   "cell_type": "code",
   "execution_count": null,
   "metadata": {},
   "outputs": [],
   "source": [
    "# plt.imshow(labeled[0])"
   ]
  },
  {
   "cell_type": "code",
   "execution_count": null,
   "metadata": {},
   "outputs": [],
   "source": [
    "# plt.imshow(cyto[0])"
   ]
  },
  {
   "cell_type": "code",
   "execution_count": null,
   "metadata": {},
   "outputs": [],
   "source": [
    "# plt.imshow(nuclear[0])"
   ]
  },
  {
   "cell_type": "code",
   "execution_count": null,
   "metadata": {},
   "outputs": [],
   "source": []
  }
 ],
 "metadata": {
  "kernelspec": {
   "display_name": "Python 3",
   "language": "python",
   "name": "python3"
  },
  "language_info": {
   "codemirror_mode": {
    "name": "ipython",
    "version": 3
   },
   "file_extension": ".py",
   "mimetype": "text/x-python",
   "name": "python",
   "nbconvert_exporter": "python",
   "pygments_lexer": "ipython3",
   "version": "3.7.0"
  }
 },
 "nbformat": 4,
 "nbformat_minor": 2
}
