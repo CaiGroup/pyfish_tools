{
 "cells": [
  {
   "cell_type": "code",
   "execution_count": null,
   "metadata": {},
   "outputs": [],
   "source": [
    "'''\n",
    "Mask Generation Notebook\n",
    "- modified to use GPU acceleration\n",
    "- by Arun Chakravorty (< Lex)\n",
    "- 12/8/21 \n",
    "'''"
   ]
  },
  {
   "cell_type": "code",
   "execution_count": null,
   "metadata": {},
   "outputs": [],
   "source": [
    "#Install Cellpose Models\n",
    "import tifffile as tf\n",
    "from pathlib import Path\n",
    "import numpy as np\n",
    "import time, os, sys, random\n",
    "from urllib.parse import urlparse\n",
    "import skimage.io\n",
    "from tqdm import tqdm\n",
    "import matplotlib.pyplot as plt\n",
    "import matplotlib as mpl\n",
    "import glob\n",
    "%matplotlib inline\n",
    "import re\n",
    "from util import pil_imread\n",
    "mpl.rcParams['figure.dpi'] = 300\n",
    "\n",
    "from urllib.parse import urlparse\n",
    "import shutil\n",
    "\n",
    "print (\"Downloading Models\")\n",
    "from cellpose import models\n",
    "\n",
    "#https://stackoverflow.com/questions/8924173/how-do-i-print-bold-text-in-python\n",
    "BOLD = '\\033[1m'\n",
    "UNDERLINE = '\\033[4m'\n",
    "END = '\\033[0m'\n",
    "\n",
    "#custom function\n",
    "import nuclear_cyto_match as ncm"
   ]
  },
  {
   "cell_type": "code",
   "execution_count": null,
   "metadata": {},
   "outputs": [],
   "source": [
    "#Check if colab notebook instance has GPU access\n",
    "if models.use_gpu() == False: \n",
    "  #Warnings from the ZeroCost StarDist notebook\n",
    "    print(BOLD+UNDERLINE+'You do not have GPU access.'+END)\n",
    "    print('Make sure that you asked for GPU access in the OnDemand Instance') \n",
    "    print('Expect slow performance. To access GPU try reconnecting later')\n",
    "    use_GPU=False\n",
    "else:\n",
    "    print(BOLD+UNDERLINE+\"You have access to the GPU.\"+END+\"\\nDetails are:\")\n",
    "    print(\"*************************************************\")\n",
    "    # Nvidia GPU specs: \n",
    "    !nvidia-smi\n",
    "    use_GPU=True\n",
    "\n",
    "print(\"*************************************************\")\n",
    "print(\"Libraries imported and configured\")"
   ]
  },
  {
   "cell_type": "code",
   "execution_count": null,
   "metadata": {},
   "outputs": [],
   "source": [
    "import plotly.express as px\n",
    "\n",
    "def plot_2d(img, zmax):\n",
    "    \"\"\"Function to generate plots with slide panel\n",
    "    Parameters:\n",
    "    -----------\n",
    "    img = image containing ref and corrected\n",
    "    zmax= set maximum intensity\"\"\"\n",
    "    \n",
    "    #For Plotting 2d image\n",
    "    #-------------------------------------------\n",
    "    fig = px.imshow(\n",
    "        img,\n",
    "        width=600,\n",
    "        height=600,\n",
    "        binary_string=True,\n",
    "        binary_compression_level=4,\n",
    "        binary_backend='pil',\n",
    "        zmax = zmax)\n",
    "    \n",
    "    fig.show()"
   ]
  },
  {
   "cell_type": "code",
   "execution_count": null,
   "metadata": {},
   "outputs": [],
   "source": [
    "def plot_slideshow(img, zmax):\n",
    "    \"\"\"Function to generate plots with slide panel\n",
    "    Parameters:\n",
    "    -----------\n",
    "    img = image containing ref and corrected\n",
    "    zmax= set maximum intensity\"\"\"\n",
    "    \n",
    "    #For Plotting 2d image\n",
    "    #-------------------------------------------\n",
    "    fig = px.imshow(\n",
    "        img,\n",
    "        width=600,\n",
    "        height=600,\n",
    "        binary_string=True,\n",
    "        binary_compression_level=4,\n",
    "        animation_frame=0,\n",
    "        binary_backend='pil',\n",
    "        zmax = zmax)\n",
    "    \n",
    "    fig.show()"
   ]
  },
  {
   "cell_type": "code",
   "execution_count": null,
   "metadata": {},
   "outputs": [],
   "source": [
    "# Load the images: \n",
    "input_directory = \"/groups/CaiLab/personal/Lex/raw/150genes_040122/segmentation/*.tif\"\n",
    "files=glob.glob(input_directory)\n",
    "#organize files numerically\n",
    "key = [int(re.search('MMStack_Pos(\\\\d+)', f).group(1)) for f in files]\n",
    "files = list(np.array(files)[np.argsort(key)])"
   ]
  },
  {
   "cell_type": "code",
   "execution_count": null,
   "metadata": {},
   "outputs": [],
   "source": [
    "files"
   ]
  },
  {
   "cell_type": "code",
   "execution_count": null,
   "metadata": {},
   "outputs": [],
   "source": [
    "# Append the Images into one image. \"\"\n",
    "imgs = []\n",
    "\n",
    "for i in tqdm(range(len(files))):\n",
    "    imgs.append(pil_imread(files[i], swapaxes=True))"
   ]
  },
  {
   "cell_type": "code",
   "execution_count": null,
   "metadata": {},
   "outputs": [],
   "source": [
    "#Z, C, X, Y \n",
    "imgs[0].shape"
   ]
  },
  {
   "cell_type": "markdown",
   "metadata": {},
   "source": [
    "## View Single File"
   ]
  },
  {
   "cell_type": "code",
   "execution_count": null,
   "metadata": {},
   "outputs": [],
   "source": [
    "#import scipy.ndimage as ndimage\n",
    "##use ndimage blur if you are using transcripts for segmentation"
   ]
  },
  {
   "cell_type": "code",
   "execution_count": null,
   "metadata": {},
   "outputs": [],
   "source": [
    "img = np.swapaxes(imgs[0],0,1)\n",
    "#Taking max projection of the Cytoplasmic and Nuclear Channel\n",
    "maxc = np.max(img[0], axis=0)\n",
    "maxn = np.max(img[1],axis=0)"
   ]
  },
  {
   "cell_type": "code",
   "execution_count": null,
   "metadata": {},
   "outputs": [],
   "source": [
    "max_cell = np.array([maxc,maxn])"
   ]
  },
  {
   "cell_type": "code",
   "execution_count": null,
   "metadata": {},
   "outputs": [],
   "source": [
    "# Cytoplasmic Channel\n",
    "plot_2d(max_cell[0], zmax=10000)"
   ]
  },
  {
   "cell_type": "code",
   "execution_count": null,
   "metadata": {},
   "outputs": [],
   "source": [
    "# Nuclear Channel\n",
    "plot_2d(max_cell[1], zmax=500)"
   ]
  },
  {
   "cell_type": "markdown",
   "metadata": {},
   "source": [
    "## Settings for Cellpose"
   ]
  },
  {
   "cell_type": "code",
   "execution_count": null,
   "metadata": {},
   "outputs": [],
   "source": [
    "Model_Choice = \"Nucleus\" #[\"Cytoplasm\", \"Nucleus\"]\n",
    "model_choice=Model_Choice\n",
    "Channel_for_segmentation=\"1\" #[0,1,2,3]\n",
    "segment_channel=int(Channel_for_segmentation)\n",
    "\n",
    "if model_choice==\"Cytoplasm\":\n",
    "    model_type=\"cyto\"\n",
    "else:\n",
    "    model_type=\"nuclei\"\n",
    "\n",
    "###If you choose cytoplasm, set True you have a nuclear channel\n",
    "Use_nuclear_channel= True #{type:\"boolean\"}\n",
    "Nuclear_channel=\"1\" #[1,2,3]\n",
    "nuclear_channel=int(Nuclear_channel)\n",
    "\n",
    "#For debugging. Don't need to change anything since we check whether models have GPU access in an earlier cell.  \n",
    "#Use_GPU = True #{type:\"boolean\"}\n",
    "#use_GPU=Use_GPU\n",
    "\n",
    "### Diameter of cell (pixels):\n",
    "#### Enter 0 if you don't know and cellpose will estimate it automatically. You can define this later as well.\n",
    "Diameter =  350 #{type:\"number\"}\n",
    "diameter=Diameter\n",
    "\n",
    "# define CHANNELS to run segementation on\n",
    "# grayscale=0, R=1, G=2, B=3\n",
    "# channels = [cytoplasm, nucleus]\n",
    "# if NUCLEUS channel does not exist, set the second channel to 0\n",
    "# channels = [0,0]\n",
    "# IF ALL YOUR IMAGES ARE THE SAME TYPE, you can give a list with 2 elements\n",
    "# channels = [0,0] # IF YOU HAVE GRAYSCALE\n",
    "# channels = [2,3] # IF YOU HAVE G=cytoplasm and B=nucleus\n",
    "# channels = [2,1] # IF YOU HAVE G=cytoplasm and R=nucleus\n",
    "# or if you have different types of channels in each image\n",
    "#channels = [[2,3], [0,0], [0,0]]\n",
    "\n",
    "# channels = [cytoplasm, nucleus]\n",
    "if model_choice == \"Cytoplasm\":\n",
    "    if Use_nuclear_channel:\n",
    "        channels=[segment_channel,nuclear_channel]\n",
    "    else:\n",
    "        channels=[segment_channel,0]\n",
    "\n",
    "if model_choice == \"Nucleus\":\n",
    "    channels=[segment_channel,0]\n",
    "\n",
    "\n",
    "# DEFINE CELLPOSE MODEL\n",
    "# model_type='cyto' or model_type='nuclei'\n",
    "model = models.Cellpose(gpu=use_GPU, model_type=model_type)\n",
    "\n",
    "# if diameter is set to None, the size of the cells is estimated on a per image basis\n",
    "# you can set the average cell `diameter` in pixels yourself (recommended) \n",
    "# diameter can be a list or a single number for all images\n",
    "if diameter == 0:\n",
    "    diameter = None\n",
    "    print(\"Diameter is set to None. The size of the cells will be estimated on a per image basis\")"
   ]
  },
  {
   "cell_type": "markdown",
   "metadata": {},
   "source": [
    "### Test Cellpose on a Single Image\n",
    "The ***Flow_threshold parameter*** is  the  maximum  allowed  error  of  the  flows  for  each  mask.   The  default  is 0.4. \n",
    "\n",
    "*   **Increase** this threshold if cellpose is not returning as many masks as you’d expect\n",
    "\n",
    "*   **Decrease** this threshold if cellpose is returning too many ill-shaped masks. \n",
    "\n",
    "The ***Cell Probability Threshold*** determines proability that a detected object is a cell.   The  default  is 0.0. \n",
    "\n",
    "*   **Decrease** this threshold if cellpose is not returning as many masks as you’d expect or if masks are too small\n",
    "\n",
    "*   **Increase** this threshold if cellpose is returning too many masks esp from dull/dim areas. "
   ]
  },
  {
   "cell_type": "code",
   "execution_count": null,
   "metadata": {},
   "outputs": [],
   "source": [
    "# define CHANNELS to run segementation on\n",
    "# grayscale=0, R=1, G=2, B=3\n",
    "\n",
    "# channels = [cytoplasm, nucleus]\n",
    "# if NUCLEUS channel does not exist, set the second channel to 0\n",
    "\n",
    "# IF ALL YOUR IMAGES ARE THE SAME TYPE, you can give a list with 2 elements\n",
    "# channels = [0,0] # IF YOU HAVE GRAYSCALE\n",
    "# channels = [2,3] # IF YOU HAVE G=cytoplasm and B=nucleus\n",
    "# channels = [2,1] # IF YOU HAVE G=cytoplasm and R=nucleus\n",
    "\n",
    "# or if you have different types of channels in each image\n",
    "#channels = [[2,3], [0,0], [0,0]]\n",
    "\n",
    "\n",
    "channels = [0,0]\n",
    "\n",
    "masks, flows, styles, diams = model.eval(max_cell[1], diameter=200, \n",
    "                                         channels=channels, flow_threshold=2,cellprob_threshold=-1)\n"
   ]
  },
  {
   "cell_type": "code",
   "execution_count": null,
   "metadata": {},
   "outputs": [],
   "source": [
    "from cellpose import plot\n",
    "\n",
    "fig = plt.figure(figsize=(12,5))\n",
    "plot.show_segmentation(fig, max_cell[1], masks, flows[0], channels=channels)\n",
    "plt.tight_layout()\n",
    "plt.show()"
   ]
  },
  {
   "cell_type": "markdown",
   "metadata": {},
   "source": [
    "### Run Cellpose on Entire Directory "
   ]
  },
  {
   "cell_type": "code",
   "execution_count": null,
   "metadata": {},
   "outputs": [],
   "source": [
    "imgs_final = []\n",
    "\n",
    "for i in tqdm(range(len(imgs))):\n",
    "    img = np.swapaxes(imgs[i],0,1)\n",
    "#     maxc = np.max(img[0], axis=0)\n",
    "    maxn = np.max(img[1],axis=0)\n",
    "#     max_cell = np.array([maxc,maxn])\n",
    "    imgs_final.append(maxn)"
   ]
  },
  {
   "cell_type": "code",
   "execution_count": null,
   "metadata": {},
   "outputs": [],
   "source": [
    "masks, flows, styles, diams = model.eval(imgs_final, diameter=200, channels=channels, \n",
    "                                         flow_threshold=2 ,cellprob_threshold=-1)"
   ]
  },
  {
   "cell_type": "markdown",
   "metadata": {},
   "source": [
    "### Show Results "
   ]
  },
  {
   "cell_type": "code",
   "execution_count": null,
   "metadata": {},
   "outputs": [],
   "source": [
    "masks"
   ]
  },
  {
   "cell_type": "code",
   "execution_count": null,
   "metadata": {},
   "outputs": [],
   "source": [
    "image_number = 0\n",
    "\n",
    "img1=imgs_final[image_number]\n",
    "#if img1.dtype!='uint8':\n",
    "#    img1=img_as_ubyte(img1)\n",
    "\n",
    "fig = plt.figure(figsize=(12,5))\n",
    "plot.show_segmentation(fig, img1, masks[image_number], flows[image_number][0], channels=channels)\n",
    "plt.tight_layout()\n",
    "plt.show()"
   ]
  },
  {
   "cell_type": "markdown",
   "metadata": {},
   "source": [
    "### Save Files "
   ]
  },
  {
   "cell_type": "code",
   "execution_count": null,
   "metadata": {},
   "outputs": [],
   "source": [
    "from pathlib import Path\n",
    "\n",
    "#name of output directory\n",
    "save_dir = '/groups/CaiLab/personal/Lex/raw/150genes_040122/notebook_pyfiles/labeled_images/nuc_masks/'\n",
    "\n",
    "#save images in folder with the diameter value used in cellpose\n",
    "print(\"Segmentation Done. Saving Masks and flows now\")\n",
    "print(\"Save Directory is: \",save_dir)\n",
    "if (not os.path.exists(save_dir)):\n",
    "    Path(save_dir).mkdir(parents=True, exist_ok=True)\n",
    "\n",
    "for idx,mask in enumerate(masks):\n",
    "    file_name=os.path.splitext(os.path.basename(files[idx]))[0]\n",
    "    #Output name for masks\n",
    "    mask_output_name=save_dir+file_name+\".tif\"\n",
    "    #Save mask as 16-bit in case this has to be used for detecting than 255 objects\n",
    "    mask=mask.astype(np.uint16)\n",
    "    #Save flow as 8-bit\n",
    "    skimage.io.imsave(mask_output_name,mask, check_contrast=False)\n",
    "\n",
    "print(\"Files saved\")"
   ]
  },
  {
   "cell_type": "markdown",
   "metadata": {},
   "source": [
    "# Match masks"
   ]
  },
  {
   "cell_type": "code",
   "execution_count": null,
   "metadata": {},
   "outputs": [],
   "source": [
    "#read in masks\n",
    "nuc_paths = glob.glob(\"/groups/CaiLab/personal/Lex/raw/150genes_040122/notebook_pyfiles/labeled_images/nuc_masks/*.tif\")\n",
    "cyto_paths = glob.glob(\"/groups/CaiLab/personal/Lex/raw/150genes_040122/notebook_pyfiles/labeled_images/cyto_masks/*.tif\")\n",
    "\n",
    "#organize files numerically\n",
    "key = [int(re.search('MMStack_Pos(\\\\d+)', f).group(1)) for f in nuc_paths]\n",
    "nuc_paths = list(np.array(nuc_paths)[np.argsort(key)])\n",
    "\n",
    "key = [int(re.search('MMStack_Pos(\\\\d+)', f).group(1)) for f in cyto_paths]\n",
    "cyto_paths = list(np.array(cyto_paths)[np.argsort(key)])"
   ]
  },
  {
   "cell_type": "code",
   "execution_count": null,
   "metadata": {},
   "outputs": [],
   "source": [
    "#take a look\n",
    "plt.imshow(tf.imread(cyto_paths[0]))"
   ]
  },
  {
   "cell_type": "code",
   "execution_count": null,
   "metadata": {},
   "outputs": [],
   "source": [
    "#read in files\n",
    "nuclear = []\n",
    "cyto = []\n",
    "for i in tqdm(range(len(nuc_paths))):\n",
    "    nuclear.append(pil_imread(nuc_paths[i]))\n",
    "    cyto.append(pil_imread(cyto_paths[i]))"
   ]
  },
  {
   "cell_type": "code",
   "execution_count": null,
   "metadata": {},
   "outputs": [],
   "source": [
    "#match nuclear and cyto masks\n",
    "cyto_new = ncm.nuclear_cyto_matching(cyto,nuclear, threshold=0.05)"
   ]
  },
  {
   "cell_type": "code",
   "execution_count": null,
   "metadata": {},
   "outputs": [],
   "source": [
    "#take a look\n",
    "plt.imshow(cyto_new[0])"
   ]
  },
  {
   "cell_type": "code",
   "execution_count": null,
   "metadata": {},
   "outputs": [],
   "source": [
    "#write images\n",
    "i=0\n",
    "for lab_img in cyto_new:\n",
    "    path = Path(f\"../labeled_images/matched/MMStack_Pos{i}.tif\")\n",
    "    path.parent.mkdir(parents=True, exist_ok=True)\n",
    "    tf.imwrite(str(path),lab_img)\n",
    "    i += 1"
   ]
  },
  {
   "cell_type": "code",
   "execution_count": null,
   "metadata": {},
   "outputs": [],
   "source": []
  }
 ],
 "metadata": {
  "kernelspec": {
   "display_name": "Python (Cai Lab common)",
   "language": "python",
   "name": "python_env"
  },
  "language_info": {
   "codemirror_mode": {
    "name": "ipython",
    "version": 3
   },
   "file_extension": ".py",
   "mimetype": "text/x-python",
   "name": "python",
   "nbconvert_exporter": "python",
   "pygments_lexer": "ipython3",
   "version": "3.9.1"
  }
 },
 "nbformat": 4,
 "nbformat_minor": 4
}
