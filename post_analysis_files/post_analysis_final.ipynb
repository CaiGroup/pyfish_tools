{
 "cells": [
  {
   "cell_type": "code",
   "execution_count": null,
   "metadata": {},
   "outputs": [],
   "source": [
    "#general packages\n",
    "import pandas as pd\n",
    "import numpy as np\n",
    "from scipy.stats import pearsonr\n",
    "from collections import Counter\n",
    "#plotting packages\n",
    "import matplotlib.pyplot as plt\n",
    "import seaborn as sns\n",
    "from matplotlib.pyplot import figure\n",
    "#custom function\n",
    "from false_positive_analysis import percent_false_positive\n",
    "%config InlineBackend.figure_format='retina'"
   ]
  },
  {
   "cell_type": "code",
   "execution_count": null,
   "metadata": {},
   "outputs": [],
   "source": [
    "#read in final mtx\n",
    "#grab all channels\n",
    "all_channels = []\n",
    "\n",
    "for c in [1]:\n",
    "    mtx = pd.read_csv(f\"/groups/CaiLab/personal/Lex/raw/1000genes_040222/notebook_pyfiles/genebycell/final_11p52_33_heg_svm_0p10_diff0_noisy/final/genebycell_{c}.csv\", index_col=0)\n",
    "    mtx = mtx.T\n",
    "    mtx = mtx[mtx.sum(axis=1)>10].T\n",
    "    #mtx = mtx[mtx.sum(axis=1)>1]\n",
    "    all_channels.append(mtx)\n",
    "\n",
    "mtx = pd.concat(all_channels, axis=1).fillna(0)"
   ]
  },
  {
   "cell_type": "code",
   "execution_count": null,
   "metadata": {},
   "outputs": [],
   "source": [
    "#take a look\n",
    "mtx"
   ]
  },
  {
   "cell_type": "code",
   "execution_count": null,
   "metadata": {},
   "outputs": [],
   "source": [
    "#read in rnaseq data\n",
    "rnaseq = pd.read_csv(\"./RNAseq_files/nih3t3_FPKM_CCS.csv\")\n",
    "rnaseq.columns = [\"Genes\",\"FPKM\"]"
   ]
  },
  {
   "cell_type": "code",
   "execution_count": null,
   "metadata": {},
   "outputs": [],
   "source": [
    "#codebook\n",
    "codebook = pd.read_csv(\"/groups/CaiLab/personal/Lex/raw/1000genes_040222/notebook_pyfiles/decoding_files/SVM_Feature_Radial_Decoding/codebook_converter/codebook_string_647.csv\", index_col=0)\n",
    "#separate into true and false codebook\n",
    "fakebook = codebook[codebook.index.str.startswith(\"fake\")]\n",
    "codebook = codebook.drop(fakebook.index)"
   ]
  },
  {
   "cell_type": "code",
   "execution_count": null,
   "metadata": {
    "scrolled": true
   },
   "outputs": [],
   "source": [
    "#calculate fdr\n",
    "fp, fake = percent_false_positive(mtx, codebook, fakebook)\n",
    "percent_fp = fp[\"FP raw\"].mean()\n",
    "mean_counts = fp[\"total_counts\"].mean()\n",
    "sum_counts = fp[\"total_counts\"].sum()\n",
    "norm_fpr = fp[\"FDR\"].mean()\n",
    "fp_list = [percent_fp,norm_fpr,mean_counts,sum_counts]"
   ]
  },
  {
   "cell_type": "code",
   "execution_count": null,
   "metadata": {},
   "outputs": [],
   "source": [
    "#take a look at fdr results\n",
    "df_stats = pd.DataFrame(fp_list).T\n",
    "df_stats.columns = [\"percent fp\",\"false positive rate\",\"mean counts\", \"total sum\"]\n",
    "df_stats"
   ]
  },
  {
   "cell_type": "code",
   "execution_count": null,
   "metadata": {},
   "outputs": [],
   "source": [
    "#convert data to pseudobulk rnaseq data\n",
    "bulk = pd.DataFrame(mtx.mean(axis=1)).reset_index()\n",
    "bulk.columns = [\"Genes\", \"Counts\"]\n",
    "bulk[\"Genes\"] = bulk[\"Genes\"].str.lower()\n",
    "rnaseq[\"Genes\"] = rnaseq[\"Genes\"].str.lower()\n",
    "#merge\n",
    "comb_1 = pd.merge(rnaseq,bulk)\n",
    "#pearson's correlation\n",
    "r = pearsonr(comb_1[\"FPKM\"],comb_1[\"Counts\"])\n",
    "r = round(r[0],2)"
   ]
  },
  {
   "cell_type": "code",
   "execution_count": null,
   "metadata": {},
   "outputs": [],
   "source": [
    "#get log2 + 1\n",
    "comb_1[\"Log Counts\"] = np.log10(comb_1[\"Counts\"]+0.1)\n",
    "comb_1[\"Log FPKM\"] = np.log10(comb_1[\"FPKM\"]+0.1)"
   ]
  },
  {
   "cell_type": "code",
   "execution_count": null,
   "metadata": {},
   "outputs": [],
   "source": [
    "# from matplotlib.pyplot import figure\n",
    "\n",
    "# figure(figsize=(4,5), dpi=80)\n",
    "\n",
    "# #plot rnaseq correlations\n",
    "# plt.plot(comb_1[\"Log FPKM\"],comb_1[\"Log Counts\"], 'ko', alpha=0.5)\n",
    "# plt.title(\"Channel 647 nm\", fontweight=\"bold\")\n",
    "# plt.xlabel(\"Bulk RNAseq Log10(FPKM+0.1)\", fontsize=12)\n",
    "# plt.ylabel(\"Pseudobulk Log10(Counts+0.1)\", fontsize=12)\n",
    "# plt.annotate(f\"Pearson's r= {round(r,2)}\", (0.5,10), fontsize=12)\n",
    "# plt.ylim(-1.2,2.5)\n",
    "# plt.xlim(-1.2,4)\n",
    "# sns.despine()\n",
    "# plt.show()"
   ]
  },
  {
   "cell_type": "code",
   "execution_count": null,
   "metadata": {},
   "outputs": [],
   "source": [
    "sns.set_style(\"white\")\n",
    "joint_kws=dict(gridsize=50)\n",
    "hexplot = sns.jointplot(data=comb_1, x=\"Log FPKM\", y=\"Log Counts\", kind=\"hex\",mincnt=0.1, \n",
    "              cmap=\"plasma\", dropna=True, joint_kws=joint_kws)\n",
    "plt.xlabel(\"Bulk RNAseq Log10(FPKM+0.1)\", fontsize=12)\n",
    "plt.ylabel(\"Pseudobulk Log10(Counts+0.1)\", fontsize=12)\n",
    "hexplot.ax_marg_x.remove()\n",
    "hexplot.ax_marg_y.remove()\n",
    "plt.annotate(f\"Pearson's r= {r}\", (-0.8,1.4), fontsize=12)\n",
    "plt.title(\"Channel 647 nm\", fontweight=\"bold\")\n",
    "plt.colorbar()\n",
    "sns.despine()"
   ]
  },
  {
   "cell_type": "code",
   "execution_count": null,
   "metadata": {},
   "outputs": [],
   "source": [
    "#read in smfish \n",
    "#smfish = pd.read_csv(\"./nih3t3_smfish/smFISH_results.csv\")\n",
    "smfish = pd.read_csv(\"./nih3t3_smfish/smfish_27gene_custom_thresh_2.csv\", index_col=0)\n",
    "_150genes = pd.read_csv(\"./150genes_diff0.csv\", index_col=0)"
   ]
  },
  {
   "cell_type": "code",
   "execution_count": null,
   "metadata": {},
   "outputs": [],
   "source": [
    "_150genes"
   ]
  },
  {
   "cell_type": "code",
   "execution_count": null,
   "metadata": {},
   "outputs": [],
   "source": [
    "smfish"
   ]
  },
  {
   "cell_type": "code",
   "execution_count": null,
   "metadata": {},
   "outputs": [],
   "source": [
    "#convert to pseudobulk results \n",
    "#smfish_df = pd.DataFrame(smfish.T.mean(axis=1))\n",
    "smfish_df = pd.DataFrame(smfish.mean(axis=1))\n",
    "smfish_df = smfish_df.reset_index()\n",
    "smfish_df.columns = [\"Genes\", \"smFISH Counts\"]\n",
    "smfish_df[\"Genes\"] = smfish_df[\"Genes\"].str.lower()\n",
    "\n",
    "_150genes = pd.DataFrame(_150genes.mean(axis=1))\n",
    "_150genes = _150genes.reset_index()\n",
    "_150genes.columns = [\"Genes\", \"150 genes\"]\n",
    "_150genes[\"Genes\"] = _150genes[\"Genes\"].str.lower()"
   ]
  },
  {
   "cell_type": "code",
   "execution_count": null,
   "metadata": {},
   "outputs": [],
   "source": [
    "# #convert data to pseudobulk rnaseq data\n",
    "# bulk = pd.DataFrame(mtx.mean(axis=1)).reset_index()\n",
    "# bulk.columns = [\"Genes\", \"Counts\"]\n",
    "# bulk[\"Genes\"] = bulk[\"Genes\"].str.lower()\n",
    "# #merge\n",
    "# comb_2 = pd.merge(smfish_df,bulk)\n",
    "# #calculate info\n",
    "# x = comb_2[\"smFISH Counts\"].values\n",
    "# x_t = np.vstack([x, np.zeros(len(x))]).T\n",
    "# y = comb_2[\"Counts\"].values\n",
    "# m,c = np.linalg.lstsq(x_t, y, rcond=None)[0]\n",
    "# r = pearsonr(x,y)[0]\n",
    "\n",
    "#convert data to pseudobulk rnaseq data\n",
    "bulk = pd.DataFrame(mtx.mean(axis=1)).reset_index()\n",
    "bulk.columns = [\"Genes\", \"Counts\"]\n",
    "bulk[\"Genes\"] = bulk[\"Genes\"].str.lower()\n",
    "#merge\n",
    "comb_2 = pd.merge(_150genes,bulk)\n",
    "#calculate info\n",
    "x = comb_2[\"150 genes\"].values\n",
    "x_t = np.vstack([x, np.zeros(len(x))]).T\n",
    "y = comb_2[\"Counts\"].values\n",
    "m,c = np.linalg.lstsq(x_t, y, rcond=None)[0]\n",
    "r = pearsonr(x,y)[0]"
   ]
  },
  {
   "cell_type": "code",
   "execution_count": null,
   "metadata": {},
   "outputs": [],
   "source": [
    "figure(figsize=(4,5), dpi=80)\n",
    "#show smfish correlation\n",
    "plt.plot(x, y, 'bo', alpha=0.5)\n",
    "plt.plot(x, x*m, c = \"k\")\n",
    "plt.title(\"Channel 647 nm\", fontweight=\"bold\")\n",
    "plt.xlabel(\"Average smFISH counts\")\n",
    "plt.ylabel(\"Average LANTERN Counts\")\n",
    "plt.annotate(f\"Pearson's r= {round(r,2)}\", (0,27), fontsize=12)\n",
    "plt.annotate(f\"Efficiency = {round(m,2)}\", (0,25), fontsize=12)\n",
    "sns.despine()\n",
    "plt.show()"
   ]
  },
  {
   "cell_type": "code",
   "execution_count": null,
   "metadata": {},
   "outputs": [],
   "source": [
    "figure(figsize=(4,5), dpi=80)\n",
    "#show smfish correlation\n",
    "plt.plot(x, y, 'bo', alpha=0.5)\n",
    "plt.plot(x, x*m, c = \"k\")\n",
    "plt.title(\"Channel 647 nm\", fontweight=\"bold\")\n",
    "plt.xlabel(\"Average 150 gene LANTERN counts\")\n",
    "plt.ylabel(\"Average LANTERN Counts\")\n",
    "plt.annotate(f\"Pearson's r= {round(r,2)}\", (0,27), fontsize=12)\n",
    "plt.annotate(f\"Efficiency = {round(m,2)}\", (0,25), fontsize=12)\n",
    "sns.despine()\n",
    "plt.show()"
   ]
  },
  {
   "cell_type": "code",
   "execution_count": null,
   "metadata": {},
   "outputs": [],
   "source": [
    "figure(figsize=(4,5), dpi=80)\n",
    "#plot correlation and efficiency\n",
    "plt.scatter(x = np.log2(comb_2[\"smFISH Counts\"]), y = np.log2(comb_2[\"Counts\"]), c=\"b\", alpha=0.5)\n",
    "plt.xlabel(\"Log2(Average smFISH Counts)\", fontsize=12)\n",
    "plt.ylabel(\"Log2(Average LANTERN Counts)\", fontsize=12)\n",
    "plt.annotate(f\"Pearson's r= {round(r,2)}\", (-1.2,4.2), fontsize=12)\n",
    "plt.annotate(f\"Efficiency = {round(m,2)}\", (-1.2,3.7), fontsize=12)\n",
    "plt.title(\"Channel 647 nm\", fontweight=\"bold\")\n",
    "sns.despine()"
   ]
  },
  {
   "cell_type": "code",
   "execution_count": null,
   "metadata": {},
   "outputs": [],
   "source": [
    "figure(figsize=(4,5), dpi=80)\n",
    "#plot correlation and efficiency\n",
    "plt.scatter(x = np.log2(comb_2[\"150 genes\"]), y = np.log2(comb_2[\"Counts\"]), c=\"b\", alpha=0.5)\n",
    "plt.xlabel(\"Log2(Average 150 gene LANTERN Counts)\", fontsize=12)\n",
    "plt.ylabel(\"Log2(Average LANTERN Counts)\", fontsize=12)\n",
    "plt.annotate(f\"Pearson's r= {round(r,2)}\", (-8,4.2), fontsize=12)\n",
    "plt.annotate(f\"Efficiency = {round(m,2)}\", (-8,3.6), fontsize=12)\n",
    "plt.title(\"Channel 647 nm\", fontweight=\"bold\")\n",
    "sns.despine()"
   ]
  },
  {
   "cell_type": "markdown",
   "metadata": {},
   "source": [
    "# Percent decoded"
   ]
  },
  {
   "cell_type": "code",
   "execution_count": null,
   "metadata": {},
   "outputs": [],
   "source": [
    "#get average percent decoded\n",
    "percent_decoded_list = []\n",
    "for i in range(64):\n",
    "    try:\n",
    "        src = f\"/groups/CaiLab/personal/Lex/raw/1000genes_040222/notebook_pyfiles/decoded/final_11p52_33_heg_svm_0p10_diff0_noisy/Channel_1/Pos_{i}/percent_decoded_z_0.txt\"\n",
    "        with open(src) as f:\n",
    "            decoded = f.readlines()[0].split(\" \")[-1]\n",
    "            f.close()\n",
    "            percent_decoded_list.append(float(decoded))\n",
    "    except FileNotFoundError:\n",
    "        continue"
   ]
  },
  {
   "cell_type": "code",
   "execution_count": null,
   "metadata": {},
   "outputs": [],
   "source": [
    "np.mean(percent_decoded_list)"
   ]
  },
  {
   "cell_type": "markdown",
   "metadata": {},
   "source": [
    "# Identify problematic hybs"
   ]
  },
  {
   "cell_type": "code",
   "execution_count": null,
   "metadata": {},
   "outputs": [],
   "source": [
    "#collapse into gene counts\n",
    "counts_df = Counter(fake[\"genes\"])\n",
    "#change to df\n",
    "counts_df = pd.DataFrame.from_dict(counts_df, orient='index').reset_index()\n",
    "counts_df"
   ]
  },
  {
   "cell_type": "code",
   "execution_count": null,
   "metadata": {},
   "outputs": [],
   "source": [
    "#check codebook\n",
    "codebook = pd.read_csv(\"/groups/CaiLab/personal/Lex/raw/150genes3bind_040622/barcode_key/codebook_647nm.csv\", index_col=0)"
   ]
  },
  {
   "cell_type": "code",
   "execution_count": null,
   "metadata": {},
   "outputs": [],
   "source": [
    "#lowercase gene names\n",
    "codebook.index = codebook.index.str.lower()"
   ]
  },
  {
   "cell_type": "code",
   "execution_count": null,
   "metadata": {},
   "outputs": [],
   "source": [
    "#get top 30\n",
    "maj_fakes = counts_df.sort_values(0, ascending=False).head(30)"
   ]
  },
  {
   "cell_type": "code",
   "execution_count": null,
   "metadata": {},
   "outputs": [],
   "source": [
    "#get troubled hybs\n",
    "troubled_hybs = []\n",
    "for fakes in maj_fakes[\"index\"]:\n",
    "    troubled_hybs.append(codebook.loc[fakes].values.tolist())"
   ]
  },
  {
   "cell_type": "code",
   "execution_count": null,
   "metadata": {},
   "outputs": [],
   "source": [
    "#convert to array\n",
    "hybstocheck = np.array(troubled_hybs)"
   ]
  },
  {
   "cell_type": "code",
   "execution_count": null,
   "metadata": {},
   "outputs": [],
   "source": [
    "#take a look\n",
    "hybstocheck"
   ]
  },
  {
   "cell_type": "code",
   "execution_count": null,
   "metadata": {},
   "outputs": [],
   "source": [
    "#get mode for each round\n",
    "bad_hybs = []\n",
    "for i in range(len(hybstocheck[0])):\n",
    "    vals,counts = np.unique(hybstocheck[:,i], return_counts=True)\n",
    "    index = np.argmax(counts)\n",
    "    bad_hyb = vals[index]\n",
    "    bad_hybs.append(bad_hyb)\n",
    "\n",
    "print(f\"Following hybs by rounds are problematic:{bad_hybs}\" )"
   ]
  }
 ],
 "metadata": {
  "kernelspec": {
   "display_name": "Python (Cai Lab common)",
   "language": "python",
   "name": "python_env"
  },
  "language_info": {
   "codemirror_mode": {
    "name": "ipython",
    "version": 3
   },
   "file_extension": ".py",
   "mimetype": "text/x-python",
   "name": "python",
   "nbconvert_exporter": "python",
   "pygments_lexer": "ipython3",
   "version": "3.9.1"
  }
 },
 "nbformat": 4,
 "nbformat_minor": 2
}
