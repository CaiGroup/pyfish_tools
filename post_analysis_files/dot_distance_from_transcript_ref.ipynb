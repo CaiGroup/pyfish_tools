{
 "cells": [
  {
   "cell_type": "markdown",
   "metadata": {},
   "source": [
    "# Dot dispersion of decoded transcripts"
   ]
  },
  {
   "cell_type": "markdown",
   "metadata": {},
   "source": [
    "This notebook can be used to measure the general spread of spot distances used for decoding a transcript. This information may be useful when comparing different probe design methodoligies."
   ]
  },
  {
   "cell_type": "code",
   "execution_count": null,
   "metadata": {},
   "outputs": [],
   "source": [
    "import tifffile as tf\n",
    "import plotly.express as px\n",
    "import plotly.graph_objects as go\n",
    "import numpy as np\n",
    "import matplotlib.pyplot as plt\n",
    "import seaborn as sns\n",
    "%config InlineBackend.figure_format='retina'"
   ]
  },
  {
   "cell_type": "code",
   "execution_count": null,
   "metadata": {},
   "outputs": [],
   "source": [
    "def used_dots_decoded_genes(df_locs_2d, df_locs_2d_2, img_2d,add_trace = True, zmax=1000):\n",
    "    \n",
    "    #For Plotting 2d image\n",
    "    #-------------------------------------------\n",
    "    fig = px.imshow(\n",
    "        img_2d,\n",
    "        width=700,\n",
    "        height=700,\n",
    "        binary_string=True,\n",
    "        binary_compression_level=4,\n",
    "        binary_backend='pil',\n",
    "        zmax = zmax\n",
    "    )\n",
    "    #-------------------------------------------\n",
    "    \n",
    "    #For Plotting 2d dots\n",
    "    #-------------------------------------------\n",
    "    fig.add_trace(go.Scattergl(\n",
    "        x=df_locs_2d.x,\n",
    "        y=df_locs_2d.y,\n",
    "        mode='markers',\n",
    "        marker_symbol='circle',\n",
    "        marker=dict(\n",
    "            #maxdisplayed=1000,\n",
    "            size=5, color = \"blue\",\n",
    "            ),\n",
    "        name = \"Used\"\n",
    "        ))\n",
    "    \n",
    "    if add_trace == True:\n",
    "        fig.add_trace(go.Scattergl(\n",
    "            x=df_locs_2d_2.x,\n",
    "            y=df_locs_2d_2.y,\n",
    "            mode='markers',\n",
    "            marker_symbol='circle',\n",
    "            marker=dict(\n",
    "                #maxdisplayed=1000,\n",
    "                size=5, color=\"green\"\n",
    "                ),\n",
    "            name = \"Decoded On\"\n",
    "            ))\n",
    "        \n",
    "        fig.update_layout(legend=dict(\n",
    "        yanchor=\"top\",\n",
    "        y=0.99,\n",
    "        xanchor=\"left\",\n",
    "        x=0.01))\n",
    "    \n",
    "        \n",
    "    fig.show()\n",
    "    "
   ]
  },
  {
   "cell_type": "code",
   "execution_count": null,
   "metadata": {},
   "outputs": [],
   "source": [
    "def keep_dots_in_cells(mask, dot_locations):\n",
    "    \"\"\"\n",
    "    A function to remove any dots outside of mask\n",
    "    Parameter\n",
    "    ---------\n",
    "    mask = cellpose generated mask path\n",
    "    dot_locations = dot_locations path\n",
    "    \"\"\"\n",
    "    \n",
    "    #read in data\n",
    "    locations = pd.read_csv(dot_locations)\n",
    "    #cellpose mask outputs (c,y,x)\n",
    "    img = tf.imread(mask)\n",
    "    #get x and y coordinates\n",
    "    locations_xy = locations[[\"x\",\"y\"]].values.astype(int)\n",
    "    dot_info = []\n",
    "    #keep dots only in cells\n",
    "    for i in range(len(locations)):\n",
    "        x = locations_xy[i][0]\n",
    "        y = locations_xy[i][1]\n",
    "        if img[y,x] == 0:\n",
    "            continue\n",
    "        else:\n",
    "            cell = img[y,x]\n",
    "            dot_info.append([i,cell])\n",
    "            \n",
    "    dot_info = np.array(dot_info)\n",
    "    \n",
    "    #keep rows that have cells\n",
    "    dots_in_cells = locations.loc[dot_info[:,0]]\n",
    "    \n",
    "    #add cell info\n",
    "    dots_in_cells[\"cell number\"] = dot_info[:,1]\n",
    "    \n",
    "    return dots_in_cells"
   ]
  },
  {
   "cell_type": "code",
   "execution_count": null,
   "metadata": {},
   "outputs": [],
   "source": [
    "from sklearn.neighbors import NearestNeighbors\n",
    "import numpy as np\n",
    "import pandas as pd\n",
    "\n",
    "from sklearn.neighbors import KDTree\n",
    "\n",
    "\n",
    "def dot_displacement_from_gene(ref,dots, rounds=3, distance_cutoff=2):\n",
    "    \n",
    "    \"\"\"\n",
    "    A function to measure the distance between decoded transcripts and the dots that make up that decoded \n",
    "    transcript.\n",
    "    \n",
    "    Parameters\n",
    "    -----------\n",
    "    ref: decoded transcript locations with fakes filtered and ambiguity=0\n",
    "    dots: locations of dots used in decoding mapped to cell masks\n",
    "    distance_cutoff: the maximum search radius used in decoding\n",
    "    \"\"\"\n",
    "    \n",
    "    #initialize neighbor\n",
    "    neigh = NearestNeighbors(n_neighbors=1, metric=\"euclidean\", n_jobs=1)\n",
    "    \n",
    "    barcoding_round = []\n",
    "    #separate locations by barcoding round\n",
    "    hyb_rounds = np.arange(0, len(dots[\"hyb\"].unique()),1)\n",
    "    hybs = len(dots[\"hyb\"].unique())\n",
    "    temp = []\n",
    "    for h in hyb_rounds:\n",
    "        if h == hyb_rounds[len(hyb_rounds)-1]:\n",
    "            barcode = dots[dots[\"hyb\"] == h]\n",
    "            temp.append(barcode)\n",
    "            comp_round = pd.concat(temp)\n",
    "            barcoding_round.append(comp_round) \n",
    "        elif (h % (hybs/rounds) != 0) or (h == 0):\n",
    "            barcode = dots[dots[\"hyb\"] == h]\n",
    "            temp.append(barcode)\n",
    "        else:\n",
    "            comp_round = pd.concat(temp)\n",
    "            barcoding_round.append(comp_round)\n",
    "            temp = []\n",
    "            barcode = dots[dots[\"hyb\"] == h]\n",
    "            temp.append(barcode)\n",
    "\n",
    "    distance_per_round = []\n",
    "    index_list = []\n",
    "    for seed in barcoding_round:\n",
    "        seed = seed.reset_index(drop=True)\n",
    "        #initialize KDTree\n",
    "        kdt = KDTree(seed[[\"x\",\"y\"]].values, leaf_size=40, metric='euclidean')\n",
    "        #get nearest neighbor\n",
    "        distance, index = kdt.query(ref[[\"x\",\"y\"]].values, k=1, return_distance=True)\n",
    "        #get distances below cutoff\n",
    "        distance = np.compress(distance.ravel()<distance_cutoff, distance.ravel())\n",
    "        #add distance and index to list\n",
    "        distance_per_round.append(distance)\n",
    "        index_list.append(seed[[\"x\",\"y\"]].values[index][:,0])\n",
    "    \n",
    "    return distance_per_round, index_list, hyb_rounds, hybs"
   ]
  },
  {
   "cell_type": "code",
   "execution_count": null,
   "metadata": {},
   "outputs": [],
   "source": [
    "#read in one of the gene mapped locations file\n",
    "locations = pd.read_csv(f\"/groups/CaiLab/personal/Lex/raw/090222_150genes_acrosschannel_3t3/notebook_pyfiles/decoded/final_222_33_heg_svm_0p15_diff1_fdr5/Channel_All/Pos_0/diff_1_minseed_3_z_2_finalgenes.csv\", index_col=0)\n",
    "#get dots used\n",
    "dots_used_locations = pd.read_csv(f\"/groups/CaiLab/personal/Lex/raw/090222_150genes_acrosschannel_3t3/notebook_pyfiles/dots_detected/Channel_All/Pos0/locations_z_2.csv\", index_col=0)\n",
    "#remove fakes\n",
    "fakes = locations[locations[\"genes\"].str.startswith(\"fake\")]\n",
    "dots_used_locations = dots_used_locations[dots_used_locations.hyb < 8]"
   ]
  },
  {
   "cell_type": "code",
   "execution_count": null,
   "metadata": {},
   "outputs": [],
   "source": [
    "# img_2d = tf.imread(f\"/groups/CaiLab/personal/Lex/raw/090222_150genes_acrosschannel_3t3/chromatic_aberration/MMStack_Pos0.ome.tif\")[0][2]\n",
    "# used_dots_decoded_genes(dots_used_locations, locations, img_2d, add_trace = True, zmax=1000)"
   ]
  },
  {
   "cell_type": "code",
   "execution_count": null,
   "metadata": {},
   "outputs": [],
   "source": [
    "#reset index\n",
    "dots_used = dots_used_locations.reset_index(drop=True)\n",
    "#get dot displacement\n",
    "distances, index, a, b = dot_displacement_from_gene(locations, dots_used, rounds=4, distance_cutoff=2)"
   ]
  },
  {
   "cell_type": "code",
   "execution_count": null,
   "metadata": {},
   "outputs": [],
   "source": [
    "distances"
   ]
  },
  {
   "cell_type": "code",
   "execution_count": null,
   "metadata": {
    "scrolled": true
   },
   "outputs": [],
   "source": [
    "_min = min(min(distances[0]*100), min(distances[1]*100), min(distances[2]*100), min(distances[3]*100))\n",
    "_max = max(max(distances[0]*100), max(distances[1]*100), max(distances[2]*100), max(distances[3]*100))\n",
    "\n",
    "color = [\"red\",\"blue\",\"green\", \"orange\"]\n",
    "for i in range(4):\n",
    "    plt.hist(distances[i]*100, bins=20, range=(_min,_max), alpha=0.2, color = color[i], label=f\"Round {i+1}\")\n",
    "plt.legend()\n",
    "sns.despine()\n",
    "plt.xlabel(\"Distance (nm)\")\n",
    "plt.ylabel(\"Counts\")\n",
    "plt.show()"
   ]
  },
  {
   "cell_type": "code",
   "execution_count": null,
   "metadata": {},
   "outputs": [],
   "source": [
    "np.mean([np.mean(dist) for dist in distances])"
   ]
  },
  {
   "cell_type": "code",
   "execution_count": null,
   "metadata": {},
   "outputs": [],
   "source": [
    "#read in one of the gene mapped locations file\n",
    "locations = pd.read_csv(f\"/groups/CaiLab/personal/Lex/raw/050222_150genes4binding/notebook_pyfiles/decoded/final_11p52_33_heg_svm_0p15_diff0_newdecoder2/Channel_1/Pos_0/diff_0_minseed_3_z_0_finalgenes.csv\", index_col=0)\n",
    "#get dots used\n",
    "dots_used_locations = pd.read_csv(f\"/groups/CaiLab/personal/Lex/raw/050222_150genes4binding/notebook_pyfiles/dots_detected/Channel_1_processed/genes_in_cells/Pos0/locations_z_0.csv\", index_col=0)\n",
    "#remove fakes\n",
    "fakes = locations[locations[\"genes\"].str.startswith(\"fake\")]\n",
    "dots_used_locations = dots_used_locations[dots_used_locations.hyb < 24]"
   ]
  },
  {
   "cell_type": "code",
   "execution_count": null,
   "metadata": {},
   "outputs": [],
   "source": [
    "#reset index\n",
    "dots_used = dots_used_locations.reset_index(drop=True)\n",
    "#get dot displacement\n",
    "distances, index, a, b = dot_displacement_from_gene(locations, dots_used, rounds=4, distance_cutoff=2)"
   ]
  },
  {
   "cell_type": "code",
   "execution_count": null,
   "metadata": {},
   "outputs": [],
   "source": [
    "distances"
   ]
  },
  {
   "cell_type": "code",
   "execution_count": null,
   "metadata": {},
   "outputs": [],
   "source": [
    "_min = min(min(distances[0]*100), min(distances[1]*100), min(distances[2]*100), min(distances[3]*100))\n",
    "_max = max(max(distances[0]*100), max(distances[1]*100), max(distances[2]*100), max(distances[3]*100))\n",
    "\n",
    "color = [\"red\",\"blue\",\"green\", \"orange\"]\n",
    "for i in range(4):\n",
    "    plt.hist(distances[i]*100, bins=20, range=(_min,_max), alpha=0.2, color = color[i], label=f\"Round {i+1}\")\n",
    "plt.legend()\n",
    "sns.despine()\n",
    "plt.xlabel(\"Distance (nm)\")\n",
    "plt.ylabel(\"Counts\")\n",
    "plt.show()"
   ]
  },
  {
   "cell_type": "code",
   "execution_count": null,
   "metadata": {},
   "outputs": [],
   "source": [
    "np.mean([np.mean(dist) for dist in distances])"
   ]
  },
  {
   "cell_type": "code",
   "execution_count": null,
   "metadata": {},
   "outputs": [],
   "source": []
  }
 ],
 "metadata": {
  "kernelspec": {
   "display_name": "Python (Cai Lab common)",
   "language": "python",
   "name": "python_env"
  },
  "language_info": {
   "codemirror_mode": {
    "name": "ipython",
    "version": 3
   },
   "file_extension": ".py",
   "mimetype": "text/x-python",
   "name": "python",
   "nbconvert_exporter": "python",
   "pygments_lexer": "ipython3",
   "version": "3.9.1"
  }
 },
 "nbformat": 4,
 "nbformat_minor": 2
}
