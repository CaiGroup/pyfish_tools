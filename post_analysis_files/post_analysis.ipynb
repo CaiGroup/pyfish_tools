{
 "cells": [
  {
   "cell_type": "code",
   "execution_count": null,
   "metadata": {},
   "outputs": [],
   "source": [
    "import pandas as pd\n",
    "import numpy as np\n",
    "import matplotlib.pyplot as plt\n",
    "import seaborn as sns\n",
    "from scipy.stats import linregress\n",
    "from scipy.stats import spearmanr\n",
    "import tifffile as tf\n",
    "from false_positive_analysis import percent_false_positive\n",
    "%config InlineBackend.figure_format='retina'"
   ]
  },
  {
   "cell_type": "markdown",
   "metadata": {},
   "source": [
    "# Look at false positive rate"
   ]
  },
  {
   "cell_type": "code",
   "execution_count": null,
   "metadata": {},
   "outputs": [],
   "source": [
    "#read in threshold mtx\n",
    "#do you want to look at deepcell dots or daostar\n",
    "deepcell = True\n",
    "seed = 4\n",
    "\n",
    "if deepcell == False:\n",
    "    thresh_mtx = []\n",
    "    for i in range(11):\n",
    "        ch_mtx = pd.read_csv(f\"/groups/CaiLab/personal/Lex/raw/020422_20kdash_3t3/notebook_pyfiles/genebycell/daostar/seed_{seed}/Threshold_{i}/genebycell.csv\", index_col=0)\n",
    "        thresh_mtx.append(ch_mtx)\n",
    "\n",
    "else:\n",
    "    mtx = pd.read_csv(f\"/groups/CaiLab/personal/Lex/raw/020422_20kdash_3t3/notebook_pyfiles/genebycell/deepcell/seed_{seed}/genebycell.csv\", index_col=0)"
   ]
  },
  {
   "cell_type": "code",
   "execution_count": null,
   "metadata": {},
   "outputs": [],
   "source": [
    "#read in rnaseq data\n",
    "rnaseq_1 = pd.read_csv(\"./RNAseq_files/nih3t3_FPKM.csv\")\n",
    "rnaseq_2 = pd.read_csv(\"./RNAseq_files/kallisto_NIH3T3.csv\")\n",
    "#rnaseq= rnaseq[[\"tracking_id\",\"E14J B1\"]]\n",
    "rnaseq_1.columns = [\"Genes\",\"FPKM\"]"
   ]
  },
  {
   "cell_type": "code",
   "execution_count": null,
   "metadata": {},
   "outputs": [],
   "source": [
    "#codebook\n",
    "codebook = pd.read_csv(\"/groups/CaiLab/personal/Lex/raw/112221_20kdash_3t3/barcode_key/corrected_codebook.csv\")\n",
    "codebook.columns = [\"Gene\", \"Brcd1\", \"Brcd2\"]"
   ]
  },
  {
   "cell_type": "code",
   "execution_count": null,
   "metadata": {},
   "outputs": [],
   "source": [
    "#separate into true and false codebook\n",
    "fakebook = codebook[codebook[\"Gene\"].str.startswith(\"fake\")]\n",
    "codebook = codebook.drop(fakebook.index)"
   ]
  },
  {
   "cell_type": "code",
   "execution_count": null,
   "metadata": {
    "scrolled": false
   },
   "outputs": [],
   "source": [
    "#calculate false positive\n",
    "if deepcell == False:\n",
    "    fp_list = []\n",
    "    for i in range(11):\n",
    "        fp, fake, norm_fpr= percent_false_positive(thresh_mtx[i], codebook, fakebook)\n",
    "        percent_fp = fp[\"FP raw\"].mean()\n",
    "        mean_counts = fp[\"total_counts\"].mean()\n",
    "        sum_counts = fp[\"total_counts\"].sum()\n",
    "        fp_list.append([percent_fp,norm_fpr,mean_counts,sum_counts])\n",
    "else:\n",
    "    fp_list = []\n",
    "    fp, fake, norm_fpr= percent_false_positive(mtx, codebook, fakebook)\n",
    "    percent_fp = fp[\"FP raw\"].mean()\n",
    "    mean_counts = fp[\"total_counts\"].mean()\n",
    "    sum_counts = fp[\"total_counts\"].sum()\n",
    "    fp_list.append([percent_fp,norm_fpr,mean_counts,sum_counts])\n",
    "\n",
    "#conver to df\n",
    "df_stats = pd.DataFrame(fp_list)\n",
    "df_stats.columns = [\"percent fp\",\"false positive rate\",\"mean counts\", \"total sum\"]\n",
    "df_stats"
   ]
  },
  {
   "cell_type": "code",
   "execution_count": null,
   "metadata": {},
   "outputs": [],
   "source": [
    "#plot fpr and percent falsepsotive\n",
    "plt.plot(df_stats[\"percent fp\"], label = \"Percent False Positive\")\n",
    "plt.plot(df_stats[\"false positive rate\"], label = \"False Positive Rate\")\n",
    "plt.ylabel(\"Percent\")\n",
    "plt.xlabel(\"Thresholds tested\")\n",
    "sns.despine()\n",
    "plt.legend()"
   ]
  },
  {
   "cell_type": "code",
   "execution_count": null,
   "metadata": {},
   "outputs": [],
   "source": [
    "#plot average counts\n",
    "plt.plot(df_stats[\"mean counts\"])\n",
    "plt.ylabel(\"Mean Total Counts\")\n",
    "plt.xlabel(\"Thresholds tested\")\n",
    "sns.despine()\n",
    "plt.legend()"
   ]
  },
  {
   "cell_type": "markdown",
   "metadata": {},
   "source": [
    "# Look at percent decoded dots"
   ]
  },
  {
   "cell_type": "code",
   "execution_count": null,
   "metadata": {},
   "outputs": [],
   "source": [
    "def keep_dots_in_cells(mask, dot_locations):\n",
    "    \"\"\"\n",
    "    A function to remove any dots outside of mask\n",
    "    Parameter\n",
    "    ---------\n",
    "    mask = cellpose generated mask path\n",
    "    dot_locations = dot_locations path\n",
    "    \"\"\"\n",
    "    \n",
    "    #read in data\n",
    "    locations = pd.read_csv(dot_locations)\n",
    "    #cellpose mask outputs (c,y,x)\n",
    "    img = tf.imread(mask)\n",
    "    #get x and y coordinates\n",
    "    locations_xy = locations[[\"x\",\"y\"]].values.astype(int)\n",
    "    dot_info = []\n",
    "    #keep dots only in cells\n",
    "    for i in range(len(locations)):\n",
    "        x = locations_xy[i][0]\n",
    "        y = locations_xy[i][1]\n",
    "        if img[y,x] == 0:\n",
    "            continue\n",
    "        else:\n",
    "            cell = img[y,x]\n",
    "            dot_info.append([i,cell])\n",
    "            \n",
    "    dot_info = np.array(dot_info)\n",
    "    \n",
    "    #keep rows that have cells\n",
    "    dots_in_cells = locations.loc[dot_info[:,0]]\n",
    "    \n",
    "    #add cell info\n",
    "    dots_in_cells[\"cell number\"] = dot_info[:,1]\n",
    "    \n",
    "    return dots_in_cells"
   ]
  },
  {
   "cell_type": "code",
   "execution_count": null,
   "metadata": {},
   "outputs": [],
   "source": [
    "#look at total counts and keep only ones in masks\n",
    "\n",
    "if deepcell == False:\n",
    "    dot_list = []\n",
    "    for i in range(11):\n",
    "        mask = \"/groups/CaiLab/personal/Lex/raw/020422_20kdash_3t3/notebook_pyfiles/edges_deleted/MMStack_Pos0.ome.tif\"\n",
    "        dot_locations = f\"/groups/CaiLab/personal/Lex/raw/020422_20kdash_3t3/notebook_pyfiles/dots_comb/channels_combined/Threshold_{i}/locations_z_0.csv\"\n",
    "        dots = keep_dots_in_cells(mask, dot_locations)\n",
    "        dot_list.append(dots)\n",
    "else:\n",
    "    mask = \"/groups/CaiLab/personal/Lex/raw/020422_20kdash_3t3/notebook_pyfiles/edges_deleted/MMStack_Pos0.ome.tif\"\n",
    "    dot_locations = \"/groups/CaiLab/personal/Lex/raw/020422_20kdash_3t3/notebook_pyfiles/dots_detected/Pos0/locations_z_0.csv\"\n",
    "    dots = keep_dots_in_cells(mask, dot_locations)\n",
    "    dots = dots[dots[\"hyb\"] != 12]"
   ]
  },
  {
   "cell_type": "code",
   "execution_count": null,
   "metadata": {},
   "outputs": [],
   "source": [
    "#divide total counts by 4 barcoding rounds to get rough estimate on dots per barcode round\n",
    "if deepcell == False:\n",
    "    total_dots = []\n",
    "    for _ in range(11):\n",
    "        total_dots.append((len(dot_list[_])/4))\n",
    "else:\n",
    "    total_dots = len(dots)/4\n",
    "\n",
    "total_dots"
   ]
  },
  {
   "cell_type": "code",
   "execution_count": null,
   "metadata": {
    "scrolled": false
   },
   "outputs": [],
   "source": [
    "#percent decoded plots\n",
    "plt.plot(df_stats[\"total sum\"].values / np.array(total_dots))\n",
    "plt.ylabel(\"Percent Decoded\")\n",
    "plt.xlabel(\"Thresholds tested\")\n",
    "print(df_stats[\"total sum\"].values / np.array(total_dots))"
   ]
  },
  {
   "cell_type": "markdown",
   "metadata": {},
   "source": [
    "# RNA seq correlations"
   ]
  },
  {
   "cell_type": "code",
   "execution_count": null,
   "metadata": {
    "scrolled": true
   },
   "outputs": [],
   "source": [
    "#fp, fake, norm_fpr= percent_false_positive(thresh_mtx[6], codebook, fakebook)\n",
    "fp, fake, norm_fpr= percent_false_positive(mtx, codebook, fakebook)"
   ]
  },
  {
   "cell_type": "code",
   "execution_count": null,
   "metadata": {},
   "outputs": [],
   "source": [
    "#convert data to pseudobulk rnaseq data\n",
    "if deepcell == False:\n",
    "    bulk = pd.DataFrame(thresh_mtx[6].mean(axis=1)).reset_index()\n",
    "    bulk.columns = [\"Genes\", \"Counts\"]\n",
    "else:\n",
    "    bulk = pd.DataFrame(mtx.mean(axis=1)).reset_index()\n",
    "    bulk.columns = [\"Genes\", \"Counts\"]"
   ]
  },
  {
   "cell_type": "code",
   "execution_count": null,
   "metadata": {},
   "outputs": [],
   "source": [
    "#rename rnaseq columns and lowercase\n",
    "rnaseq_2.columns = [\"Genes\", \"TPM\"]\n",
    "rnaseq_1[\"Genes\"]=rnaseq_1[\"Genes\"].str.lower()\n",
    "rnaseq_2[\"Genes\"]=rnaseq_2[\"Genes\"].str.lower()"
   ]
  },
  {
   "cell_type": "code",
   "execution_count": null,
   "metadata": {},
   "outputs": [],
   "source": [
    "#merge\n",
    "comb_1 = pd.merge(rnaseq_1,bulk)\n",
    "comb_2 = pd.merge(rnaseq_2,bulk)"
   ]
  },
  {
   "cell_type": "code",
   "execution_count": null,
   "metadata": {},
   "outputs": [],
   "source": [
    "#sort\n",
    "sort_comb_1 = comb_1.sort_values([\"FPKM\"])\n",
    "sort_comb_2 = comb_2.sort_values([\"TPM\"])"
   ]
  },
  {
   "cell_type": "code",
   "execution_count": null,
   "metadata": {},
   "outputs": [],
   "source": [
    "#pearson calc old rnaseq\n",
    "linreg = linregress(x = sort_comb_1[\"FPKM\"], y = sort_comb_1[\"Counts\"])\n",
    "pearsonr = linreg[2]\n",
    "pearsonr = round(pearsonr,2)\n",
    "pearsonr"
   ]
  },
  {
   "cell_type": "code",
   "execution_count": null,
   "metadata": {},
   "outputs": [],
   "source": [
    "#pearson calc new rnaseq\n",
    "linreg = linregress(x = sort_comb_2[\"TPM\"], y = sort_comb_2[\"Counts\"])\n",
    "pearsonr = linreg[2]\n",
    "pearsonr = round(pearsonr,2)\n",
    "pearsonr"
   ]
  },
  {
   "cell_type": "code",
   "execution_count": null,
   "metadata": {
    "scrolled": true
   },
   "outputs": [],
   "source": [
    "#plot correlation\n",
    "plt.scatter(np.log10(sort_comb_2[\"Counts\"]),np.log10(sort_comb_2[\"TPM\"]), s = 5, alpha=0.5)\n",
    "plt.ylabel(\"Bulk RNAseq Log10(FPKM)\", fontsize=12)\n",
    "plt.xlabel(\"Pseudobulk Log10(Counts)\", fontsize=12)\n",
    "plt.xticks(fontsize=12, rotation=0)\n",
    "plt.yticks(fontsize=12, rotation=0)\n",
    "plt.annotate(f\"Pearson's r= {pearsonr}\", (-1.5,1.5), fontsize=12)\n",
    "sns.despine()"
   ]
  },
  {
   "cell_type": "markdown",
   "metadata": {},
   "source": [
    "# Dots per pixel"
   ]
  },
  {
   "cell_type": "code",
   "execution_count": null,
   "metadata": {},
   "outputs": [],
   "source": [
    "#import custom function\n",
    "from neighbor_search_across import *\n",
    "#import gen packages\n",
    "import tifffile as tf\n",
    "import pandas as pd"
   ]
  },
  {
   "cell_type": "code",
   "execution_count": null,
   "metadata": {},
   "outputs": [],
   "source": [
    "#get mask src\n",
    "mask = \"/groups/CaiLab/personal/Lex/raw/020422_20kdash_3t3/notebook_pyfiles/edges_deleted/MMStack_Pos0.ome.tif\"\n",
    "#get locations src\n",
    "dot_locations = \"/groups/CaiLab/personal/Lex/raw/020422_20kdash_3t3/notebook_pyfiles/dots_detected/Pos0/locations_z_0.csv\"\n",
    "#only keep dots in cells\n",
    "dots = keep_dots_in_cells(mask, dot_locations)\n",
    "#remove rehyb\n",
    "dots = dots[dots[\"hyb\"] != 12]\n",
    "#sort by hyb\n",
    "dots = dots.sort_values(\"hyb\").reset_index(drop=True)\n",
    "#remove random column\n",
    "dots = dots.drop(\"Unnamed: 0\", axis=1)"
   ]
  },
  {
   "cell_type": "code",
   "execution_count": null,
   "metadata": {},
   "outputs": [],
   "source": [
    "#take a look\n",
    "dots"
   ]
  },
  {
   "cell_type": "code",
   "execution_count": null,
   "metadata": {},
   "outputs": [],
   "source": [
    "#calculate number of neighbors with expanding search radius\n",
    "seeds= [0,1,2,3]\n",
    "radii = np.linspace(1,6,20)\n",
    "\n",
    "neighbor_list = []\n",
    "for seed in seeds:\n",
    "    for radius in radii:\n",
    "        neighbors = neighbor_search(dots, hybs=12, num_barcodes=4, seed=seed, radius=radius)\n",
    "        mean_neighbor = count_neighbors(neighbors)\n",
    "        neighbor_list.append([seed,mean_neighbor,radius])"
   ]
  },
  {
   "cell_type": "code",
   "execution_count": null,
   "metadata": {},
   "outputs": [],
   "source": [
    "#convert to df\n",
    "neighbor_df = pd.DataFrame(neighbor_list)"
   ]
  },
  {
   "cell_type": "code",
   "execution_count": null,
   "metadata": {},
   "outputs": [],
   "source": [
    "#take a look\n",
    "neighbor_df"
   ]
  },
  {
   "cell_type": "code",
   "execution_count": null,
   "metadata": {},
   "outputs": [],
   "source": [
    "import matplotlib.pyplot as plt\n",
    "#plot the average number of neighbors across rounds using different seeds with various radii\n",
    "for seed in neighbor_df[0].unique():\n",
    "    plt.plot(neighbor_df[neighbor_df[0]==seed][2],neighbor_df[neighbor_df[0]==seed][1], \n",
    "             label = f\"Seed {seed}\", linewidth=0.5)\n",
    "plt.legend()\n",
    "plt.xlabel(\"Radius in Pixels\")\n",
    "plt.ylabel(\"Average number of neighbors\")"
   ]
  },
  {
   "cell_type": "markdown",
   "metadata": {},
   "source": [
    "# Check clusters within barcoding round"
   ]
  },
  {
   "cell_type": "code",
   "execution_count": null,
   "metadata": {},
   "outputs": [],
   "source": [
    "#import custom function\n",
    "from neighbor_search_within import *\n",
    "#import ecdf plotting function\n",
    "from ecdf import ecdf"
   ]
  },
  {
   "cell_type": "code",
   "execution_count": null,
   "metadata": {},
   "outputs": [],
   "source": [
    "import plotly.express as px\n",
    "import plotly.graph_objects as go\n",
    "import numpy as np\n",
    "import tifffile as tf\n",
    "import seaborn as sns\n",
    "import pandas as pd\n",
    "\n",
    "def plot_2d_locs_on_2d_image(df_locs_2d_1, df_locs_2d_2, img_2d,add_trace = True, zmax=1000):\n",
    "    \n",
    "    #For Plotting 2d image\n",
    "    #-------------------------------------------\n",
    "    fig = px.imshow(\n",
    "        img_2d,\n",
    "        width=700,\n",
    "        height=700,\n",
    "        binary_string=True,\n",
    "        binary_compression_level=4,\n",
    "        binary_backend='pil',\n",
    "        zmax = zmax\n",
    "    )\n",
    "    #-------------------------------------------\n",
    "    \n",
    "    #For Plotting 2d dots\n",
    "    #-------------------------------------------\n",
    "    fig.add_trace(go.Scattergl(\n",
    "        x=df_locs_2d_1.x,\n",
    "        y=df_locs_2d_1.y,\n",
    "        mode='markers',\n",
    "        marker_symbol='cross',\n",
    "        marker=dict(\n",
    "            #maxdisplayed=1000,\n",
    "            size=6\n",
    "            ),\n",
    "        name = \"Round 1\"\n",
    "        )\n",
    "    )\n",
    "    if add_trace == True:\n",
    "        fig.add_trace(go.Scattergl(\n",
    "            x=df_locs_2d_2.x,\n",
    "            y=df_locs_2d_2.y,\n",
    "            mode='markers',\n",
    "            marker_symbol='cross',\n",
    "            marker=dict(\n",
    "                #maxdisplayed=1000,\n",
    "                size=6\n",
    "                ),\n",
    "            name = \"Round 2\"\n",
    "            )\n",
    "        )\n",
    "    #-------------------------------------------\n",
    "    \n",
    "    fig.show()\n"
   ]
  },
  {
   "cell_type": "code",
   "execution_count": null,
   "metadata": {},
   "outputs": [],
   "source": [
    "#get mask src\n",
    "mask = \"/groups/CaiLab/personal/Lex/raw/020422_20kdash_3t3/notebook_pyfiles/edges_deleted/MMStack_Pos0.ome.tif\"\n",
    "#get dot src\n",
    "dot_locations = \"/groups/CaiLab/personal/Lex/raw/020422_20kdash_3t3/notebook_pyfiles/dots_detected/Pos0/locations_z_0.csv\"\n",
    "#keeps dots only in cells\n",
    "dots = keep_dots_in_cells(mask, dot_locations)\n",
    "#remove rehyb\n",
    "locations = dots[dots[\"hyb\"] != 12]"
   ]
  },
  {
   "cell_type": "code",
   "execution_count": null,
   "metadata": {},
   "outputs": [],
   "source": [
    "#separate into barcoding rounds\n",
    "barcoding_round = []\n",
    "\n",
    "#separate locations by barcoding round\n",
    "hyb_rounds = np.arange(0,12,1)\n",
    "temp = []\n",
    "for h in hyb_rounds:\n",
    "    if h == hyb_rounds[len(hyb_rounds)-1]:\n",
    "        barcode = locations[locations[\"hyb\"] == h]\n",
    "        temp.append(barcode)\n",
    "        comp_round = pd.concat(temp)\n",
    "        barcoding_round.append(comp_round) \n",
    "    elif (h % (12/4) != 0) or (h == 0):\n",
    "        barcode = locations[locations[\"hyb\"] == h]\n",
    "        temp.append(barcode)\n",
    "    else:\n",
    "        comp_round = pd.concat(temp)\n",
    "        barcoding_round.append(comp_round)\n",
    "        temp = []\n",
    "        barcode = locations[locations[\"hyb\"] == h]\n",
    "        temp.append(barcode)\n",
    "\n",
    "#remove temp list\n",
    "del temp"
   ]
  },
  {
   "cell_type": "code",
   "execution_count": null,
   "metadata": {},
   "outputs": [],
   "source": [
    "#read in img\n",
    "img = tf.imread(\"../aberration_corrected/HybCycle_0/MMStack_Pos0.ome.tif\")"
   ]
  },
  {
   "cell_type": "code",
   "execution_count": null,
   "metadata": {},
   "outputs": [],
   "source": [
    "#plot dots on top of image\n",
    "plot_2d_locs_on_2d_image(barcoding_round[0], df_locs_2d_2=None, img_2d=img[4],add_trace = False, zmax=1000)"
   ]
  },
  {
   "cell_type": "code",
   "execution_count": null,
   "metadata": {},
   "outputs": [],
   "source": [
    "#perform various radius searches and calculate dot density\n",
    "neigh_list = []\n",
    "index_list = []\n",
    "radius_list = [1,2,3,4,5]\n",
    "for radius in radius_list:\n",
    "    neighbors,seed = neighbor_search_within(locations, hybs=12, num_barcodes=4, seed=0, radius=radius)\n",
    "    density,index = density_estimate(neighbors, radius=radius, average=False)\n",
    "    index_list.append(index)\n",
    "    neigh_list.append(density)"
   ]
  },
  {
   "cell_type": "code",
   "execution_count": null,
   "metadata": {},
   "outputs": [],
   "source": [
    "#combine dfs\n",
    "comb = pd.concat(neigh_list).reset_index(drop=True)"
   ]
  },
  {
   "cell_type": "code",
   "execution_count": null,
   "metadata": {
    "scrolled": true
   },
   "outputs": [],
   "source": [
    "import matplotlib.pyplot as plt\n",
    "#plot distributions\n",
    "ecdf.plot(comb, label_column = \"radius\", val_column = \"number of neighbors/pixel\", \n",
    "          conf = False, color = [\"red\",\"blue\",\"green\",\"purple\",\"orange\"])\n",
    "plt.xlabel(\"# of neighbors/pixel\")\n",
    "plt.ylabel(\"ECDF\")\n",
    "plt.show()"
   ]
  },
  {
   "cell_type": "code",
   "execution_count": null,
   "metadata": {},
   "outputs": [],
   "source": [
    "#perform various radius searches and get average density\n",
    "neigh_list = []\n",
    "radius_list = np.linspace(1,5,20)\n",
    "for radius in radius_list:\n",
    "    neighbors,seed = neighbor_search_within(locations, hybs=12, num_barcodes=4, seed=0, radius=radius)\n",
    "    density,index = density_estimate(neighbors, radius=radius, average=True)\n",
    "    neigh_list.append(density)"
   ]
  },
  {
   "cell_type": "code",
   "execution_count": null,
   "metadata": {},
   "outputs": [],
   "source": [
    "#plot average density with expaning search radius\n",
    "plt.plot(np.linspace(1,5,20), neigh_list)\n",
    "sns.despine()\n",
    "plt.xlabel(\"Search Radius in Pixels\")\n",
    "plt.ylabel(\"Average Neighbors/Pixel\")"
   ]
  },
  {
   "cell_type": "code",
   "execution_count": null,
   "metadata": {},
   "outputs": [],
   "source": [
    "#get mask\n",
    "mask = \"/groups/CaiLab/personal/Lex/raw/020422_20kdash_3t3/notebook_pyfiles/edges_deleted/MMStack_Pos0.ome.tif\"\n",
    "#calculate area of mask\n",
    "area_mask = np.sum(tf.imread(mask)>=1)"
   ]
  },
  {
   "cell_type": "code",
   "execution_count": null,
   "metadata": {},
   "outputs": [],
   "source": [
    "len(barcoding_round[0])/area_mask"
   ]
  },
  {
   "cell_type": "code",
   "execution_count": null,
   "metadata": {},
   "outputs": [],
   "source": []
  },
  {
   "cell_type": "code",
   "execution_count": null,
   "metadata": {},
   "outputs": [],
   "source": []
  }
 ],
 "metadata": {
  "kernelspec": {
   "display_name": "Python (Cai Lab common)",
   "language": "python",
   "name": "python_env"
  },
  "language_info": {
   "codemirror_mode": {
    "name": "ipython",
    "version": 3
   },
   "file_extension": ".py",
   "mimetype": "text/x-python",
   "name": "python",
   "nbconvert_exporter": "python",
   "pygments_lexer": "ipython3",
   "version": "3.9.1"
  }
 },
 "nbformat": 4,
 "nbformat_minor": 2
}
