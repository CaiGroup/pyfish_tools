{
 "cells": [
  {
   "cell_type": "code",
   "execution_count": null,
   "metadata": {},
   "outputs": [],
   "source": [
    "#general packages\n",
    "import pandas as pd\n",
    "import numpy as np\n",
    "import matplotlib.pyplot as plt\n",
    "import seaborn as sns\n",
    "from scipy.stats import linregress\n",
    "import tifffile as tf\n",
    "from scipy.stats import pearsonr\n",
    "from tqdm import tqdm\n",
    "#custom function\n",
    "from false_positive_analysis import percent_false_positive\n",
    "%config InlineBackend.figure_format='retina'"
   ]
  },
  {
   "cell_type": "markdown",
   "metadata": {},
   "source": [
    "# Look at false positive rate"
   ]
  },
  {
   "cell_type": "code",
   "execution_count": null,
   "metadata": {},
   "outputs": [],
   "source": [
    "#read in threshold mtx\n",
    "channel = 4\n",
    "\n",
    "thresh_mtx = []\n",
    "for threshold in range(11):\n",
    "    ch_mtx = pd.read_csv(f\"/groups/CaiLab/personal/Lex/raw/031322_11kgenes_experiment/notebook_pyfiles/genebycell/screen_3_3_comb/Threshold_{threshold}/comb_genebycell_{channel}.csv\", index_col=0)\n",
    "    #cells above 1000 total counts\n",
    "    ch_mtx = ch_mtx.T\n",
    "    ch_mtx = ch_mtx[ch_mtx.sum(axis=1)>1000].T\n",
    "    thresh_mtx.append(ch_mtx)"
   ]
  },
  {
   "cell_type": "code",
   "execution_count": null,
   "metadata": {},
   "outputs": [],
   "source": [
    "#read in rnaseq data\n",
    "rnaseq_1 = pd.read_csv(\"./RNAseq_files/nih3t3_FPKM.csv\")\n",
    "rnaseq_2 = pd.read_csv(\"./RNAseq_files/kallisto_NIH3T3.csv\")\n",
    "rnaseq_1.columns = [\"Genes\",\"FPKM\"]"
   ]
  },
  {
   "cell_type": "code",
   "execution_count": null,
   "metadata": {},
   "outputs": [],
   "source": [
    "codebook_list = [\"codebook_string_750.csv\",\"codebook_string_647.csv\", \"codebook_string_561.csv\", \"codebook_string_488.csv\"]\n",
    "#codebook\n",
    "codebook = pd.read_csv(f\"/groups/CaiLab/personal/Lex/raw/031322_11kgenes_experiment/barcode_key/{codebook_list[channel-1]}\", index_col=0)"
   ]
  },
  {
   "cell_type": "code",
   "execution_count": null,
   "metadata": {},
   "outputs": [],
   "source": [
    "#separate into true and false codebook\n",
    "fakebook = codebook[codebook.index.str.startswith(\"fake\")]\n",
    "codebook = codebook.drop(fakebook.index)"
   ]
  },
  {
   "cell_type": "code",
   "execution_count": null,
   "metadata": {
    "scrolled": true
   },
   "outputs": [],
   "source": [
    "#calculate false positive\n",
    "fp_list = []\n",
    "for i in range(11):\n",
    "    fp, fake, norm_fpr= percent_false_positive(thresh_mtx[i], codebook, fakebook)\n",
    "    percent_fp = fp[\"FP raw\"].mean()\n",
    "    mean_counts = fp[\"total_counts\"].mean()\n",
    "    sum_counts = fp[\"total_counts\"].sum()\n",
    "    fp_list.append([percent_fp,norm_fpr,mean_counts,sum_counts])\n",
    "\n",
    "#conver to df\n",
    "df_stats = pd.DataFrame(fp_list)\n",
    "df_stats.columns = [\"percent fp\",\"false positive rate\",\"mean counts\", \"total sum\"]\n",
    "df_stats"
   ]
  },
  {
   "cell_type": "code",
   "execution_count": null,
   "metadata": {},
   "outputs": [],
   "source": [
    "#plot fpr and percent falsepsotive\n",
    "plt.plot(df_stats[\"percent fp\"]*100, label = \"Percent False Positive\")\n",
    "plt.plot(df_stats[\"false positive rate\"]*100, label = \"False Positive Rate\")\n",
    "plt.ylabel(\"Percent\")\n",
    "plt.xlabel(\"Thresholds tested\")\n",
    "sns.despine()\n",
    "plt.legend()"
   ]
  },
  {
   "cell_type": "code",
   "execution_count": null,
   "metadata": {},
   "outputs": [],
   "source": [
    "#plot average counts\n",
    "plt.plot(df_stats[\"mean counts\"])\n",
    "plt.ylabel(\"Mean Total Counts\")\n",
    "plt.xlabel(\"Thresholds tested\")\n",
    "sns.despine()\n",
    "plt.legend()"
   ]
  },
  {
   "cell_type": "markdown",
   "metadata": {},
   "source": [
    "# Percent decoded by cells"
   ]
  },
  {
   "cell_type": "code",
   "execution_count": null,
   "metadata": {},
   "outputs": [],
   "source": [
    "#get average percent decoded\n",
    "percent_decoded_list = []\n",
    "for i in range(52):\n",
    "    for z in range(1):\n",
    "        try:\n",
    "            src = f\"/groups/CaiLab/personal/Lex/raw/060322_4kgenes/notebook_pyfiles/decoded/final_11p52_33_heg_svm_0p10_diff0_fdr10_seed2/Channel_3/Pos_{i}/percent_decoded_z_{z}.txt\"\n",
    "            with open(src) as f:\n",
    "                decoded = f.readlines()[0].split(\" \")[-1]\n",
    "                f.close()\n",
    "                percent_decoded_list.append(float(decoded))\n",
    "        except FileNotFoundError:\n",
    "            continue"
   ]
  },
  {
   "cell_type": "code",
   "execution_count": null,
   "metadata": {},
   "outputs": [],
   "source": [
    "np.mean(percent_decoded_list)"
   ]
  },
  {
   "cell_type": "markdown",
   "metadata": {},
   "source": [
    "# RNA seq correlations screen"
   ]
  },
  {
   "cell_type": "code",
   "execution_count": null,
   "metadata": {},
   "outputs": [],
   "source": [
    "#rename rnaseq columns and lowercase\n",
    "rnaseq_1[\"Genes\"]=rnaseq_1[\"Genes\"].str.lower()\n",
    "rnaseq_2[\"gene\"]=rnaseq_2[\"gene\"].str.lower()\n",
    "rnaseq_2.columns = [\"Genes\",\"TPM\"]"
   ]
  },
  {
   "cell_type": "code",
   "execution_count": null,
   "metadata": {
    "scrolled": true
   },
   "outputs": [],
   "source": [
    "#check rna-seq correlations for all\n",
    "r_list = []\n",
    "for threshold in range(11):\n",
    "    #convert data to pseudobulk rnaseq data\n",
    "    bulk = pd.DataFrame(thresh_mtx[threshold].mean(axis=1)).reset_index()\n",
    "    bulk.columns = [\"Genes\", \"Counts\"]\n",
    "    #merge\n",
    "    comb_1 = pd.merge(rnaseq_1,bulk)\n",
    "    #pearson's correlation\n",
    "    r = pearsonr(comb_1[\"FPKM\"],comb_1[\"Counts\"])\n",
    "    r = round(r[0],2)\n",
    "    r_list.append(r)"
   ]
  },
  {
   "cell_type": "code",
   "execution_count": null,
   "metadata": {},
   "outputs": [],
   "source": [
    "#plot percent decoded looking at cells only\n",
    "plt.plot(np.array(r_list))\n",
    "plt.ylabel(\"Pearson's r correlations with RNA-seq\")\n",
    "plt.xlabel(\"Thresholds tested\")\n",
    "sns.despine()\n",
    "plt.show()"
   ]
  },
  {
   "cell_type": "markdown",
   "metadata": {},
   "source": [
    "# smFISH correlations"
   ]
  },
  {
   "cell_type": "code",
   "execution_count": null,
   "metadata": {},
   "outputs": [],
   "source": [
    "def get_corr_and_eff(df):\n",
    "    \"\"\"Fits line forcing intercept to zero. Use non logged data.\"\"\"\n",
    "    x = df[\"smFISH Counts\"].values\n",
    "    x_t = np.vstack([x, np.zeros(len(x))]).T\n",
    "    y = df[\"Counts\"].values\n",
    "    m,c = np.linalg.lstsq(x_t, y, rcond=None)[0]\n",
    "    r = pearsonr(x,y)[0]\n",
    "    \n",
    "    return m,c,r"
   ]
  },
  {
   "cell_type": "code",
   "execution_count": null,
   "metadata": {},
   "outputs": [],
   "source": [
    "#read in smfish \n",
    "smfish = pd.read_csv(\"./smFISH_results.csv\")"
   ]
  },
  {
   "cell_type": "code",
   "execution_count": null,
   "metadata": {},
   "outputs": [],
   "source": [
    "#convert to pseudobulk results \n",
    "smfish_df = pd.DataFrame(smfish.T.mean(axis=1))\n",
    "smfish_df = smfish_df.reset_index()\n",
    "smfish_df.columns = [\"Genes\", \"smFISH Counts\"]\n",
    "smfish_df[\"Genes\"] = smfish_df[\"Genes\"].str.lower()"
   ]
  },
  {
   "cell_type": "code",
   "execution_count": null,
   "metadata": {},
   "outputs": [],
   "source": [
    "#check rna-seq correlations for all\n",
    "corr_list = []\n",
    "for threshold in range(11):\n",
    "    #convert data to pseudobulk rnaseq data\n",
    "    bulk = pd.DataFrame(thresh_mtx[threshold].mean(axis=1)).reset_index()\n",
    "    bulk.columns = [\"Genes\", \"Counts\"]\n",
    "    #merge\n",
    "    comb_2 = pd.merge(smfish_df,bulk)\n",
    "    #get correlations and eff\n",
    "    m,c,r = get_corr_and_eff(comb_2)\n",
    "    corr_list.append([m,c,r])\n",
    "    \n",
    "corr_df = pd.DataFrame(corr_list) \n",
    "corr_df.columns = [\"slope\",\"intecept\",\"pearson's r\"]"
   ]
  },
  {
   "cell_type": "code",
   "execution_count": null,
   "metadata": {},
   "outputs": [],
   "source": [
    "corr_df"
   ]
  },
  {
   "cell_type": "code",
   "execution_count": null,
   "metadata": {},
   "outputs": [],
   "source": [
    "#plot r info\n",
    "plt.plot(corr_df[\"pearson's r\"])\n",
    "plt.ylabel(\"Pearson's r with smFISH\")\n",
    "plt.xlabel(\"Thresholds tested\")\n",
    "sns.despine()\n",
    "plt.show()"
   ]
  },
  {
   "cell_type": "code",
   "execution_count": null,
   "metadata": {},
   "outputs": [],
   "source": [
    "#plot eff info\n",
    "plt.plot(corr_df[\"slope\"])\n",
    "plt.ylabel(\"Efficiency with smFISH\")\n",
    "plt.xlabel(\"Thresholds tested\")\n",
    "sns.despine()\n",
    "plt.show()"
   ]
  },
  {
   "cell_type": "markdown",
   "metadata": {},
   "source": [
    "# Look at best"
   ]
  },
  {
   "cell_type": "code",
   "execution_count": null,
   "metadata": {},
   "outputs": [],
   "source": [
    "#what is the best thresold?\n",
    "best_thresh = 4\n",
    "\n",
    "#convert data to pseudobulk rnaseq data\n",
    "bulk = pd.DataFrame(thresh_mtx[best_thresh].mean(axis=1)).reset_index()\n",
    "bulk.columns = [\"Genes\", \"Counts\"]\n",
    "#merge\n",
    "comb_1 = pd.merge(rnaseq_1,bulk)\n",
    "#pearson's correlation\n",
    "r = pearsonr(comb_1[\"FPKM\"],comb_1[\"Counts\"])\n",
    "r = round(r[0],2)\n",
    "r_list.append(r)"
   ]
  },
  {
   "cell_type": "code",
   "execution_count": null,
   "metadata": {},
   "outputs": [],
   "source": [
    "comb_1[\"Log Counts\"] = np.log2(comb_1[\"Counts\"]+0.1)\n",
    "comb_1[\"Log FPKM\"] = np.log2(comb_1[\"FPKM\"]+0.1)"
   ]
  },
  {
   "cell_type": "code",
   "execution_count": null,
   "metadata": {
    "scrolled": true
   },
   "outputs": [],
   "source": [
    "sns.set_style(\"white\")\n",
    "joint_kws=dict(gridsize=100)\n",
    "hexplot = sns.jointplot(data=comb_1, x=\"Log Counts\", y=\"Log FPKM\", kind=\"hex\",mincnt=0.1, \n",
    "              cmap=\"plasma\", dropna=True, joint_kws=joint_kws)\n",
    "plt.ylabel(\"Bulk RNAseq Log2(FPKM+0.1)\", fontsize=12)\n",
    "plt.xlabel(\"Pseudobulk Log2(Counts+0.1)\", fontsize=12)\n",
    "hexplot.ax_marg_x.remove()\n",
    "hexplot.ax_marg_y.remove()\n",
    "plt.annotate(f\"Pearson's r= {r}\", (-1.0,8.4), fontsize=12)\n",
    "plt.title(\"Channel 488 nm\", fontweight=\"bold\")\n",
    "sns.despine()"
   ]
  },
  {
   "cell_type": "code",
   "execution_count": null,
   "metadata": {},
   "outputs": [],
   "source": [
    "#convert data to pseudobulk rnaseq data\n",
    "bulk = pd.DataFrame(thresh_mtx[best_thresh].mean(axis=1)).reset_index()\n",
    "bulk.columns = [\"Genes\", \"Counts\"]\n",
    "#merge\n",
    "comb_2 = pd.merge(smfish_df,bulk)\n",
    "#calculate info\n",
    "x = comb_2[\"smFISH Counts\"].values\n",
    "x_t = np.vstack([x, np.zeros(len(x))]).T\n",
    "y = comb_2[\"Counts\"].values\n",
    "m,c = np.linalg.lstsq(x_t, y, rcond=None)[0]\n",
    "r = pearsonr(x,y)[0]"
   ]
  },
  {
   "cell_type": "code",
   "execution_count": null,
   "metadata": {},
   "outputs": [],
   "source": [
    "#show smfish correlation\n",
    "plt.plot(x, y, 'bo')\n",
    "plt.plot(x, x*m, c = \"k\")\n",
    "plt.title(\"Channel 488 nm\", fontweight=\"bold\")\n",
    "plt.xlabel(\"Average smFISH counts\")\n",
    "plt.ylabel(\"Average LANTERN Counts\")\n",
    "plt.annotate(f\"Pearson's r= {round(r,2)}\", (0,30), fontsize=12)\n",
    "plt.annotate(f\"Efficiency = {round(m,2)}\", (0,28), fontsize=12)\n",
    "sns.despine()\n",
    "plt.show()"
   ]
  },
  {
   "cell_type": "code",
   "execution_count": null,
   "metadata": {},
   "outputs": [],
   "source": [
    "# #plot correlation and efficiency\n",
    "# plt.scatter(x = np.log2(comb_2[\"smFISH Counts\"]), y = np.log2(comb_2[\"Counts\"]))\n",
    "# plt.xlabel(\"Log2(Average smFISH Counts)\", fontsize=12)\n",
    "# plt.ylabel(\"Log2(Average LANTERN Counts)\", fontsize=12)\n",
    "# plt.ylim(0,5)\n",
    "# plt.annotate(f\"Pearson's r= {round(r,2)}\", (-0.8,4.8), fontsize=12)\n",
    "# plt.annotate(f\"Efficiency = {round(m,2)}\", (-0.8,4.5), fontsize=12)\n",
    "# plt.title(\"Channel 750 nm\", fontweight=\"bold\")\n",
    "# sns.despine()"
   ]
  },
  {
   "cell_type": "code",
   "execution_count": null,
   "metadata": {},
   "outputs": [],
   "source": []
  }
 ],
 "metadata": {
  "kernelspec": {
   "display_name": "Python (Cai Lab common)",
   "language": "python",
   "name": "python_env"
  },
  "language_info": {
   "codemirror_mode": {
    "name": "ipython",
    "version": 3
   },
   "file_extension": ".py",
   "mimetype": "text/x-python",
   "name": "python",
   "nbconvert_exporter": "python",
   "pygments_lexer": "ipython3",
   "version": "3.9.1"
  }
 },
 "nbformat": 4,
 "nbformat_minor": 2
}
