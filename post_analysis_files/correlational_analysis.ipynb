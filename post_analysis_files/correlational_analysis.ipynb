{
 "cells": [
  {
   "cell_type": "code",
   "execution_count": null,
   "metadata": {},
   "outputs": [],
   "source": [
    "import pandas as pd\n",
    "import numpy as np\n",
    "import matplotlib.pyplot as plt\n",
    "import seaborn as sns\n",
    "from scipy.stats import linregress\n",
    "from scipy.stats import spearmanr\n",
    "from false_positive_analysis import percent_false_positive\n",
    "%config InlineBackend.figure_format='retina'"
   ]
  },
  {
   "cell_type": "code",
   "execution_count": null,
   "metadata": {},
   "outputs": [],
   "source": [
    "#read in threshold mtx\n",
    "thresh_mtx = []\n",
    "for i in range(11):\n",
    "    ch_mtx = pd.read_csv(f\"/groups/CaiLab/personal/Lex/raw/112221_20kdash_3t3/notebook_pyfiles/genebycell/daostar/Threshold_{i}/genebycell.csv\", index_col=0)\n",
    "    thresh_mtx.append(ch_mtx)"
   ]
  },
  {
   "cell_type": "code",
   "execution_count": null,
   "metadata": {},
   "outputs": [],
   "source": [
    "#read in rnaseq data\n",
    "rnaseq_1 = pd.read_csv(\"nih3t3_FPKM.csv\")\n",
    "rnaseq_2 = pd.read_csv(\"kallisto_NIH3T3.csv\")\n",
    "#rnaseq= rnaseq[[\"tracking_id\",\"E14J B1\"]]\n",
    "rnaseq_1.columns = [\"Genes\",\"FPKM\"]"
   ]
  },
  {
   "cell_type": "code",
   "execution_count": null,
   "metadata": {},
   "outputs": [],
   "source": [
    "#codebook\n",
    "codebook = pd.read_csv(\"/groups/CaiLab/personal/Lex/raw/112221_20kdash_3t3/barcode_key/corrected_codebook.csv\")\n",
    "codebook.columns = [\"Gene\", \"Brcd1\", \"Brcd2\"]\n",
    "#fakebook = pd.read_csv(\"/groups/CaiLab/personal/Lex/raw/2020-08-08-takei/barcode_key/channel_1_fake.csv\")"
   ]
  },
  {
   "cell_type": "code",
   "execution_count": null,
   "metadata": {},
   "outputs": [],
   "source": [
    "fakebook = codebook[codebook[\"Gene\"].str.startswith(\"fake\")]\n",
    "codebook = codebook.drop(fakebook.index)"
   ]
  },
  {
   "cell_type": "code",
   "execution_count": null,
   "metadata": {},
   "outputs": [],
   "source": [
    "fp_list = []\n",
    "for i in range(11):\n",
    "    fp, fake, norm_fpr= percent_false_positive(thresh_mtx[i], codebook, fakebook)\n",
    "    percent_fp = fp[\"FP raw\"].mean()\n",
    "    mean_counts = fp[\"total_counts\"].mean()\n",
    "    sum_counts = fp[\"total_counts\"].sum()\n",
    "    fp_list.append([percent_fp,norm_fpr,mean_counts,sum_counts])"
   ]
  },
  {
   "cell_type": "code",
   "execution_count": null,
   "metadata": {},
   "outputs": [],
   "source": [
    "df_stats = pd.DataFrame(fp_list)\n",
    "df_stats.columns = [\"percent fp\",\"false positive rate\",\"mean counts\", \"total sum\"]"
   ]
  },
  {
   "cell_type": "code",
   "execution_count": null,
   "metadata": {},
   "outputs": [],
   "source": [
    "df_stats"
   ]
  },
  {
   "cell_type": "code",
   "execution_count": null,
   "metadata": {},
   "outputs": [],
   "source": [
    "plt.plot(df_stats[\"percent fp\"], label = \"Percent False Positive\")\n",
    "plt.plot(df_stats[\"false positive rate\"], label = \"False Positive Rate\")\n",
    "plt.ylabel(\"Percent\")\n",
    "plt.xlabel(\"Thresholds tested\")\n",
    "plt.legend()"
   ]
  },
  {
   "cell_type": "code",
   "execution_count": null,
   "metadata": {},
   "outputs": [],
   "source": [
    "plt.plot(df_stats[\"mean counts\"])\n",
    "plt.ylabel(\"Mean Total Counts\")\n",
    "plt.xlabel(\"Thresholds tested\")\n",
    "plt.legend()"
   ]
  },
  {
   "cell_type": "code",
   "execution_count": null,
   "metadata": {},
   "outputs": [],
   "source": [
    "dot_list = []\n",
    "for i in range(11):\n",
    "    for z in range(2):\n",
    "        dots = pd.read_csv(f\"/groups/CaiLab/personal/Lex/raw/112221_20kdash_3t3/notebook_pyfiles/dots_comb/channels_combined_daostar/Threshold_{i}/locations_z_{z}.csv\")\n",
    "        dot_list.append(dots)"
   ]
  },
  {
   "cell_type": "code",
   "execution_count": null,
   "metadata": {},
   "outputs": [],
   "source": [
    "total_dots = []\n",
    "i = 0\n",
    "for _ in range(11):\n",
    "    total_dots.append((len(dot_list[i])/4) + (len(dot_list[i+1])/4))\n",
    "    i += 2"
   ]
  },
  {
   "cell_type": "code",
   "execution_count": null,
   "metadata": {},
   "outputs": [],
   "source": [
    "plt.plot(df_stats[\"total sum\"].values / np.array(total_dots))\n",
    "plt.ylabel(\"Percent Decoded\")\n",
    "plt.xlabel(\"Thresholds tested\")\n",
    "print(df_stats[\"total sum\"].values / np.array(total_dots))"
   ]
  },
  {
   "cell_type": "code",
   "execution_count": null,
   "metadata": {},
   "outputs": [],
   "source": [
    "fp, fake, norm_fpr= percent_false_positive(thresh_mtx[3], codebook, fakebook)"
   ]
  },
  {
   "cell_type": "code",
   "execution_count": null,
   "metadata": {},
   "outputs": [],
   "source": [
    "len(fakebook)"
   ]
  },
  {
   "cell_type": "code",
   "execution_count": null,
   "metadata": {},
   "outputs": [],
   "source": [
    "fp[\"total_real\"].mean()"
   ]
  },
  {
   "cell_type": "code",
   "execution_count": null,
   "metadata": {},
   "outputs": [],
   "source": [
    "#convert data to pseudobulk rnaseq data\n",
    "bulk = pd.DataFrame(thresh_mtx[3].mean(axis=1)).reset_index()\n",
    "bulk.columns = [\"Genes\", \"Counts\"]"
   ]
  },
  {
   "cell_type": "code",
   "execution_count": null,
   "metadata": {},
   "outputs": [],
   "source": [
    "rnaseq_2.columns = [\"Genes\", \"TPM\"]"
   ]
  },
  {
   "cell_type": "code",
   "execution_count": null,
   "metadata": {},
   "outputs": [],
   "source": [
    "rnaseq_1[\"Genes\"]=rnaseq_1[\"Genes\"].str.lower()\n",
    "rnaseq_2[\"Genes\"]=rnaseq_2[\"Genes\"].str.lower()"
   ]
  },
  {
   "cell_type": "code",
   "execution_count": null,
   "metadata": {},
   "outputs": [],
   "source": [
    "comb_1 = pd.merge(rnaseq_1,bulk)\n",
    "comb_2 = pd.merge(rnaseq_2,bulk)"
   ]
  },
  {
   "cell_type": "code",
   "execution_count": null,
   "metadata": {},
   "outputs": [],
   "source": [
    "sort_comb_1 = comb_1.sort_values([\"FPKM\"])\n",
    "sort_comb_2 = comb_2.sort_values([\"TPM\"])"
   ]
  },
  {
   "cell_type": "code",
   "execution_count": null,
   "metadata": {},
   "outputs": [],
   "source": [
    "#pearson calc old rnaseq\n",
    "linreg = linregress(x = sort_comb_1[\"FPKM\"], y = sort_comb_1[\"Counts\"])\n",
    "pearsonr = linreg[2]\n",
    "pearsonr = round(pearsonr,2)\n",
    "pearsonr"
   ]
  },
  {
   "cell_type": "code",
   "execution_count": null,
   "metadata": {},
   "outputs": [],
   "source": [
    "#pearson calc new rnaseq\n",
    "linreg = linregress(x = sort_comb_2[\"TPM\"], y = sort_comb_2[\"Counts\"])\n",
    "pearsonr = linreg[2]\n",
    "pearsonr = round(pearsonr,2)\n",
    "pearsonr"
   ]
  },
  {
   "cell_type": "code",
   "execution_count": null,
   "metadata": {},
   "outputs": [],
   "source": [
    "plt.scatter(np.log10(sort_comb_1[\"Counts\"]),np.log10(sort_comb_1[\"FPKM\"]), s = 5, alpha=0.5)\n",
    "plt.ylabel(\"Bulk RNAseq Log10(FPKM)\", fontsize=12)\n",
    "plt.xlabel(\"Pseudobulk Log10(Counts)\", fontsize=12)\n",
    "plt.xticks(fontsize=12, rotation=0)\n",
    "plt.yticks(fontsize=12, rotation=0)\n",
    "plt.annotate(f\"Pearson's r= {pearsonr}\", (-1.5,1.5), fontsize=12)\n",
    "sns.despine()"
   ]
  },
  {
   "cell_type": "code",
   "execution_count": null,
   "metadata": {},
   "outputs": [],
   "source": []
  }
 ],
 "metadata": {
  "kernelspec": {
   "display_name": "Python (Cai Lab common)",
   "language": "python",
   "name": "python_env"
  },
  "language_info": {
   "codemirror_mode": {
    "name": "ipython",
    "version": 3
   },
   "file_extension": ".py",
   "mimetype": "text/x-python",
   "name": "python",
   "nbconvert_exporter": "python",
   "pygments_lexer": "ipython3",
   "version": "3.9.1"
  }
 },
 "nbformat": 4,
 "nbformat_minor": 2
}
