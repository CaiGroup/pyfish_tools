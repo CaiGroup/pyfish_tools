{
 "cells": [
  {
   "cell_type": "code",
   "execution_count": null,
   "metadata": {},
   "outputs": [],
   "source": [
    "#data processing packages\n",
    "import pandas as pd\n",
    "import numpy as np\n",
    "import re\n",
    "import glob\n",
    "from scipy import ndimage\n",
    "import tifffile as tf\n",
    "#custom py files\n",
    "from util import pil_imread\n",
    "#plotting packages\n",
    "import plotly.express as px"
   ]
  },
  {
   "cell_type": "code",
   "execution_count": null,
   "metadata": {},
   "outputs": [],
   "source": [
    "def plot_dapi(img, zmax):\n",
    "    \"\"\"Function to generate plots with slide panel\n",
    "    Parameters:\n",
    "    -----------\n",
    "    img = image containing ref and corrected\n",
    "    zmax= set maximum intensity\"\"\"\n",
    "    \n",
    "    #For Plotting 2d image\n",
    "    #-------------------------------------------\n",
    "    fig = px.imshow(\n",
    "        img,\n",
    "        width=700,\n",
    "        height=700,\n",
    "        binary_string=True,\n",
    "        binary_compression_level=4,\n",
    "        animation_frame=0,\n",
    "        binary_backend='pil',\n",
    "        zmax = zmax)\n",
    "    \n",
    "    fig.show()"
   ]
  },
  {
   "cell_type": "markdown",
   "metadata": {},
   "source": [
    "# Check single image"
   ]
  },
  {
   "cell_type": "code",
   "execution_count": null,
   "metadata": {},
   "outputs": [],
   "source": [
    "ref = \"/groups/CaiLab/personal/Lex/raw/082121_12k_nih3t3/fiducials/MMStack_Pos0.ome.tif\"\n",
    "img_src = \"/groups/CaiLab/personal/Lex/raw/082121_12k_nih3t3/HybCycle_50/MMStack_Pos0.ome.tif\""
   ]
  },
  {
   "cell_type": "code",
   "execution_count": null,
   "metadata": {},
   "outputs": [],
   "source": [
    "ref = pil_imread(ref, swapaxes=True)\n",
    "raw = pil_imread(files, swapaxes=True)\n",
    "aligned = pil_imread('../dapi_aligned/HybCycle_50/MMStack_Pos0.ome.tif', swapaxes=True)"
   ]
  },
  {
   "cell_type": "code",
   "execution_count": null,
   "metadata": {},
   "outputs": [],
   "source": [
    "aligned.shape"
   ]
  },
  {
   "cell_type": "code",
   "execution_count": null,
   "metadata": {},
   "outputs": [],
   "source": [
    "#check\n",
    "plot_dapi(np.array([ref[0][1],aligned[0][1]]), zmax=1000)"
   ]
  },
  {
   "cell_type": "code",
   "execution_count": null,
   "metadata": {},
   "outputs": [],
   "source": [
    "#check unaligned\n",
    "plot_dapi(np.array([ref[0][4],raw[0][4]]), zmax=1000)"
   ]
  },
  {
   "cell_type": "markdown",
   "metadata": {},
   "source": [
    "# Check output from sbatch"
   ]
  },
  {
   "cell_type": "code",
   "execution_count": null,
   "metadata": {},
   "outputs": [],
   "source": [
    "#data processing packages\n",
    "import pandas as pd\n",
    "import numpy as np\n",
    "import re\n",
    "import glob\n",
    "from tqdm import tqdm\n",
    "from scipy import ndimage\n",
    "import tifffile as tf\n",
    "#custom py files\n",
    "from util import pil_imread\n",
    "#plotting packages\n",
    "import plotly.express as px"
   ]
  },
  {
   "cell_type": "code",
   "execution_count": null,
   "metadata": {},
   "outputs": [],
   "source": [
    "def plot_dapi(img, zmax):\n",
    "    \"\"\"Function to generate plots with slide panel\n",
    "    Parameters:\n",
    "    -----------\n",
    "    img = image containing ref and corrected\n",
    "    zmax= set maximum intensity\"\"\"\n",
    "    \n",
    "    #For Plotting 2d image\n",
    "    #-------------------------------------------\n",
    "    fig = px.imshow(\n",
    "        img,\n",
    "        width=700,\n",
    "        height=700,\n",
    "        binary_string=True,\n",
    "        binary_compression_level=4,\n",
    "        animation_frame=0,\n",
    "        binary_backend='pil',\n",
    "        zmax = zmax)\n",
    "    \n",
    "    fig.show()"
   ]
  },
  {
   "cell_type": "code",
   "execution_count": null,
   "metadata": {},
   "outputs": [],
   "source": [
    "#processed files\n",
    "pos = 0\n",
    "hyb = 30\n",
    "aligned = f\"/groups/CaiLab/personal/Lex/raw/082121_12k_nih3t3/notebook_pyfiles/dapi_aligned/HybCycle_{hyb}/MMStack_Pos{pos}.ome.tif\"\n",
    "#read image\n",
    "aligned = pil_imread(aligned, swapaxes=True)"
   ]
  },
  {
   "cell_type": "code",
   "execution_count": null,
   "metadata": {},
   "outputs": [],
   "source": [
    "#hyb0 reference files\n",
    "ref = f\"/groups/CaiLab/personal/Lex/raw/082121_12k_nih3t3/fiducials/MMStack_Pos{pos}.ome.tif\"\n",
    "#read image\n",
    "ref = pil_imread(ref, swapaxes=True)"
   ]
  },
  {
   "cell_type": "code",
   "execution_count": null,
   "metadata": {},
   "outputs": [],
   "source": [
    "#corrected check\n",
    "plot_dapi(np.array([ref[1][4],aligned[1][4]]), 500)"
   ]
  },
  {
   "cell_type": "code",
   "execution_count": null,
   "metadata": {},
   "outputs": [],
   "source": [
    "#uncorrected check\n",
    "unaligned = f\"/groups/CaiLab/personal/Lex/raw/082121_12k_nih3t3/HybCycle_{hyb}/MMStack_Pos{pos}.ome.tif\"\n",
    "#read image\n",
    "unaligned = pil_imread(unaligned, swapaxes=True)\n",
    "plot_dapi(np.array([ref[1][4],unaligned[1][4]]), 500)"
   ]
  },
  {
   "cell_type": "code",
   "execution_count": null,
   "metadata": {},
   "outputs": [],
   "source": []
  },
  {
   "cell_type": "code",
   "execution_count": null,
   "metadata": {},
   "outputs": [],
   "source": []
  }
 ],
 "metadata": {
  "kernelspec": {
   "display_name": "Python (Cai Lab common)",
   "language": "python",
   "name": "python_env"
  },
  "language_info": {
   "codemirror_mode": {
    "name": "ipython",
    "version": 3
   },
   "file_extension": ".py",
   "mimetype": "text/x-python",
   "name": "python",
   "nbconvert_exporter": "python",
   "pygments_lexer": "ipython3",
   "version": "3.9.1"
  }
 },
 "nbformat": 4,
 "nbformat_minor": 2
}
