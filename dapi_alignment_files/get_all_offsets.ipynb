{
 "cells": [
  {
   "cell_type": "code",
   "execution_count": 1,
   "metadata": {},
   "outputs": [],
   "source": [
    "#data processing packages\n",
    "import pandas as pd\n",
    "import numpy as np\n",
    "import re\n",
    "import glob\n",
    "from tqdm import tqdm\n",
    "from scipy import ndimage\n",
    "import tifffile as tf\n",
    "#custom py files\n",
    "from util import pil_imread\n",
    "#plotting packages\n",
    "import plotly.express as px"
   ]
  },
  {
   "cell_type": "code",
   "execution_count": null,
   "metadata": {},
   "outputs": [],
   "source": [
    "def plot_dapi(img, zmax):\n",
    "    \"\"\"Function to generate plots with slide panel\n",
    "    Parameters:\n",
    "    -----------\n",
    "    img = image containing ref and corrected\n",
    "    zmax= set maximum intensity\"\"\"\n",
    "    \n",
    "    #For Plotting 2d image\n",
    "    #-------------------------------------------\n",
    "    fig = px.imshow(\n",
    "        img,\n",
    "        width=700,\n",
    "        height=700,\n",
    "        binary_string=True,\n",
    "        binary_compression_level=4,\n",
    "        animation_frame=0,\n",
    "        binary_backend='pil',\n",
    "        zmax = zmax)\n",
    "    \n",
    "    fig.show()"
   ]
  },
  {
   "cell_type": "code",
   "execution_count": null,
   "metadata": {},
   "outputs": [],
   "source": [
    "#hyb0 reference files\n",
    "hyb0_paths = glob.glob(\"/groups/CaiLab/personal/Lex/raw/2020-08-08-takei/HybCycle_0/*tif\")\n",
    "#organize files numerically\n",
    "key = [int(re.search('MMStack_Pos(\\\\d+)', f).group(1)) for f in hyb0_paths]\n",
    "hyb0_paths = list(np.array(hyb0_paths)[np.argsort(key)])"
   ]
  },
  {
   "cell_type": "code",
   "execution_count": null,
   "metadata": {},
   "outputs": [],
   "source": [
    "#all paths for hybs\n",
    "hyb_paths = []\n",
    "for i in range(64):\n",
    "    directory = \"/groups/CaiLab/personal/Lex/raw/2020-08-08-takei/HybCycle_{}/*.tif\".format(i)\n",
    "    paths = glob.glob(directory)\n",
    "    key = [int(re.search('MMStack_Pos(\\\\d+)', f).group(1)) for f in paths]\n",
    "    paths_fin = list(np.array(paths)[np.argsort(key)])\n",
    "    hyb_paths.append(paths_fin)"
   ]
  },
  {
   "cell_type": "code",
   "execution_count": null,
   "metadata": {},
   "outputs": [],
   "source": [
    "from webfish_tools.util import find_matching_files\n",
    "from pathlib import Path\n",
    "JOB_ID=50\n",
    "directory = Path(\"/groups/CaiLab/personal/Lex/raw/2020-08-08-takei\")\n",
    "position_name = '/MMStack_Pos0.ome.tif'\n",
    "files, _, _ = find_matching_files(directory, f'HybCycle_{JOB_ID}' + position_name)\n",
    "ref, _, _ = find_matching_files(directory, 'HybCycle_0' + position_name) \n",
    "files = str(files[0])\n",
    "ref = str(ref[0])"
   ]
  },
  {
   "cell_type": "code",
   "execution_count": null,
   "metadata": {},
   "outputs": [],
   "source": [
    "files"
   ]
  },
  {
   "cell_type": "code",
   "execution_count": null,
   "metadata": {},
   "outputs": [],
   "source": [
    "from dapi_alignment_parallel import dapi_alignment_single"
   ]
  },
  {
   "cell_type": "code",
   "execution_count": null,
   "metadata": {},
   "outputs": [],
   "source": [
    "dapi_alignment_single(ref,files)"
   ]
  },
  {
   "cell_type": "markdown",
   "metadata": {},
   "source": [
    "# Check single image"
   ]
  },
  {
   "cell_type": "code",
   "execution_count": null,
   "metadata": {},
   "outputs": [],
   "source": [
    "ref = pil_imread(ref, swapaxes=True)\n",
    "raw = pil_imread(files, swapaxes=True)\n",
    "aligned = pil_imread('../dapi_aligned/HybCycle_1/MMStack_Pos0.ome.tif', swapaxes=True)"
   ]
  },
  {
   "cell_type": "code",
   "execution_count": null,
   "metadata": {},
   "outputs": [],
   "source": [
    "aligned.shape"
   ]
  },
  {
   "cell_type": "code",
   "execution_count": null,
   "metadata": {},
   "outputs": [],
   "source": [
    "#check\n",
    "plot_dapi(np.array([ref[5][3],aligned[5][3]]), zmax=3000)"
   ]
  },
  {
   "cell_type": "code",
   "execution_count": null,
   "metadata": {},
   "outputs": [],
   "source": [
    "#check unaligned\n",
    "plot_dapi(np.array([ref[5][3],raw[5][3]]), zmax=1000)"
   ]
  },
  {
   "cell_type": "markdown",
   "metadata": {},
   "source": [
    "Looks good."
   ]
  },
  {
   "cell_type": "markdown",
   "metadata": {},
   "source": [
    "# Check output from sbatch"
   ]
  },
  {
   "cell_type": "code",
   "execution_count": null,
   "metadata": {},
   "outputs": [],
   "source": [
    "#data processing packages\n",
    "import pandas as pd\n",
    "import numpy as np\n",
    "import re\n",
    "import glob\n",
    "from tqdm import tqdm\n",
    "from scipy import ndimage\n",
    "import tifffile as tf\n",
    "#custom py files\n",
    "from util import pil_imread\n",
    "#plotting packages\n",
    "import plotly.express as px"
   ]
  },
  {
   "cell_type": "code",
   "execution_count": null,
   "metadata": {},
   "outputs": [],
   "source": [
    "def plot_dapi(img, zmax):\n",
    "    \"\"\"Function to generate plots with slide panel\n",
    "    Parameters:\n",
    "    -----------\n",
    "    img = image containing ref and corrected\n",
    "    zmax= set maximum intensity\"\"\"\n",
    "    \n",
    "    #For Plotting 2d image\n",
    "    #-------------------------------------------\n",
    "    fig = px.imshow(\n",
    "        img,\n",
    "        width=700,\n",
    "        height=700,\n",
    "        binary_string=True,\n",
    "        binary_compression_level=4,\n",
    "        animation_frame=0,\n",
    "        binary_backend='pil',\n",
    "        zmax = zmax)\n",
    "    \n",
    "    fig.show()"
   ]
  },
  {
   "cell_type": "code",
   "execution_count": null,
   "metadata": {},
   "outputs": [],
   "source": [
    "#processed files\n",
    "pr_paths = glob.glob(\"/groups/CaiLab/personal/Lex/raw/2020-08-08-takei/notebook_pyfiles/dapi_aligned/HybCycle_30/*.tif\")\n",
    "#read image\n",
    "pr = pil_imread(pr_paths[0], swapaxes=True)"
   ]
  },
  {
   "cell_type": "code",
   "execution_count": null,
   "metadata": {},
   "outputs": [],
   "source": [
    "#hyb0 reference files\n",
    "hyb0_paths = glob.glob(\"/groups/CaiLab/personal/Lex/raw/2020-08-08-takei/HybCycle_0/*tif\")\n",
    "#read image\n",
    "ref = pil_imread(hyb0_paths[0], swapaxes=True)"
   ]
  },
  {
   "cell_type": "code",
   "execution_count": null,
   "metadata": {},
   "outputs": [],
   "source": [
    "#corrected check\n",
    "plot_dapi(np.array([ref[5][3],pr[5][3]]), 5000)"
   ]
  },
  {
   "cell_type": "markdown",
   "metadata": {},
   "source": [
    "Looks good. Kind of looks like there is swelling of nuclei in later hybs."
   ]
  },
  {
   "cell_type": "code",
   "execution_count": null,
   "metadata": {},
   "outputs": [],
   "source": []
  }
 ],
 "metadata": {
  "kernelspec": {
   "display_name": "Python (Cai Lab common)",
   "language": "python",
   "name": "python_env"
  },
  "language_info": {
   "codemirror_mode": {
    "name": "ipython",
    "version": 3
   },
   "file_extension": ".py",
   "mimetype": "text/x-python",
   "name": "python",
   "nbconvert_exporter": "python",
   "pygments_lexer": "ipython3",
   "version": "3.9.1"
  }
 },
 "nbformat": 4,
 "nbformat_minor": 2
}
