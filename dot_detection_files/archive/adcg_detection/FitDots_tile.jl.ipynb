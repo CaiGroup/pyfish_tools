{
 "cells": [
  {
   "cell_type": "code",
   "execution_count": null,
   "metadata": {},
   "outputs": [],
   "source": [
    "#general package for image rendering and data handling\n",
    "using Plots\n",
    "using Images\n",
    "using FileIO\n",
    "using CSV\n",
    "using DataFrames\n",
    "#adcg package\n",
    "using SeqFISH_ADCG"
   ]
  },
  {
   "cell_type": "code",
   "execution_count": null,
   "metadata": {},
   "outputs": [],
   "source": [
    "hyb = 0\n",
    "pos = 0\n",
    "\n",
    "filename = \"../pre_processed_images/HybCycle_$hyb/MMStack_Pos$pos.tif\"\n",
    "\n",
    "#bgsub_im_info = ncinfo(filename)\n",
    "image = load(filename)"
   ]
  },
  {
   "cell_type": "code",
   "execution_count": null,
   "metadata": {},
   "outputs": [],
   "source": [
    "img = reinterpret.(UInt16,channelview(image))"
   ]
  },
  {
   "cell_type": "code",
   "execution_count": null,
   "metadata": {},
   "outputs": [],
   "source": [
    "size(img)"
   ]
  },
  {
   "cell_type": "code",
   "execution_count": null,
   "metadata": {},
   "outputs": [],
   "source": [
    "img_1 = img[:,:,3]"
   ]
  },
  {
   "cell_type": "code",
   "execution_count": null,
   "metadata": {},
   "outputs": [],
   "source": [
    "plotlyjs()\n",
    "heatmap(img_1)"
   ]
  },
  {
   "cell_type": "markdown",
   "metadata": {},
   "source": [
    "Find A 100x100 pixel region with dots in the interactive plot above, and then choose it as a subset tile below."
   ]
  },
  {
   "cell_type": "code",
   "execution_count": null,
   "metadata": {},
   "outputs": [],
   "source": [
    "stx = 1200\n",
    "sty = 1800\n",
    "\n",
    "width = 100\n",
    "tile = img_1[stx:(stx+width-1), sty:(sty+width-1)]\n",
    "heatmap(tile)"
   ]
  },
  {
   "cell_type": "markdown",
   "metadata": {},
   "source": [
    "Attempt Fit with new parameters"
   ]
  },
  {
   "cell_type": "code",
   "execution_count": null,
   "metadata": {},
   "outputs": [],
   "source": [
    "sigma_lb = 1.8\n",
    "sigma_ub = 2.5\n",
    "noise_mean = 0.0\n",
    "min_weight = 300.0\n",
    "tau = 10.0^5#2.0*10^12\n",
    "final_loss_improvement = 40.0#10.0\n",
    "max_iters = 200#10000\n",
    "max_cd_iters = 10\n",
    "\n",
    "\n",
    "inputs = (tile, sigma_lb, sigma_ub, noise_mean, tau, final_loss_improvement, min_weight, max_iters, max_cd_iters)\n",
    "\n",
    "ps = fit_tile(inputs)\n",
    "\n",
    "heatmap(tile)\n",
    "scatter!(ps[1,:], ps[2,:])"
   ]
  },
  {
   "cell_type": "markdown",
   "metadata": {},
   "source": [
    "Plot Model"
   ]
  },
  {
   "cell_type": "code",
   "execution_count": null,
   "metadata": {},
   "outputs": [],
   "source": [
    "gblr = GaussBlur2D(sigma_lb, sigma_ub, width)\n",
    "heatmap(reshape(phi(gblr, ps),width,width))"
   ]
  },
  {
   "cell_type": "markdown",
   "metadata": {},
   "source": [
    "Plot Residuals"
   ]
  },
  {
   "cell_type": "code",
   "execution_count": null,
   "metadata": {},
   "outputs": [],
   "source": [
    "resid = tile .- reshape(phi(gblr, ps),width,width) .- noise_mean\n",
    "heatmap(resid)"
   ]
  },
  {
   "cell_type": "code",
   "execution_count": null,
   "metadata": {},
   "outputs": [],
   "source": []
  }
 ],
 "metadata": {
  "kernelspec": {
   "display_name": "Python 3",
   "language": "python",
   "name": "python3"
  },
  "language_info": {
   "codemirror_mode": {
    "name": "ipython",
    "version": 3
   },
   "file_extension": ".py",
   "mimetype": "text/x-python",
   "name": "python",
   "nbconvert_exporter": "python",
   "pygments_lexer": "ipython3",
   "version": "3.8.5"
  }
 },
 "nbformat": 4,
 "nbformat_minor": 5
}
