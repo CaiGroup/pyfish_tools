{
 "cells": [
  {
   "cell_type": "markdown",
   "metadata": {},
   "source": [
    "# Custom Dot Detection by Threshold Optimization"
   ]
  },
  {
   "cell_type": "code",
   "execution_count": null,
   "metadata": {},
   "outputs": [],
   "source": [
    "#custom function\n",
    "from dot_detection_blob_rad_gaus import *"
   ]
  },
  {
   "cell_type": "code",
   "execution_count": null,
   "metadata": {},
   "outputs": [],
   "source": [
    "import plotly.express as px\n",
    "import plotly.graph_objects as go\n",
    "import numpy as np\n",
    "\n",
    "def plot_2d_locs_on_2d_image(df_locs_2d_1, df_locs_2d_2, img_2d,add_trace = True, zmax=1000):\n",
    "    \n",
    "    #For Plotting 2d image\n",
    "    #-------------------------------------------\n",
    "    fig = px.imshow(\n",
    "        img_2d,\n",
    "        width=700,\n",
    "        height=700,\n",
    "        binary_string=True,\n",
    "        binary_compression_level=4,\n",
    "        binary_backend='pil',\n",
    "        zmax = zmax\n",
    "    )\n",
    "    #-------------------------------------------\n",
    "    \n",
    "    #For Plotting 2d dots\n",
    "    #-------------------------------------------\n",
    "    fig.add_trace(go.Scattergl(\n",
    "        x=df_locs_2d_1.x,\n",
    "        y=df_locs_2d_1.y,\n",
    "        mode='markers',\n",
    "        marker_symbol='cross',\n",
    "        marker=dict(\n",
    "            #maxdisplayed=1000,\n",
    "            size=4\n",
    "            ),\n",
    "        name = \"Gaussian\"\n",
    "        )\n",
    "    )\n",
    "    if add_trace == True:\n",
    "        fig.add_trace(go.Scattergl(\n",
    "            x=df_locs_2d_2.x,\n",
    "            y=df_locs_2d_2.y,\n",
    "            mode='markers',\n",
    "            marker_symbol='cross',\n",
    "            marker=dict(\n",
    "                #maxdisplayed=1000,\n",
    "                size=4\n",
    "                ),\n",
    "            name = \"LoG\"\n",
    "            )\n",
    "        )\n",
    "    #-------------------------------------------\n",
    "    \n",
    "    fig.show()\n",
    "    \n",
    "def plot_3d_locs_on_2d_image(df_tiff_1, df_tiff_2, tiff, channel, \n",
    "                             raw_src = None, raw_image = False, add_trace = True, zmax=10):\n",
    "    \n",
    "    if raw_image == False:\n",
    "\n",
    "        #PLot All Z's that had dot detection\n",
    "        #-------------------------------------------\n",
    "        for z in range(len(tiff[:,channel])):\n",
    "            if add_trace == False:\n",
    "                df_locs_2d_1 = df_tiff_1[(df_tiff_1.z > z-1) & (df_tiff_1.z < z+1)]\n",
    "                plot_2d_locs_on_2d_image(df_locs_2d_1, None, tiff[z, channel], zmax=zmax, add_trace=add_trace)\n",
    "            else:\n",
    "                df_locs_2d_1 = df_tiff_1[(df_tiff_1.z > z-1) & (df_tiff_1.z < z+1)]\n",
    "                df_locs_2d_2= df_tiff_2[(df_tiff_2.z > z-1) & (df_tiff_2.z < z+1)]\n",
    "                plot_2d_locs_on_2d_image(df_locs_2d_1,df_locs_2d_2, tiff[z, channel],add_trace=add_trace, zmax=zmax)\n",
    "    else:\n",
    "        #read raw image\n",
    "        tiff = tf.imread(raw_src)\n",
    "        print(\"shape =\", tiff.shape)\n",
    "        #plot\n",
    "        for z in range(len(tiff[:,channel])):\n",
    "            if add_trace == False:\n",
    "                df_locs_2d_1 = df_tiff_1[(df_tiff_1.z > z-1) & (df_tiff_1.z < z+1)]\n",
    "                plot_2d_locs_on_2d_image(df_locs_2d_1,None, tiff[z, channel], zmax=zmax, add_trace=add_trace)\n",
    "            else:\n",
    "                df_locs_2d_1 = df_tiff_1[(df_tiff_1.z > z-1) & (df_tiff_1.z < z+1)]\n",
    "                df_locs_2d_2= df_tiff_2[(df_tiff_2.z > z-1) & (df_tiff_2.z < z+1)]\n",
    "                plot_2d_locs_on_2d_image(df_locs_2d_1,df_locs_2d_2, tiff[z, channel],add_trace=add_trace, zmax=zmax)"
   ]
  },
  {
   "cell_type": "code",
   "execution_count": null,
   "metadata": {},
   "outputs": [],
   "source": [
    "# #test find threshold parameters\n",
    "# final = find_threshold(img_src, min_sigma = 1.5, max_sigma = 5, \n",
    "#                    num_sigma = 5, threshold_min = 0.0005, \n",
    "#                    threshold_max= 0.02, interval=200, \n",
    "#                    HybCycle = 0, channel = 0, min_dots_start=10000, \n",
    "#                    min_dots_end = 100000,pos_start=0,pos_end=1,reduce_cutoff= 2, window=10, strict=False)"
   ]
  },
  {
   "cell_type": "code",
   "execution_count": null,
   "metadata": {},
   "outputs": [],
   "source": [
    "import time\n",
    "#start time\n",
    "start = time.time()\n",
    "\n",
    "#image sources\n",
    "img_src = \"/groups/CaiLab/personal/Lex/raw/Linus_10k_cleared_080918_NIH3T3/notebook_pyfiles/deconvoluted_images/HybCycle_0/MMStack_Pos0.ome.tif\"\n",
    "img_raw = '/groups/CaiLab/personal/Lex/raw/Linus_10k_cleared_080918_NIH3T3/notebook_pyfiles/dapi_aligned_gaussian/fiducial_aligned/HybCycle_0/MMStack_Pos0.ome.tif'\n",
    "raw_src=None\n",
    "\n",
    "#img_src: path to image\n",
    "#min_sigma: parameter for blob log\n",
    "#max_sigma: parameter for blob log\n",
    "#num_sigma:parameter for blob log\n",
    "#channel: which channel you want to analyze\n",
    "#pos: position number if check initial is True\n",
    "#choose_thresh_set:which threshold set you want to use (if you have already ran full screen)\n",
    "#hyb_number:total number of hybs for choose thresh set(if you are picking one)\n",
    "#check_initial: check initial optimal threshold\n",
    "#region_size: bounding box size for gaussian fit or radial centering\n",
    "#gaussian: bool for performing gaussian fit\n",
    "#radial_center: bool for radial centering\n",
    "#optimize: bool to test different threshold and min dots\n",
    "#output: bool to write out results or return data\n",
    "\n",
    "dots = dot_detection(img_src, min_sigma = 1.5, max_sigma = 5, \n",
    "                     num_sigma = 5, HybCycle=0, size_cutoff=2, \n",
    "                     opt_thresh=0.001,channel=0,pos=0,choose_thresh_set = 6, hyb_number=80,\n",
    "                     check_initial = False, region_size=5,\n",
    "                     gaussian = True,radial_center=False, optimize=True, output=False)\n",
    "\n",
    "print(f\"This task took {(time.time() - start)/60} minutes\")"
   ]
  },
  {
   "cell_type": "code",
   "execution_count": null,
   "metadata": {},
   "outputs": [],
   "source": [
    "# dots"
   ]
  },
  {
   "cell_type": "code",
   "execution_count": null,
   "metadata": {},
   "outputs": [],
   "source": [
    "#from dotdetection opt\n",
    "thresh = 4\n",
    "dots = pd.read_csv(f\"/groups/CaiLab/personal/Lex/raw/Linus_10k_cleared_080918_NIH3T3/notebook_pyfiles/dots_comb/Channel_1_radialcenter/MMStack_Pos0/Threshold_{thresh}/Dot_Locations/locations_z_0.csv\")"
   ]
  },
  {
   "cell_type": "code",
   "execution_count": null,
   "metadata": {},
   "outputs": [],
   "source": [
    "#isolate hyb\n",
    "hyb = 0\n",
    "check = dots[dots[\"hyb\"]==hyb]"
   ]
  },
  {
   "cell_type": "code",
   "execution_count": null,
   "metadata": {},
   "outputs": [],
   "source": [
    "img_raw = '/groups/CaiLab/personal/Lex/raw/Linus_10k_cleared_080918_NIH3T3/notebook_pyfiles/dapi_aligned/fiducial_aligned_gaussian/HybCycle_0/MMStack_Pos0.ome.tif'\n",
    "plot_3d_locs_on_2d_image(check,None, tiff=None, channel=0, raw_src = img_raw, \n",
    "                         raw_image = True, add_trace=False, zmax=2000)"
   ]
  },
  {
   "cell_type": "code",
   "execution_count": null,
   "metadata": {},
   "outputs": [],
   "source": [
    "tiff = tf.imread(img_src)\n",
    "plot_3d_locs_on_2d_image(check,None, tiff=tiff, channel=0, \n",
    "                         raw_src = img_raw, raw_image = False,add_trace=False, zmax=1000)"
   ]
  },
  {
   "cell_type": "markdown",
   "metadata": {},
   "source": [
    "# Organize dots detected files"
   ]
  },
  {
   "cell_type": "code",
   "execution_count": 1,
   "metadata": {},
   "outputs": [],
   "source": [
    "#custom functions\n",
    "from dot_detection_blob_rad_gaus import combine_dot_files"
   ]
  },
  {
   "cell_type": "code",
   "execution_count": 3,
   "metadata": {},
   "outputs": [],
   "source": [
    "path_dots = \"/groups/CaiLab/personal/Lex/raw/Linus_10k_cleared_080918_NIH3T3/notebook_pyfiles/dots_detected/Channel_1_radial\"\n",
    "combine_dot_files(path_dots, hyb_start=0,hyb_end=80,num_HybCycle = 80,\n",
    "                  pos = 0, channel=0, num_z = 2, opt_files = True)"
   ]
  },
  {
   "cell_type": "code",
   "execution_count": null,
   "metadata": {},
   "outputs": [],
   "source": []
  }
 ],
 "metadata": {
  "kernelspec": {
   "display_name": "Python3.7",
   "language": "python",
   "name": "python3.7"
  },
  "language_info": {
   "codemirror_mode": {
    "name": "ipython",
    "version": 3
   },
   "file_extension": ".py",
   "mimetype": "text/x-python",
   "name": "python",
   "nbconvert_exporter": "python",
   "pygments_lexer": "ipython3",
   "version": "3.7.0"
  }
 },
 "nbformat": 4,
 "nbformat_minor": 2
}
