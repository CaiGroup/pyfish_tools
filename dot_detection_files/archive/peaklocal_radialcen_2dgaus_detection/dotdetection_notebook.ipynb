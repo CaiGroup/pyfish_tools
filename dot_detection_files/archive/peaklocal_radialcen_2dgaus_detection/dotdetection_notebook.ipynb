{
 "cells": [
  {
   "cell_type": "markdown",
   "metadata": {},
   "source": [
    "# Custom Dot Detection by Threshold Optimization"
   ]
  },
  {
   "cell_type": "code",
   "execution_count": 2,
   "metadata": {},
   "outputs": [
    {
     "ename": "ModuleNotFoundError",
     "evalue": "No module named 'daostarfinder_dotdetection'",
     "output_type": "error",
     "traceback": [
      "\u001b[0;31m---------------------------------------------------------------------------\u001b[0m",
      "\u001b[0;31mModuleNotFoundError\u001b[0m                       Traceback (most recent call last)",
      "\u001b[0;32m<ipython-input-2-898644fc04b9>\u001b[0m in \u001b[0;36m<module>\u001b[0;34m\u001b[0m\n\u001b[1;32m      1\u001b[0m \u001b[0;31m#custom function\u001b[0m\u001b[0;34m\u001b[0m\u001b[0;34m\u001b[0m\u001b[0m\n\u001b[0;32m----> 2\u001b[0;31m \u001b[0;32mfrom\u001b[0m \u001b[0mdaostarfinder_dotdetection\u001b[0m \u001b[0;32mimport\u001b[0m \u001b[0;34m*\u001b[0m\u001b[0;34m\u001b[0m\u001b[0m\n\u001b[0m\u001b[1;32m      3\u001b[0m \u001b[0;31m#enhance figure display\u001b[0m\u001b[0;34m\u001b[0m\u001b[0;34m\u001b[0m\u001b[0m\n\u001b[1;32m      4\u001b[0m \u001b[0mget_ipython\u001b[0m\u001b[0;34m(\u001b[0m\u001b[0;34m)\u001b[0m\u001b[0;34m.\u001b[0m\u001b[0mrun_line_magic\u001b[0m\u001b[0;34m(\u001b[0m\u001b[0;34m'config'\u001b[0m\u001b[0;34m,\u001b[0m \u001b[0;34m\"InlineBackend.figure_format = 'retina'\"\u001b[0m\u001b[0;34m)\u001b[0m\u001b[0;34m\u001b[0m\u001b[0m\n",
      "\u001b[0;31mModuleNotFoundError\u001b[0m: No module named 'daostarfinder_dotdetection'"
     ]
    }
   ],
   "source": [
    "#custom function\n",
    "from daostarfinder_dotdetection import *\n",
    "#enhance figure display\n",
    "%config InlineBackend.figure_format = 'retina'"
   ]
  },
  {
   "cell_type": "code",
   "execution_count": null,
   "metadata": {},
   "outputs": [],
   "source": [
    "import plotly.express as px\n",
    "import plotly.graph_objects as go\n",
    "import numpy as np\n",
    "\n",
    "def plot_2d_locs_on_2d_image(df_locs_2d_1, df_locs_2d_2, img_2d,add_trace = True, zmax=1000):\n",
    "    \n",
    "    #For Plotting 2d image\n",
    "    #-------------------------------------------\n",
    "    fig = px.imshow(\n",
    "        img_2d,\n",
    "        width=700,\n",
    "        height=700,\n",
    "        binary_string=True,\n",
    "        binary_compression_level=4,\n",
    "        binary_backend='pil',\n",
    "        zmax = zmax\n",
    "    )\n",
    "    #-------------------------------------------\n",
    "    \n",
    "    #For Plotting 2d dots\n",
    "    #-------------------------------------------\n",
    "    fig.add_trace(go.Scattergl(\n",
    "        x=df_locs_2d_1.x,\n",
    "        y=df_locs_2d_1.y,\n",
    "        mode='markers',\n",
    "        marker_symbol='cross',\n",
    "        marker=dict(\n",
    "            #maxdisplayed=1000,\n",
    "            size=4\n",
    "            ),\n",
    "        name = \"Gaussian\"\n",
    "        )\n",
    "    )\n",
    "    if add_trace == True:\n",
    "        fig.add_trace(go.Scattergl(\n",
    "            x=df_locs_2d_2.x,\n",
    "            y=df_locs_2d_2.y,\n",
    "            mode='markers',\n",
    "            marker_symbol='cross',\n",
    "            marker=dict(\n",
    "                #maxdisplayed=1000,\n",
    "                size=4\n",
    "                ),\n",
    "            name = \"LoG\"\n",
    "            )\n",
    "        )\n",
    "    #-------------------------------------------\n",
    "    \n",
    "    fig.show()\n",
    "    \n",
    "def plot_3d_locs_on_2d_image(df_tiff_1, df_tiff_2, tiff, channel, \n",
    "                             raw_src = None, raw_image = False, add_trace = True, zmax=10):\n",
    "    \n",
    "    if raw_image == False:\n",
    "\n",
    "        #PLot All Z's that had dot detection\n",
    "        #-------------------------------------------\n",
    "        for z in range(len(tiff[:,channel])):\n",
    "            if add_trace == False:\n",
    "                df_locs_2d_1 = df_tiff_1[(df_tiff_1.z > z-1) & (df_tiff_1.z < z+1)]\n",
    "                plot_2d_locs_on_2d_image(df_locs_2d_1, None, tiff[z, channel], zmax=zmax, add_trace=add_trace)\n",
    "            else:\n",
    "                df_locs_2d_1 = df_tiff_1[(df_tiff_1.z > z-1) & (df_tiff_1.z < z+1)]\n",
    "                df_locs_2d_2= df_tiff_2[(df_tiff_2.z > z-1) & (df_tiff_2.z < z+1)]\n",
    "                plot_2d_locs_on_2d_image(df_locs_2d_1,df_locs_2d_2, tiff[z, channel],add_trace=add_trace, zmax=zmax)\n",
    "    else:\n",
    "        #read raw image\n",
    "        tiff = tf.imread(raw_src)\n",
    "        print(\"shape =\", tiff.shape)\n",
    "        #plot\n",
    "        for z in range(len(tiff[:,channel])):\n",
    "            if add_trace == False:\n",
    "                df_locs_2d_1 = df_tiff_1[(df_tiff_1.z > z-1) & (df_tiff_1.z < z+1)]\n",
    "                plot_2d_locs_on_2d_image(df_locs_2d_1,None, tiff[z, channel], zmax=zmax, add_trace=add_trace)\n",
    "            else:\n",
    "                df_locs_2d_1 = df_tiff_1[(df_tiff_1.z > z-1) & (df_tiff_1.z < z+1)]\n",
    "                df_locs_2d_2= df_tiff_2[(df_tiff_2.z > z-1) & (df_tiff_2.z < z+1)]\n",
    "                plot_2d_locs_on_2d_image(df_locs_2d_1,df_locs_2d_2, tiff[z, channel],add_trace=add_trace, zmax=zmax)"
   ]
  },
  {
   "cell_type": "code",
   "execution_count": null,
   "metadata": {},
   "outputs": [],
   "source": [
    "import time\n",
    "#start time\n",
    "start = time.time()\n",
    "\n",
    "#image sources\n",
    "img_src = \"/groups/CaiLab/personal/Lex/raw/112221_20kdash_3t3/notebook_pyfiles/pre_processed_images/HybCycle_0/MMStack_Pos1.ome.tif\"\n",
    "img_raw = '/groups/CaiLab/personal/Lex/raw/112221_20kdash_3t3/notebook_pyfiles/aberration_corrected/HybCycle_0/MMStack_Pos1.ome.tif'\n",
    "raw_src=None\n",
    "\n",
    "#img_src: path to image\n",
    "#box_size: size of bounding box for peak local max detection\n",
    "#exclude_border: number of pixels to exclude from the border\n",
    "#channel: which channel you want to analyze\n",
    "#pos: position number if check initial is True\n",
    "#choose_thresh_set:which threshold set you want to use (if you have already ran full screen)\n",
    "#hyb_number:total number of hybs for choose thresh set(if you are picking one)\n",
    "#check_initial: check initial optimal threshold\n",
    "#region_size: bounding box size for gaussian fit or radial centering\n",
    "#gaussian: bool for performing gaussian fit\n",
    "#radial_center: bool for radial centering\n",
    "#optimize: bool to test different threshold and min dots\n",
    "#output: bool to write out results or return data\n",
    "\n",
    "dots = dot_detection(img_src, box_size = 5, exclude_border=3, HybCycle=0, size_cutoff=3, \n",
    "                     opt_thresh=200,channel=1,pos=1,choose_thresh_set = 0, hyb_number=12,\n",
    "                     check_initial = False, region_size=7,\n",
    "                     gaussian = True, radial_center=False, optimize=True, output=False)\n",
    "print(f\"This task took {(time.time() - start)/60} minutes\")"
   ]
  },
  {
   "cell_type": "code",
   "execution_count": null,
   "metadata": {},
   "outputs": [],
   "source": [
    "dots"
   ]
  },
  {
   "cell_type": "code",
   "execution_count": null,
   "metadata": {},
   "outputs": [],
   "source": [
    "# #from dotdetection opt\n",
    "# thresh = 4\n",
    "# dots = pd.read_csv(f\"/groups/CaiLab/personal/Lex/raw/Linus_10k_cleared_080918_NIH3T3/notebook_pyfiles/dots_comb/Channel_1_radialcenter/MMStack_Pos0/Threshold_{thresh}/Dot_Locations/locations_z_0.csv\")"
   ]
  },
  {
   "cell_type": "code",
   "execution_count": null,
   "metadata": {},
   "outputs": [],
   "source": [
    "# #isolate hyb\n",
    "# hyb = 0\n",
    "# check = dots[dots[\"hyb\"]==hyb]"
   ]
  },
  {
   "cell_type": "code",
   "execution_count": null,
   "metadata": {},
   "outputs": [],
   "source": [
    "img_raw = '/groups/CaiLab/personal/Lex/raw/112221_20kdash_3t3/notebook_pyfiles/aberration_corrected/HybCycle_0/MMStack_Pos1.ome.tif'\n",
    "plot_3d_locs_on_2d_image(df,None, tiff=None, channel=0, raw_src = img_raw, \n",
    "                         raw_image = True, add_trace=False, zmax=1000)"
   ]
  },
  {
   "cell_type": "code",
   "execution_count": null,
   "metadata": {},
   "outputs": [],
   "source": [
    "plot_3d_locs_on_2d_image(dots,None, tiff=None, channel=0, raw_src = img_raw, \n",
    "                         raw_image = True, add_trace=False, zmax=1000)"
   ]
  },
  {
   "cell_type": "code",
   "execution_count": null,
   "metadata": {},
   "outputs": [],
   "source": [
    "tiff = tf.imread(img_src)\n",
    "plot_3d_locs_on_2d_image(df,None, tiff=tiff, channel=0, \n",
    "                         raw_src = img_raw, raw_image = False,add_trace=False, zmax=1000)"
   ]
  },
  {
   "cell_type": "markdown",
   "metadata": {},
   "source": [
    "# Organize dots detected files"
   ]
  },
  {
   "cell_type": "code",
   "execution_count": null,
   "metadata": {},
   "outputs": [],
   "source": [
    "#custom functions\n",
    "from dot_detection_peaklocal_rad_gaus import combine_dot_files"
   ]
  },
  {
   "cell_type": "code",
   "execution_count": null,
   "metadata": {},
   "outputs": [],
   "source": [
    "path_dots = \"/groups/CaiLab/personal/Lex/raw/112221_20kdash_3t3/notebook_pyfiles/dots_detected/Channel_4\"\n",
    "combine_dot_files(path_dots, hyb_start=0,hyb_end=11,num_HybCycle = 12,\n",
    "                  pos = 1, channel=4, num_z = 2, opt_files = True)"
   ]
  },
  {
   "cell_type": "markdown",
   "metadata": {},
   "source": [
    "# Check if there are weird dropouts in a certain hyb for each threshold"
   ]
  },
  {
   "cell_type": "code",
   "execution_count": null,
   "metadata": {},
   "outputs": [],
   "source": [
    "import pandas as pd\n",
    "import matplotlib.pyplot as plt\n",
    "import numpy as np\n",
    "import seaborn as sns"
   ]
  },
  {
   "cell_type": "code",
   "execution_count": null,
   "metadata": {},
   "outputs": [],
   "source": [
    "#collect arrays\n",
    "channel = 4\n",
    "comb_dots_list = []\n",
    "for i in range(11):\n",
    "    path = f\"/groups/CaiLab/personal/Lex/raw/112221_20kdash_3t3/notebook_pyfiles/dots_comb/Channel_{channel}/MMStack_Pos1/Threshold_{i}/Dot_Locations/locations_z_0.csv\"\n",
    "    arr1  = pd.read_csv(path)\n",
    "    comb_dots_list.append(arr1)"
   ]
  },
  {
   "cell_type": "code",
   "execution_count": null,
   "metadata": {},
   "outputs": [],
   "source": [
    "final_counts = []\n",
    "for df in comb_dots_list:\n",
    "    dots_per_hyb = []\n",
    "    for i in df[\"hyb\"].unique():\n",
    "        dots_per_hyb.append(len(df[df[\"hyb\"]==i]))\n",
    "    final_counts.append(dots_per_hyb)"
   ]
  },
  {
   "cell_type": "code",
   "execution_count": null,
   "metadata": {},
   "outputs": [],
   "source": [
    "#generate subplot canvas\n",
    "x = 4\n",
    "fig, ax = plt.subplots(x, x, figsize=(8,10), sharex = True, constrained_layout=True)\n",
    "fig.text(0.5, 0.2, 'HybCycles', ha='center')\n",
    "fig.text(-0.03, 0.6, 'Total Counts', va='center', rotation='vertical')\n",
    "i = 0\n",
    "\n",
    "#fill subplots\n",
    "for row in ax:\n",
    "    for col in row:\n",
    "        try:\n",
    "            #generate scatter plot of gene\n",
    "            col.bar(x=np.arange(1,len(final_counts[i])+1,1) ,height=final_counts[i])\n",
    "            sns.despine()\n",
    "            col.set_title(f\"Threshold {i}\")\n",
    "        except IndexError:\n",
    "            col.remove()\n",
    "        i += 1\n",
    "plt.show()"
   ]
  },
  {
   "cell_type": "markdown",
   "metadata": {},
   "source": [
    "# Combine threshold channels (for dash)"
   ]
  },
  {
   "cell_type": "code",
   "execution_count": null,
   "metadata": {},
   "outputs": [],
   "source": [
    "channel = [1,2,3,4]\n",
    "z = 1\n",
    "df_list = []\n",
    "for i in range(11):\n",
    "    thresh_df = []\n",
    "    for c in channel:\n",
    "        paths = f\"/groups/CaiLab/personal/Lex/raw/112221_20kdash_3t3/notebook_pyfiles/dots_comb/Channel_{c}/MMStack_Pos1/Threshold_{i}/Dot_Locations/locations_z_{z}.csv\"\n",
    "        df = pd.read_csv(paths)\n",
    "        thresh_df.append(df)\n",
    "    df_comb = pd.concat(thresh_df)\n",
    "    df_list.append(df_comb)"
   ]
  },
  {
   "cell_type": "code",
   "execution_count": null,
   "metadata": {},
   "outputs": [],
   "source": [
    "from pathlib import Path\n",
    "\n",
    "for i in range(len(df_list)):\n",
    "    df = df_list[i].reset_index(drop=True)\n",
    "    path = Path(f\"/groups/CaiLab/personal/Lex/raw/112221_20kdash_3t3/notebook_pyfiles/dots_comb/channels_combined_nodecon/Threshold_{i}\")\n",
    "    path.mkdir(parents=True,exist_ok=True)\n",
    "    output = path / f\"locations_z_{z}.csv\"\n",
    "    df.to_csv(str(output))"
   ]
  },
  {
   "cell_type": "code",
   "execution_count": null,
   "metadata": {},
   "outputs": [],
   "source": [
    "import pandas as pd\n",
    "df = pd.read_csv(\"../../dots_comb/channels_combined_nodecon/Threshold_0/locations_z_1.csv\")"
   ]
  },
  {
   "cell_type": "code",
   "execution_count": null,
   "metadata": {},
   "outputs": [],
   "source": [
    "df"
   ]
  },
  {
   "cell_type": "code",
   "execution_count": null,
   "metadata": {},
   "outputs": [],
   "source": []
  }
 ],
 "metadata": {
  "kernelspec": {
   "display_name": "Python3.7",
   "language": "python",
   "name": "python3.7"
  },
  "language_info": {
   "codemirror_mode": {
    "name": "ipython",
    "version": 3
   },
   "file_extension": ".py",
   "mimetype": "text/x-python",
   "name": "python",
   "nbconvert_exporter": "python",
   "pygments_lexer": "ipython3",
   "version": "3.7.0"
  }
 },
 "nbformat": 4,
 "nbformat_minor": 2
}
