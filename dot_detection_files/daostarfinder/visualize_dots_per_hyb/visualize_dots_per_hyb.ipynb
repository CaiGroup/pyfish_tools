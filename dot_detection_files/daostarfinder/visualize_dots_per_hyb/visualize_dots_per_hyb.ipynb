{
 "cells": [
  {
   "cell_type": "markdown",
   "metadata": {},
   "source": [
    "# Visualize dots per hyb"
   ]
  },
  {
   "cell_type": "code",
   "execution_count": null,
   "metadata": {},
   "outputs": [],
   "source": [
    "#import custom function\n",
    "from visualize_dots_per_hyb import *"
   ]
  },
  {
   "cell_type": "markdown",
   "metadata": {},
   "source": [
    "## Find general area"
   ]
  },
  {
   "cell_type": "code",
   "execution_count": null,
   "metadata": {},
   "outputs": [],
   "source": [
    "#read in locations file\n",
    "pos=0\n",
    "hyb=0\n",
    "locations = pd.read_csv(f\"/groups/CaiLab/personal/Lex/raw/150genes_040122/notebook_pyfiles/dots_comb/final_thresh2/Channel_1/MMStack_Pos{pos}/locations_z_0.csv\")\n",
    "location_slice = locations[locations[\"hyb\"]==hyb]"
   ]
  },
  {
   "cell_type": "code",
   "execution_count": null,
   "metadata": {},
   "outputs": [],
   "source": [
    "# find good slice\n",
    "img_raw = f\"/groups/CaiLab/personal/Lex/raw/150genes_040122/notebook_pyfiles/dapi_aligned/fiducial_aligned/HybCycle_{hyb}/MMStack_Pos{pos}.ome.tif\"\n",
    "plot_3d_locs_on_2d_image(location_slice, channel=0, raw_src = img_raw, zmax=3000)"
   ]
  },
  {
   "cell_type": "markdown",
   "metadata": {},
   "source": [
    "# Look at area across all hybs"
   ]
  },
  {
   "cell_type": "code",
   "execution_count": null,
   "metadata": {},
   "outputs": [],
   "source": [
    "#which position\n",
    "pos = 0 \n",
    "\n",
    "#general path\n",
    "img_paths = glob(f\"/groups/CaiLab/personal/Lex/raw/150genes_040122/notebook_pyfiles/dapi_aligned/fiducial_aligned/HybCycle_*/MMStack_Pos{pos}.ome.tif\")\n",
    "\n",
    "#sort hybcycles\n",
    "key = [int(re.search(f'HybCycle_(\\\\d+)', str(f)).group(1)) for f in img_paths]\n",
    "img_src_list = list(np.array(img_paths)[np.argsort(key)])"
   ]
  },
  {
   "cell_type": "code",
   "execution_count": null,
   "metadata": {},
   "outputs": [],
   "source": [
    "#first 5\n",
    "img_src_list[:5]"
   ]
  },
  {
   "cell_type": "code",
   "execution_count": null,
   "metadata": {},
   "outputs": [],
   "source": [
    "#which channel\n",
    "ch = 1\n",
    "#which z\n",
    "z = 0\n",
    "\n",
    "#file paths\n",
    "location_file = f\"/groups/CaiLab/personal/Lex/raw/150genes_040122/notebook_pyfiles/dots_comb/final-thresh0/Channel_{ch}/MMStack_Pos{pos}/locations_z_{z}.csv\"\n",
    "\n",
    "#plot all\n",
    "#add filename if you want to save output into png (ex. \"name.png\")\n",
    "plot_dots_all_hybs(img_src_list, location_file, z=z,ch=ch,\n",
    "                   xrange=(650,850),yrange=(850,1050),\n",
    "                   num_hybs=24, vmax=0.5, filename=None)"
   ]
  }
 ],
 "metadata": {
  "kernelspec": {
   "display_name": "Python3.7",
   "language": "python",
   "name": "python3.7"
  },
  "language_info": {
   "codemirror_mode": {
    "name": "ipython",
    "version": 3
   },
   "file_extension": ".py",
   "mimetype": "text/x-python",
   "name": "python",
   "nbconvert_exporter": "python",
   "pygments_lexer": "ipython3",
   "version": "3.7.0"
  }
 },
 "nbformat": 4,
 "nbformat_minor": 2
}
