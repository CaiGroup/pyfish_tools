{
 "cells": [
  {
   "cell_type": "code",
   "execution_count": 1,
   "metadata": {},
   "outputs": [],
   "source": [
    "import pandas as pd\n",
    "import numpy as np\n",
    "import glob \n",
    "from pathlib import Path\n",
    "from tqdm import tqdm\n",
    "#package for getting file paths conveniently \n",
    "from webfish_tools.util import find_matching_files"
   ]
  },
  {
   "cell_type": "code",
   "execution_count": 2,
   "metadata": {},
   "outputs": [],
   "source": [
    "def org_adcg_dot(dot_path, hybcycle_start=0,hybcycle_end=96,pos=0,num_z=1, output=True):\n",
    "    \"\"\"A function to combine the adcg dot file ouput\n",
    "    Parameters\n",
    "    ----------\n",
    "    dot_path=path to dot folder\n",
    "    hybcycle_start = hybcycle number begins\n",
    "    hybcycle_end = when the hybcycle ends\n",
    "    pos = the position number\n",
    "    num_z = number of z\n",
    "    output = boolean on whether to write or return the new df\n",
    "    \"\"\"\n",
    "    #get paths for specific position in dots_detected file\n",
    "    paths = []\n",
    "    directory = Path(dot_path)\n",
    "    for i in np.arange(hybcycle_start,hybcycle_end,1):\n",
    "        adj_path = directory / f\"HybCycle_{i}\"\n",
    "        csv_list = list(adj_path.glob(f'MMStack_Pos{pos}_zslice_*_channel_*.csv'))\n",
    "        paths.append(csv_list)\n",
    "    #flatten nested list\n",
    "    pos_list = [str(item) for sublist in paths for item in sublist]\n",
    "    \n",
    "    #read in csvs\n",
    "    df_list = []\n",
    "    for path in pos_list:\n",
    "        df = pd.read_csv(path)\n",
    "        hybcycle = int(Path(path).parent.name.replace(\"HybCycle_\",\"\"))\n",
    "        filename = path.split(\"/\")[-1]\n",
    "        split_filename = filename.split(\"_\")\n",
    "        zslice = int(split_filename[3])\n",
    "        channel = int(split_filename[-1].replace(\".csv\",\"\"))\n",
    "        df[\"ch\"] = channel\n",
    "        df[\"z\"] = zslice \n",
    "        df[\"hyb\"] = hybcycle\n",
    "        df=df[[\"hyb\",\"ch\",\"x\",\"y\",\"z\",\"s\",\"w\"]]\n",
    "        df.columns = [\"hyb\",\"ch\",\"x\",\"y\",\"z\",\"size\",\"w\"]\n",
    "        #julia indexing starts from 1, so we need to subtract 1 for python purposes\n",
    "        df[[\"x\",\"y\"]] = df[[\"x\",\"y\"]] - 1 \n",
    "        df_list.append(df)\n",
    "    final_df = pd.concat(df_list)\n",
    "    final_df = final_df.reset_index(drop=True)\n",
    "    \n",
    "    if output == True:\n",
    "        parent_dir = Path(path).parent.parent.parent\n",
    "        outputfolder = parent_dir / \"dots_comb\" /f\"Pos_{pos}\"\n",
    "        outputfolder.mkdir(parents=True,exist_ok=True)\n",
    "        for z in range(num_z):\n",
    "            final_df_z = final_df[final_df[\"z\"]==z]\n",
    "            output_path = outputfolder/f\"locations_z_{z}.csv\"\n",
    "            final_df_z.to_csv(output_path)\n",
    "    else:\n",
    "        return final_df"
   ]
  },
  {
   "cell_type": "code",
   "execution_count": 3,
   "metadata": {},
   "outputs": [],
   "source": [
    "dot_path = \"/groups/CaiLab/personal/Lex/raw/Linus_10k_cleared_080918_NIH3T3/notebook_pyfiles/dots_detected/ADCG/\"\n",
    "org_adcg_dot(dot_path, hybcycle_start=0,hybcycle_end=79,pos=0,num_z=2,output=True)"
   ]
  },
  {
   "cell_type": "code",
   "execution_count": null,
   "metadata": {},
   "outputs": [],
   "source": []
  }
 ],
 "metadata": {
  "kernelspec": {
   "display_name": "Python (Base Conda)",
   "language": "python",
   "name": "condabase"
  },
  "language_info": {
   "codemirror_mode": {
    "name": "ipython",
    "version": 3
   },
   "file_extension": ".py",
   "mimetype": "text/x-python",
   "name": "python",
   "nbconvert_exporter": "python",
   "pygments_lexer": "ipython3",
   "version": "3.8.5"
  }
 },
 "nbformat": 4,
 "nbformat_minor": 2
}
