{
 "cells": [
  {
   "cell_type": "code",
   "execution_count": null,
   "metadata": {},
   "outputs": [],
   "source": [
    "import tifffile as tf\n",
    "import numpy as np\n",
    "from pathlib import Path\n",
    "import pandas as pd\n",
    "from webfish_tools.util import find_matching_files"
   ]
  },
  {
   "cell_type": "code",
   "execution_count": null,
   "metadata": {},
   "outputs": [],
   "source": [
    "import plotly.express as px\n",
    "import plotly.graph_objects as go\n",
    "import numpy as np\n",
    "\n",
    "def plot_2d_locs_on_2d_image(df_locs_2d_1, df_locs_2d_2, img_2d,add_trace = True, zmax=1000):\n",
    "    \n",
    "    #For Plotting 2d image\n",
    "    #-------------------------------------------\n",
    "    fig = px.imshow(\n",
    "        img_2d,\n",
    "        width=700,\n",
    "        height=700,\n",
    "        binary_string=True,\n",
    "        binary_compression_level=4,\n",
    "        binary_backend='pil',\n",
    "        zmax = zmax\n",
    "    )\n",
    "    #-------------------------------------------\n",
    "    \n",
    "    #For Plotting 2d dots\n",
    "    #-------------------------------------------\n",
    "    fig.add_trace(go.Scattergl(\n",
    "        x=df_locs_2d_1.x,\n",
    "        y=df_locs_2d_1.y,\n",
    "        mode='markers',\n",
    "        marker_symbol='cross',\n",
    "        marker=dict(\n",
    "            #maxdisplayed=1000,\n",
    "            size=4\n",
    "            ),\n",
    "        name = \"Gaussian\"\n",
    "        )\n",
    "    )\n",
    "    if add_trace == True:\n",
    "        fig.add_trace(go.Scattergl(\n",
    "            x=df_locs_2d_2.x,\n",
    "            y=df_locs_2d_2.y,\n",
    "            mode='markers',\n",
    "            marker_symbol='cross',\n",
    "            marker=dict(\n",
    "                #maxdisplayed=1000,\n",
    "                size=4\n",
    "                ),\n",
    "            name = \"LoG\"\n",
    "            )\n",
    "        )\n",
    "    #-------------------------------------------\n",
    "    \n",
    "    fig.show()\n",
    "    \n",
    "def plot_3d_locs_on_2d_image(df_tiff_1, df_tiff_2, tiff, channel, \n",
    "                             raw_src = None, raw_image = False,\n",
    "                             add_trace = True,swap_axes=True, zmax=10):\n",
    "    \n",
    "    if raw_image == False:\n",
    "        if len(tiff.shape) == 3:\n",
    "            if add_trace == False:\n",
    "                plot_2d_locs_on_2d_image(df_tiff_1, None, tiff[channel], zmax=zmax, add_trace=add_trace)\n",
    "            else:\n",
    "                plot_2d_locs_on_2d_image(df_tiff_1, df_tiff_2, tiff[channel],add_trace=add_trace, zmax=zmax)\n",
    "        else:\n",
    "        #PLot All Z's that had dot detection\n",
    "        #-------------------------------------------\n",
    "            for z in range(len(tiff[:,channel])):\n",
    "                if add_trace == False:\n",
    "                    df_locs_2d_1 = df_tiff_1[(df_tiff_1.z > z-1) & (df_tiff_1.z < z+1)]\n",
    "                    plot_2d_locs_on_2d_image(df_locs_2d_1, None, tiff[z, channel], zmax=zmax, add_trace=add_trace)\n",
    "                else:\n",
    "                    df_locs_2d_1 = df_tiff_1[(df_tiff_1.z > z-1) & (df_tiff_1.z < z+1)]\n",
    "                    df_locs_2d_2= df_tiff_2[(df_tiff_2.z > z-1) & (df_tiff_2.z < z+1)]\n",
    "                    plot_2d_locs_on_2d_image(df_locs_2d_1,df_locs_2d_2, tiff[z, channel],add_trace=add_trace, zmax=zmax)\n",
    "    else:\n",
    "        #read raw image\n",
    "        tiff = tf.imread(raw_src)\n",
    "        if swap_axes==True:\n",
    "            tiff = np.swapaxes(tiff,0,1)\n",
    "        print(\"shape =\", tiff.shape)\n",
    "        #plot\n",
    "        if len(tiff.shape)==3:\n",
    "            if add_trace == False:\n",
    "                plot_2d_locs_on_2d_image(df_tiff_1, None, tiff[channel], zmax=zmax, add_trace=add_trace)\n",
    "            else:\n",
    "                plot_2d_locs_on_2d_image(df_tiff_1, df_tiff_2, tiff[channel],add_trace=add_trace, zmax=zmax)\n",
    "        else:\n",
    "            for z in range(len(tiff[:,channel])):\n",
    "                if add_trace == False:\n",
    "                    df_locs_2d_1 = df_tiff_1[(df_tiff_1.z > z-1) & (df_tiff_1.z < z+1)]\n",
    "                    plot_2d_locs_on_2d_image(df_locs_2d_1,None, tiff[z, channel], zmax=zmax, add_trace=add_trace)\n",
    "                else:\n",
    "                    df_locs_2d_1 = df_tiff_1[(df_tiff_1.z > z-1) & (df_tiff_1.z < z+1)]\n",
    "                    df_locs_2d_2= df_tiff_2[(df_tiff_2.z > z-1) & (df_tiff_2.z < z+1)]\n",
    "                    plot_2d_locs_on_2d_image(df_locs_2d_1,df_locs_2d_2, tiff[z, channel],add_trace=add_trace, zmax=zmax)"
   ]
  },
  {
   "cell_type": "code",
   "execution_count": null,
   "metadata": {},
   "outputs": [],
   "source": [
    "#read in adcg dots\n",
    "df = pd.read_csv(\"/groups/CaiLab/personal/Lex/raw/Linus_10k_cleared_080918_NIH3T3/notebook_pyfiles/dots_detected/ADCG/HybCycle_0/MMStack_Pos0_zslice_0_channel_1.csv\")"
   ]
  },
  {
   "cell_type": "code",
   "execution_count": null,
   "metadata": {},
   "outputs": [],
   "source": [
    "df[\"z\"]=0\n",
    "df[\"x\"] = df[\"x\"]-1\n",
    "df[\"y\"] = df[\"y\"]-1"
   ]
  },
  {
   "cell_type": "code",
   "execution_count": null,
   "metadata": {},
   "outputs": [],
   "source": [
    "# hyb = 0\n",
    "# ch = 1 \n",
    "# df_hyb = df[(df[\"hyb\"]==hyb) & (df[\"ch\"] == ch)]"
   ]
  },
  {
   "cell_type": "code",
   "execution_count": null,
   "metadata": {},
   "outputs": [],
   "source": [
    "# df_hyb"
   ]
  },
  {
   "cell_type": "code",
   "execution_count": null,
   "metadata": {},
   "outputs": [],
   "source": [
    "hyb = 0\n",
    "pos = 0\n",
    "img_raw = f'/groups/CaiLab/personal/Lex/raw/Linus_10k_cleared_080918_NIH3T3/notebook_pyfiles/dapi_aligned/fiducial_aligned/HybCycle_{hyb}/MMStack_Pos{pos}.ome.tif'\n",
    "plot_3d_locs_on_2d_image(df,None, tiff=None, channel=0, raw_src = img_raw, \n",
    "                         raw_image = True, add_trace=False, swap_axes = False, zmax=2000)"
   ]
  },
  {
   "cell_type": "code",
   "execution_count": null,
   "metadata": {},
   "outputs": [],
   "source": [
    "# hyb = 0\n",
    "# pos = 2\n",
    "# img_src = f'/groups/CaiLab/personal/Lex/raw/576_readout_screen/100621_576readout_screen/notebook_pyfiles/pre_processed_images/HybCycle_{hyb}/MMStack_Pos{pos}.tif'\n",
    "# tiff = tf.imread(img_src)\n",
    "# plot_3d_locs_on_2d_image(df_hyb,None, tiff=tiff, channel=1, \n",
    "#                          raw_src = img_raw, raw_image = False,add_trace=False, zmax=1000)"
   ]
  },
  {
   "cell_type": "code",
   "execution_count": null,
   "metadata": {},
   "outputs": [],
   "source": []
  }
 ],
 "metadata": {
  "kernelspec": {
   "display_name": "Python 3",
   "language": "python",
   "name": "python3"
  },
  "language_info": {
   "codemirror_mode": {
    "name": "ipython",
    "version": 3
   },
   "file_extension": ".py",
   "mimetype": "text/x-python",
   "name": "python",
   "nbconvert_exporter": "python",
   "pygments_lexer": "ipython3",
   "version": "3.8.5"
  }
 },
 "nbformat": 4,
 "nbformat_minor": 2
}
