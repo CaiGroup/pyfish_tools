{
 "cells": [
  {
   "cell_type": "markdown",
   "metadata": {},
   "source": [
    "# Quick lipofuscin, autofluorescent spot and fiducial removal"
   ]
  },
  {
   "cell_type": "code",
   "execution_count": 11,
   "metadata": {},
   "outputs": [],
   "source": [
    "#general analysis packages\n",
    "import glob\n",
    "from pathlib import Path\n",
    "import numpy as np\n",
    "import pandas as pd\n",
    "from sklearn.neighbors import NearestNeighbors\n",
    "from tqdm import tqdm\n",
    "\n",
    "def find_probable_noise(df1, df2, radius=0.5):\n",
    "    \"\"\"\n",
    "    Performs nearest neighbor search provided a given search radius.\n",
    "    If the nearest neighbor has a euclidean pixel distance <= radius then the dots are colocalizing.\n",
    "\n",
    "    Parameters\n",
    "    ----------\n",
    "    df1 = first set of dots\n",
    "    df2 = second set of dots\n",
    "    radius = search radius\n",
    "    \"\"\"\n",
    "    \n",
    "    #reset index for df just in case\n",
    "    df1 = df1.reset_index(drop=True)\n",
    "    df2 = df2.reset_index(drop=True)\n",
    "    \n",
    "    #using sklearn nearest neighbor algorithm to find nearest dots\n",
    "    #initialize algorithm\n",
    "    neigh = NearestNeighbors(n_neighbors=2, radius=radius, metric=\"euclidean\", n_jobs=1)\n",
    "    \n",
    "    #initialize neighbor\n",
    "    initial_seed = df1[[\"x\",\"y\"]]\n",
    "    #find neighbors for df1\n",
    "    neigh.fit(df2[[\"x\",\"y\"]])\n",
    "    distances,neighbors = neigh.radius_neighbors(initial_seed, radius, return_distance=True, sort_results=True)\n",
    "    \n",
    "    #nearest neighbor dot\n",
    "    neighbors_flattened = []\n",
    "    for i in range(len(neighbors)):\n",
    "        try:\n",
    "            if len(neighbors[i]) > 3:\n",
    "                neighbors_flattened.append([i,neighbors[i]])\n",
    "        except IndexError:\n",
    "            continue\n",
    "    if len(neighbors_flattened) == 0:\n",
    "        return None\n",
    "    else:\n",
    "        return np.array(neighbors_flattened, dtype=object)[:,0]\n",
    "\n",
    "def remove_noise_across_channel_encoding(path, radius = 0.5, total_hybs = 20, total_rounds = 5):\n",
    "    all_files = glob.glob(path)\n",
    "    all_hybs = np.arange(0,total_hybs,1)\n",
    "    hybs_per_round = int(total_hybs/total_rounds)\n",
    "    rounds = []\n",
    "    k = 0\n",
    "    for _ in range(total_rounds):\n",
    "        rounds.append(all_hybs[k:k+hybs_per_round]) \n",
    "        k += hybs_per_round\n",
    "\n",
    "    for file in tqdm(all_files):\n",
    "        filename = Path(file).name\n",
    "        output_path = str(Path(file).parent / f\"noise_removed_{filename}\")\n",
    "        df = pd.read_csv(file)\n",
    "        new_df = []\n",
    "        for barcode_round in rounds:\n",
    "            df_hyb = df[df.hyb.isin(barcode_round)].reset_index(drop=True)\n",
    "            #any spots in same barcoding round within 0.5 pixels is probably just noise\n",
    "            remove = find_probable_noise(df_hyb, df_hyb, radius=radius)\n",
    "            if type(remove) != type(None):\n",
    "                lipo_removed = df_hyb.drop(remove)\n",
    "                new_df.append(lipo_removed)\n",
    "            else:\n",
    "                new_df.append(df_hyb)\n",
    "        new_df = pd.concat(new_df).reset_index(drop=True)\n",
    "        new_df.to_csv(output_path)"
   ]
  },
  {
   "cell_type": "code",
   "execution_count": 12,
   "metadata": {},
   "outputs": [
    {
     "name": "stderr",
     "output_type": "stream",
     "text": [
      "100%|██████████| 523/523 [1:00:14<00:00,  6.91s/it]\n"
     ]
    }
   ],
   "source": [
    "path = \"/groups/CaiLab/personal/Lex/raw/230608_4k_inv_5bs/pyfish_tools/output/dots_detected/Channel_All/*/locations_z_*\"\n",
    "remove_noise_across_channel_encoding(path, radius = 0.5, total_hybs = 20, total_rounds = 5)"
   ]
  }
 ],
 "metadata": {
  "kernelspec": {
   "display_name": "Python3.7",
   "language": "python",
   "name": "python3.7"
  },
  "language_info": {
   "codemirror_mode": {
    "name": "ipython",
    "version": 3
   },
   "file_extension": ".py",
   "mimetype": "text/x-python",
   "name": "python",
   "nbconvert_exporter": "python",
   "pygments_lexer": "ipython3",
   "version": "3.7.0"
  }
 },
 "nbformat": 4,
 "nbformat_minor": 2
}
