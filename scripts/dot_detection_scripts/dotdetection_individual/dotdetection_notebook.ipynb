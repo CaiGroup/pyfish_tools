{
 "cells": [
  {
   "cell_type": "markdown",
   "metadata": {},
   "source": [
    "# Dot detection using DAOStarFinder"
   ]
  },
  {
   "cell_type": "code",
   "execution_count": 1,
   "metadata": {},
   "outputs": [],
   "source": [
    "#custom function\n",
    "from daostarfinder_dotdetection import *\n",
    "from util import pil_imread\n",
    "#enhance figure display\n",
    "%config InlineBackend.figure_format = 'retina'"
   ]
  },
  {
   "cell_type": "code",
   "execution_count": null,
   "metadata": {},
   "outputs": [],
   "source": [
    "import plotly.express as px\n",
    "import plotly.graph_objects as go\n",
    "import numpy as np\n",
    "\n",
    "def plot_2d_locs_on_2d_image(df_locs_2d_1, df_locs_2d_2, img_2d,add_trace = True, zmax=1000):\n",
    "    \n",
    "    #For Plotting 2d image\n",
    "    #-------------------------------------------\n",
    "    fig = px.imshow(\n",
    "        img_2d,\n",
    "        width=700,\n",
    "        height=700,\n",
    "        binary_string=True,\n",
    "        binary_compression_level=4,\n",
    "        binary_backend='pil',\n",
    "        zmax = zmax\n",
    "    )\n",
    "    #-------------------------------------------\n",
    "    \n",
    "    #For Plotting 2d dots\n",
    "    #-------------------------------------------\n",
    "    fig.add_trace(go.Scattergl(\n",
    "        x=df_locs_2d_1.x,\n",
    "        y=df_locs_2d_1.y,\n",
    "        mode='markers',\n",
    "        marker_symbol='cross',\n",
    "        marker=dict(\n",
    "            #maxdisplayed=1000,\n",
    "            size=4\n",
    "            ),\n",
    "        )\n",
    "    )\n",
    "    if add_trace == True:\n",
    "        fig.add_trace(go.Scattergl(\n",
    "            x=df_locs_2d_2.x,\n",
    "            y=df_locs_2d_2.y,\n",
    "            mode='markers',\n",
    "            marker_symbol='cross',\n",
    "            marker=dict(\n",
    "                #maxdisplayed=1000,\n",
    "                size=4\n",
    "                ),\n",
    "            )\n",
    "        )\n",
    "    #-------------------------------------------\n",
    "    \n",
    "    fig.show()\n",
    "    \n",
    "def plot_3d_locs_on_2d_image(df_tiff_1, df_tiff_2, tiff, channel, \n",
    "                             raw_src = None, raw_image = False, add_trace = True, zmax=10):\n",
    "    \n",
    "    if raw_image == False:\n",
    "\n",
    "        #PLot All Z's that had dot detection\n",
    "        #-------------------------------------------\n",
    "        for z in range(len(tiff[:,channel-1])):\n",
    "            if add_trace == False:\n",
    "                df_locs_2d_1 = df_tiff_1[(df_tiff_1.z > z-1) & (df_tiff_1.z < z+1)]\n",
    "                plot_2d_locs_on_2d_image(df_locs_2d_1, None, tiff[z, channel-1], zmax=zmax, add_trace=add_trace)\n",
    "            else:\n",
    "                df_locs_2d_1 = df_tiff_1[(df_tiff_1.z > z-1) & (df_tiff_1.z < z+1)]\n",
    "                df_locs_2d_2= df_tiff_2[(df_tiff_2.z > z-1) & (df_tiff_2.z < z+1)]\n",
    "                plot_2d_locs_on_2d_image(df_locs_2d_1,df_locs_2d_2, tiff[z, channel-1],add_trace=add_trace, zmax=zmax)\n",
    "    else:\n",
    "        #read raw image\n",
    "        tiff = tf.imread(raw_src)\n",
    "        if len(tiff.shape) == 3:\n",
    "            tiff = tiff.reshape(1,tiff.shape[0],tiff.shape[1],tiff.shape[2])\n",
    "        print(\"shape =\", tiff.shape)\n",
    "        #plot\n",
    "        for z in range(len(tiff[:,channel-1])):\n",
    "            if add_trace == False:\n",
    "                df_locs_2d_1 = df_tiff_1[(df_tiff_1.z > z-1) & (df_tiff_1.z < z+1)]\n",
    "                plot_2d_locs_on_2d_image(df_locs_2d_1,None, tiff[z, channel-1], zmax=zmax, add_trace=add_trace)\n",
    "            else:\n",
    "                df_locs_2d_1 = df_tiff_1[(df_tiff_1.z > z-1) & (df_tiff_1.z < z+1)]\n",
    "                df_locs_2d_2= df_tiff_2[(df_tiff_2.z > z-1) & (df_tiff_2.z < z+1)]\n",
    "                plot_2d_locs_on_2d_image(df_locs_2d_1,df_locs_2d_2, tiff[z, channel-1],add_trace=add_trace, zmax=zmax)"
   ]
  },
  {
   "cell_type": "code",
   "execution_count": null,
   "metadata": {},
   "outputs": [],
   "source": [
    "import time\n",
    "#start time\n",
    "start = time.time()\n",
    "hyb = 0\n",
    "pos = 0\n",
    "#image sources\n",
    "img_src = f\"/groups/CaiLab/personal/Lex/raw/052922_4kgene/notebook_pyfiles/pre_processed_images/HybCycle_{hyb}/MMStack_Pos{pos}.ome.tif\"\n",
    "img_raw = f'/groups/CaiLab/personal/Lex/raw/052922_4kgene/notebook_pyfiles/dapi_aligned/fiducial_aligned/HybCycle_{hyb}/MMStack_Pos{pos}.ome.tif'\n",
    "raw_src=None\n",
    "\n",
    "#img_src: path to image\n",
    "#HybCycle: which hybcycle are we looking at\n",
    "#size_cutoff: number of standard deviation away from mean size area\n",
    "#threshold: absolute pixel intensity the spot must be greater than\n",
    "#channel: which channel you want to analyze\n",
    "\n",
    "dots = dot_detection(img_src, HybCycle=hyb, size_cutoff=4, threshold=0.01,channel=1, num_channels=4)\n",
    "print(f\"This task took {(time.time() - start)/60} minutes\")"
   ]
  },
  {
   "cell_type": "code",
   "execution_count": null,
   "metadata": {},
   "outputs": [],
   "source": [
    "# plot dots on top of image\n",
    "plot_3d_locs_on_2d_image(dots,None, tiff=None, channel=1, raw_src = img_raw, \n",
    "                         raw_image = True, add_trace=False, zmax=5000)"
   ]
  },
  {
   "cell_type": "code",
   "execution_count": null,
   "metadata": {},
   "outputs": [],
   "source": [
    "# plot dots on top of image\n",
    "tiff = pil_imread(img_src, swapaxes=True)\n",
    "plot_3d_locs_on_2d_image(dots,None, tiff=tiff, channel=1, raw_src = None, \n",
    "                         raw_image = False, add_trace=False, zmax=0.1)"
   ]
  },
  {
   "cell_type": "markdown",
   "metadata": {},
   "source": [
    "# Quick colocalization check"
   ]
  },
  {
   "cell_type": "markdown",
   "metadata": {},
   "source": [
    "For colocalization between 1st and last hyb. Use the \"hyb_coloc\" scripts in colocalization_files. The necessary batch files are there for analyzing multiple channels and pos in parallel."
   ]
  }
 ],
 "metadata": {
  "kernelspec": {
   "display_name": "Python3.7",
   "language": "python",
   "name": "python3.7"
  },
  "language_info": {
   "codemirror_mode": {
    "name": "ipython",
    "version": 3
   },
   "file_extension": ".py",
   "mimetype": "text/x-python",
   "name": "python",
   "nbconvert_exporter": "python",
   "pygments_lexer": "ipython3",
   "version": "3.7.0"
  }
 },
 "nbformat": 4,
 "nbformat_minor": 2
}
