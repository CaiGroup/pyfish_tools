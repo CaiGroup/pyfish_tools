{
 "cells": [
  {
   "cell_type": "code",
   "execution_count": null,
   "metadata": {},
   "outputs": [],
   "source": [
    "#data management and custom functions\n",
    "from pathlib import Path\n",
    "from util import pil_imread\n",
    "import tifffile as tf\n",
    "from chromatic_aberration_correction import *\n",
    "#plotting packages\n",
    "import matplotlib.pyplot as plt\n",
    "import plotly.express as px\n",
    "import plotly.graph_objects as go"
   ]
  },
  {
   "cell_type": "markdown",
   "metadata": {},
   "source": [
    "# Max project each channel if desired before running chromatic aberration correction."
   ]
  },
  {
   "cell_type": "code",
   "execution_count": null,
   "metadata": {},
   "outputs": [],
   "source": [
    "from pathlib import Path\n",
    "#read in corrected images\n",
    "num_pos = 66\n",
    "hyb_num = 9\n",
    "for pos in range(num_pos):\n",
    "    for hyb in range(hyb_num):\n",
    "        src = f\"/groups/CaiLab/personal/Lex/raw/090222_150genes_acrosschannel_3t3/notebook_pyfiles/z_matched_images/HybCycle_{hyb}/MMStack_Pos{pos}.ome.tif\"\n",
    "        try:\n",
    "            img = pil_imread(src,swapaxes=False)\n",
    "        except:\n",
    "            print(f\"missing Hyb{hyb} Pos{pos}\")\n",
    "            continue\n",
    "        img = np.max(img,axis=0)\n",
    "        output_dir = Path(src).parent.parent.parent\n",
    "        output_dir = output_dir / \"max_projected\"\n",
    "        img_name = Path(src).name\n",
    "        hyb = Path(src).parent.name\n",
    "        output_path = output_dir / hyb / img_name\n",
    "        output_path.parent.mkdir(parents=True, exist_ok=True)\n",
    "        tf.imwrite(str(output_path), img)"
   ]
  },
  {
   "cell_type": "markdown",
   "metadata": {},
   "source": [
    "# Path to ref image for testing"
   ]
  },
  {
   "cell_type": "code",
   "execution_count": null,
   "metadata": {},
   "outputs": [],
   "source": [
    "tiff_src = \"/groups/CaiLab/personal/Lex/raw/Ratio_metric_repeat/notebook_pyfiles/max_projected/EEF2_ratiometric_Rlvl6_Llvl2_premixed_730,640,561,488,405_2000,200,300,400,400_Pos2.ome.tif\""
   ]
  },
  {
   "cell_type": "markdown",
   "metadata": {},
   "source": [
    "# Get offsets and corrected image"
   ]
  },
  {
   "cell_type": "code",
   "execution_count": null,
   "metadata": {
    "scrolled": true
   },
   "outputs": [],
   "source": [
    "import time\n",
    "start = time.time()\n",
    "transformed_image, error, tform = chromatic_corr_offsets(tiff_src, threshold_abs=500,\n",
    "                                                         max_dist=2, ransac_threshold = 1, swapaxes=True)\n",
    "print(f\"This task took {(time.time()-start)/60} min\")"
   ]
  },
  {
   "cell_type": "code",
   "execution_count": null,
   "metadata": {},
   "outputs": [],
   "source": [
    "#alignment error\n",
    "error"
   ]
  },
  {
   "cell_type": "code",
   "execution_count": null,
   "metadata": {},
   "outputs": [],
   "source": [
    "#look at transformation matrix\n",
    "tform"
   ]
  },
  {
   "cell_type": "markdown",
   "metadata": {},
   "source": [
    "# Compare corrected and original image"
   ]
  },
  {
   "cell_type": "code",
   "execution_count": null,
   "metadata": {},
   "outputs": [],
   "source": [
    "def plot_2d_image(img_2d, zmax=1000, animation = True):\n",
    "    \n",
    "    if animation == True:   \n",
    "    #For Plotting 2d image\n",
    "        #-------------------------------------------\n",
    "        fig = px.imshow(\n",
    "            img_2d,\n",
    "            width=700,\n",
    "            height=700,\n",
    "            binary_string=True,\n",
    "            binary_compression_level=4,\n",
    "            binary_backend='pil',\n",
    "            zmax = zmax,\n",
    "            animation_frame=0\n",
    "        )\n",
    "        #-------------------------------------------\n",
    "\n",
    "        fig.show()\n",
    "    else:\n",
    "        #For Plotting 2d image\n",
    "        #-------------------------------------------\n",
    "        fig = px.imshow(\n",
    "            img_2d,\n",
    "            width=700,\n",
    "            height=700,\n",
    "            binary_string=True,\n",
    "            binary_compression_level=4,\n",
    "            binary_backend='pil',\n",
    "            zmax = zmax,\n",
    "        )\n",
    "        #-------------------------------------------\n",
    "\n",
    "        fig.show()"
   ]
  },
  {
   "cell_type": "code",
   "execution_count": null,
   "metadata": {},
   "outputs": [],
   "source": [
    "#read in images\n",
    "original = pil_imread(tiff_src, swapaxes=True)\n",
    "original_max= np.max(original, axis=0)\n",
    "transformed_max = np.max(transformed_image,axis=0)"
   ]
  },
  {
   "cell_type": "code",
   "execution_count": null,
   "metadata": {},
   "outputs": [],
   "source": [
    "#original\n",
    "plot_2d_image(original_max, zmax=4000, animation = True)"
   ]
  },
  {
   "cell_type": "code",
   "execution_count": null,
   "metadata": {},
   "outputs": [],
   "source": [
    "#corrected\n",
    "plot_2d_image(transformed_max, zmax=4000, animation = True)"
   ]
  },
  {
   "cell_type": "markdown",
   "metadata": {},
   "source": [
    "# Check average error"
   ]
  },
  {
   "cell_type": "code",
   "execution_count": null,
   "metadata": {},
   "outputs": [],
   "source": [
    "poss = np.arange(0,60,1)\n",
    "error_list = []\n",
    "for pos in poss:\n",
    "    src = f\"/groups/CaiLab/personal/Lex/raw/020822_erna_dash_tf/chromatic_aberration/MMStack_Pos{pos}_error.txt\"\n",
    "    error = pd.read_csv(src, sep = \" \", header=None)\n",
    "    error_list.append(error)"
   ]
  },
  {
   "cell_type": "code",
   "execution_count": null,
   "metadata": {},
   "outputs": [],
   "source": [
    "comb_error = pd.concat(error_list)\n",
    "comb_error.columns = [\"channel\", \"percent improvement\", \"fwhm\"]"
   ]
  },
  {
   "cell_type": "code",
   "execution_count": null,
   "metadata": {},
   "outputs": [],
   "source": [
    "comb_error.groupby(\"channel\").mean()"
   ]
  },
  {
   "cell_type": "code",
   "execution_count": null,
   "metadata": {},
   "outputs": [],
   "source": [
    "comb_error.groupby(\"channel\").std()"
   ]
  }
 ],
 "metadata": {
  "kernelspec": {
   "display_name": "Python3.7",
   "language": "python",
   "name": "python3.7"
  },
  "language_info": {
   "codemirror_mode": {
    "name": "ipython",
    "version": 3
   },
   "file_extension": ".py",
   "mimetype": "text/x-python",
   "name": "python",
   "nbconvert_exporter": "python",
   "pygments_lexer": "ipython3",
   "version": "3.7.0"
  }
 },
 "nbformat": 4,
 "nbformat_minor": 2
}
