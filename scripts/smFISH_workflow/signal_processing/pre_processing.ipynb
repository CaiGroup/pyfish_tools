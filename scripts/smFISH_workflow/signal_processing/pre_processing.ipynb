{
 "cells": [
  {
   "cell_type": "code",
   "execution_count": 1,
   "metadata": {},
   "outputs": [],
   "source": [
    "#general analysis packages\n",
    "import numpy as np\n",
    "#directory management\n",
    "import os\n",
    "#plotting packages\n",
    "import matplotlib.pyplot as plt\n",
    "import plotly.express as px\n",
    "#image reading\n",
    "import tifffile as tf\n",
    "from util import pil_imread\n",
    "#import custom functions\n",
    "from pre_processing import *"
   ]
  },
  {
   "cell_type": "code",
   "execution_count": 2,
   "metadata": {},
   "outputs": [],
   "source": [
    "def plot_2d_image(img_2d, zmax):\n",
    "    \n",
    "    #For Plotting 2d image\n",
    "    #-------------------------------------------\n",
    "    fig = px.imshow(\n",
    "        img_2d,\n",
    "        width=700,\n",
    "        height=700,\n",
    "        binary_string=True,\n",
    "        binary_compression_level=4,\n",
    "        binary_backend='pil',\n",
    "        zmax = zmax,\n",
    "        animation_frame=0\n",
    "    )\n",
    "    \n",
    "    fig.show()"
   ]
  },
  {
   "cell_type": "markdown",
   "metadata": {},
   "source": [
    "# Load image"
   ]
  },
  {
   "cell_type": "code",
   "execution_count": 5,
   "metadata": {},
   "outputs": [],
   "source": [
    "gen_path =\"/path/to/data\"\n",
    "tiff = pil_imread(gen_path + \"/HybCycle_1/MMStack_Pos1.ome.tif\", swapaxes=True)\n",
    "\n",
    "# gen_path = \"/path/to/data/final_background\"\n",
    "# tiff_bkgrd = pil_imread(gen_path + \"/MMStack_Pos0.ome.tif\", swapaxes=True)"
   ]
  },
  {
   "cell_type": "code",
   "execution_count": 6,
   "metadata": {},
   "outputs": [
    {
     "data": {
      "text/plain": [
       "(1, 4, 2048, 2048)"
      ]
     },
     "execution_count": 6,
     "metadata": {},
     "output_type": "execute_result"
    }
   ],
   "source": [
    "tiff.shape"
   ]
  },
  {
   "cell_type": "code",
   "execution_count": null,
   "metadata": {},
   "outputs": [],
   "source": [
    "#check hyb image\n",
    "plot_2d_image(tiff[0], zmax=5000)"
   ]
  },
  {
   "cell_type": "markdown",
   "metadata": {},
   "source": [
    "# Background Correction"
   ]
  },
  {
   "cell_type": "code",
   "execution_count": null,
   "metadata": {},
   "outputs": [],
   "source": [
    "# stack = raw image\n",
    "# correction_algo = SigmaClipping_and_Gamma_C,Gaussian_and_Gamma_Correction, and LSR_Backgound_Correction\n",
    "# stack_bkgrd = initial or final background image array\n",
    "# z = number of z slices\n",
    "# kern = kernel size for high pass gaussian\n",
    "# size = image size\n",
    "# gamma = gamma enhancment values\n",
    "# sigma = sigma value for gaussian blurring\n",
    "# match_hist = bool to match histograms of blurred image\n",
    "# subtract = bool to subtract blurred image from raw (this works better if divide is set to false)\n",
    "# divide = bool to divide blurred image from raw\n",
    "# tophat_raw = bool to perform tophat on raw image before any other preprocessing steps\n",
    "\n",
    "corrected = background_correct_image(stack = tiff, correction_algo = Gaussian_and_Gamma_Correction, \n",
    "                                     stack_bkgrd=None, kern=7,\n",
    "                                     gamma=1.0, sigma=10,match_hist =False, \n",
    "                                     subtract=True, divide=False, tophat_raw=False)"
   ]
  },
  {
   "cell_type": "code",
   "execution_count": null,
   "metadata": {},
   "outputs": [],
   "source": [
    "corrected.shape"
   ]
  },
  {
   "cell_type": "code",
   "execution_count": null,
   "metadata": {},
   "outputs": [],
   "source": [
    "plot_2d_image(corrected[0], zmax=5000)"
   ]
  },
  {
   "cell_type": "markdown",
   "metadata": {},
   "source": [
    "# RL Deconvolution"
   ]
  },
  {
   "cell_type": "code",
   "execution_count": null,
   "metadata": {},
   "outputs": [],
   "source": [
    "# #good old Lucy\n",
    "# #lb for leica boss and boc for box of chocolates\n",
    "# rl_img_hpgb, psf = RL_deconvolution(corrected[:,:4,:,:], kern_rl=5, sigma=(1.8,1.6,1.5,1.3), \n",
    "#                    radius=(4,4,4,4), model=\"gaussian\", microscope = \"lb\")"
   ]
  },
  {
   "cell_type": "code",
   "execution_count": null,
   "metadata": {},
   "outputs": [],
   "source": [
    "# #deconvolved using a gaussian psf\n",
    "# plot_2d_image(rl_img_hpgb[0], zmax=4000)"
   ]
  },
  {
   "cell_type": "code",
   "execution_count": null,
   "metadata": {},
   "outputs": [],
   "source": [
    "# #good old Lucy\n",
    "# #lb for leica boss and boc for box of chocolates\n",
    "# rl_img_hpgb, psf = RL_deconvolution(corrected[:,:4,:,:], kern_rl=5, sigma=(1.8,1.6,1.5,1.3), \n",
    "#                    radius=(3,3,3,3), model=\"airy_disc\", microscope = \"lb\")"
   ]
  },
  {
   "cell_type": "code",
   "execution_count": null,
   "metadata": {},
   "outputs": [],
   "source": [
    "# #deconvolved using an airy disc psf\n",
    "# plot_2d_image(rl_img_hpgb[0], zmax=1000)"
   ]
  },
  {
   "cell_type": "code",
   "execution_count": null,
   "metadata": {},
   "outputs": [],
   "source": [
    "# #compare with non deconvolved\n",
    "# plot_2d_image(corrected[0], zmax=800)"
   ]
  },
  {
   "cell_type": "markdown",
   "metadata": {},
   "source": [
    "# Rolling Ball Subtraction"
   ]
  },
  {
   "cell_type": "code",
   "execution_count": null,
   "metadata": {},
   "outputs": [],
   "source": [
    "#do you want to do rolling ball\n",
    "rollingball = True\n",
    "rb_radius = 5\n",
    "corr_img = corrected \n",
    "\n",
    "#perform rolling ball\n",
    "if rollingball == True:\n",
    "    img_stack = []\n",
    "    for z in range(corr_img.shape[0]):\n",
    "        c_stack = []\n",
    "        for c in range(corr_img.shape[1]):\n",
    "            background = restoration.rolling_ball(corr_img[z][c], radius=rb_radius)\n",
    "            rb_img = corr_img[z][c]-background\n",
    "            rb_img[rb_img<0]=0\n",
    "            c_stack.append(rb_img)\n",
    "        img_stack.append(c_stack)\n",
    "    corr_img = np.array(img_stack)"
   ]
  },
  {
   "cell_type": "code",
   "execution_count": null,
   "metadata": {},
   "outputs": [],
   "source": [
    "corr_img.shape"
   ]
  },
  {
   "cell_type": "code",
   "execution_count": null,
   "metadata": {},
   "outputs": [],
   "source": [
    "plot_2d_image(corr_img[0], zmax=300)"
   ]
  },
  {
   "cell_type": "markdown",
   "metadata": {},
   "source": [
    "# Low Pass Gaussian"
   ]
  },
  {
   "cell_type": "code",
   "execution_count": null,
   "metadata": {},
   "outputs": [],
   "source": [
    "#lpgf\n",
    "img_lpgb = low_pass_gaussian(corrected, kern = 3)"
   ]
  },
  {
   "cell_type": "code",
   "execution_count": null,
   "metadata": {},
   "outputs": [],
   "source": [
    "plot_2d_image(img_lpgb[1], zmax=300)"
   ]
  },
  {
   "cell_type": "markdown",
   "metadata": {},
   "source": [
    "# Normalize Intensity"
   ]
  },
  {
   "cell_type": "code",
   "execution_count": null,
   "metadata": {},
   "outputs": [],
   "source": [
    "#normalize int (80-99.99 or 90-99.999, see which is better for you)\n",
    "scaled_img = scale_int(img_lpgb, p_min=80,p_max=99.999)"
   ]
  },
  {
   "cell_type": "code",
   "execution_count": null,
   "metadata": {},
   "outputs": [],
   "source": [
    "plot_2d_image(scaled_img[0], zmax=0.3)"
   ]
  },
  {
   "cell_type": "code",
   "execution_count": null,
   "metadata": {},
   "outputs": [],
   "source": [
    "#check hyb image\n",
    "plot_2d_image(tiff[0], zmax=10000)"
   ]
  }
 ],
 "metadata": {
  "kernelspec": {
   "display_name": "Python 3",
   "language": "python",
   "name": "python3"
  },
  "language_info": {
   "codemirror_mode": {
    "name": "ipython",
    "version": 3
   },
   "file_extension": ".py",
   "mimetype": "text/x-python",
   "name": "python",
   "nbconvert_exporter": "python",
   "pygments_lexer": "ipython3",
   "version": "3.7.0"
  }
 },
 "nbformat": 4,
 "nbformat_minor": 2
}
