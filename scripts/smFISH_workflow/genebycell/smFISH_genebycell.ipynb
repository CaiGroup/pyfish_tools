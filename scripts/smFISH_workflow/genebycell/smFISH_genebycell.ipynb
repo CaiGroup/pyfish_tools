{
 "cells": [
  {
   "cell_type": "markdown",
   "metadata": {},
   "source": [
    "## Notebook for obtaining smFISH gene-by-cell"
   ]
  },
  {
   "cell_type": "code",
   "execution_count": null,
   "metadata": {},
   "outputs": [],
   "source": [
    "#general packages\n",
    "import pandas as pd\n",
    "import numpy as np\n",
    "from pathlib import Path\n",
    "from glob import glob\n",
    "import tifffile as tf\n",
    "from skimage.measure import regionprops"
   ]
  },
  {
   "cell_type": "markdown",
   "metadata": {},
   "source": [
    "## Identify z with most spots detected. Make sure spots are already matched to respective z-slice."
   ]
  },
  {
   "cell_type": "code",
   "execution_count": null,
   "metadata": {},
   "outputs": [],
   "source": [
    "#read in spots for channel 1\n",
    "channel_1_best = []\n",
    "\n",
    "for pos in range(55):\n",
    "    spot_paths = glob(f\"/groups/CaiLab/personal/Lex/raw/230810_43genes_smfish/pyfish_tools/output/dots_detected/Channel_1/spots_in_cells/Pos{pos}/*\")\n",
    "    counts = []\n",
    "    if spot_paths == []:\n",
    "        continue\n",
    "    for path in spot_paths:\n",
    "        counts.append(len(pd.read_csv(path)))\n",
    "    highest_counts = np.argmax(counts)\n",
    "    channel_1_best.append(spot_paths[highest_counts])"
   ]
  },
  {
   "cell_type": "code",
   "execution_count": null,
   "metadata": {},
   "outputs": [],
   "source": [
    "#read in spots for channel 2\n",
    "channel_2_best = []\n",
    "\n",
    "for pos in range(55):\n",
    "    spot_paths = glob(f\"/groups/CaiLab/personal/Lex/raw/230810_43genes_smfish/pyfish_tools/output/dots_detected/Channel_2/spots_in_cells/Pos{pos}/*\")\n",
    "    counts = []\n",
    "    if spot_paths == []:\n",
    "        continue\n",
    "    for path in spot_paths:\n",
    "        counts.append(len(pd.read_csv(path)))\n",
    "    highest_counts = np.argmax(counts)\n",
    "    channel_2_best.append(spot_paths[highest_counts])"
   ]
  },
  {
   "cell_type": "markdown",
   "metadata": {},
   "source": [
    "## Convert mapped spots to actual gene names"
   ]
  },
  {
   "cell_type": "code",
   "execution_count": null,
   "metadata": {},
   "outputs": [],
   "source": [
    "#combine channels\n",
    "channel_all = channel_1_best + channel_2_best"
   ]
  },
  {
   "cell_type": "code",
   "execution_count": null,
   "metadata": {},
   "outputs": [],
   "source": [
    "#read in csvs and attach cell and pos id\n",
    "all_df = []\n",
    "for path in channel_all:\n",
    "    #grab pos \n",
    "    pos = Path(path).parent.name\n",
    "    df = pd.read_csv(path).iloc[:,1:]\n",
    "    z = df.z[0]\n",
    "    df[\"cell id\"] = \"cell_\" + df[\"cell number\"].astype(str).values+ f\"_{pos}_z{int(z)}\"\n",
    "    all_df.append(df)"
   ]
  },
  {
   "cell_type": "code",
   "execution_count": null,
   "metadata": {},
   "outputs": [],
   "source": [
    "#concat dfs\n",
    "all_df = pd.concat(all_df).reset_index(drop=True)"
   ]
  },
  {
   "cell_type": "code",
   "execution_count": null,
   "metadata": {},
   "outputs": [],
   "source": [
    "#read in codebook\n",
    "codebook = pd.read_csv(\"/groups/CaiLab/personal/Lex/raw/230810_43genes_smfish/barcode_key/smfish_key.csv\")"
   ]
  },
  {
   "cell_type": "code",
   "execution_count": null,
   "metadata": {},
   "outputs": [],
   "source": [
    "#remove useless hybs and channels\n",
    "all_df = all_df[all_df.hyb < 22].reset_index(drop=True)\n",
    "all_df = all_df[~((all_df.hyb == 21) & (all_df.ch == 2))].reset_index(drop=True)"
   ]
  },
  {
   "cell_type": "code",
   "execution_count": null,
   "metadata": {},
   "outputs": [],
   "source": [
    "#generate dictionary to convert channel and hyb info to \n",
    "codebook_map = {}\n",
    "for gene, hyb, channel in codebook.values:\n",
    "    codebook_map.update({(hyb,channel):gene})"
   ]
  },
  {
   "cell_type": "code",
   "execution_count": null,
   "metadata": {},
   "outputs": [],
   "source": [
    "#convert to gene names\n",
    "genes = []\n",
    "for hyb, ch in all_df[[\"hyb\", \"ch\"]].values.astype(int):\n",
    "    genes.append(codebook_map[(hyb,ch)])"
   ]
  },
  {
   "cell_type": "code",
   "execution_count": null,
   "metadata": {},
   "outputs": [],
   "source": [
    "#add in info\n",
    "all_df_new = all_df.iloc[:,2:]\n",
    "all_df_new.insert(0, \"Genes\", genes)"
   ]
  },
  {
   "cell_type": "markdown",
   "metadata": {},
   "source": [
    "## Final gene by cell"
   ]
  },
  {
   "cell_type": "code",
   "execution_count": null,
   "metadata": {},
   "outputs": [],
   "source": [
    "genebycell = pd.pivot_table(all_df_new, columns = [\"Genes\"], \n",
    "                            index=[\"cell id\"], aggfunc='size', fill_value=0)"
   ]
  },
  {
   "cell_type": "code",
   "execution_count": null,
   "metadata": {},
   "outputs": [],
   "source": [
    "genebycell"
   ]
  },
  {
   "cell_type": "markdown",
   "metadata": {},
   "source": [
    "There will be some zeros if different channels had more spots on different z's. Merge same cells until after cell size normalizing."
   ]
  },
  {
   "cell_type": "markdown",
   "metadata": {},
   "source": [
    "## Normalize smFISH counts by cell size."
   ]
  },
  {
   "cell_type": "code",
   "execution_count": null,
   "metadata": {},
   "outputs": [],
   "source": [
    "import tifffile as tf\n",
    "from skimage.measure import regionprops"
   ]
  },
  {
   "cell_type": "code",
   "execution_count": null,
   "metadata": {},
   "outputs": [],
   "source": [
    "#edges deleted masks directory\n",
    "mask_dir = Path(\"/groups/CaiLab/personal/Lex/raw/230810_43genes_smfish/pyfish_tools/output/edges_deleted/\")\n",
    "#obtain cell mask area\n",
    "cell_area = []\n",
    "for cell_id in genebycell.index:\n",
    "    pos_info = int(cell_id.split(\"_\")[2].replace(\"Pos\",\"\"))\n",
    "    cell_info = int(cell_id.split(\"_\")[1])\n",
    "    z_info = int(cell_id.split(\"_\")[-1].replace(\"z\",\"\"))\n",
    "    mask = tf.imread(str(mask_dir / f\"MMStack_Pos{pos_info}_z{z_info}.tif\"))\n",
    "    #get area per cell\n",
    "    area_per_cell = []\n",
    "    info = regionprops(mask)\n",
    "    for cell in info:\n",
    "        if cell_info == cell.label:\n",
    "            cell_area.append(cell.area)\n",
    "            break\n",
    "        else:\n",
    "            continue"
   ]
  },
  {
   "cell_type": "code",
   "execution_count": null,
   "metadata": {},
   "outputs": [],
   "source": [
    "#add cell area\n",
    "genebycell[\"cell_area_pixels\"] = cell_area"
   ]
  },
  {
   "cell_type": "code",
   "execution_count": null,
   "metadata": {},
   "outputs": [],
   "source": [
    "#divide all counts by cell area in pixels, then divide that value by actual pixel area in um\n",
    "genebycell_norm = genebycell.div(genebycell[\"cell_area_pixels\"].values, axis=0)/(0.108**2)\n",
    "genebycell_norm = genebycell_norm.iloc[:,:-1]"
   ]
  },
  {
   "cell_type": "code",
   "execution_count": null,
   "metadata": {},
   "outputs": [],
   "source": [
    "#grab all cell and pos id\n",
    "ids = genebycell_norm.index.str.split(\"_\").str[:-1].str.join(\"_\")"
   ]
  },
  {
   "cell_type": "code",
   "execution_count": null,
   "metadata": {},
   "outputs": [],
   "source": [
    "#merge z for same cells\n",
    "df_list = []\n",
    "for cell in np.unique(ids):\n",
    "    #of the two z's just return highest value in column\n",
    "    df = pd.DataFrame(genebycell_norm[genebycell_norm.index.str.startswith(cell)].max())\n",
    "    df.columns = [cell]\n",
    "    df_list.append(df.T)\n",
    "final_df = pd.concat(df_list)"
   ]
  },
  {
   "cell_type": "code",
   "execution_count": null,
   "metadata": {},
   "outputs": [],
   "source": [
    "#take a look\n",
    "final_df"
   ]
  },
  {
   "cell_type": "code",
   "execution_count": null,
   "metadata": {},
   "outputs": [],
   "source": [
    "final_df.to_csv(\"43gene_smfish_norm.csv\")"
   ]
  },
  {
   "cell_type": "code",
   "execution_count": null,
   "metadata": {},
   "outputs": [],
   "source": []
  }
 ],
 "metadata": {
  "kernelspec": {
   "display_name": "Python3.7",
   "language": "python",
   "name": "python3.7"
  },
  "language_info": {
   "codemirror_mode": {
    "name": "ipython",
    "version": 3
   },
   "file_extension": ".py",
   "mimetype": "text/x-python",
   "name": "python",
   "nbconvert_exporter": "python",
   "pygments_lexer": "ipython3",
   "version": "3.7.0"
  }
 },
 "nbformat": 4,
 "nbformat_minor": 2
}
