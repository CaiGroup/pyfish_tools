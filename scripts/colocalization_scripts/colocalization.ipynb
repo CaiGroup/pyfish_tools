{
 "cells": [
  {
   "cell_type": "code",
   "execution_count": 1,
   "metadata": {},
   "outputs": [],
   "source": [
    "#general packages\n",
    "import pandas as pd\n",
    "import numpy as np\n",
    "import tifffile as tf\n",
    "from tqdm import tqdm\n",
    "#import custom function\n",
    "from colocalization import colocalizing_dots"
   ]
  },
  {
   "cell_type": "code",
   "execution_count": 2,
   "metadata": {},
   "outputs": [],
   "source": [
    "import plotly.express as px\n",
    "import plotly.graph_objects as go\n",
    "import numpy as np\n",
    "\n",
    "def plot_2d_image(img_2d, df1, df2, zmax, add_trace = True):\n",
    "    \n",
    "    #For Plotting 2d image\n",
    "    #-------------------------------------------\n",
    "    fig = px.imshow(\n",
    "        img_2d,\n",
    "        width=600,\n",
    "        height=600,\n",
    "        binary_string=True,\n",
    "        binary_compression_level=4,\n",
    "        binary_backend='pil',\n",
    "        zmax = zmax,\n",
    "        #animation_frame=0\n",
    "    )\n",
    "    if add_trace==True:\n",
    "        fig.add_trace(go.Scattergl(\n",
    "            x=df1.x,\n",
    "            y=df1.y,\n",
    "            mode='markers',\n",
    "            marker_symbol='cross',\n",
    "            marker=dict(\n",
    "                #maxdisplayed=1000,\n",
    "                size=4\n",
    "                ),\n",
    "            name = \"first dot\"\n",
    "            ))\n",
    "        fig.add_trace(go.Scattergl(\n",
    "            x=df2.x,\n",
    "            y=df2.y,\n",
    "            mode='markers',\n",
    "            marker_symbol='cross',\n",
    "            marker=dict(\n",
    "                #maxdisplayed=1000,\n",
    "                size=4\n",
    "                ),\n",
    "            name = \"second dot\"\n",
    "            ))\n",
    "    fig.show()"
   ]
  },
  {
   "cell_type": "code",
   "execution_count": null,
   "metadata": {},
   "outputs": [],
   "source": [
    "#read in dots file\n",
    "pos = 0\n",
    "dot_src = f\"/groups/CaiLab/personal/Lex/raw/020422_20kdash_3t3/notebook_pyfiles/dots_detected/Pos{pos}/locations_z_0.csv\"\n",
    "dots_df = pd.read_csv(dot_src, index_col = 0)"
   ]
  },
  {
   "cell_type": "code",
   "execution_count": null,
   "metadata": {},
   "outputs": [],
   "source": [
    "#isolate channel and hyb you would like to compare\n",
    "dots_df1 = dots_df[(dots_df[\"hyb\"]==0)&(dots_df[\"ch\"]==1)]\n",
    "dots_df2 = dots_df[(dots_df[\"hyb\"]==12)&(dots_df[\"ch\"]==1)]\n",
    "\n",
    "eff, df = colocalizing_dots(dots_df1, dots_df2, radius=2, return_dots_not_coloc=False)"
   ]
  },
  {
   "cell_type": "code",
   "execution_count": null,
   "metadata": {},
   "outputs": [],
   "source": [
    "#read image for overlay\n",
    "hyb = 0\n",
    "pos = 0\n",
    "img_raw = f'/groups/CaiLab/personal/Lex/raw/020422_20kdash_3t3/notebook_pyfiles/aberration_corrected/HybCycle_{hyb}/MMStack_Pos{pos}.ome.tif'\n",
    "img = tf.imread(img_raw)"
   ]
  },
  {
   "cell_type": "code",
   "execution_count": null,
   "metadata": {},
   "outputs": [],
   "source": [
    "#look at shape\n",
    "img.shape"
   ]
  },
  {
   "cell_type": "code",
   "execution_count": null,
   "metadata": {
    "scrolled": true
   },
   "outputs": [],
   "source": [
    "#plot to see if the dots make sense\n",
    "plot_2d_image(img[0], df[0], df[1], zmax=3000, add_trace = True)"
   ]
  },
  {
   "cell_type": "code",
   "execution_count": null,
   "metadata": {},
   "outputs": [],
   "source": [
    "#read image for overlay\n",
    "hyb = 12\n",
    "pos = 0\n",
    "img_raw = f'/groups/CaiLab/personal/Lex/raw/020422_20kdash_3t3/notebook_pyfiles/aberration_corrected/HybCycle_{hyb}/MMStack_Pos{pos}.ome.tif'\n",
    "img = tf.imread(img_raw)"
   ]
  },
  {
   "cell_type": "code",
   "execution_count": null,
   "metadata": {},
   "outputs": [],
   "source": [
    "#plot to see if the dots make sense\n",
    "plot_2d_image(img[0], df[0], df[1], zmax=3000, add_trace = True)"
   ]
  },
  {
   "cell_type": "markdown",
   "metadata": {},
   "source": [
    "# Check efficiency for other channels and other pos"
   ]
  },
  {
   "cell_type": "code",
   "execution_count": null,
   "metadata": {
    "scrolled": true
   },
   "outputs": [],
   "source": [
    "#specifiy hybs\n",
    "hybs = [0,12]\n",
    "#specify channel comparions\n",
    "channels = [4,4]\n",
    "#list for efficiency\n",
    "eff_list = []\n",
    "for pos in tqdm(np.arange(0,15,1)):\n",
    "    #get specific position\n",
    "    dot_src = f\"/groups/CaiLab/personal/Lex/raw/020422_20kdash_3t3/notebook_pyfiles/dots_detected/Pos{pos}/locations_z_0.csv\"\n",
    "    #read in csv\n",
    "    try:\n",
    "        dots_df = pd.read_csv(dot_src, index_col = 0)\n",
    "    except FileNotFoundError:\n",
    "        continue\n",
    "    #isolate channel and hyb you would like to compare\n",
    "    dots_df1 = dots_df[(dots_df[\"hyb\"]==hybs[0])&(dots_df[\"ch\"]==channels[0])]\n",
    "    dots_df2 = dots_df[(dots_df[\"hyb\"]==hybs[1])&(dots_df[\"ch\"]==channels[1])]\n",
    "    #get efficiency\n",
    "    eff, _ = colocalizing_dots(dots_df1, dots_df2, radius=3.0)\n",
    "    eff_list.append([pos,eff])"
   ]
  },
  {
   "cell_type": "code",
   "execution_count": null,
   "metadata": {},
   "outputs": [],
   "source": [
    "np.mean(np.array(eff_list)[:,1])"
   ]
  },
  {
   "cell_type": "code",
   "execution_count": null,
   "metadata": {},
   "outputs": [],
   "source": [
    "#check pos 6\n",
    "pos = 4\n",
    "dot_src = f\"/groups/CaiLab/personal/Lex/raw/020422_20kdash_3t3/notebook_pyfiles/dots_detected/Pos{pos}/locations_z_0.csv\"\n",
    "dots_df = pd.read_csv(dot_src, index_col = 0)"
   ]
  },
  {
   "cell_type": "code",
   "execution_count": null,
   "metadata": {},
   "outputs": [],
   "source": [
    "#isolate channel and hyb you would like to compare\n",
    "dots_df1 = dots_df[(dots_df[\"hyb\"]==0)&(dots_df[\"ch\"]==1)]\n",
    "dots_df2 = dots_df[(dots_df[\"hyb\"]==12)&(dots_df[\"ch\"]==1)]\n",
    "\n",
    "eff, df = colocalizing_dots(dots_df1, dots_df2, radius=2)"
   ]
  },
  {
   "cell_type": "code",
   "execution_count": null,
   "metadata": {},
   "outputs": [],
   "source": [
    "#read image for overlay\n",
    "hyb = 12\n",
    "pos = 4\n",
    "img_raw = f'/groups/CaiLab/personal/Lex/raw/020422_20kdash_3t3/notebook_pyfiles/aberration_corrected/HybCycle_{hyb}/MMStack_Pos{pos}.ome.tif'\n",
    "img = tf.imread(img_raw)"
   ]
  },
  {
   "cell_type": "code",
   "execution_count": null,
   "metadata": {},
   "outputs": [],
   "source": [
    "#plot to see if the dots make sense\n",
    "plot_2d_image(img[0],df[0], df[1], zmax=3000, add_trace = True)"
   ]
  },
  {
   "cell_type": "markdown",
   "metadata": {},
   "source": [
    "# Dot displacement analysis"
   ]
  },
  {
   "cell_type": "code",
   "execution_count": null,
   "metadata": {},
   "outputs": [],
   "source": [
    "from localization_error import dot_displacement"
   ]
  },
  {
   "cell_type": "code",
   "execution_count": null,
   "metadata": {},
   "outputs": [],
   "source": [
    "#read in locations\n",
    "dots_df = pd.read_csv(\"/groups/CaiLab/personal/Lex/raw/020422_20kdash_3t3/notebook_pyfiles/dots_detected/Pos0/locations_z_0.csv\")"
   ]
  },
  {
   "cell_type": "code",
   "execution_count": null,
   "metadata": {},
   "outputs": [],
   "source": [
    "#isolate channel and hyb you would like to compare\n",
    "dots_df1 = dots_df[(dots_df[\"hyb\"]==0)&(dots_df[\"ch\"]==1)]\n",
    "dots_df2 = dots_df[(dots_df[\"hyb\"]==12)&(dots_df[\"ch\"]==1)]\n",
    "\n",
    "eff, df = colocalizing_dots(dots_df1, dots_df2, radius=2, return_dots_not_coloc=False)"
   ]
  },
  {
   "cell_type": "code",
   "execution_count": null,
   "metadata": {},
   "outputs": [],
   "source": [
    "displacement = dot_displacement(dots_df1, dots_df2, radius=2)"
   ]
  },
  {
   "cell_type": "code",
   "execution_count": null,
   "metadata": {},
   "outputs": [],
   "source": [
    "displacement "
   ]
  },
  {
   "cell_type": "markdown",
   "metadata": {},
   "source": [
    "# Colocalization output comparing 1st and last hyb"
   ]
  },
  {
   "cell_type": "code",
   "execution_count": 3,
   "metadata": {},
   "outputs": [],
   "source": [
    "import pandas as pd"
   ]
  },
  {
   "cell_type": "code",
   "execution_count": 4,
   "metadata": {},
   "outputs": [],
   "source": [
    "#read colocalization output and combine\n",
    "comb_df = []\n",
    "for ch in [1,2,3]:\n",
    "    df = pd.read_csv(f\"/groups/CaiLab/personal/Lex/raw/092222_150_nih_3t3/notebook_pyfiles/hyb_colocalization/hyb_coloc_channel_{ch}.csv\", index_col=0)\n",
    "    comb_df.append(df)\n",
    "comb_df = pd.concat(comb_df).reset_index(drop=True)"
   ]
  },
  {
   "cell_type": "code",
   "execution_count": 5,
   "metadata": {},
   "outputs": [],
   "source": [
    "#calculate mean for each channel grouped by radii\n",
    "mean_and_sem = []\n",
    "for ch in [1,2,3]:\n",
    "    mean = comb_df[comb_df[\"ch\"]==ch].groupby(\"radii\").mean().reset_index()[[\"radii\",\"ch\",\"eff\"]]\n",
    "    mean.columns = [\"radii\",\"ch\",\"mean eff\"]\n",
    "    sem = comb_df[comb_df[\"ch\"]==ch].groupby(\"radii\").sem().reset_index()[\"eff\"]\n",
    "    mean[\"sem eff\"] = sem.values\n",
    "    mean_and_sem.append(mean)\n",
    "final = pd.concat(mean_and_sem).reset_index(drop=True)"
   ]
  },
  {
   "cell_type": "code",
   "execution_count": 6,
   "metadata": {},
   "outputs": [
    {
     "data": {
      "text/html": [
       "<div>\n",
       "<style scoped>\n",
       "    .dataframe tbody tr th:only-of-type {\n",
       "        vertical-align: middle;\n",
       "    }\n",
       "\n",
       "    .dataframe tbody tr th {\n",
       "        vertical-align: top;\n",
       "    }\n",
       "\n",
       "    .dataframe thead th {\n",
       "        text-align: right;\n",
       "    }\n",
       "</style>\n",
       "<table border=\"1\" class=\"dataframe\">\n",
       "  <thead>\n",
       "    <tr style=\"text-align: right;\">\n",
       "      <th></th>\n",
       "      <th>radii</th>\n",
       "      <th>ch</th>\n",
       "      <th>mean eff</th>\n",
       "      <th>sem eff</th>\n",
       "    </tr>\n",
       "  </thead>\n",
       "  <tbody>\n",
       "    <tr>\n",
       "      <th>0</th>\n",
       "      <td>0.75</td>\n",
       "      <td>1</td>\n",
       "      <td>0.87876</td>\n",
       "      <td>0.024918</td>\n",
       "    </tr>\n",
       "    <tr>\n",
       "      <th>1</th>\n",
       "      <td>1.00</td>\n",
       "      <td>1</td>\n",
       "      <td>0.91124</td>\n",
       "      <td>0.017821</td>\n",
       "    </tr>\n",
       "    <tr>\n",
       "      <th>2</th>\n",
       "      <td>2.00</td>\n",
       "      <td>1</td>\n",
       "      <td>0.93772</td>\n",
       "      <td>0.004220</td>\n",
       "    </tr>\n",
       "    <tr>\n",
       "      <th>3</th>\n",
       "      <td>0.75</td>\n",
       "      <td>2</td>\n",
       "      <td>0.83500</td>\n",
       "      <td>0.016403</td>\n",
       "    </tr>\n",
       "    <tr>\n",
       "      <th>4</th>\n",
       "      <td>1.00</td>\n",
       "      <td>2</td>\n",
       "      <td>0.88020</td>\n",
       "      <td>0.008256</td>\n",
       "    </tr>\n",
       "    <tr>\n",
       "      <th>5</th>\n",
       "      <td>2.00</td>\n",
       "      <td>2</td>\n",
       "      <td>0.90032</td>\n",
       "      <td>0.006127</td>\n",
       "    </tr>\n",
       "    <tr>\n",
       "      <th>6</th>\n",
       "      <td>0.75</td>\n",
       "      <td>3</td>\n",
       "      <td>0.85288</td>\n",
       "      <td>0.019205</td>\n",
       "    </tr>\n",
       "    <tr>\n",
       "      <th>7</th>\n",
       "      <td>1.00</td>\n",
       "      <td>3</td>\n",
       "      <td>0.91104</td>\n",
       "      <td>0.008649</td>\n",
       "    </tr>\n",
       "    <tr>\n",
       "      <th>8</th>\n",
       "      <td>2.00</td>\n",
       "      <td>3</td>\n",
       "      <td>0.93788</td>\n",
       "      <td>0.004421</td>\n",
       "    </tr>\n",
       "  </tbody>\n",
       "</table>\n",
       "</div>"
      ],
      "text/plain": [
       "   radii  ch  mean eff   sem eff\n",
       "0   0.75   1   0.87876  0.024918\n",
       "1   1.00   1   0.91124  0.017821\n",
       "2   2.00   1   0.93772  0.004220\n",
       "3   0.75   2   0.83500  0.016403\n",
       "4   1.00   2   0.88020  0.008256\n",
       "5   2.00   2   0.90032  0.006127\n",
       "6   0.75   3   0.85288  0.019205\n",
       "7   1.00   3   0.91104  0.008649\n",
       "8   2.00   3   0.93788  0.004421"
      ]
     },
     "execution_count": 6,
     "metadata": {},
     "output_type": "execute_result"
    }
   ],
   "source": [
    "final"
   ]
  }
 ],
 "metadata": {
  "kernelspec": {
   "display_name": "Python3.7",
   "language": "python",
   "name": "python3.7"
  },
  "language_info": {
   "codemirror_mode": {
    "name": "ipython",
    "version": 3
   },
   "file_extension": ".py",
   "mimetype": "text/x-python",
   "name": "python",
   "nbconvert_exporter": "python",
   "pygments_lexer": "ipython3",
   "version": "3.7.0"
  }
 },
 "nbformat": 4,
 "nbformat_minor": 2
}
