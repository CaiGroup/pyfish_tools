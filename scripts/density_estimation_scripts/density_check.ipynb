{
 "cells": [
  {
   "cell_type": "markdown",
   "metadata": {},
   "source": [
    "# Checking density"
   ]
  },
  {
   "cell_type": "code",
   "execution_count": null,
   "metadata": {},
   "outputs": [],
   "source": [
    "#custom function\n",
    "from get_neighbor_counts import *\n",
    "from neighbor_search_within import *\n",
    "from neighbor_search_across import *\n",
    "from ecdf import ecdf\n",
    "#rgeneral packages\n",
    "import tifffile as tf\n",
    "import matplotlib.pyplot as plt\n",
    "#enhance figure display\n",
    "%config InlineBackend.figure_format = 'retina'"
   ]
  },
  {
   "cell_type": "code",
   "execution_count": null,
   "metadata": {},
   "outputs": [],
   "source": [
    "import plotly.express as px\n",
    "import plotly.graph_objects as go\n",
    "import numpy as np\n",
    "\n",
    "def plot_2d_locs_on_2d_image(df_locs_2d_1, df_locs_2d_2, img_2d,add_trace = True, zmax=1000):\n",
    "    \n",
    "    #For Plotting 2d image\n",
    "    #-------------------------------------------\n",
    "    fig = px.imshow(\n",
    "        img_2d,\n",
    "        width=700,\n",
    "        height=700,\n",
    "        binary_string=True,\n",
    "        binary_compression_level=4,\n",
    "        binary_backend='pil',\n",
    "        zmax = zmax\n",
    "    )\n",
    "    #-------------------------------------------\n",
    "    \n",
    "    #For Plotting 2d dots\n",
    "    #-------------------------------------------\n",
    "    fig.add_trace(go.Scattergl(\n",
    "        x=df_locs_2d_1.x,\n",
    "        y=df_locs_2d_1.y,\n",
    "        mode='markers',\n",
    "        marker_symbol='circle',\n",
    "        marker=dict(\n",
    "            #maxdisplayed=1000,\n",
    "            size=5, color = \"green\"\n",
    "            ),\n",
    "        name = \"Decoded\"\n",
    "        )\n",
    "    )\n",
    "    if add_trace == True:\n",
    "        fig.add_trace(go.Scattergl(\n",
    "            x=df_locs_2d_2.x,\n",
    "            y=df_locs_2d_2.y,\n",
    "            mode='markers',\n",
    "            marker_symbol='circle',\n",
    "            marker=dict(\n",
    "                #maxdisplayed=1000,\n",
    "                size=5, color = \"red\"\n",
    "                ),\n",
    "            name = \"Undecoded\"\n",
    "            )\n",
    "        )\n",
    "    #-------------------------------------------\n",
    "    \n",
    "    fig.show()\n",
    "    \n",
    "def plot_3d_locs_on_2d_image(df_tiff_1, df_tiff_2, tiff, channel, \n",
    "                             raw_src = None, raw_image = False, add_trace = True, zmax=10):\n",
    "    \n",
    "    if raw_image == False:\n",
    "\n",
    "        #PLot All Z's that had dot detection\n",
    "        #-------------------------------------------\n",
    "        for z in range(len(tiff[:,channel])):\n",
    "            if add_trace == False:\n",
    "                df_locs_2d_1 = df_tiff_1[(df_tiff_1.z > z-1) & (df_tiff_1.z < z+1)]\n",
    "                plot_2d_locs_on_2d_image(df_locs_2d_1, None, tiff[z, channel], zmax=zmax, add_trace=add_trace)\n",
    "            else:\n",
    "                df_locs_2d_1 = df_tiff_1[(df_tiff_1.z > z-1) & (df_tiff_1.z < z+1)]\n",
    "                df_locs_2d_2= df_tiff_2[(df_tiff_2.z > z-1) & (df_tiff_2.z < z+1)]\n",
    "                plot_2d_locs_on_2d_image(df_locs_2d_1,df_locs_2d_2, tiff[z, channel],add_trace=add_trace, zmax=zmax)\n",
    "    else:\n",
    "        #read raw image\n",
    "        tiff = tf.imread(raw_src)\n",
    "        if len(tiff.shape) == 3:\n",
    "            tiff = tiff.reshape(1,tiff.shape[0],tiff.shape[1],tiff.shape[2])\n",
    "        print(\"shape =\", tiff.shape)\n",
    "        #plot\n",
    "        for z in range(len(tiff[:,channel])):\n",
    "            if add_trace == False:\n",
    "                df_locs_2d_1 = df_tiff_1[(df_tiff_1.z > z-1) & (df_tiff_1.z < z+1)]\n",
    "                plot_2d_locs_on_2d_image(df_locs_2d_1,None, tiff[z, channel], zmax=zmax, add_trace=add_trace)\n",
    "            else:\n",
    "                df_locs_2d_1 = df_tiff_1[(df_tiff_1.z > z-1) & (df_tiff_1.z < z+1)]\n",
    "                df_locs_2d_2= df_tiff_2[(df_tiff_2.z > z-1) & (df_tiff_2.z < z+1)]\n",
    "                plot_2d_locs_on_2d_image(df_locs_2d_1,df_locs_2d_2, tiff[z, channel],add_trace=add_trace, zmax=zmax)"
   ]
  },
  {
   "cell_type": "markdown",
   "metadata": {},
   "source": [
    "# Density Visualization"
   ]
  },
  {
   "cell_type": "code",
   "execution_count": null,
   "metadata": {},
   "outputs": [],
   "source": [
    "def keep_dots_in_cells(mask, dot_locations):\n",
    "    \"\"\"\n",
    "    A function to remove any dots outside of mask\n",
    "    Parameter\n",
    "    ---------\n",
    "    mask = cellpose generated mask path\n",
    "    dot_locations = dot_locations path\n",
    "    \"\"\"\n",
    "    \n",
    "    #read in data\n",
    "    locations = pd.read_csv(dot_locations)\n",
    "    #cellpose mask outputs (c,y,x)\n",
    "    img = tf.imread(mask)\n",
    "    #get x and y coordinates\n",
    "    locations_xy = locations[[\"x\",\"y\"]].values.astype(int)\n",
    "    dot_info = []\n",
    "    #keep dots only in cells\n",
    "    for i in range(len(locations)):\n",
    "        x = locations_xy[i][0]\n",
    "        y = locations_xy[i][1]\n",
    "        if img[y,x] == 0:\n",
    "            continue\n",
    "        else:\n",
    "            cell = img[y,x]\n",
    "            dot_info.append([i,cell])\n",
    "            \n",
    "    dot_info = np.array(dot_info)\n",
    "    \n",
    "    #keep rows that have cells\n",
    "    dots_in_cells = locations.loc[dot_info[:,0]]\n",
    "    \n",
    "    #add cell info\n",
    "    dots_in_cells[\"cell number\"] = dot_info[:,1]\n",
    "    \n",
    "    return dots_in_cells"
   ]
  },
  {
   "cell_type": "code",
   "execution_count": null,
   "metadata": {},
   "outputs": [],
   "source": [
    "#read in files\n",
    "dots_used_locations = f\"\"\n",
    "dots_unused_locations = f\"\""
   ]
  },
  {
   "cell_type": "code",
   "execution_count": null,
   "metadata": {},
   "outputs": [],
   "source": [
    "#map dots\n",
    "mask = f\"\"\n",
    "dots_used = keep_dots_in_cells(mask, dots_used_locations)\n",
    "dots_unused = keep_dots_in_cells(mask, dots_unused_locations)"
   ]
  },
  {
   "cell_type": "code",
   "execution_count": null,
   "metadata": {},
   "outputs": [],
   "source": [
    "#check all rounds (could also isolate single round)\n",
    "dots_used_round = dots_used[dots_used[\"hyb\"]<18]\n",
    "dots_unused_round = dots_unused[dots_unused[\"hyb\"]<18]"
   ]
  },
  {
   "cell_type": "code",
   "execution_count": null,
   "metadata": {},
   "outputs": [],
   "source": [
    "#read in image\n",
    "img = tf.imread(f\"\")"
   ]
  },
  {
   "cell_type": "code",
   "execution_count": null,
   "metadata": {},
   "outputs": [],
   "source": [
    "#combine\n",
    "comb = pd.concat([dots_used_round, dots_unused_round])\n",
    "#sort\n",
    "comb = comb.sort_values(\"hyb\").reset_index(drop=True)"
   ]
  },
  {
   "cell_type": "code",
   "execution_count": null,
   "metadata": {},
   "outputs": [],
   "source": [
    "#take a look\n",
    "comb"
   ]
  },
  {
   "cell_type": "code",
   "execution_count": null,
   "metadata": {},
   "outputs": [],
   "source": [
    "#check each seed (0,1,2,3) or all\n",
    "counts, index = neighbor_counts(comb, hybs=18, num_barcodes=3, seed=\"all\", radius=1)\n",
    "comb[\"neighbors\"] = counts"
   ]
  },
  {
   "cell_type": "code",
   "execution_count": null,
   "metadata": {},
   "outputs": [],
   "source": [
    "def image_density(df_locs_2d, df_locs_2d_2, img_2d,add_trace = True, zmax=1000):\n",
    "    \n",
    "    #For Plotting 2d image\n",
    "    #-------------------------------------------\n",
    "    fig = px.imshow(\n",
    "        img_2d,\n",
    "        width=700,\n",
    "        height=700,\n",
    "        binary_string=True,\n",
    "        binary_compression_level=4,\n",
    "        binary_backend='pil',\n",
    "        zmax = zmax\n",
    "    )\n",
    "    #-------------------------------------------\n",
    "    \n",
    "    #For Plotting 2d dots\n",
    "    #-------------------------------------------\n",
    "    fig.add_trace(go.Scattergl(\n",
    "        x=df_locs_2d.x,\n",
    "        y=df_locs_2d.y,\n",
    "        mode='markers',\n",
    "        marker_symbol='circle',\n",
    "        marker=dict(\n",
    "            #maxdisplayed=1000,\n",
    "            size=5, color = comb[\"neighbors\"],  \n",
    "            colorscale=\"Viridis\", showscale=True\n",
    "            ),\n",
    "        name = \"Collapsed Dots\"\n",
    "        ))\n",
    "    \n",
    "    if add_trace == True:\n",
    "        fig.add_trace(go.Scattergl(\n",
    "            x=df_locs_2d_2.x,\n",
    "            y=df_locs_2d_2.y,\n",
    "            mode='markers',\n",
    "            marker_symbol='circle',\n",
    "            marker=dict(\n",
    "                #maxdisplayed=1000,\n",
    "                size=5, color=\"red\"\n",
    "                ),\n",
    "            name = \"fakes\"\n",
    "            ))\n",
    "        \n",
    "        fig.update_layout(legend=dict(\n",
    "        yanchor=\"top\",\n",
    "        y=0.99,\n",
    "        xanchor=\"left\",\n",
    "        x=0.01))\n",
    "    \n",
    "        \n",
    "    fig.show()\n",
    "    \n",
    "    "
   ]
  },
  {
   "cell_type": "code",
   "execution_count": null,
   "metadata": {},
   "outputs": [],
   "source": [
    "#read in gene locations file if you want to overlay on top of used dots\n",
    "genes = pd.read_csv(f\"\")"
   ]
  },
  {
   "cell_type": "code",
   "execution_count": null,
   "metadata": {},
   "outputs": [],
   "source": [
    "#isolate fakes\n",
    "fakes = genes[genes[\"genes\"].str.startswith(\"fake\")]"
   ]
  },
  {
   "cell_type": "code",
   "execution_count": null,
   "metadata": {},
   "outputs": [],
   "source": [
    "#take a look\n",
    "fakes"
   ]
  },
  {
   "cell_type": "code",
   "execution_count": null,
   "metadata": {
    "scrolled": true
   },
   "outputs": [],
   "source": [
    "#collapsed pseudocolors\n",
    "image_density(comb, df_locs_2d_2=None,  img_2d=img[0][2],add_trace = False, zmax=1000)"
   ]
  },
  {
   "cell_type": "code",
   "execution_count": null,
   "metadata": {},
   "outputs": [],
   "source": [
    "#collapsed pseudocolors and overlay fakes\n",
    "image_density(comb,fakes, img[0][2],add_trace = True, zmax=1000)"
   ]
  },
  {
   "cell_type": "code",
   "execution_count": null,
   "metadata": {
    "scrolled": true
   },
   "outputs": [],
   "source": [
    "#separate locations by barcoding round\n",
    "barcoding_round = []\n",
    "hybs=18\n",
    "locations=comb\n",
    "num_barcodes=3\n",
    "hyb_rounds = np.arange(0,hybs,1)\n",
    "temp = []\n",
    "for h in hyb_rounds:\n",
    "    if h == hyb_rounds[len(hyb_rounds)-1]:\n",
    "        barcode = locations[locations[\"hyb\"] == h]\n",
    "        temp.append(barcode)\n",
    "        comp_round = pd.concat(temp)\n",
    "        barcoding_round.append(comp_round) \n",
    "    elif (h % (hybs/num_barcodes) != 0) or (h == 0):\n",
    "        barcode = locations[locations[\"hyb\"] == h]\n",
    "        temp.append(barcode)\n",
    "    else:\n",
    "        comp_round = pd.concat(temp)\n",
    "        barcoding_round.append(comp_round)\n",
    "        temp = []\n",
    "        barcode = locations[locations[\"hyb\"] == h]\n",
    "        temp.append(barcode)"
   ]
  },
  {
   "cell_type": "code",
   "execution_count": null,
   "metadata": {},
   "outputs": [],
   "source": [
    "#take a look\n",
    "barcoding_round[0]"
   ]
  },
  {
   "cell_type": "code",
   "execution_count": null,
   "metadata": {},
   "outputs": [],
   "source": [
    "#plot each round and color code\n",
    "fig = px.imshow(\n",
    "    img[0][2],\n",
    "    width=700,\n",
    "    height=700,\n",
    "    binary_string=True,\n",
    "    binary_compression_level=4,\n",
    "    binary_backend='pil',\n",
    "    zmax = 1000\n",
    ")\n",
    "i=0\n",
    "color = [\"blue\",\"red\",\"green\",\"orange\"]\n",
    "round_label = [\"Round 1\", \"Round 2\", \"Round 3\", \"Round 4\"]\n",
    "for df in barcoding_round:\n",
    "    fig.add_trace(go.Scattergl(\n",
    "        x=df.x,\n",
    "        y=df.y,\n",
    "        mode='markers',\n",
    "        marker_symbol='circle',\n",
    "        marker=dict(\n",
    "            #maxdisplayed=1000,\n",
    "            size=5, color = color[i]\n",
    "            ),\n",
    "        name = round_label[i]\n",
    "        )\n",
    "    )\n",
    "    i += 1\n",
    "\n",
    "\n",
    "fig.show()"
   ]
  },
  {
   "cell_type": "markdown",
   "metadata": {},
   "source": [
    "# Density calculations"
   ]
  },
  {
   "cell_type": "code",
   "execution_count": null,
   "metadata": {},
   "outputs": [],
   "source": [
    "channel=4\n",
    "dots= f\"\"\n",
    "mask = f\"\"\n",
    "dots = keep_dots_in_cells(mask, dots)"
   ]
  },
  {
   "cell_type": "code",
   "execution_count": null,
   "metadata": {},
   "outputs": [],
   "source": [
    "dots=dots[[\"hyb\",\"ch\",\"x\",\"y\",\"z\",\"size\",\"peak intensity\",\"average intensity\"]]"
   ]
  },
  {
   "cell_type": "code",
   "execution_count": null,
   "metadata": {},
   "outputs": [],
   "source": [
    "#calculate number of neighbors with expanding search radius\n",
    "seeds= [0,1,2]\n",
    "radii = np.linspace(0.5,3,10)\n",
    "\n",
    "neighbor_list = []\n",
    "for seed in seeds:\n",
    "    for radius in radii:\n",
    "        neighbors = neighbor_search(dots, hybs=45, num_barcodes=3, seed=seed, radius=radius)\n",
    "        mean_neighbor = count_neighbors(neighbors)\n",
    "        neighbor_list.append([seed,mean_neighbor,radius])"
   ]
  },
  {
   "cell_type": "code",
   "execution_count": null,
   "metadata": {},
   "outputs": [],
   "source": [
    "#convert to df\n",
    "neighbor_df = pd.DataFrame(neighbor_list)"
   ]
  },
  {
   "cell_type": "code",
   "execution_count": null,
   "metadata": {},
   "outputs": [],
   "source": [
    "neighbor_df"
   ]
  },
  {
   "cell_type": "code",
   "execution_count": null,
   "metadata": {},
   "outputs": [],
   "source": [
    "#plot the average number of neighbors across rounds using different seeds with various radii\n",
    "for seed in neighbor_df[0].unique():\n",
    "    plt.plot(neighbor_df[neighbor_df[0]==seed][2],neighbor_df[neighbor_df[0]==seed][1], \n",
    "             label = f\"Seed {seed}\", linewidth=0.5)\n",
    "plt.legend()\n",
    "plt.xlabel(\"Radius in Pixels\")\n",
    "plt.ylabel(\"Average number of neighbors\")\n",
    "plt.show()"
   ]
  },
  {
   "cell_type": "code",
   "execution_count": null,
   "metadata": {},
   "outputs": [],
   "source": [
    "#perform various radius searches and calculate dot density\n",
    "neigh_list = []\n",
    "index_list = []\n",
    "radius_list = [0.5,1,1.5,2]\n",
    "for radius in radius_list:\n",
    "    neighbors,seed = neighbor_search_within(dots, hybs=45, num_barcodes=3, seed=0, radius=radius)\n",
    "    density,index = density_estimate(neighbors, radius=radius, average=False)\n",
    "    index_list.append(index)\n",
    "    neigh_list.append(density)"
   ]
  },
  {
   "cell_type": "code",
   "execution_count": null,
   "metadata": {},
   "outputs": [],
   "source": [
    "#combine dfs\n",
    "comb = pd.concat(neigh_list).reset_index(drop=True)"
   ]
  },
  {
   "cell_type": "code",
   "execution_count": null,
   "metadata": {},
   "outputs": [],
   "source": [
    "#plot distributions\n",
    "ecdf.plot(comb, label_column = \"radius\", val_column = \"number of neighbors/pixel\", \n",
    "          conf = False, color = [\"red\",\"blue\",\"green\",\"purple\",\"orange\"])\n",
    "plt.xlabel(\"# of neighbors/pixel\")\n",
    "plt.ylabel(\"ECDF\")\n",
    "plt.xlim(-0.05,2.5)\n",
    "plt.show()"
   ]
  },
  {
   "cell_type": "code",
   "execution_count": null,
   "metadata": {},
   "outputs": [],
   "source": [
    "#plot distributions\n",
    "ecdf.plot(comb, label_column = \"radius\", val_column = \"number of neighbors/pixel\", \n",
    "          conf = False, color = [\"red\",\"blue\",\"green\",\"purple\",\"orange\"])\n",
    "plt.xlabel(\"# of neighbors/pixel\")\n",
    "plt.ylabel(\"ECDF\")\n",
    "plt.show()"
   ]
  },
  {
   "cell_type": "code",
   "execution_count": null,
   "metadata": {},
   "outputs": [],
   "source": [
    "dots= pd.read_csv(f\"\")"
   ]
  },
  {
   "cell_type": "code",
   "execution_count": null,
   "metadata": {},
   "outputs": [],
   "source": [
    "cell_mask = tf.imread(mask)"
   ]
  },
  {
   "cell_type": "code",
   "execution_count": null,
   "metadata": {},
   "outputs": [],
   "source": [
    "len(dots[dots[\"hyb\"]<15])/(cell_mask>0).sum()"
   ]
  }
 ],
 "metadata": {
  "kernelspec": {
   "display_name": "Python3.7",
   "language": "python",
   "name": "python3.7"
  },
  "language_info": {
   "codemirror_mode": {
    "name": "ipython",
    "version": 3
   },
   "file_extension": ".py",
   "mimetype": "text/x-python",
   "name": "python",
   "nbconvert_exporter": "python",
   "pygments_lexer": "ipython3",
   "version": "3.7.0"
  }
 },
 "nbformat": 4,
 "nbformat_minor": 2
}
