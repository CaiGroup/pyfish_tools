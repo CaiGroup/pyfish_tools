{
 "cells": [
  {
   "cell_type": "markdown",
   "metadata": {},
   "source": [
    "# Mask Generation Notebook\n",
    "### by : Arun Chakravorty and Katsuya Colon"
   ]
  },
  {
   "cell_type": "code",
   "execution_count": null,
   "metadata": {},
   "outputs": [],
   "source": [
    "#import functions\n",
    "from cellpose_segmentation import *\n",
    "import nuclear_cyto_match as ncm\n",
    "import glob\n",
    "import re"
   ]
  },
  {
   "cell_type": "code",
   "execution_count": null,
   "metadata": {},
   "outputs": [],
   "source": [
    "# Load the images: \n",
    "input_directory = \"/groups/CaiLab/personal/Lex/raw/230708_3k_1nM_split_IP_tmg/HybCycle_21/*.tif\"\n",
    "files=glob.glob(input_directory)\n",
    "#organize files numerically\n",
    "key = [int(re.search('MMStack_Pos(\\\\d+)', f).group(1)) for f in files]\n",
    "files = list(np.array(files)[np.argsort(key)])"
   ]
  },
  {
   "cell_type": "code",
   "execution_count": null,
   "metadata": {},
   "outputs": [],
   "source": [
    "#take a look at files\n",
    "files"
   ]
  },
  {
   "cell_type": "code",
   "execution_count": null,
   "metadata": {},
   "outputs": [],
   "source": [
    "#read in images\n",
    "imgs = read_images(files[:2], num_channels=4, max_project=True)"
   ]
  },
  {
   "cell_type": "code",
   "execution_count": null,
   "metadata": {},
   "outputs": [],
   "source": [
    "#Z, C, X, Y \n",
    "imgs[0].shape"
   ]
  },
  {
   "cell_type": "markdown",
   "metadata": {},
   "source": [
    "## View Single File"
   ]
  },
  {
   "cell_type": "code",
   "execution_count": null,
   "metadata": {},
   "outputs": [],
   "source": [
    "#which pos do you want to look at\n",
    "pos=0\n",
    "#do you want mask for each z?\n",
    "have_multiple_z = False\n",
    "#which channel has segmenation marker (0,1,2,3)?\n",
    "channel = 0\n",
    "\n",
    "img = isolate_image(imgs, pos = pos, channel = channel, have_multiple_z = have_multiple_z)"
   ]
  },
  {
   "cell_type": "code",
   "execution_count": null,
   "metadata": {},
   "outputs": [],
   "source": [
    "#shape of isolated image\n",
    "img.shape"
   ]
  },
  {
   "cell_type": "code",
   "execution_count": null,
   "metadata": {},
   "outputs": [],
   "source": [
    "#contrast\n",
    "zmax=2000\n",
    "\n",
    "plot_isolated_image(img, have_multiple_z = have_multiple_z, zmax = zmax)"
   ]
  },
  {
   "cell_type": "markdown",
   "metadata": {},
   "source": [
    "## Settings for Cellpose"
   ]
  },
  {
   "cell_type": "code",
   "execution_count": null,
   "metadata": {},
   "outputs": [],
   "source": [
    "#run this to define settings\n",
    "model = cellpose_settings(num_gpus=None)"
   ]
  },
  {
   "cell_type": "markdown",
   "metadata": {},
   "source": [
    "### Test Cellpose on a Single Image\n",
    "The ***Flow_threshold parameter*** is  the  maximum  allowed  error  of  the  flows  for  each  mask.   The  default  is 0.4. \n",
    "\n",
    "*   **Increase** this threshold if cellpose is not returning as many masks as you’d expect\n",
    "\n",
    "*   **Decrease** this threshold if cellpose is returning too many ill-shaped masks. \n",
    "\n",
    "The ***Cell Probability Threshold*** determines proability that a detected object is a cell.   The  default  is 0.0. \n",
    "\n",
    "*   **Decrease** this threshold if cellpose is not returning as many masks as you’d expect or if masks are too small\n",
    "\n",
    "*   **Increase** this threshold if cellpose is returning too many masks esp from dull/dim areas. "
   ]
  },
  {
   "cell_type": "code",
   "execution_count": null,
   "metadata": {},
   "outputs": [],
   "source": [
    "#channels to segment\n",
    "channels = [0,0]\n",
    "\n",
    "if have_multiple_z == True:\n",
    "    masks, flows, styles, diams = model.eval(img, diameter=350, \n",
    "                                             channels=channels, flow_threshold=2,\n",
    "                                             cellprob_threshold=-1, stitch_threshold=0.3, do_3D=False)\n",
    "else:\n",
    "    masks, flows, styles, diams = model.eval(img, diameter=350, \n",
    "                                             channels=channels, flow_threshold=2,\n",
    "                                             cellprob_threshold=-1)"
   ]
  },
  {
   "cell_type": "code",
   "execution_count": null,
   "metadata": {},
   "outputs": [],
   "source": [
    "num_channels = 2\n",
    "cellpose_plots(img, masks, flows, have_multiple_z = have_multiple_z, num_channels = num_channels, channels=channels)"
   ]
  },
  {
   "cell_type": "markdown",
   "metadata": {},
   "source": [
    "# Check to see if z's are properly stitched"
   ]
  },
  {
   "cell_type": "code",
   "execution_count": null,
   "metadata": {},
   "outputs": [],
   "source": [
    "#np.unique(masks[0])"
   ]
  },
  {
   "cell_type": "code",
   "execution_count": null,
   "metadata": {},
   "outputs": [],
   "source": [
    "#plt.imshow(masks[0]==95)"
   ]
  },
  {
   "cell_type": "code",
   "execution_count": null,
   "metadata": {},
   "outputs": [],
   "source": [
    "#plt.imshow(masks[1]==95)"
   ]
  },
  {
   "cell_type": "code",
   "execution_count": null,
   "metadata": {},
   "outputs": [],
   "source": [
    "#plt.imshow(masks[2]==95)"
   ]
  },
  {
   "cell_type": "code",
   "execution_count": null,
   "metadata": {},
   "outputs": [],
   "source": [
    "#plt.imshow(masks[3]==95)"
   ]
  },
  {
   "cell_type": "markdown",
   "metadata": {},
   "source": [
    "# Check which threshold value works best"
   ]
  },
  {
   "cell_type": "code",
   "execution_count": null,
   "metadata": {},
   "outputs": [],
   "source": [
    "import tifffile as tf"
   ]
  },
  {
   "cell_type": "code",
   "execution_count": null,
   "metadata": {},
   "outputs": [],
   "source": [
    "#read in masks\n",
    "nuc_paths = glob.glob(\"/groups/CaiLab/personal/Lex/raw/230608_4k_inv_5bs/pyfish_tools/output/masks/nucl/*\")\n",
    "cyto_paths = glob.glob(\"/groups/CaiLab/personal/Lex/raw/230608_4k_inv_5bs/pyfish_tools/output/masks/cyto/*\")\n",
    "\n",
    "#organize files numerically\n",
    "key = [int(re.search('MMStack_Pos(\\\\d+)', f).group(1)) for f in nuc_paths]\n",
    "nuc_paths = list(np.array(nuc_paths)[np.argsort(key)])\n",
    "\n",
    "key = [int(re.search('MMStack_Pos(\\\\d+)', f).group(1)) for f in cyto_paths]\n",
    "cyto_paths = list(np.array(cyto_paths)[np.argsort(key)])"
   ]
  },
  {
   "cell_type": "code",
   "execution_count": null,
   "metadata": {},
   "outputs": [],
   "source": [
    "#take a look\n",
    "plt.imshow(tf.imread(cyto_paths[0]))\n",
    "plt.show()"
   ]
  },
  {
   "cell_type": "code",
   "execution_count": null,
   "metadata": {},
   "outputs": [],
   "source": [
    "#read in files\n",
    "nuclear = []\n",
    "cyto = []\n",
    "for i in tqdm(range(len(nuc_paths))):\n",
    "    nuclear.append(pil_imread(nuc_paths[i]))\n",
    "    cyto.append(pil_imread(cyto_paths[i]))"
   ]
  },
  {
   "cell_type": "code",
   "execution_count": null,
   "metadata": {},
   "outputs": [],
   "source": [
    "#match nuclear and cyto masks\n",
    "cyto_new = ncm.nuclear_cyto_matching(cyto[:2], nuclear[:2], threshold=0.10)"
   ]
  },
  {
   "cell_type": "code",
   "execution_count": null,
   "metadata": {},
   "outputs": [],
   "source": [
    "#take a look\n",
    "plt.imshow(cyto_new[0])"
   ]
  }
 ],
 "metadata": {
  "kernelspec": {
   "display_name": "Python3.7",
   "language": "python",
   "name": "python3.7"
  },
  "language_info": {
   "codemirror_mode": {
    "name": "ipython",
    "version": 3
   },
   "file_extension": ".py",
   "mimetype": "text/x-python",
   "name": "python",
   "nbconvert_exporter": "python",
   "pygments_lexer": "ipython3",
   "version": "3.7.0"
  }
 },
 "nbformat": 4,
 "nbformat_minor": 4
}
