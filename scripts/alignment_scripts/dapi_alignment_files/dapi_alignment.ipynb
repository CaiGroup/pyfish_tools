{
 "cells": [
  {
   "cell_type": "code",
   "execution_count": null,
   "metadata": {},
   "outputs": [],
   "source": [
    "#data processing packages\n",
    "import pandas as pd\n",
    "import numpy as np\n",
    "import re\n",
    "import glob\n",
    "from scipy import ndimage\n",
    "import tifffile as tf\n",
    "#custom py files\n",
    "from dapi_alignment_parallel import *\n",
    "#plotting packages\n",
    "import plotly.express as px"
   ]
  },
  {
   "cell_type": "code",
   "execution_count": null,
   "metadata": {},
   "outputs": [],
   "source": [
    "def plot_dapi(img, zmax):\n",
    "    \"\"\"Function to generate plots with slide panel\n",
    "    Parameters:\n",
    "    -----------\n",
    "    img = image containing ref and corrected\n",
    "    zmax= set maximum intensity\"\"\"\n",
    "    \n",
    "    #For Plotting 2d image\n",
    "    #-------------------------------------------\n",
    "    fig = px.imshow(\n",
    "        img,\n",
    "        width=700,\n",
    "        height=700,\n",
    "        binary_string=True,\n",
    "        binary_compression_level=4,\n",
    "        animation_frame=0,\n",
    "        binary_backend='pil',\n",
    "        zmax = zmax)\n",
    "    \n",
    "    fig.show()"
   ]
  },
  {
   "cell_type": "markdown",
   "metadata": {},
   "source": [
    "# Check single image"
   ]
  },
  {
   "cell_type": "code",
   "execution_count": null,
   "metadata": {},
   "outputs": [],
   "source": [
    "ref = \"/groups/CaiLab/personal/Lex/raw/041122_cleared_150genes3bind/Fiducials/MMStack_Pos0.ome.tif\"\n",
    "img_src = \"/groups/CaiLab/personal/Lex/raw/041122_cleared_150genes3bind/HybCycle_0/MMStack_Pos0.ome.tif\"\n",
    "aligned = \"/groups/CaiLab/personal/Lex/raw/041122_cleared_150genes3bind/notebook_pyfiles/dapi_aligned/HybCycle_0/MMStack_Pos0.ome.tif\""
   ]
  },
  {
   "cell_type": "code",
   "execution_count": null,
   "metadata": {},
   "outputs": [],
   "source": [
    "#read ref, raw, and aligned\n",
    "ref = pil_imread(ref, swapaxes=True)\n",
    "raw = pil_imread(img_src, swapaxes=True)\n",
    "aligned = pil_imread(aligned, swapaxes=True)"
   ]
  },
  {
   "cell_type": "code",
   "execution_count": null,
   "metadata": {},
   "outputs": [],
   "source": [
    "#check\n",
    "plot_dapi(np.array([raw[0][1],ref[0][1]]), zmax=200)"
   ]
  },
  {
   "cell_type": "code",
   "execution_count": null,
   "metadata": {},
   "outputs": [],
   "source": [
    "#check\n",
    "plot_dapi(np.array([aligned[0][1],ref[0][1]]), zmax=200)"
   ]
  }
 ],
 "metadata": {
  "kernelspec": {
   "display_name": "Python3.7",
   "language": "python",
   "name": "python3.7"
  },
  "language_info": {
   "codemirror_mode": {
    "name": "ipython",
    "version": 3
   },
   "file_extension": ".py",
   "mimetype": "text/x-python",
   "name": "python",
   "nbconvert_exporter": "python",
   "pygments_lexer": "ipython3",
   "version": "3.7.0"
  }
 },
 "nbformat": 4,
 "nbformat_minor": 2
}
