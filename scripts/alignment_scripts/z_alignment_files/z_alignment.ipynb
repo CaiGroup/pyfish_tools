{
 "cells": [
  {
   "cell_type": "code",
   "execution_count": null,
   "metadata": {},
   "outputs": [],
   "source": [
    "#general package\n",
    "import numpy as np\n",
    "#enable relative import\n",
    "import sys \n",
    "sys.path.append(\"..\")\n",
    "#custom py files\n",
    "from helpers.util import pil_imread\n",
    "#custom py files\n",
    "from match_z_across_hybs import z_matching\n",
    "#plotting packages\n",
    "import plotly.express as px"
   ]
  },
  {
   "cell_type": "code",
   "execution_count": null,
   "metadata": {},
   "outputs": [],
   "source": [
    "#fitting\n",
    "from scipy.stats import norm\n",
    "\n",
    "def plot_z(img, scale = 0.75):\n",
    "    \"\"\"Function to generate plots with slide panel\n",
    "    Parameters:\n",
    "    -----------\n",
    "    img = image containing ref and corrected\n",
    "    scale = scaling factor for contrast adjustment\n",
    "    \"\"\"\n",
    "    #estimate contrast\n",
    "    pixels = img.ravel()\n",
    "    pixel_int = np.concatenate([-pixels,pixels])\n",
    "    #fit gaussian distribution\n",
    "    mu, std = norm.fit(pixel_int) \n",
    "    #move threshold based on scale set by user\n",
    "    threshold = mu - (std*scale)\n",
    "    \n",
    "    fig = px.imshow(\n",
    "        img,\n",
    "        width=700,\n",
    "        height=700,\n",
    "        binary_string=True,\n",
    "        binary_compression_level=4,\n",
    "        animation_frame=0,\n",
    "        binary_backend='pil',\n",
    "        zmax = threshold)\n",
    "    \n",
    "    print(f\" Max pixel intensity is set to = {threshold}\")\n",
    "    \n",
    "    fig.show()"
   ]
  },
  {
   "cell_type": "markdown",
   "metadata": {},
   "source": [
    "# Check single position"
   ]
  },
  {
   "cell_type": "code",
   "execution_count": null,
   "metadata": {},
   "outputs": [],
   "source": [
    "img_dir = f\"/groups/CaiLab/personal/Lex/raw/090222_150genes_acrosschannel_3t3/notebook_pyfiles/dapi_aligned/fiducial_aligned/\"\n",
    "z_matching(img_dir, pos_number = 17)"
   ]
  },
  {
   "cell_type": "code",
   "execution_count": null,
   "metadata": {},
   "outputs": [],
   "source": [
    "#check unaligned\n",
    "hyb = 4\n",
    "ref = f\"/groups/CaiLab/personal/Lex/raw/090222_150genes_acrosschannel_3t3/notebook_pyfiles/dapi_aligned/fiducial_aligned/HybCycle_0/MMStack_Pos0.ome.tif\"\n",
    "img_src = f\"/groups/CaiLab/personal/Lex/raw/090222_150genes_acrosschannel_3t3/notebook_pyfiles/dapi_aligned/fiducial_aligned/HybCycle_{hyb}/MMStack_Pos0.ome.tif\"\n",
    "#read ref, raw, and aligned\n",
    "ref_unaligned = pil_imread(ref, swapaxes=False)\n",
    "src_unaligned = pil_imread(img_src, swapaxes=False)"
   ]
  },
  {
   "cell_type": "code",
   "execution_count": null,
   "metadata": {},
   "outputs": [],
   "source": [
    "plot_z(np.array([ref_unaligned[1][3],src_unaligned[1][3]]))"
   ]
  },
  {
   "cell_type": "code",
   "execution_count": null,
   "metadata": {},
   "outputs": [],
   "source": [
    "plot_z(np.array([ref_unaligned[1][3],src_unaligned[0][3]]))"
   ]
  },
  {
   "cell_type": "code",
   "execution_count": null,
   "metadata": {},
   "outputs": [],
   "source": [
    "#check aligned\n",
    "ref = f\"/groups/CaiLab/personal/Lex/raw/090222_150genes_acrosschannel_3t3/notebook_pyfiles/z_matched_images/HybCycle_0/MMStack_Pos0.ome.tif\"\n",
    "img_src = f\"/groups/CaiLab/personal/Lex/raw/090222_150genes_acrosschannel_3t3/notebook_pyfiles/z_matched_images/HybCycle_{hyb}/MMStack_Pos0.ome.tif\"\n",
    "#read ref, raw, and aligned\n",
    "ref = pil_imread(ref, swapaxes=False)\n",
    "src = pil_imread(img_src, swapaxes=False)"
   ]
  },
  {
   "cell_type": "code",
   "execution_count": null,
   "metadata": {},
   "outputs": [],
   "source": [
    "plot_z(np.array([ref[0][3],src[0][3]]))"
   ]
  },
  {
   "cell_type": "code",
   "execution_count": null,
   "metadata": {},
   "outputs": [],
   "source": []
  }
 ],
 "metadata": {
  "kernelspec": {
   "display_name": "Python3.7",
   "language": "python",
   "name": "python3.7"
  },
  "language_info": {
   "codemirror_mode": {
    "name": "ipython",
    "version": 3
   },
   "file_extension": ".py",
   "mimetype": "text/x-python",
   "name": "python",
   "nbconvert_exporter": "python",
   "pygments_lexer": "ipython3",
   "version": "3.7.0"
  }
 },
 "nbformat": 4,
 "nbformat_minor": 2
}
