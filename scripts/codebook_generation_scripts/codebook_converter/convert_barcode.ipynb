{
 "cells": [
  {
   "cell_type": "code",
   "execution_count": null,
   "metadata": {},
   "outputs": [],
   "source": [
    "#general packages\n",
    "import pandas as pd\n",
    "from itertools import product\n",
    "from barcode_key_converter import *"
   ]
  },
  {
   "cell_type": "markdown",
   "metadata": {},
   "source": [
    "# This notebook is used to convert the old barcode key."
   ]
  },
  {
   "cell_type": "code",
   "execution_count": null,
   "metadata": {},
   "outputs": [],
   "source": [
    "#read in codebook\n",
    "codebook = pd.read_csv(\"../../../barcode_key/codebook.csv\", index_col = 4)"
   ]
  },
  {
   "cell_type": "code",
   "execution_count": null,
   "metadata": {},
   "outputs": [],
   "source": [
    "codebook"
   ]
  },
  {
   "cell_type": "code",
   "execution_count": null,
   "metadata": {},
   "outputs": [],
   "source": [
    "#keep only normal genes (old codebook generation may have missing fake codes)\n",
    "blanks = codebook[codebook.index.str.startswith(\"blank\")].index\n",
    "codebook = codebook.drop(blanks)"
   ]
  },
  {
   "cell_type": "code",
   "execution_count": null,
   "metadata": {},
   "outputs": [],
   "source": [
    "#generate all possible codewords\n",
    "#range of all pseudocolors\n",
    "ps = np.arange(1,7,1)\n",
    "#generate all possible combinations\n",
    "number_of_sites = 3\n",
    "perm_ps = list(product(ps,repeat=number_of_sites))"
   ]
  },
  {
   "cell_type": "code",
   "execution_count": null,
   "metadata": {},
   "outputs": [],
   "source": [
    "#make sure the length is equal pseudocolor^number of sites\n",
    "len(perm_ps) == 6**3"
   ]
  },
  {
   "cell_type": "code",
   "execution_count": null,
   "metadata": {},
   "outputs": [],
   "source": [
    "#make list of codes that has been used\n",
    "codes = codebook[[\"hyb1\",\"hyb2\",\"hyb3\"]].values\n",
    "code_set = [tuple(i) for i in codes]"
   ]
  },
  {
   "cell_type": "code",
   "execution_count": null,
   "metadata": {},
   "outputs": [],
   "source": [
    "#find unused codewords\n",
    "diff = list(set(perm_ps) - set(code_set))\n",
    "len(diff)"
   ]
  },
  {
   "cell_type": "code",
   "execution_count": null,
   "metadata": {},
   "outputs": [],
   "source": [
    "#make fakebook\n",
    "fakecodes = pd.DataFrame(diff)\n",
    "fakecodes.columns = [\"hyb1\",\"hyb2\",\"hyb3\"]"
   ]
  },
  {
   "cell_type": "markdown",
   "metadata": {},
   "source": [
    "# This cell block is if you need to add parity codes. Also double check how your parity code is generated and see if the last operation is + or -."
   ]
  },
  {
   "cell_type": "code",
   "execution_count": null,
   "metadata": {},
   "outputs": [],
   "source": [
    "#get fake code with error correction \n",
    "errorfakecode = []\n",
    "total_pseudocolors = 6\n",
    "for code in diff:\n",
    "    error = (code[0]+code[1]+code[2]) % total_pseudocolors\n",
    "    if error == 0:\n",
    "        error = total_pseudocolors\n",
    "    errorfakecode.append(int(error))\n",
    "    \n",
    "fakecodes[\"hyb4\"] = errorfakecode"
   ]
  },
  {
   "cell_type": "markdown",
   "metadata": {},
   "source": [
    "--------------------------------------------------------------------------------------------------------------------"
   ]
  },
  {
   "cell_type": "code",
   "execution_count": null,
   "metadata": {},
   "outputs": [],
   "source": [
    "#make fake code names\n",
    "fakegenes = []\n",
    "for i in range(len(fakecodes)):\n",
    "    fakegenes.append(f\"fake{i}\")"
   ]
  },
  {
   "cell_type": "code",
   "execution_count": null,
   "metadata": {},
   "outputs": [],
   "source": [
    "#add fake names\n",
    "fakecodes.index = fakegenes"
   ]
  },
  {
   "cell_type": "code",
   "execution_count": null,
   "metadata": {},
   "outputs": [],
   "source": [
    "#add to codebook\n",
    "codebook = pd.concat([codebook,fakecodes])"
   ]
  },
  {
   "cell_type": "code",
   "execution_count": null,
   "metadata": {},
   "outputs": [],
   "source": [
    "codebook"
   ]
  },
  {
   "cell_type": "code",
   "execution_count": null,
   "metadata": {},
   "outputs": [],
   "source": [
    "#is this encoded across channels?\n",
    "across = True\n",
    "#how many channels have signal\n",
    "num_encoded_channels = 3\n",
    "\n",
    "converter = barcode_key_converter(codebook, num_encoded_channels=num_encoded_channels)\n",
    "\n",
    "if across == False:\n",
    "    new_codebook = converter.within()\n",
    "else:\n",
    "    new_codebook = converter.across()"
   ]
  },
  {
   "cell_type": "code",
   "execution_count": null,
   "metadata": {},
   "outputs": [],
   "source": [
    "#take a look to see it makes sense\n",
    "new_codebook"
   ]
  },
  {
   "cell_type": "code",
   "execution_count": null,
   "metadata": {},
   "outputs": [],
   "source": [
    "#write out new codebook\n",
    "new_codebook.to_csv(\"../../../barcode_key/codebook_string_across.csv\")"
   ]
  },
  {
   "cell_type": "code",
   "execution_count": null,
   "metadata": {},
   "outputs": [],
   "source": []
  }
 ],
 "metadata": {
  "kernelspec": {
   "display_name": "Python 3",
   "language": "python",
   "name": "python3"
  },
  "language_info": {
   "codemirror_mode": {
    "name": "ipython",
    "version": 3
   },
   "file_extension": ".py",
   "mimetype": "text/x-python",
   "name": "python",
   "nbconvert_exporter": "python",
   "pygments_lexer": "ipython3",
   "version": "3.7.0"
  }
 },
 "nbformat": 4,
 "nbformat_minor": 2
}
