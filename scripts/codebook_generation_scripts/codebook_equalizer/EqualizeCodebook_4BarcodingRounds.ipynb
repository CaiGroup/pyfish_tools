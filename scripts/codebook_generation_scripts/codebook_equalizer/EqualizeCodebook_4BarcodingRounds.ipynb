{
 "cells": [
  {
   "cell_type": "markdown",
   "id": "0fec6cc8",
   "metadata": {},
   "source": [
    "### Equalizing Codebook, 4 barcoding rounds\n",
    "#### Author: Arun Chakravorty \n",
    "##### Purpose: An algorithm that generates a codebook that has maximally equalized expression across all hybs. \n"
   ]
  },
  {
   "cell_type": "code",
   "execution_count": null,
   "id": "47d998c1",
   "metadata": {},
   "outputs": [],
   "source": [
    "from FPKM_Equalizing_4BarcodingRounds import *"
   ]
  },
  {
   "cell_type": "markdown",
   "id": "e8578b3d",
   "metadata": {},
   "source": [
    "### 1. Obtaining FPKM per gene  \n",
    "\n",
    "Only run this if you need to pair genes you want with their expression. If the gene is not present in the expression table, the expression will be set to 0. Otherwise, start from 2(Creating Codebook) directly. "
   ]
  },
  {
   "cell_type": "code",
   "execution_count": null,
   "id": "4603b6f9",
   "metadata": {},
   "outputs": [],
   "source": [
    "# Load in dataframe containing genes and expression per gene\n",
    "# Make sure the column heading is `gene_symbols` and `avg`\n",
    "max_tpm = pd.read_csv('ExampleFiles/max_tpm_ensemble.csv')\n",
    "max_tpm = max_tpm.rename(columns={'Unnamed: 0': 'gene_symbols', 'TPM': 'avg'})\n",
    "max_tpm.head()"
   ]
  },
  {
   "cell_type": "code",
   "execution_count": null,
   "id": "3f1ec4bd",
   "metadata": {},
   "outputs": [],
   "source": [
    "# Load in the different genes per channel. \n",
    "# Code will pair 'ensemble id' with the expression found under `gene_symbols` in the max_tpm table. \n",
    "# Choosing 645 genes to fit within 9^4 with parity check. \n",
    "\n",
    "channel1 = pd.read_csv('ExampleFiles/channel1_genes.csv')[5:650]\n",
    "channel2 = pd.read_csv('ExampleFiles/channel2_genes.csv')[5:650]\n",
    "channel3 = pd.read_csv('ExampleFiles/channel3_genes.csv')[5:650]"
   ]
  },
  {
   "cell_type": "code",
   "execution_count": null,
   "id": "1942e546",
   "metadata": {},
   "outputs": [],
   "source": [
    "channel1.head()"
   ]
  },
  {
   "cell_type": "code",
   "execution_count": null,
   "id": "e93e98e9",
   "metadata": {},
   "outputs": [],
   "source": [
    "# Obtain FPKMS per gene \n",
    "Channel1FPKMS = getFPKMS(channel1, max_tpm)\n",
    "Channel1FPKMS.head()"
   ]
  },
  {
   "cell_type": "markdown",
   "id": "be964dc7",
   "metadata": {},
   "source": [
    "### 2. Creating Codebook. \n",
    "\n",
    "You may start from here if you already have a dataframe of genes and average expression for each. Simply make sure the columns are `gene_symbols` and `avg` like the dataframe above. **IMPORTANT** Make sure the dataframe is sorted by order of expression.  \n",
    "\n",
    "Parameters: # of pseudocolors, FPKM dataframe(must have columns as 'gene_symbols' and 'avg')"
   ]
  },
  {
   "cell_type": "code",
   "execution_count": null,
   "id": "4d237fa7",
   "metadata": {
    "jupyter": {
     "outputs_hidden": true
    },
    "tags": []
   },
   "outputs": [],
   "source": [
    "'''\n",
    "Inputs\n",
    "pc - Integer number of pseudocolors in codebook design.\n",
    "FPKMS - Pandas dataframe containing the genes under 'gene_symbols', and the expression value under 'avg'.\n",
    "\n",
    "Returns a pandas dataframe containing all genes and their barcode assignment.\n",
    "'''\n",
    "\n",
    "Channel1Codebook = GenerateCodebook(9, Channel1FPKMS)"
   ]
  },
  {
   "cell_type": "markdown",
   "id": "7b18246e",
   "metadata": {
    "tags": []
   },
   "source": [
    "#### 3. Checking Results"
   ]
  },
  {
   "cell_type": "code",
   "execution_count": null,
   "id": "6bcc4b81",
   "metadata": {},
   "outputs": [],
   "source": [
    "VerifyCodebook(Channel1Codebook)"
   ]
  },
  {
   "cell_type": "code",
   "execution_count": null,
   "id": "8e0b2562",
   "metadata": {},
   "outputs": [],
   "source": [
    "'''\n",
    "Inputs\n",
    "Codebook - Pandas dataframe with gene name, under 'Gene', and codeword assigninment under 'hyb1', 'hyb2' etc.\n",
    "FPKMS_table - Pandas dataframe containing the genes under 'gene_symbols', and the expression value under 'avg'.\n",
    "numColors - Integer number of pseudocolors in codebook design.\n",
    "\n",
    "Returns a pandas dataframe containing the average expression for each hybridization. Columns are each barcoding round, while each row represents the pseudocolor. \n",
    "'''\n",
    "\n",
    "FinalFPKMS = FPKMSforCodebook(Channel1Codebook, Channel1FPKMS, 9)\n",
    "FinalFPKMS"
   ]
  },
  {
   "cell_type": "markdown",
   "id": "70831f1f",
   "metadata": {},
   "source": [
    "### 4. Save Codebook"
   ]
  },
  {
   "cell_type": "code",
   "execution_count": null,
   "id": "5a2e896c",
   "metadata": {},
   "outputs": [],
   "source": [
    "Channel1Codebook.to_csv('put_your_path_here', index= False)"
   ]
  },
  {
   "cell_type": "code",
   "execution_count": null,
   "id": "ee2001ea",
   "metadata": {},
   "outputs": [],
   "source": [
    "FinalFPKMS.to_csv('your_path')"
   ]
  }
 ],
 "metadata": {
  "kernelspec": {
   "display_name": "Python 3 (ipykernel)",
   "language": "python",
   "name": "python3"
  },
  "language_info": {
   "codemirror_mode": {
    "name": "ipython",
    "version": 3
   },
   "file_extension": ".py",
   "mimetype": "text/x-python",
   "name": "python",
   "nbconvert_exporter": "python",
   "pygments_lexer": "ipython3",
   "version": "3.10.9"
  }
 },
 "nbformat": 4,
 "nbformat_minor": 5
}
