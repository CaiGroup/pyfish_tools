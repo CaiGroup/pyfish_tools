{
 "cells": [
  {
   "cell_type": "code",
   "execution_count": null,
   "metadata": {},
   "outputs": [],
   "source": [
    "#basic analysis package\n",
    "import numpy as np\n",
    "import pandas as pd\n",
    "from pathlib import Path\n",
    "import tifffile as tf\n",
    "from importlib import reload\n",
    "#enable relative import\n",
    "import sys \n",
    "sys.path.append(\"..\")\n",
    "from helpers.util import pil_imread\n",
    "#cusom packages\n",
    "import fiducial_alignment_affine as fa_affine\n",
    "%config InlineBackend.figure_format='retina'"
   ]
  },
  {
   "cell_type": "code",
   "execution_count": null,
   "metadata": {},
   "outputs": [],
   "source": [
    "import plotly.express as px\n",
    "import plotly.graph_objects as go\n",
    "import numpy as np\n",
    "\n",
    "def plot_2d_image(img_2d, zmax=1000, animation = True):\n",
    "    \n",
    "    if animation == True:   \n",
    "    #For Plotting 2d image\n",
    "        #-------------------------------------------\n",
    "        fig = px.imshow(\n",
    "            img_2d,\n",
    "            width=700,\n",
    "            height=700,\n",
    "            binary_string=True,\n",
    "            binary_compression_level=4,\n",
    "            binary_backend='pil',\n",
    "            zmax = zmax,\n",
    "            animation_frame=0\n",
    "        )\n",
    "        #-------------------------------------------\n",
    "\n",
    "        fig.show()\n",
    "    else:\n",
    "        #For Plotting 2d image\n",
    "        #-------------------------------------------\n",
    "        fig = px.imshow(\n",
    "            img_2d,\n",
    "            width=700,\n",
    "            height=700,\n",
    "            binary_string=True,\n",
    "            binary_compression_level=4,\n",
    "            binary_backend='pil',\n",
    "            zmax = zmax\n",
    "        )\n",
    "        #-------------------------------------------\n",
    "\n",
    "        fig.show()"
   ]
  },
  {
   "cell_type": "code",
   "execution_count": null,
   "metadata": {},
   "outputs": [],
   "source": [
    "def plot_2d_locs_on_2d_image(df_locs_2d_1, img_2d, zmax=1000):\n",
    "    \n",
    "    #For Plotting 2d image\n",
    "    #-------------------------------------------\n",
    "    fig = px.imshow(\n",
    "        img_2d,\n",
    "        width=700,\n",
    "        height=700,\n",
    "        binary_string=True,\n",
    "        binary_compression_level=4,\n",
    "        binary_backend='pil',\n",
    "        zmax = zmax\n",
    "    )\n",
    "    #-------------------------------------------\n",
    "    \n",
    "    #For Plotting 2d dots\n",
    "    #-------------------------------------------\n",
    "    fig.add_trace(go.Scattergl(\n",
    "        x=df_locs_2d_1.x,\n",
    "        y=df_locs_2d_1.y,\n",
    "        mode='markers',\n",
    "        marker_symbol='cross',\n",
    "        marker=dict(\n",
    "            #maxdisplayed=1000,\n",
    "            size=4\n",
    "            ),\n",
    "        name = \"Gaussian\"\n",
    "        )\n",
    "    )\n",
    "    #-------------------------------------------\n",
    "    \n",
    "    fig.show()"
   ]
  },
  {
   "cell_type": "code",
   "execution_count": null,
   "metadata": {},
   "outputs": [],
   "source": [
    "#get image paths\n",
    "Pos = 0\n",
    "bead_src = Path(\"/groups/CaiLab/personal/Lex/raw/Linus_10k_cleared_080918_NIH3T3/beads\")\n",
    "bead_src = bead_src / f\"MMStack_Pos{Pos}.ome.tif\"\n",
    "\n",
    "tiff_src = Path(\"/groups/CaiLab/personal/Lex/raw/Linus_10k_cleared_080918_NIH3T3/pyfish_tools/output/dapi_aligned/HybCycle_0\")\n",
    "tiff_src = tiff_src / f\"MMStack_Pos{Pos}.ome.tif\""
   ]
  },
  {
   "cell_type": "code",
   "execution_count": null,
   "metadata": {},
   "outputs": [],
   "source": [
    "#read in beads\n",
    "beads = pil_imread(str(bead_src),num_channels=4, swapaxes=True)\n",
    "#read in image\n",
    "raw = pil_imread((str(tiff_src)), num_channels=None, swapaxes=False)"
   ]
  },
  {
   "cell_type": "code",
   "execution_count": null,
   "metadata": {},
   "outputs": [],
   "source": [
    "#make sure shapes match\n",
    "beads.shape == raw.shape"
   ]
  },
  {
   "cell_type": "code",
   "execution_count": null,
   "metadata": {},
   "outputs": [],
   "source": [
    "#look at beads\n",
    "plot_2d_image(beads[0], zmax=2000)"
   ]
  },
  {
   "cell_type": "code",
   "execution_count": null,
   "metadata": {},
   "outputs": [],
   "source": [
    "#look at raw\n",
    "plot_2d_image(raw[0], zmax=2000)"
   ]
  },
  {
   "cell_type": "code",
   "execution_count": null,
   "metadata": {},
   "outputs": [],
   "source": [
    "#check how off\n",
    "plot_2d_image(np.array([raw[0][0],beads[0][0]]), zmax=1000)"
   ]
  },
  {
   "cell_type": "markdown",
   "metadata": {},
   "source": [
    "# Test fiducial alignment on one position"
   ]
  },
  {
   "cell_type": "code",
   "execution_count": null,
   "metadata": {},
   "outputs": [],
   "source": [
    "import time\n",
    "start = time.time()\n",
    "\n",
    "#set bead channel to None if there are beads in all channels\n",
    "\n",
    "image, error = fa_affine.fiducial_alignment_single(tiff_src, bead_src, threshold_abs=800, \n",
    "                                                  max_dist=1,ransac_threshold=0.20, bead_channel_single=None,\n",
    "                                                  include_dapi=False,use_ref_coord=True, \n",
    "                                                  num_channels=4, write=False)\n",
    "print(f\"This task took {(time.time()-start)/60} min\")"
   ]
  },
  {
   "cell_type": "code",
   "execution_count": null,
   "metadata": {},
   "outputs": [],
   "source": [
    "#look at displacement ([channel, percent change, displacement])\n",
    "error"
   ]
  },
  {
   "cell_type": "code",
   "execution_count": null,
   "metadata": {},
   "outputs": [],
   "source": [
    "#look at image to make sure transform looks normal\n",
    "plot_2d_image(image[0], zmax=3000)"
   ]
  },
  {
   "cell_type": "code",
   "execution_count": null,
   "metadata": {},
   "outputs": [],
   "source": [
    "#check how off\n",
    "plot_2d_image(np.array([beads[0][0],image[0][0]]), zmax=5000)"
   ]
  },
  {
   "cell_type": "markdown",
   "metadata": {},
   "source": [
    "# Check FWHM across all hybs"
   ]
  },
  {
   "cell_type": "code",
   "execution_count": null,
   "metadata": {},
   "outputs": [],
   "source": [
    "import glob\n",
    "import matplotlib.pyplot as plt"
   ]
  },
  {
   "cell_type": "code",
   "execution_count": null,
   "metadata": {},
   "outputs": [],
   "source": [
    "#grab all files\n",
    "pixel_size_nm = 108\n",
    "hyb_all = []\n",
    "for hyb in range(80):\n",
    "    path = f\"/groups/CaiLab/personal/Lex/raw/Linus_10k_cleared_080918_NIH3T3/pyfish_tools/output/fiducial_aligned/HybCycle_{hyb}/*_error.txt\"\n",
    "    files = glob.glob(path)\n",
    "    error_list = []\n",
    "    for file in files:\n",
    "        error = pd.read_csv(file, sep = \" \", header=None)[2].values\n",
    "        error_list.append(error)\n",
    "    final_error = np.array(error_list) * pixel_size_nm\n",
    "    hyb_all.append(final_error)"
   ]
  },
  {
   "cell_type": "code",
   "execution_count": null,
   "metadata": {},
   "outputs": [],
   "source": [
    "#reformat\n",
    "final = []\n",
    "for pos in range(7):\n",
    "    by_fov = []\n",
    "    for hyb in hyb_all:\n",
    "        by_fov.append(hyb[pos])\n",
    "    df = pd.DataFrame(by_fov)\n",
    "    df.columns = [\"Ch1\", \"Ch2\", \"Ch3\"]\n",
    "    final.append(df)\n",
    "    \n",
    "#mean\n",
    "running_sum_ch1 = final[0].Ch1.values.copy()\n",
    "for pos in range(1, len(final)):\n",
    "    running_sum_ch1 += final[pos].Ch1.values\n",
    "mean_ch1 = running_sum_ch1/len(final)\n",
    "\n",
    "running_sum_ch2 = final[0].Ch2.values.copy()\n",
    "for pos in range(1, len(final)):\n",
    "    running_sum_ch2 += final[pos].Ch2.values\n",
    "mean_ch2 = running_sum_ch2/len(final)\n",
    "\n",
    "running_sum_ch3 = final[0].Ch3.values.copy()\n",
    "for pos in range(1, len(final)):\n",
    "    running_sum_ch3 += final[pos].Ch3.values\n",
    "mean_ch3 = running_sum_ch3/len(final)"
   ]
  },
  {
   "cell_type": "code",
   "execution_count": null,
   "metadata": {},
   "outputs": [],
   "source": [
    "#plot\n",
    "for pos in range(len(final)):\n",
    "    plt.plot(np.arange(0,80,1), final[pos].Ch1, alpha=0.10, lw = 1, color=\"red\")\n",
    "plt.plot(np.arange(0,80,1), mean_ch1, color=\"red\",  label=\"Channel 647 nm\")\n",
    "for pos in range(len(final)):\n",
    "    plt.plot(np.arange(0,80,1), final[pos].Ch2, alpha=0.10, lw = 1, color=\"orange\")\n",
    "plt.plot(np.arange(0,80,1), mean_ch2, color=\"orange\",  label=\"Channel 561 nm\")\n",
    "for pos in range(len(final)):\n",
    "    plt.plot(np.arange(0,80,1), final[pos].Ch3, alpha=0.10, lw = 1, color=\"green\")\n",
    "plt.plot(np.arange(0,80,1), mean_ch3, color=\"green\",  label=\"Channel 488 nm\")\n",
    "plt.ylim(0,50)\n",
    "plt.ylabel(\"FWHM (nm)\")\n",
    "plt.xlabel(\"HybCycles\")\n",
    "plt.legend()\n",
    "plt.show()"
   ]
  },
  {
   "cell_type": "code",
   "execution_count": null,
   "metadata": {},
   "outputs": [],
   "source": []
  }
 ],
 "metadata": {
  "kernelspec": {
   "display_name": "Python3.7",
   "language": "python",
   "name": "python3.7"
  },
  "language_info": {
   "codemirror_mode": {
    "name": "ipython",
    "version": 3
   },
   "file_extension": ".py",
   "mimetype": "text/x-python",
   "name": "python",
   "nbconvert_exporter": "python",
   "pygments_lexer": "ipython3",
   "version": "3.7.0"
  }
 },
 "nbformat": 4,
 "nbformat_minor": 2
}
