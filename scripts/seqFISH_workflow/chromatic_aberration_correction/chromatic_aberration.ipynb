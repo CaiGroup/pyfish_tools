{
 "cells": [
  {
   "cell_type": "code",
   "execution_count": null,
   "metadata": {},
   "outputs": [],
   "source": [
    "#data management and custom functions\n",
    "from pathlib import Path\n",
    "from util import pil_imread\n",
    "import tifffile as tf\n",
    "from chromatic_aberration_correction import *\n",
    "#plotting packages\n",
    "import matplotlib.pyplot as plt\n",
    "import plotly.express as px\n",
    "import plotly.graph_objects as go\n",
    "\n",
    "%config InlineBackend.figure_format='retina'"
   ]
  },
  {
   "cell_type": "markdown",
   "metadata": {},
   "source": [
    "# Path to ref image for testing"
   ]
  },
  {
   "cell_type": "code",
   "execution_count": null,
   "metadata": {},
   "outputs": [],
   "source": [
    "ref_img = f\"/groups/CaiLab/personal/Lex/raw/Linus_10k_cleared_080918_NIH3T3/pyfish_tools/output/z_matched_images/beads/MMStack_Pos0.ome.tif\""
   ]
  },
  {
   "cell_type": "markdown",
   "metadata": {},
   "source": [
    "# Get offsets and corrected image"
   ]
  },
  {
   "cell_type": "code",
   "execution_count": null,
   "metadata": {
    "scrolled": true
   },
   "outputs": [],
   "source": [
    "import time\n",
    "start = time.time()\n",
    "transformed_image, error, tform = chromatic_corr_offsets(ref_img, threshold_abs=800,\n",
    "                                                         max_dist=1.5, ransac_threshold = 0.20, num_channels=4)\n",
    "print(f\"This task took {(time.time()-start)/60} min\")"
   ]
  },
  {
   "cell_type": "code",
   "execution_count": null,
   "metadata": {},
   "outputs": [],
   "source": [
    "#alignment error\n",
    "error"
   ]
  },
  {
   "cell_type": "code",
   "execution_count": null,
   "metadata": {},
   "outputs": [],
   "source": [
    "#look at transformation matrix\n",
    "tform"
   ]
  },
  {
   "cell_type": "markdown",
   "metadata": {},
   "source": [
    "# Compare corrected and original image"
   ]
  },
  {
   "cell_type": "code",
   "execution_count": null,
   "metadata": {},
   "outputs": [],
   "source": [
    "def plot_2d_image(img_2d, zmax=1000, animation = True):\n",
    "    \n",
    "    if animation == True:   \n",
    "    #For Plotting 2d image\n",
    "        #-------------------------------------------\n",
    "        fig = px.imshow(\n",
    "            img_2d,\n",
    "            width=700,\n",
    "            height=700,\n",
    "            binary_string=True,\n",
    "            binary_compression_level=4,\n",
    "            binary_backend='pil',\n",
    "            zmax = zmax,\n",
    "            animation_frame=0\n",
    "        )\n",
    "        #-------------------------------------------\n",
    "\n",
    "        fig.show()\n",
    "    else:\n",
    "        #For Plotting 2d image\n",
    "        #-------------------------------------------\n",
    "        fig = px.imshow(\n",
    "            img_2d,\n",
    "            width=700,\n",
    "            height=700,\n",
    "            binary_string=True,\n",
    "            binary_compression_level=4,\n",
    "            binary_backend='pil',\n",
    "            zmax = zmax,\n",
    "        )\n",
    "        #-------------------------------------------\n",
    "\n",
    "        fig.show()"
   ]
  },
  {
   "cell_type": "code",
   "execution_count": null,
   "metadata": {},
   "outputs": [],
   "source": [
    "#read in images\n",
    "original = pil_imread(ref_img, swapaxes=True)\n",
    "original_max= np.max(original, axis=0)\n",
    "transformed_max = np.max(transformed_image,axis=0)"
   ]
  },
  {
   "cell_type": "code",
   "execution_count": null,
   "metadata": {},
   "outputs": [],
   "source": [
    "#original\n",
    "plot_2d_image(original_max, zmax=5000, animation = True)"
   ]
  },
  {
   "cell_type": "code",
   "execution_count": null,
   "metadata": {},
   "outputs": [],
   "source": [
    "#corrected\n",
    "plot_2d_image(transformed_max, zmax=5000, animation = True)"
   ]
  },
  {
   "cell_type": "markdown",
   "metadata": {},
   "source": [
    "# Check average error"
   ]
  },
  {
   "cell_type": "code",
   "execution_count": null,
   "metadata": {},
   "outputs": [],
   "source": [
    "import seaborn as sns"
   ]
  },
  {
   "cell_type": "code",
   "execution_count": null,
   "metadata": {},
   "outputs": [],
   "source": [
    "poss = np.arange(0,7,1)\n",
    "error_list = []\n",
    "for pos in poss:\n",
    "    src = f\"/groups/CaiLab/personal/Lex/raw/Linus_10k_cleared_080918_NIH3T3/pyfish_tools/output/z_matched_images/beads/MMStack_Pos{pos}_error.txt\"\n",
    "    error = pd.read_csv(src, sep = \" \", header=None)\n",
    "    error_list.append(error)"
   ]
  },
  {
   "cell_type": "code",
   "execution_count": null,
   "metadata": {},
   "outputs": [],
   "source": [
    "comb_error = pd.concat(error_list).reset_index(drop=True)\n",
    "comb_error.columns = [\"channel\", \"percent improvement\", \"fwhm\"]\n",
    "comb_error.fwhm = comb_error.fwhm * 108 #108 nm/pixel"
   ]
  },
  {
   "cell_type": "code",
   "execution_count": null,
   "metadata": {},
   "outputs": [],
   "source": [
    "sns.boxplot(data=comb_error, x=\"channel\", y=\"fwhm\", palette = \"Set2\")\n",
    "plt.ylim(0,50)\n",
    "plt.xlabel(\"\")\n",
    "plt.xticks([0,1],[\"Channel 561 nm\", \"Channel 488 nm\"])\n",
    "plt.ylabel(\"FWHM (nm)\")\n",
    "plt.show()"
   ]
  },
  {
   "cell_type": "code",
   "execution_count": null,
   "metadata": {},
   "outputs": [],
   "source": [
    "comb_error.groupby(\"channel\").mean()"
   ]
  },
  {
   "cell_type": "code",
   "execution_count": null,
   "metadata": {},
   "outputs": [],
   "source": [
    "comb_error.groupby(\"channel\").std()"
   ]
  },
  {
   "cell_type": "code",
   "execution_count": null,
   "metadata": {},
   "outputs": [],
   "source": []
  }
 ],
 "metadata": {
  "kernelspec": {
   "display_name": "Python3.7",
   "language": "python",
   "name": "python3.7"
  },
  "language_info": {
   "codemirror_mode": {
    "name": "ipython",
    "version": 3
   },
   "file_extension": ".py",
   "mimetype": "text/x-python",
   "name": "python",
   "nbconvert_exporter": "python",
   "pygments_lexer": "ipython3",
   "version": "3.7.0"
  }
 },
 "nbformat": 4,
 "nbformat_minor": 2
}
