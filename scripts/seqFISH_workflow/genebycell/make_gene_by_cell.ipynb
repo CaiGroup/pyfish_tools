{
 "cells": [
  {
   "cell_type": "markdown",
   "metadata": {},
   "source": [
    "### Note: Read the headers and choose what works best for your case."
   ]
  },
  {
   "cell_type": "code",
   "execution_count": null,
   "metadata": {},
   "outputs": [],
   "source": [
    "#general packages\n",
    "import pandas as pd\n",
    "import numpy as np\n",
    "from pathlib import Path\n",
    "#custom function\n",
    "from make_gene_by_cell import *"
   ]
  },
  {
   "cell_type": "markdown",
   "metadata": {},
   "source": [
    "# Combine other z's if you have multiple z sections"
   ]
  },
  {
   "cell_type": "code",
   "execution_count": null,
   "metadata": {},
   "outputs": [],
   "source": [
    "#total number of pos\n",
    "num_z=4\n",
    "num_pos = np.arange(0,99,1)\n",
    "for i in num_pos:\n",
    "    z_slice = []\n",
    "    for z in range(num_z):\n",
    "        src = f\"\"\n",
    "        try:\n",
    "            loc = pd.read_csv(src)\n",
    "        except FileNotFoundError:\n",
    "            continue\n",
    "        z_slice.append(loc)\n",
    "    try:\n",
    "        comb = pd.concat(z_slice).reset_index(drop=True)\n",
    "    except:\n",
    "        continue\n",
    "    #make output dir\n",
    "    output_folder = Path(src).parent\n",
    "    output_path = output_folder / \"diff_0_minseed_3_z_combined_finalgenes.csv\"\n",
    "    comb.to_csv(str(output_path))"
   ]
  },
  {
   "cell_type": "markdown",
   "metadata": {},
   "source": [
    "# Make combined final gene by cell across all positions (final)"
   ]
  },
  {
   "cell_type": "code",
   "execution_count": null,
   "metadata": {},
   "outputs": [],
   "source": [
    "#generate list of paths\n",
    "gene_loc_dir = []\n",
    "#total number of pos\n",
    "num_pos = np.arange(0,60,1)\n",
    "for i in num_pos:\n",
    "    gene_loc_dir.append(f\"\")"
   ]
  },
  {
   "cell_type": "code",
   "execution_count": null,
   "metadata": {},
   "outputs": [],
   "source": [
    "#output directory\n",
    "output_dir = \"\"\n",
    "#mask directory (set to None if you don't want gene density matrix)\n",
    "mask_dir = \"\"\n",
    "#total counts each cell must be above (set to 0 if you don't want to filter)\n",
    "counts_threshold = 0\n",
    "#pixel size in micrometer (if mask_dir is None then this does not matter)\n",
    "pixel = 0.11\n",
    "#which channel\n",
    "channel = 3\n",
    "#leave this as false if you are not looking at threshold screen outputs\n",
    "check_thresholds=False\n",
    "\n",
    "#function to create gene by cell matrix\n",
    "make_genebycell(gene_loc_dir, mask_dir = mask_dir, output_dir = output_dir,  \n",
    "                    counts_threshold = counts_threshold, pixel = pixel,\n",
    "                    channel = channel, check_thresholds = check_thresholds)"
   ]
  },
  {
   "cell_type": "markdown",
   "metadata": {},
   "source": [
    "# Run this cell for finding best z slice"
   ]
  },
  {
   "cell_type": "code",
   "execution_count": null,
   "metadata": {},
   "outputs": [],
   "source": [
    "#take best percent decoded z's\n",
    "#quality score is the a percent decoded cutoff (kind of like QScore)\n",
    "src = \"/groups/CaiLab/personal/Lex/raw/230608_4k_inv_5bs/pyfish_tools/output/decoded/final_0.7511.25_seed44_heg_svm_p20.0_diff1_fdr10.0/Channel_All\"\n",
    "gene_loc_dir = get_best_z(src, quality_score = 0.0, unfiltered=False)"
   ]
  },
  {
   "cell_type": "code",
   "execution_count": null,
   "metadata": {},
   "outputs": [],
   "source": [
    "#output directory\n",
    "output_dir = \"/groups/CaiLab/personal/Lex/raw/230608_4k_inv_5bs/pyfish_tools/output/genebycell/final_0.7511.25_seed44_heg_svm_p20.0_diff1_fdr10.0\"\n",
    "#mask directory (set to None if you don't want gene density matrix)\n",
    "mask_dir = \"/groups/CaiLab/personal/Lex/raw/230608_4k_inv_5bs/pyfish_tools/output/final_masks/\"\n",
    "#total counts each cell must be above (set to 0 if you don't want to filter)\n",
    "counts_threshold = 10\n",
    "#pixel size in micrometer (if mask_dir is None then this does not matter)\n",
    "pixel = 0.11\n",
    "#which channel (write \"all\" if encoded across channels)\n",
    "channel = \"all\"\n",
    "#leave this as false if you are not looking at threshold screen outputs\n",
    "check_thresholds=False\n",
    "\n",
    "#function to create gene by cell matrix\n",
    "make_genebycell(gene_loc_dir, mask_dir = mask_dir, output_dir = output_dir,  \n",
    "                    counts_threshold = counts_threshold, pixel = pixel,\n",
    "                    channel = channel, check_thresholds = check_thresholds)"
   ]
  },
  {
   "cell_type": "code",
   "execution_count": null,
   "metadata": {},
   "outputs": [],
   "source": []
  }
 ],
 "metadata": {
  "kernelspec": {
   "display_name": "Python3.7",
   "language": "python",
   "name": "python3.7"
  },
  "language_info": {
   "codemirror_mode": {
    "name": "ipython",
    "version": 3
   },
   "file_extension": ".py",
   "mimetype": "text/x-python",
   "name": "python",
   "nbconvert_exporter": "python",
   "pygments_lexer": "ipython3",
   "version": "3.7.0"
  }
 },
 "nbformat": 4,
 "nbformat_minor": 2
}
