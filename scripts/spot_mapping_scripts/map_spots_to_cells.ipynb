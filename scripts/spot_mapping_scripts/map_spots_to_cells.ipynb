{
 "cells": [
  {
   "cell_type": "code",
   "execution_count": null,
   "metadata": {},
   "outputs": [],
   "source": [
    "import numpy as np\n",
    "import pandas as pd\n",
    "import tifffile as tf\n",
    "import matplotlib.pyplot as plt\n",
    "from pathlib import Path\n",
    "from map_spots_to_masks import keep_dots_in_cells, keep_dots_parallel"
   ]
  },
  {
   "cell_type": "markdown",
   "metadata": {},
   "source": [
    "# Map Spots to Cells"
   ]
  },
  {
   "cell_type": "code",
   "execution_count": null,
   "metadata": {},
   "outputs": [],
   "source": [
    "#how many z slices?\n",
    "num_z=5\n",
    "#paths for decoded genes and mask\n",
    "num_pos = np.arange(0,60,1)\n",
    "if num_z > 1:\n",
    "    for c in [1,2,3]:\n",
    "        for z in range(num_z):\n",
    "            decoded_genes = []\n",
    "            mask_paths = []\n",
    "            for i in num_pos:\n",
    "                decoded_genes.append(f\"/groups/CaiLab/personal/Lex/raw/102322_10K_NIH3T3/seqFISH_datapipeline/output/dots_detected/Channel_{c}/Pos{i}/locations_z_{z}.csv\")\n",
    "                mask_paths.append(f'/groups/CaiLab/personal/Lex/raw/102322_10K_NIH3T3/seqFISH_datapipeline/output/edges_deleted/MMStack_Pos{i}_z{z}.tif')\n",
    "            keep_dots_parallel(mask_paths,decoded_genes)\n",
    "else:\n",
    "    decoded_genes = []\n",
    "    mask_paths = []\n",
    "    for c in [1,2,3]:\n",
    "        for i in num_pos:\n",
    "            decoded_genes.append(f\"/groups/CaiLab/personal/Lex/raw/092222_150_nih_3t3/seqFISH_datapipeline/output/dots_detected/Channel_{c}/Pos{i}/locations_z_0.csv\")\n",
    "            mask_paths.append(f'/groups/CaiLab/personal/Lex/raw/092222_150_nih_3t3/seqFISH_datapipeline/output/edges_deleted/MMStack_Pos{i}.tif')\n",
    "        keep_dots_parallel(mask_paths,decoded_genes)"
   ]
  },
  {
   "cell_type": "markdown",
   "metadata": {},
   "source": [
    "# If encoding across channels use this for combining spots across channels"
   ]
  },
  {
   "cell_type": "code",
   "execution_count": null,
   "metadata": {},
   "outputs": [],
   "source": [
    "from tqdm import tqdm\n",
    "\n",
    "#name of experiment directory\n",
    "exp_dir = \"102322_10K_NIH3T3\"\n",
    "#define channels used\n",
    "channel = [1,2,3]\n",
    "#define total number of pos\n",
    "pos_tot = 60\n",
    "#define number of z's\n",
    "num_z = 5\n",
    "#for each channel in a specific position, grab the locations file\n",
    "#then, concatenate those files and write it out\n",
    "for i in tqdm(range(pos_tot)):\n",
    "    for z in range(num_z):\n",
    "        df_list = []\n",
    "        for c in channel:\n",
    "            paths = f\"/groups/CaiLab/personal/Lex/raw/{exp_dir}/seqFISH_datapipeline/output/dots_detected/Channel_{c}/spots_in_cells/Pos{i}/locations_z_{z}.csv\"\n",
    "            try:\n",
    "                df = pd.read_csv(paths)\n",
    "            except:\n",
    "                continue\n",
    "            df_list.append(df)\n",
    "        try:\n",
    "            df_comb = pd.concat(df_list).reset_index(drop=True)\n",
    "        except:\n",
    "            continue\n",
    "        output= Path(f\"/groups/CaiLab/personal/Lex/raw/{exp_dir}/seqFISH_datapipeline/output/dots_detected/Channel_All/Pos{i}\")\n",
    "        output.mkdir(parents=True,exist_ok=True)\n",
    "        output = output / f\"locations_z_{z}.csv\"\n",
    "        df_comb.to_csv(str(output))"
   ]
  },
  {
   "cell_type": "code",
   "execution_count": null,
   "metadata": {},
   "outputs": [],
   "source": []
  }
 ],
 "metadata": {
  "kernelspec": {
   "display_name": "Python (Cai Lab common)",
   "language": "python",
   "name": "python_env"
  },
  "language_info": {
   "codemirror_mode": {
    "name": "ipython",
    "version": 3
   },
   "file_extension": ".py",
   "mimetype": "text/x-python",
   "name": "python",
   "nbconvert_exporter": "python",
   "pygments_lexer": "ipython3",
   "version": "3.9.1"
  }
 },
 "nbformat": 4,
 "nbformat_minor": 2
}
