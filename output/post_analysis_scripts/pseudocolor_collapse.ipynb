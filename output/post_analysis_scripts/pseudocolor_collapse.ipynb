{
 "cells": [
  {
   "cell_type": "markdown",
   "metadata": {},
   "source": [
    "# This section is to see if there were any significant drops in spots for certain hybs."
   ]
  },
  {
   "cell_type": "code",
   "execution_count": null,
   "metadata": {},
   "outputs": [],
   "source": [
    "import matplotlib.pyplot  as plt\n",
    "import scipy.stats as st\n",
    "import pandas as pd\n",
    "from util import pil_imread\n",
    "import numpy as np\n",
    "\n",
    "%config InlineBackend.figure_format = 'retina'"
   ]
  },
  {
   "cell_type": "code",
   "execution_count": null,
   "metadata": {},
   "outputs": [],
   "source": [
    "counts_pos = []\n",
    "for pos in range(50):\n",
    "    try:\n",
    "        spots = pd.read_csv(f\"/groups/CaiLab/personal/Lex/raw/230608_4k_inv_5bs/pyfish_tools/output/dots_detected/Channel_All/Pos{pos}/noise_removed_locations_z_0.csv\")\n",
    "        num_cells = len(spots[\"cell number\"].unique())\n",
    "    except:\n",
    "        continue\n",
    "    counts = [len(spots[spots.hyb == hyb])/num_cells for hyb in np.sort(spots.hyb.unique())]\n",
    "    if counts[0] < 1000:\n",
    "        continue\n",
    "    counts_pos.append(counts)"
   ]
  },
  {
   "cell_type": "code",
   "execution_count": null,
   "metadata": {},
   "outputs": [],
   "source": [
    "counts_df = pd.DataFrame(counts_pos)"
   ]
  },
  {
   "cell_type": "code",
   "execution_count": null,
   "metadata": {},
   "outputs": [],
   "source": [
    "lower, upper = st.t.interval(alpha=0.95, df=len(counts_df)-1, loc=np.mean(counts_df), scale=st.sem(counts_df)) "
   ]
  },
  {
   "cell_type": "code",
   "execution_count": null,
   "metadata": {},
   "outputs": [],
   "source": [
    "plt.plot(np.arange(0,20,1), counts_df.mean(axis=0).values)\n",
    "plt.fill_between(np.arange(0,20,1), lower, upper, alpha = 0.5)\n",
    "plt.xlim(0,19)\n",
    "plt.ylim(0,5000)\n",
    "plt.xticks(np.arange(0,20,1), rotation = 45)\n",
    "plt.xlabel(\"HybCycles\")\n",
    "plt.ylabel(\"~Total Spots/Cell\")\n",
    "plt.show()"
   ]
  },
  {
   "cell_type": "markdown",
   "metadata": {},
   "source": [
    "# This section is to look at collapsed pseudocolor image"
   ]
  },
  {
   "cell_type": "code",
   "execution_count": null,
   "metadata": {},
   "outputs": [],
   "source": [
    "import plotly.express as px\n",
    "import plotly.graph_objects as go\n",
    "def plot_all_pseudocolors(df, img, decoded = None, total_hybs = 20, total_rounds = 5, zmax = 1000):\n",
    "    \n",
    "    #separate by barcoding rounds\n",
    "    hybs = np.arange(0, total_hybs, 1)\n",
    "    hybs_per_round = int(total_hybs/total_rounds)\n",
    "    rounds = []\n",
    "    k=0\n",
    "    for _ in range(total_rounds):\n",
    "        rounds.append(tuple(hybs[k:k+hybs_per_round]))\n",
    "        k += hybs_per_round\n",
    "        \n",
    "    #display image   \n",
    "    fig = px.imshow(\n",
    "        img,\n",
    "        width=700,\n",
    "        height=700,\n",
    "        binary_string=True,\n",
    "        binary_compression_level=4,\n",
    "        binary_backend='pil',\n",
    "        zmax = zmax\n",
    "    )\n",
    "    \n",
    "    #add spots\n",
    "    i=1\n",
    "    for hybs in rounds:\n",
    "        df_rounds = df[df.hyb.isin(hybs)]\n",
    "        fig.add_trace(go.Scattergl(\n",
    "            x=df_rounds.x,\n",
    "            y=df_rounds.y,\n",
    "            mode='markers',\n",
    "            marker_symbol='diamond',\n",
    "            marker=dict(\n",
    "                #maxdisplayed=1000,\n",
    "                size=4\n",
    "                ),\n",
    "            name=f\"Round{i}\"\n",
    "            )\n",
    "        )\n",
    "        i += 1\n",
    "    if decoded is not None:\n",
    "        fig.add_trace(go.Scattergl(\n",
    "            x=decoded.x,\n",
    "            y=decoded.y,\n",
    "            mode='markers',\n",
    "            marker_symbol='circle',\n",
    "            marker=dict(\n",
    "                #maxdisplayed=1000,\n",
    "                size=8\n",
    "                ),\n",
    "            name=\"Decoded\"\n",
    "            )\n",
    "        )\n",
    "        i += 1\n",
    "    \n",
    "    fig.show()"
   ]
  },
  {
   "cell_type": "code",
   "execution_count": null,
   "metadata": {},
   "outputs": [],
   "source": [
    "df = pd.read_csv(\"/groups/CaiLab/personal/Lex/raw/230608_4k_inv_5bs/pyfish_tools/output/dots_detected/Channel_All/Pos0/noise_removed_locations_z_2.csv\", index_col=0)\n",
    "decoded = pd.read_csv(\"/groups/CaiLab/personal/Lex/raw/230608_4k_inv_5bs/pyfish_tools/output/decoded/noise_removed/final_0.7511.25_seed33_heg_svm_p20.0_diff1_fdr10.0/Channel_All/Pos_0/dots_used_undefined_z_2.csv\")"
   ]
  },
  {
   "cell_type": "code",
   "execution_count": null,
   "metadata": {},
   "outputs": [],
   "source": [
    "raw_src = \"/groups/CaiLab/personal/Lex/raw/230608_4k_inv_5bs/chromatic_aberration/MMStack_Pos0.ome.tif\"\n",
    "tiff = pil_imread(raw_src, swapaxes=False)\n",
    "img = np.max(tiff, axis=0)"
   ]
  },
  {
   "cell_type": "code",
   "execution_count": null,
   "metadata": {},
   "outputs": [],
   "source": [
    "plot_all_pseudocolors(df, img[-1], decoded = decoded, total_hybs = 20, total_rounds = 5, zmax = 1000)"
   ]
  },
  {
   "cell_type": "code",
   "execution_count": null,
   "metadata": {},
   "outputs": [],
   "source": []
  }
 ],
 "metadata": {
  "kernelspec": {
   "display_name": "Python3.7",
   "language": "python",
   "name": "python3.7"
  },
  "language_info": {
   "codemirror_mode": {
    "name": "ipython",
    "version": 3
   },
   "file_extension": ".py",
   "mimetype": "text/x-python",
   "name": "python",
   "nbconvert_exporter": "python",
   "pygments_lexer": "ipython3",
   "version": "3.7.0"
  }
 },
 "nbformat": 4,
 "nbformat_minor": 2
}
