{
 "cells": [
  {
   "cell_type": "code",
   "execution_count": null,
   "metadata": {},
   "outputs": [],
   "source": [
    "import numpy as np\n",
    "import pandas as pd\n",
    "import tifffile as tf\n",
    "import matplotlib.pyplot as plt\n",
    "from pathlib import Path\n",
    "from map_genes import keep_dots_in_cells, keep_dots_parallel"
   ]
  },
  {
   "cell_type": "markdown",
   "metadata": {},
   "source": [
    "# If multiple z's combine decoded files"
   ]
  },
  {
   "cell_type": "code",
   "execution_count": null,
   "metadata": {},
   "outputs": [],
   "source": [
    "# #use this for threshold screen\n",
    "# for pos in np.arange(0,5,1):\n",
    "#     for i in range(11):\n",
    "#         df_comb = []\n",
    "#         for z in range(1):\n",
    "#             path = f\"/groups/CaiLab/personal/Lex/raw/031322_11kgenes_experiment/notebook_pyfiles/decoded/screen/Channel_4/Pos{pos}/Threshold_{i}/diff_0_minseed_3_z_{z}_finalgenes.csv\"\n",
    "#             df = pd.read_csv(path, index_col = 0)\n",
    "#             df_comb.append(df)\n",
    "#         df_final = pd.concat(df_comb).reset_index(drop=True)\n",
    "#         df_final.to_csv(f\"/groups/CaiLab/personal/Lex/raw/031322_11kgenes_experiment/notebook_pyfiles/decoded/screen/Channel_4/Pos{pos}/Threshold_{i}/finalgenes.csv\")"
   ]
  },
  {
   "cell_type": "code",
   "execution_count": null,
   "metadata": {},
   "outputs": [],
   "source": [
    "# #use this for final \n",
    "# number_pos = 107\n",
    "# num_z = 2\n",
    "# for i in range(number_pos):\n",
    "#     df_comb = []\n",
    "#     for z in range(num_z):\n",
    "#         path = f\"/groups/CaiLab/personal/Lex/raw/112221_20kdash_3t3/notebook_pyfiles/decoded/final/daostar/MMStack_Pos{i}/diff_0_minseed_4_z_{z}_finalgenes.csv\"\n",
    "#         df = pd.read_csv(path, index_col = 0)\n",
    "#         df_comb.append(df)\n",
    "#     df_final = pd.concat(df_comb).reset_index(drop=True)\n",
    "#     df_final.to_csv(f\"/groups/CaiLab/personal/Lex/raw/112221_20kdash_3t3/notebook_pyfiles/decoded/final/daostar/MMStack_Pos{i}/combined_finalgenes.csv\")"
   ]
  },
  {
   "cell_type": "markdown",
   "metadata": {},
   "source": [
    "# Use this for threshold testing"
   ]
  },
  {
   "cell_type": "code",
   "execution_count": null,
   "metadata": {},
   "outputs": [],
   "source": [
    "#map to multiple pos and thresholds for each channel\n",
    "for pos in range(5):\n",
    "    mask = f'/groups/CaiLab/personal/Lex/raw/150genes3bind_040622/notebook_pyfiles/edges_deleted/MMStack_Pos{pos}.tif'\n",
    "    for i in range(11):\n",
    "        dot_locations = f'/groups/CaiLab/personal/Lex/raw/150genes3bind_040622/notebook_pyfiles/decoded/screen_11p52_33_heg/Channel_1/Threshold_{i}/Pos_{pos}/diff_0_minseed_3_z_0_finalgenes.csv'\n",
    "        keep_dots_in_cells(mask, dot_locations)"
   ]
  },
  {
   "cell_type": "code",
   "execution_count": null,
   "metadata": {},
   "outputs": [],
   "source": [
    "#read in output\n",
    "dots = pd.read_csv(\n",
    "    \"/groups/CaiLab/personal/Lex/raw/031322_11kgenes_experiment/notebook_pyfiles/decoded/screen/Channel_4/Pos0/genes_in_cells/Threshold_0/gene_locations.csv\", \n",
    "    index_col = 0)"
   ]
  },
  {
   "cell_type": "code",
   "execution_count": null,
   "metadata": {},
   "outputs": [],
   "source": [
    "pos=0\n",
    "mask = f'/groups/CaiLab/personal/Lex/raw/031322_11kgenes_experiment/notebook_pyfiles/edges_deleted/MMStack_Pos{pos}.tif'\n",
    "#read in image (c,y,x)\n",
    "image = tf.imread(mask)"
   ]
  },
  {
   "cell_type": "code",
   "execution_count": null,
   "metadata": {},
   "outputs": [],
   "source": [
    "plt.rcParams[\"figure.figsize\"] = (5,5)\n",
    "plt.imshow(image, cmap = \"gray\")"
   ]
  },
  {
   "cell_type": "code",
   "execution_count": null,
   "metadata": {},
   "outputs": [],
   "source": [
    "#overal dots on mask\n",
    "plt.imshow(image, cmap = \"gray\")\n",
    "plt.scatter(dots[\"x\"],dots[\"y\"], c = \"blue\", s = 0.05)"
   ]
  },
  {
   "cell_type": "markdown",
   "metadata": {},
   "source": [
    "# Do all images"
   ]
  },
  {
   "cell_type": "code",
   "execution_count": null,
   "metadata": {},
   "outputs": [],
   "source": [
    "#paths for decoded genes and mask\n",
    "decoded_genes = []\n",
    "mask_paths = []\n",
    "num_pos = np.arange(0,40,1)\n",
    "for i in num_pos:\n",
    "    decoded_genes.append(f\"/groups/CaiLab/personal/Lex/raw/150genes3bind_040622/notebook_pyfiles/dots_comb/final_thresh7_features/Channel_1/MMStack_Pos{i}/locations_z_0.csv\")\n",
    "    mask_paths.append(f'/groups/CaiLab/personal/Lex/raw/150genes3bind_040622/notebook_pyfiles/edges_deleted/MMStack_Pos{i}.tif')"
   ]
  },
  {
   "cell_type": "code",
   "execution_count": null,
   "metadata": {},
   "outputs": [],
   "source": [
    "keep_dots_parallel(mask_paths,decoded_genes)"
   ]
  },
  {
   "cell_type": "markdown",
   "metadata": {},
   "source": [
    "# Check an image"
   ]
  },
  {
   "cell_type": "code",
   "execution_count": null,
   "metadata": {},
   "outputs": [],
   "source": [
    "mask = '/groups/CaiLab/personal/Lex/raw/112221_20kdash_3t3/notebook_pyfiles/edges_deleted/MMStack_Pos1.tif'\n",
    "#read in image (c,y,x)\n",
    "image = tf.imread(mask)"
   ]
  },
  {
   "cell_type": "code",
   "execution_count": null,
   "metadata": {},
   "outputs": [],
   "source": [
    "#read in output\n",
    "dots = pd.read_csv(\"/groups/CaiLab/personal/Lex/raw/112221_20kdash_3t3/notebook_pyfiles/decoded/final/daostar/genes_in_cells/MMStack_Pos1/gene_locations.csv\", index_col = 0)"
   ]
  },
  {
   "cell_type": "code",
   "execution_count": null,
   "metadata": {},
   "outputs": [],
   "source": [
    "plt.rcParams[\"figure.figsize\"] = (5,5)\n",
    "plt.imshow(image, cmap = \"gray\")"
   ]
  },
  {
   "cell_type": "code",
   "execution_count": null,
   "metadata": {},
   "outputs": [],
   "source": [
    "#overal dots on mask\n",
    "plt.imshow(image, cmap = \"gray\")\n",
    "plt.scatter(dots[\"x\"],dots[\"y\"], c = \"blue\", s = 0.05)"
   ]
  }
 ],
 "metadata": {
  "kernelspec": {
   "display_name": "Python (Cai Lab common)",
   "language": "python",
   "name": "python_env"
  },
  "language_info": {
   "codemirror_mode": {
    "name": "ipython",
    "version": 3
   },
   "file_extension": ".py",
   "mimetype": "text/x-python",
   "name": "python",
   "nbconvert_exporter": "python",
   "pygments_lexer": "ipython3",
   "version": "3.9.1"
  }
 },
 "nbformat": 4,
 "nbformat_minor": 2
}
