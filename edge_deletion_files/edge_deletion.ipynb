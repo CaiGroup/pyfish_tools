{
 "cells": [
  {
   "cell_type": "code",
   "execution_count": null,
   "metadata": {},
   "outputs": [],
   "source": [
    "#import general packages\n",
    "import tifffile as tf\n",
    "import matplotlib.pyplot as plt\n",
    "import tqdm as tqdm\n",
    "#import edge deletion\n",
    "from edge_deletion import *"
   ]
  },
  {
   "cell_type": "markdown",
   "metadata": {},
   "source": [
    "# Edge deletion"
   ]
  },
  {
   "cell_type": "code",
   "execution_count": null,
   "metadata": {
    "scrolled": false
   },
   "outputs": [],
   "source": [
    "#run edge deletion on one image\n",
    "img_src = \"/groups/CaiLab/personal/Lex/raw/050222_150genes4binding/notebook_pyfiles/labeled_images/matched/MMStack_Pos0.tif\"\n",
    "output_dir = \"/groups/CaiLab/personal/Lex/raw/050222_150genes4binding/notebook_pyfiles/edges_deleted/\"\n",
    "#do you have segmentation round and is it dapi aligned?\n",
    "have_seg_img = True\n",
    "#how many pixels do you want to delete?\n",
    "border_width = 2\n",
    "\n",
    "#run deletion\n",
    "edge_deletion(img_src, output_dir, have_seg_img = have_seg_img, border_width = border_width)\n",
    "#look at raw\n",
    "plt.imshow(tf.imread(img_src), cmap = \"gray\")"
   ]
  },
  {
   "cell_type": "code",
   "execution_count": null,
   "metadata": {},
   "outputs": [],
   "source": [
    "#take a look edge deleted image\n",
    "check = tf.imread(\"/groups/CaiLab/personal/Lex/raw/050222_150genes4binding/notebook_pyfiles/edges_deleted/MMStack_Pos0.tif\")\n",
    "plt.imshow(check, cmap = \"gray\")"
   ]
  },
  {
   "cell_type": "markdown",
   "metadata": {},
   "source": [
    "# Make masks with edge deletion on all"
   ]
  },
  {
   "cell_type": "code",
   "execution_count": null,
   "metadata": {},
   "outputs": [],
   "source": [
    "#get list of all labeled images\n",
    "import glob\n",
    "path = \"/groups/CaiLab/personal/Lex/raw/050222_150genes4binding/notebook_pyfiles/labeled_images/matched/*\"\n",
    "img_list = glob.glob(path)"
   ]
  },
  {
   "cell_type": "code",
   "execution_count": null,
   "metadata": {},
   "outputs": [],
   "source": [
    "#take a look\n",
    "img_list"
   ]
  },
  {
   "cell_type": "code",
   "execution_count": null,
   "metadata": {},
   "outputs": [],
   "source": [
    "#run on all images\n",
    "output_dir = \"/groups/CaiLab/personal/Lex/raw/050222_150genes4binding/notebook_pyfiles/edges_deleted/\"\n",
    "edge_deletion_parallel(img_list, output_dir, have_seg_img = have_seg_img, border_width = border_width)"
   ]
  },
  {
   "cell_type": "markdown",
   "metadata": {},
   "source": [
    "# Check again"
   ]
  },
  {
   "cell_type": "code",
   "execution_count": null,
   "metadata": {},
   "outputs": [],
   "source": [
    "#example image\n",
    "check = tf.imread(\"/groups/CaiLab/personal/Lex/raw/012522_20kdash_3t3/notebook_pyfiles/edges_deleted/MMStack_Pos2.tif\")"
   ]
  },
  {
   "cell_type": "code",
   "execution_count": null,
   "metadata": {},
   "outputs": [],
   "source": [
    "#take a look\n",
    "plt.imshow(check, cmap = \"gray\")"
   ]
  },
  {
   "cell_type": "code",
   "execution_count": null,
   "metadata": {},
   "outputs": [],
   "source": [
    "#original\n",
    "orig = tf.imread(\"/groups/CaiLab/personal/Lex/raw/012522_20kdash_3t3/notebook_pyfiles/labeled_images/matched/MMStack_Pos2.tif\")"
   ]
  },
  {
   "cell_type": "code",
   "execution_count": null,
   "metadata": {},
   "outputs": [],
   "source": [
    "#check\n",
    "plt.imshow(orig, cmap = \"gray\")"
   ]
  },
  {
   "cell_type": "code",
   "execution_count": null,
   "metadata": {},
   "outputs": [],
   "source": []
  }
 ],
 "metadata": {
  "kernelspec": {
   "display_name": "Python 3",
   "language": "python",
   "name": "python3"
  },
  "language_info": {
   "codemirror_mode": {
    "name": "ipython",
    "version": 3
   },
   "file_extension": ".py",
   "mimetype": "text/x-python",
   "name": "python",
   "nbconvert_exporter": "python",
   "pygments_lexer": "ipython3",
   "version": "3.8.5"
  }
 },
 "nbformat": 4,
 "nbformat_minor": 2
}
