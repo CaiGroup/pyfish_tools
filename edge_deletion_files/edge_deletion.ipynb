{
 "cells": [
  {
   "cell_type": "code",
   "execution_count": 1,
   "metadata": {},
   "outputs": [],
   "source": [
    "#import general packages\n",
    "import tifffile as tf\n",
    "import matplotlib.pyplot as plt\n",
    "import tqdm as tqdm\n",
    "#import edge deletion\n",
    "from edge_deletion import *"
   ]
  },
  {
   "cell_type": "markdown",
   "metadata": {},
   "source": [
    "# Edge deletion"
   ]
  },
  {
   "cell_type": "code",
   "execution_count": 15,
   "metadata": {
    "scrolled": false
   },
   "outputs": [
    {
     "data": {
      "text/plain": [
       "<matplotlib.image.AxesImage at 0x7f6121059130>"
      ]
     },
     "execution_count": 15,
     "metadata": {},
     "output_type": "execute_result"
    },
    {
     "data": {
      "image/png": "[encoded data removed]",
      "text/plain": [
       "<Figure size 432x288 with 1 Axes>"
      ]
     },
     "metadata": {
      "needs_background": "light"
     },
     "output_type": "display_data"
    }
   ],
   "source": [
    "#run edge deletion on one image\n",
    "img_src = \"/groups/CaiLab/personal/Lex/raw/012522_20kdash_3t3/notebook_pyfiles/labeled_images/matched/MMStack_Pos7.tif\"\n",
    "output_dir = \"/groups/CaiLab/personal/Lex/raw/012522_20kdash_3t3/notebook_pyfiles/edges_deleted/\"\n",
    "edge_deletion(img_src, output_dir)\n",
    "plt.imshow(tf.imread(img_src), cmap = \"gray\")"
   ]
  },
  {
   "cell_type": "code",
   "execution_count": 16,
   "metadata": {},
   "outputs": [
    {
     "data": {
      "text/plain": [
       "<matplotlib.image.AxesImage at 0x7f6120fc26a0>"
      ]
     },
     "execution_count": 16,
     "metadata": {},
     "output_type": "execute_result"
    },
    {
     "data": {
      "image/png": "[encoded data removed]",
      "text/plain": [
       "<Figure size 432x288 with 1 Axes>"
      ]
     },
     "metadata": {
      "needs_background": "light"
     },
     "output_type": "display_data"
    }
   ],
   "source": [
    "#take a look\n",
    "check = tf.imread(\"/groups/CaiLab/personal/Lex/raw/012522_20kdash_3t3/notebook_pyfiles/edges_deleted/MMStack_Pos7.tif\")\n",
    "plt.imshow(check, cmap = \"gray\")"
   ]
  },
  {
   "cell_type": "markdown",
   "metadata": {},
   "source": [
    "# Make masks with edge deletion on all"
   ]
  },
  {
   "cell_type": "code",
   "execution_count": 17,
   "metadata": {},
   "outputs": [],
   "source": [
    "#get list of all labeled images\n",
    "import glob\n",
    "path = \"/groups/CaiLab/personal/Lex/raw/012522_20kdash_3t3/notebook_pyfiles/labeled_images/matched/*\"\n",
    "img_list = glob.glob(path)"
   ]
  },
  {
   "cell_type": "code",
   "execution_count": 18,
   "metadata": {},
   "outputs": [
    {
     "data": {
      "text/plain": [
       "['/groups/CaiLab/personal/Lex/raw/012522_20kdash_3t3/notebook_pyfiles/labeled_images/matched/MMStack_Pos51.tif',\n",
       " '/groups/CaiLab/personal/Lex/raw/012522_20kdash_3t3/notebook_pyfiles/labeled_images/matched/MMStack_Pos45.tif',\n",
       " '/groups/CaiLab/personal/Lex/raw/012522_20kdash_3t3/notebook_pyfiles/labeled_images/matched/MMStack_Pos53.tif',\n",
       " '/groups/CaiLab/personal/Lex/raw/012522_20kdash_3t3/notebook_pyfiles/labeled_images/matched/MMStack_Pos14.tif',\n",
       " '/groups/CaiLab/personal/Lex/raw/012522_20kdash_3t3/notebook_pyfiles/labeled_images/matched/MMStack_Pos8.tif',\n",
       " '/groups/CaiLab/personal/Lex/raw/012522_20kdash_3t3/notebook_pyfiles/labeled_images/matched/MMStack_Pos57.tif',\n",
       " '/groups/CaiLab/personal/Lex/raw/012522_20kdash_3t3/notebook_pyfiles/labeled_images/matched/MMStack_Pos60.tif',\n",
       " '/groups/CaiLab/personal/Lex/raw/012522_20kdash_3t3/notebook_pyfiles/labeled_images/matched/MMStack_Pos28.tif',\n",
       " '/groups/CaiLab/personal/Lex/raw/012522_20kdash_3t3/notebook_pyfiles/labeled_images/matched/MMStack_Pos48.tif',\n",
       " '/groups/CaiLab/personal/Lex/raw/012522_20kdash_3t3/notebook_pyfiles/labeled_images/matched/MMStack_Pos46.tif',\n",
       " '/groups/CaiLab/personal/Lex/raw/012522_20kdash_3t3/notebook_pyfiles/labeled_images/matched/MMStack_Pos22.tif',\n",
       " '/groups/CaiLab/personal/Lex/raw/012522_20kdash_3t3/notebook_pyfiles/labeled_images/matched/MMStack_Pos34.tif',\n",
       " '/groups/CaiLab/personal/Lex/raw/012522_20kdash_3t3/notebook_pyfiles/labeled_images/matched/MMStack_Pos38.tif',\n",
       " '/groups/CaiLab/personal/Lex/raw/012522_20kdash_3t3/notebook_pyfiles/labeled_images/matched/MMStack_Pos19.tif',\n",
       " '/groups/CaiLab/personal/Lex/raw/012522_20kdash_3t3/notebook_pyfiles/labeled_images/matched/MMStack_Pos27.tif',\n",
       " '/groups/CaiLab/personal/Lex/raw/012522_20kdash_3t3/notebook_pyfiles/labeled_images/matched/MMStack_Pos7.tif',\n",
       " '/groups/CaiLab/personal/Lex/raw/012522_20kdash_3t3/notebook_pyfiles/labeled_images/matched/MMStack_Pos42.tif',\n",
       " '/groups/CaiLab/personal/Lex/raw/012522_20kdash_3t3/notebook_pyfiles/labeled_images/matched/MMStack_Pos36.tif',\n",
       " '/groups/CaiLab/personal/Lex/raw/012522_20kdash_3t3/notebook_pyfiles/labeled_images/matched/MMStack_Pos10.tif',\n",
       " '/groups/CaiLab/personal/Lex/raw/012522_20kdash_3t3/notebook_pyfiles/labeled_images/matched/MMStack_Pos49.tif',\n",
       " '/groups/CaiLab/personal/Lex/raw/012522_20kdash_3t3/notebook_pyfiles/labeled_images/matched/MMStack_Pos12.tif',\n",
       " '/groups/CaiLab/personal/Lex/raw/012522_20kdash_3t3/notebook_pyfiles/labeled_images/matched/MMStack_Pos35.tif',\n",
       " '/groups/CaiLab/personal/Lex/raw/012522_20kdash_3t3/notebook_pyfiles/labeled_images/matched/MMStack_Pos44.tif',\n",
       " '/groups/CaiLab/personal/Lex/raw/012522_20kdash_3t3/notebook_pyfiles/labeled_images/matched/MMStack_Pos52.tif',\n",
       " '/groups/CaiLab/personal/Lex/raw/012522_20kdash_3t3/notebook_pyfiles/labeled_images/matched/MMStack_Pos59.tif',\n",
       " '/groups/CaiLab/personal/Lex/raw/012522_20kdash_3t3/notebook_pyfiles/labeled_images/matched/MMStack_Pos25.tif',\n",
       " '/groups/CaiLab/personal/Lex/raw/012522_20kdash_3t3/notebook_pyfiles/labeled_images/matched/MMStack_Pos15.tif',\n",
       " '/groups/CaiLab/personal/Lex/raw/012522_20kdash_3t3/notebook_pyfiles/labeled_images/matched/MMStack_Pos43.tif',\n",
       " '/groups/CaiLab/personal/Lex/raw/012522_20kdash_3t3/notebook_pyfiles/labeled_images/matched/MMStack_Pos33.tif',\n",
       " '/groups/CaiLab/personal/Lex/raw/012522_20kdash_3t3/notebook_pyfiles/labeled_images/matched/MMStack_Pos24.tif',\n",
       " '/groups/CaiLab/personal/Lex/raw/012522_20kdash_3t3/notebook_pyfiles/labeled_images/matched/MMStack_Pos2.tif',\n",
       " '/groups/CaiLab/personal/Lex/raw/012522_20kdash_3t3/notebook_pyfiles/labeled_images/matched/MMStack_Pos58.tif',\n",
       " '/groups/CaiLab/personal/Lex/raw/012522_20kdash_3t3/notebook_pyfiles/labeled_images/matched/MMStack_Pos40.tif',\n",
       " '/groups/CaiLab/personal/Lex/raw/012522_20kdash_3t3/notebook_pyfiles/labeled_images/matched/MMStack_Pos13.tif',\n",
       " '/groups/CaiLab/personal/Lex/raw/012522_20kdash_3t3/notebook_pyfiles/labeled_images/matched/MMStack_Pos37.tif',\n",
       " '/groups/CaiLab/personal/Lex/raw/012522_20kdash_3t3/notebook_pyfiles/labeled_images/matched/MMStack_Pos50.tif',\n",
       " '/groups/CaiLab/personal/Lex/raw/012522_20kdash_3t3/notebook_pyfiles/labeled_images/matched/MMStack_Pos0.tif',\n",
       " '/groups/CaiLab/personal/Lex/raw/012522_20kdash_3t3/notebook_pyfiles/labeled_images/matched/MMStack_Pos1.tif',\n",
       " '/groups/CaiLab/personal/Lex/raw/012522_20kdash_3t3/notebook_pyfiles/labeled_images/matched/MMStack_Pos31.tif',\n",
       " '/groups/CaiLab/personal/Lex/raw/012522_20kdash_3t3/notebook_pyfiles/labeled_images/matched/MMStack_Pos29.tif',\n",
       " '/groups/CaiLab/personal/Lex/raw/012522_20kdash_3t3/notebook_pyfiles/labeled_images/matched/MMStack_Pos9.tif',\n",
       " '/groups/CaiLab/personal/Lex/raw/012522_20kdash_3t3/notebook_pyfiles/labeled_images/matched/MMStack_Pos47.tif',\n",
       " '/groups/CaiLab/personal/Lex/raw/012522_20kdash_3t3/notebook_pyfiles/labeled_images/matched/MMStack_Pos39.tif',\n",
       " '/groups/CaiLab/personal/Lex/raw/012522_20kdash_3t3/notebook_pyfiles/labeled_images/matched/MMStack_Pos56.tif',\n",
       " '/groups/CaiLab/personal/Lex/raw/012522_20kdash_3t3/notebook_pyfiles/labeled_images/matched/MMStack_Pos6.tif',\n",
       " '/groups/CaiLab/personal/Lex/raw/012522_20kdash_3t3/notebook_pyfiles/labeled_images/matched/MMStack_Pos20.tif',\n",
       " '/groups/CaiLab/personal/Lex/raw/012522_20kdash_3t3/notebook_pyfiles/labeled_images/matched/MMStack_Pos17.tif',\n",
       " '/groups/CaiLab/personal/Lex/raw/012522_20kdash_3t3/notebook_pyfiles/labeled_images/matched/MMStack_Pos54.tif',\n",
       " '/groups/CaiLab/personal/Lex/raw/012522_20kdash_3t3/notebook_pyfiles/labeled_images/matched/MMStack_Pos11.tif',\n",
       " '/groups/CaiLab/personal/Lex/raw/012522_20kdash_3t3/notebook_pyfiles/labeled_images/matched/MMStack_Pos26.tif',\n",
       " '/groups/CaiLab/personal/Lex/raw/012522_20kdash_3t3/notebook_pyfiles/labeled_images/matched/MMStack_Pos41.tif',\n",
       " '/groups/CaiLab/personal/Lex/raw/012522_20kdash_3t3/notebook_pyfiles/labeled_images/matched/MMStack_Pos30.tif',\n",
       " '/groups/CaiLab/personal/Lex/raw/012522_20kdash_3t3/notebook_pyfiles/labeled_images/matched/MMStack_Pos55.tif',\n",
       " '/groups/CaiLab/personal/Lex/raw/012522_20kdash_3t3/notebook_pyfiles/labeled_images/matched/MMStack_Pos5.tif',\n",
       " '/groups/CaiLab/personal/Lex/raw/012522_20kdash_3t3/notebook_pyfiles/labeled_images/matched/MMStack_Pos23.tif',\n",
       " '/groups/CaiLab/personal/Lex/raw/012522_20kdash_3t3/notebook_pyfiles/labeled_images/matched/MMStack_Pos4.tif',\n",
       " '/groups/CaiLab/personal/Lex/raw/012522_20kdash_3t3/notebook_pyfiles/labeled_images/matched/MMStack_Pos16.tif',\n",
       " '/groups/CaiLab/personal/Lex/raw/012522_20kdash_3t3/notebook_pyfiles/labeled_images/matched/MMStack_Pos3.tif',\n",
       " '/groups/CaiLab/personal/Lex/raw/012522_20kdash_3t3/notebook_pyfiles/labeled_images/matched/MMStack_Pos18.tif',\n",
       " '/groups/CaiLab/personal/Lex/raw/012522_20kdash_3t3/notebook_pyfiles/labeled_images/matched/MMStack_Pos21.tif',\n",
       " '/groups/CaiLab/personal/Lex/raw/012522_20kdash_3t3/notebook_pyfiles/labeled_images/matched/MMStack_Pos32.tif']"
      ]
     },
     "execution_count": 18,
     "metadata": {},
     "output_type": "execute_result"
    }
   ],
   "source": [
    "#take a look\n",
    "img_list"
   ]
  },
  {
   "cell_type": "code",
   "execution_count": 19,
   "metadata": {},
   "outputs": [
    {
     "name": "stdout",
     "output_type": "stream",
     "text": [
      "/groups/CaiLab/personal/Lex/raw/012522_20kdash_3t3/notebook_pyfiles/labeled_images/matched/MMStack_Pos53.tif completed after 0.025532897313435873 seconds\n",
      "/groups/CaiLab/personal/Lex/raw/012522_20kdash_3t3/notebook_pyfiles/labeled_images/matched/MMStack_Pos19.tif completed after 0.026130382219950357 seconds\n",
      "/groups/CaiLab/personal/Lex/raw/012522_20kdash_3t3/notebook_pyfiles/labeled_images/matched/MMStack_Pos28.tif completed after 0.029974099000295004 seconds\n",
      "/groups/CaiLab/personal/Lex/raw/012522_20kdash_3t3/notebook_pyfiles/labeled_images/matched/MMStack_Pos46.tif completed after 0.03157947460810343 seconds\n",
      "/groups/CaiLab/personal/Lex/raw/012522_20kdash_3t3/notebook_pyfiles/labeled_images/matched/MMStack_Pos48.tif completed after 0.03158814509709676 seconds\n",
      "/groups/CaiLab/personal/Lex/raw/012522_20kdash_3t3/notebook_pyfiles/labeled_images/matched/MMStack_Pos57.tif completed after 0.03183728059132894 seconds\n",
      "/groups/CaiLab/personal/Lex/raw/012522_20kdash_3t3/notebook_pyfiles/labeled_images/matched/MMStack_Pos60.tif completed after 0.03303151528040568 seconds\n",
      "/groups/CaiLab/personal/Lex/raw/012522_20kdash_3t3/notebook_pyfiles/labeled_images/matched/MMStack_Pos51.tif completed after 0.033171419302622476 seconds\n",
      "/groups/CaiLab/personal/Lex/raw/012522_20kdash_3t3/notebook_pyfiles/labeled_images/matched/MMStack_Pos8.tif completed after 0.033560784657796223 seconds\n",
      "/groups/CaiLab/personal/Lex/raw/012522_20kdash_3t3/notebook_pyfiles/labeled_images/matched/MMStack_Pos22.tif completed after 0.03493541876475016 seconds\n",
      "/groups/CaiLab/personal/Lex/raw/012522_20kdash_3t3/notebook_pyfiles/labeled_images/matched/MMStack_Pos14.tif completed after 0.0372864564259847 seconds\n",
      "/groups/CaiLab/personal/Lex/raw/012522_20kdash_3t3/notebook_pyfiles/labeled_images/matched/MMStack_Pos36.tif completed after 0.03890286684036255 seconds\n",
      "/groups/CaiLab/personal/Lex/raw/012522_20kdash_3t3/notebook_pyfiles/labeled_images/matched/MMStack_Pos27.tif completed after 0.03899894952774048 seconds\n",
      "/groups/CaiLab/personal/Lex/raw/012522_20kdash_3t3/notebook_pyfiles/labeled_images/matched/MMStack_Pos38.tif completed after 0.03945372502009074 seconds\n",
      "/groups/CaiLab/personal/Lex/raw/012522_20kdash_3t3/notebook_pyfiles/labeled_images/matched/MMStack_Pos10.tif completed after 0.04011911948521932 seconds\n",
      "/groups/CaiLab/personal/Lex/raw/012522_20kdash_3t3/notebook_pyfiles/labeled_images/matched/MMStack_Pos34.tif completed after 0.0406980832417806 seconds\n",
      "/groups/CaiLab/personal/Lex/raw/012522_20kdash_3t3/notebook_pyfiles/labeled_images/matched/MMStack_Pos49.tif completed after 0.04157256285349528 seconds\n",
      "/groups/CaiLab/personal/Lex/raw/012522_20kdash_3t3/notebook_pyfiles/labeled_images/matched/MMStack_Pos12.tif completed after 0.04248591264088949 seconds\n",
      "/groups/CaiLab/personal/Lex/raw/012522_20kdash_3t3/notebook_pyfiles/labeled_images/matched/MMStack_Pos42.tif completed after 0.043340722719828285 seconds\n",
      "/groups/CaiLab/personal/Lex/raw/012522_20kdash_3t3/notebook_pyfiles/labeled_images/matched/MMStack_Pos45.tif completed after 0.04334127902984619 seconds\n",
      "/groups/CaiLab/personal/Lex/raw/012522_20kdash_3t3/notebook_pyfiles/labeled_images/matched/MMStack_Pos44.tif completed after 0.043632686138153076 seconds\n",
      "/groups/CaiLab/personal/Lex/raw/012522_20kdash_3t3/notebook_pyfiles/labeled_images/matched/MMStack_Pos35.tif completed after 0.04519587755203247 seconds\n",
      "/groups/CaiLab/personal/Lex/raw/012522_20kdash_3t3/notebook_pyfiles/labeled_images/matched/MMStack_Pos7.tif completed after 0.04784097274144491 seconds\n",
      "/groups/CaiLab/personal/Lex/raw/012522_20kdash_3t3/notebook_pyfiles/labeled_images/matched/MMStack_Pos59.tif completed after 0.04784226417541504 seconds\n",
      "/groups/CaiLab/personal/Lex/raw/012522_20kdash_3t3/notebook_pyfiles/labeled_images/matched/MMStack_Pos43.tif completed after 0.04854002793629964 seconds\n",
      "/groups/CaiLab/personal/Lex/raw/012522_20kdash_3t3/notebook_pyfiles/labeled_images/matched/MMStack_Pos52.tif completed after 0.04854161739349365 seconds\n",
      "/groups/CaiLab/personal/Lex/raw/012522_20kdash_3t3/notebook_pyfiles/labeled_images/matched/MMStack_Pos15.tif completed after 0.050018886725107826 seconds\n",
      "/groups/CaiLab/personal/Lex/raw/012522_20kdash_3t3/notebook_pyfiles/labeled_images/matched/MMStack_Pos25.tif completed after 0.050480210781097413 seconds\n",
      "/groups/CaiLab/personal/Lex/raw/012522_20kdash_3t3/notebook_pyfiles/labeled_images/matched/MMStack_Pos33.tif completed after 0.05168482462565104 seconds\n",
      "/groups/CaiLab/personal/Lex/raw/012522_20kdash_3t3/notebook_pyfiles/labeled_images/matched/MMStack_Pos2.tif completed after 0.05726057688395182 seconds\n",
      "/groups/CaiLab/personal/Lex/raw/012522_20kdash_3t3/notebook_pyfiles/labeled_images/matched/MMStack_Pos24.tif completed after 0.057262261708577476 seconds\n",
      "/groups/CaiLab/personal/Lex/raw/012522_20kdash_3t3/notebook_pyfiles/labeled_images/matched/MMStack_Pos40.tif completed after 0.05874713261922201 seconds\n",
      "/groups/CaiLab/personal/Lex/raw/012522_20kdash_3t3/notebook_pyfiles/labeled_images/matched/MMStack_Pos58.tif completed after 0.05874854326248169 seconds\n",
      "/groups/CaiLab/personal/Lex/raw/012522_20kdash_3t3/notebook_pyfiles/labeled_images/matched/MMStack_Pos13.tif completed after 0.059839347998301186 seconds\n",
      "/groups/CaiLab/personal/Lex/raw/012522_20kdash_3t3/notebook_pyfiles/labeled_images/matched/MMStack_Pos37.tif completed after 0.0610374132792155 seconds\n",
      "/groups/CaiLab/personal/Lex/raw/012522_20kdash_3t3/notebook_pyfiles/labeled_images/matched/MMStack_Pos31.tif completed after 0.06127696037292481 seconds\n",
      "/groups/CaiLab/personal/Lex/raw/012522_20kdash_3t3/notebook_pyfiles/labeled_images/matched/MMStack_Pos0.tif completed after 0.061748818556467695 seconds\n",
      "/groups/CaiLab/personal/Lex/raw/012522_20kdash_3t3/notebook_pyfiles/labeled_images/matched/MMStack_Pos1.tif completed after 0.06281216541926066 seconds\n",
      "/groups/CaiLab/personal/Lex/raw/012522_20kdash_3t3/notebook_pyfiles/labeled_images/matched/MMStack_Pos47.tif completed after 0.06372215747833251 seconds\n",
      "/groups/CaiLab/personal/Lex/raw/012522_20kdash_3t3/notebook_pyfiles/labeled_images/matched/MMStack_Pos6.tif completed after 0.06372352441151936 seconds\n",
      "/groups/CaiLab/personal/Lex/raw/012522_20kdash_3t3/notebook_pyfiles/labeled_images/matched/MMStack_Pos50.tif completed after 0.06372383435567221 seconds\n",
      "/groups/CaiLab/personal/Lex/raw/012522_20kdash_3t3/notebook_pyfiles/labeled_images/matched/MMStack_Pos17.tif completed after 0.06502736806869507 seconds\n",
      "/groups/CaiLab/personal/Lex/raw/012522_20kdash_3t3/notebook_pyfiles/labeled_images/matched/MMStack_Pos9.tif completed after 0.06522715091705322 seconds\n",
      "/groups/CaiLab/personal/Lex/raw/012522_20kdash_3t3/notebook_pyfiles/labeled_images/matched/MMStack_Pos11.tif completed after 0.06537173986434937 seconds\n",
      "/groups/CaiLab/personal/Lex/raw/012522_20kdash_3t3/notebook_pyfiles/labeled_images/matched/MMStack_Pos29.tif completed after 0.06708608468373617 seconds\n",
      "/groups/CaiLab/personal/Lex/raw/012522_20kdash_3t3/notebook_pyfiles/labeled_images/matched/MMStack_Pos39.tif completed after 0.06812227169672648 seconds\n",
      "/groups/CaiLab/personal/Lex/raw/012522_20kdash_3t3/notebook_pyfiles/labeled_images/matched/MMStack_Pos26.tif completed after 0.06963953574498495 seconds\n",
      "/groups/CaiLab/personal/Lex/raw/012522_20kdash_3t3/notebook_pyfiles/labeled_images/matched/MMStack_Pos20.tif completed after 0.0701404611269633 seconds\n",
      "/groups/CaiLab/personal/Lex/raw/012522_20kdash_3t3/notebook_pyfiles/labeled_images/matched/MMStack_Pos54.tif completed after 0.0710819403330485 seconds\n",
      "/groups/CaiLab/personal/Lex/raw/012522_20kdash_3t3/notebook_pyfiles/labeled_images/matched/MMStack_Pos21.tif completed after 0.07165179252624512 seconds\n",
      "/groups/CaiLab/personal/Lex/raw/012522_20kdash_3t3/notebook_pyfiles/labeled_images/matched/MMStack_Pos16.tif completed after 0.07165406147638957 seconds\n",
      "/groups/CaiLab/personal/Lex/raw/012522_20kdash_3t3/notebook_pyfiles/labeled_images/matched/MMStack_Pos3.tif completed after 0.07173951466878255 seconds\n",
      "/groups/CaiLab/personal/Lex/raw/012522_20kdash_3t3/notebook_pyfiles/labeled_images/matched/MMStack_Pos30.tif completed after 0.07183969815572103 seconds\n",
      "/groups/CaiLab/personal/Lex/raw/012522_20kdash_3t3/notebook_pyfiles/labeled_images/matched/MMStack_Pos41.tif completed after 0.07193367083867391 seconds\n",
      "/groups/CaiLab/personal/Lex/raw/012522_20kdash_3t3/notebook_pyfiles/labeled_images/matched/MMStack_Pos18.tif completed after 0.07266760269800822 seconds\n",
      "/groups/CaiLab/personal/Lex/raw/012522_20kdash_3t3/notebook_pyfiles/labeled_images/matched/MMStack_Pos55.tif completed after 0.07295650243759155 seconds\n"
     ]
    },
    {
     "name": "stdout",
     "output_type": "stream",
     "text": [
      "/groups/CaiLab/personal/Lex/raw/012522_20kdash_3t3/notebook_pyfiles/labeled_images/matched/MMStack_Pos4.tif completed after 0.0732338547706604 seconds\n",
      "/groups/CaiLab/personal/Lex/raw/012522_20kdash_3t3/notebook_pyfiles/labeled_images/matched/MMStack_Pos32.tif completed after 0.0733310063680013 seconds\n",
      "/groups/CaiLab/personal/Lex/raw/012522_20kdash_3t3/notebook_pyfiles/labeled_images/matched/MMStack_Pos56.tif completed after 0.07333213090896606 seconds\n",
      "/groups/CaiLab/personal/Lex/raw/012522_20kdash_3t3/notebook_pyfiles/labeled_images/matched/MMStack_Pos5.tif completed after 0.07396353085835775 seconds\n",
      "/groups/CaiLab/personal/Lex/raw/012522_20kdash_3t3/notebook_pyfiles/labeled_images/matched/MMStack_Pos23.tif completed after 0.07583130995432535 seconds\n"
     ]
    }
   ],
   "source": [
    "#run on all images\n",
    "output_dir = \"/groups/CaiLab/personal/Lex/raw/012522_20kdash_3t3/notebook_pyfiles/edges_deleted/\"\n",
    "edge_deletion_parallel(img_list, output_dir)"
   ]
  },
  {
   "cell_type": "markdown",
   "metadata": {},
   "source": [
    "# Check again"
   ]
  },
  {
   "cell_type": "code",
   "execution_count": 20,
   "metadata": {},
   "outputs": [],
   "source": [
    "#example image\n",
    "check = tf.imread(\"/groups/CaiLab/personal/Lex/raw/012522_20kdash_3t3/notebook_pyfiles/edges_deleted/MMStack_Pos2.tif\")"
   ]
  },
  {
   "cell_type": "code",
   "execution_count": 21,
   "metadata": {},
   "outputs": [
    {
     "data": {
      "text/plain": [
       "<matplotlib.image.AxesImage at 0x7f6120736b50>"
      ]
     },
     "execution_count": 21,
     "metadata": {},
     "output_type": "execute_result"
    },
    {
     "data": {
      "image/png": "[encoded data removed]",
      "text/plain": [
       "<Figure size 432x288 with 1 Axes>"
      ]
     },
     "metadata": {
      "needs_background": "light"
     },
     "output_type": "display_data"
    }
   ],
   "source": [
    "#take a look\n",
    "plt.imshow(check, cmap = \"gray\")"
   ]
  },
  {
   "cell_type": "code",
   "execution_count": 22,
   "metadata": {},
   "outputs": [],
   "source": [
    "#original\n",
    "orig = tf.imread(\"/groups/CaiLab/personal/Lex/raw/012522_20kdash_3t3/notebook_pyfiles/labeled_images/matched/MMStack_Pos2.tif\")"
   ]
  },
  {
   "cell_type": "code",
   "execution_count": 23,
   "metadata": {},
   "outputs": [
    {
     "data": {
      "text/plain": [
       "<matplotlib.image.AxesImage at 0x7f6120728580>"
      ]
     },
     "execution_count": 23,
     "metadata": {},
     "output_type": "execute_result"
    },
    {
     "data": {
      "image/png": "[encoded data removed]",
      "text/plain": [
       "<Figure size 432x288 with 1 Axes>"
      ]
     },
     "metadata": {
      "needs_background": "light"
     },
     "output_type": "display_data"
    }
   ],
   "source": [
    "#check\n",
    "plt.imshow(orig, cmap = \"gray\")"
   ]
  },
  {
   "cell_type": "code",
   "execution_count": null,
   "metadata": {},
   "outputs": [],
   "source": []
  }
 ],
 "metadata": {
  "kernelspec": {
   "display_name": "Python (Cai Lab common)",
   "language": "python",
   "name": "python_env"
  },
  "language_info": {
   "codemirror_mode": {
    "name": "ipython",
    "version": 3
   },
   "file_extension": ".py",
   "mimetype": "text/x-python",
   "name": "python",
   "nbconvert_exporter": "python",
   "pygments_lexer": "ipython3",
   "version": "3.9.1"
  }
 },
 "nbformat": 4,
 "nbformat_minor": 2
}
