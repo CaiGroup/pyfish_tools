{
 "cells": [
  {
   "cell_type": "code",
   "execution_count": 1,
   "metadata": {},
   "outputs": [],
   "source": [
    "import pandas as pd\n",
    "import tifffile as tf\n",
    "from dash_radial_decoding import radial_decoding_parallel\n",
    "from importlib import reload\n",
    "import numpy as np\n",
    "from barcode_key_converter import barcode_key_converter_within"
   ]
  },
  {
   "cell_type": "code",
   "execution_count": 2,
   "metadata": {},
   "outputs": [],
   "source": [
    "# codebook_path = \"/home/chakra/CaiLab/personal/Arun/TestDirectory/Locations/Strictness6_Pos13_Ch3/channel_1.csv\"\n",
    "# codebook = pd.read_csv(codebook_path, index_col=0)\n",
    "# #convert key and export\n",
    "# new_codebook = barcode_key_converter_within(codebook, num_hybs = 32, num_barcodes = 4, ch=1)"
   ]
  },
  {
   "cell_type": "code",
   "execution_count": 3,
   "metadata": {},
   "outputs": [],
   "source": [
    "# new_codebook.to_csv(\"./new_codebook_arun.csv\")"
   ]
  },
  {
   "cell_type": "code",
   "execution_count": 4,
   "metadata": {},
   "outputs": [],
   "source": [
    "import matplotlib.pyplot as plt\n",
    "import seaborn as sns\n",
    "def ambiguity_plots(true_genes,fake_genes):\n",
    "    \"\"\"A function to show ambiguity score distribution\"\"\"\n",
    "    _max = max(len(true_genes[\"ambiguity score\"].unique()),len(fake_genes[\"ambiguity score\"].unique()))\n",
    "    \n",
    "     #output raw distribution \n",
    "    plt.hist(true_genes[\"ambiguity score\"], bins=_max, \n",
    "             alpha=0.5, range = (0, _max), label = \"On Target\", density=False)\n",
    "    plt.hist(fake_genes[\"ambiguity score\"], bins=_max, \n",
    "             alpha =0.5, range = (0, _max), color = \"red\", label = \"Off Target\", density=False)\n",
    "    plt.legend()\n",
    "    plt.ylabel(\"Proportion of On or Off Transcripts\")\n",
    "    plt.xlabel(\"Ambiguity Score\")\n",
    "    sns.despine()\n",
    "    plt.show()\n",
    "    \n",
    "    #ouput normalized distribution\n",
    "    plt.hist(true_genes[\"ambiguity score\"], bins=_max, \n",
    "             alpha=0.5, range = (0, _max), label = \"On Target\", density=True)\n",
    "    plt.hist(fake_genes[\"ambiguity score\"], bins=_max, \n",
    "             alpha =0.5, range = (0, _max), color = \"red\", label = \"Off Target\", density=True)\n",
    "    plt.legend()\n",
    "    plt.ylabel(\"Proportion of On or Off Transcripts\")\n",
    "    plt.xlabel(\"Ambiguity Score\")\n",
    "    sns.despine()\n",
    "    plt.show()"
   ]
  },
  {
   "cell_type": "code",
   "execution_count": 5,
   "metadata": {},
   "outputs": [],
   "source": [
    "location_path = \"./locations_z_0.csv\"\n",
    "#decoded_truth = pd.read_csv(\"\")\n",
    "codebook_path = \"/groups/CaiLab/personal/Lex/data_analysis_code/decoding_files/DASH_Radial_Decoding/new_codebook_arun.csv\"\n",
    "output_dir_new = \"/groups/CaiLab/personal/Lex/data_analysis_code/decoding_files/DASH_Radial_Decoding/decoded/Pos0_arun\""
   ]
  },
  {
   "cell_type": "markdown",
   "metadata": {},
   "source": [
    "For sbatch submissions, request 4 cores and 32 GB ram for maximum speed. Generally should take less than 5 min."
   ]
  },
  {
   "cell_type": "code",
   "execution_count": 6,
   "metadata": {},
   "outputs": [
    {
     "name": "stdout",
     "output_type": "stream",
     "text": [
      "This task took= 4.99 minutes :)\n"
     ]
    }
   ],
   "source": [
    "import time\n",
    "start = time.time()\n",
    "#the radius is essentially the number of pixels (floats acceptable) \n",
    "#depending on camera and object it can be thought of in nm (so 1 pixel ~ 100 nm)\n",
    "radial_decoding_parallel(location_path,codebook_path, n_neighbors=4, \n",
    "                         num_barcodes = 4, radius=np.sqrt(2), diff=1, \n",
    "                         min_seed = 3, hybs=32, output_dir=output_dir_new)\n",
    "\n",
    "print(\"This task took=\", round((time.time()-start)/60, 2), \"minutes :)\")"
   ]
  },
  {
   "cell_type": "code",
   "execution_count": 7,
   "metadata": {},
   "outputs": [],
   "source": [
    "#read in data\n",
    "gene_locations = pd.read_csv(output_dir_new+\"/diff_1_minseed_3_z_0_finalgenes.csv\", index_col = 0)"
   ]
  },
  {
   "cell_type": "code",
   "execution_count": 8,
   "metadata": {},
   "outputs": [
    {
     "data": {
      "text/html": [
       "<div>\n",
       "<style scoped>\n",
       "    .dataframe tbody tr th:only-of-type {\n",
       "        vertical-align: middle;\n",
       "    }\n",
       "\n",
       "    .dataframe tbody tr th {\n",
       "        vertical-align: top;\n",
       "    }\n",
       "\n",
       "    .dataframe thead th {\n",
       "        text-align: right;\n",
       "    }\n",
       "</style>\n",
       "<table border=\"1\" class=\"dataframe\">\n",
       "  <thead>\n",
       "    <tr style=\"text-align: right;\">\n",
       "      <th></th>\n",
       "      <th>genes</th>\n",
       "      <th>x</th>\n",
       "      <th>y</th>\n",
       "      <th>intensity</th>\n",
       "      <th>area</th>\n",
       "      <th>ambiguity score</th>\n",
       "    </tr>\n",
       "  </thead>\n",
       "  <tbody>\n",
       "    <tr>\n",
       "      <th>0</th>\n",
       "      <td>2810021j22rik</td>\n",
       "      <td>588.566333</td>\n",
       "      <td>897.631667</td>\n",
       "      <td>138.437226</td>\n",
       "      <td>9.0</td>\n",
       "      <td>0</td>\n",
       "    </tr>\n",
       "    <tr>\n",
       "      <th>1</th>\n",
       "      <td>2810021j22rik</td>\n",
       "      <td>243.442333</td>\n",
       "      <td>947.416667</td>\n",
       "      <td>529.973426</td>\n",
       "      <td>9.0</td>\n",
       "      <td>0</td>\n",
       "    </tr>\n",
       "    <tr>\n",
       "      <th>2</th>\n",
       "      <td>2810021j22rik</td>\n",
       "      <td>744.775333</td>\n",
       "      <td>416.444333</td>\n",
       "      <td>163.572805</td>\n",
       "      <td>9.0</td>\n",
       "      <td>0</td>\n",
       "    </tr>\n",
       "    <tr>\n",
       "      <th>3</th>\n",
       "      <td>2810021j22rik</td>\n",
       "      <td>570.442000</td>\n",
       "      <td>632.444333</td>\n",
       "      <td>675.916599</td>\n",
       "      <td>9.0</td>\n",
       "      <td>0</td>\n",
       "    </tr>\n",
       "    <tr>\n",
       "      <th>4</th>\n",
       "      <td>2810021j22rik</td>\n",
       "      <td>1352.956750</td>\n",
       "      <td>890.997250</td>\n",
       "      <td>488.975576</td>\n",
       "      <td>9.0</td>\n",
       "      <td>1</td>\n",
       "    </tr>\n",
       "    <tr>\n",
       "      <th>...</th>\n",
       "      <td>...</td>\n",
       "      <td>...</td>\n",
       "      <td>...</td>\n",
       "      <td>...</td>\n",
       "      <td>...</td>\n",
       "      <td>...</td>\n",
       "    </tr>\n",
       "    <tr>\n",
       "      <th>22831</th>\n",
       "      <td>zmynd11</td>\n",
       "      <td>791.469333</td>\n",
       "      <td>367.349000</td>\n",
       "      <td>582.122504</td>\n",
       "      <td>9.0</td>\n",
       "      <td>1</td>\n",
       "    </tr>\n",
       "    <tr>\n",
       "      <th>22832</th>\n",
       "      <td>zmynd11</td>\n",
       "      <td>1512.678667</td>\n",
       "      <td>1730.880333</td>\n",
       "      <td>417.469720</td>\n",
       "      <td>9.0</td>\n",
       "      <td>0</td>\n",
       "    </tr>\n",
       "    <tr>\n",
       "      <th>22833</th>\n",
       "      <td>zmynd11</td>\n",
       "      <td>2017.345333</td>\n",
       "      <td>356.880333</td>\n",
       "      <td>506.077985</td>\n",
       "      <td>9.0</td>\n",
       "      <td>0</td>\n",
       "    </tr>\n",
       "    <tr>\n",
       "      <th>22834</th>\n",
       "      <td>zmynd11</td>\n",
       "      <td>1404.381333</td>\n",
       "      <td>131.213667</td>\n",
       "      <td>291.453541</td>\n",
       "      <td>9.0</td>\n",
       "      <td>0</td>\n",
       "    </tr>\n",
       "    <tr>\n",
       "      <th>22835</th>\n",
       "      <td>zmynd11</td>\n",
       "      <td>203.802667</td>\n",
       "      <td>622.349000</td>\n",
       "      <td>519.518930</td>\n",
       "      <td>9.0</td>\n",
       "      <td>0</td>\n",
       "    </tr>\n",
       "  </tbody>\n",
       "</table>\n",
       "<p>22836 rows × 6 columns</p>\n",
       "</div>"
      ],
      "text/plain": [
       "               genes            x            y   intensity  area  \\\n",
       "0      2810021j22rik   588.566333   897.631667  138.437226   9.0   \n",
       "1      2810021j22rik   243.442333   947.416667  529.973426   9.0   \n",
       "2      2810021j22rik   744.775333   416.444333  163.572805   9.0   \n",
       "3      2810021j22rik   570.442000   632.444333  675.916599   9.0   \n",
       "4      2810021j22rik  1352.956750   890.997250  488.975576   9.0   \n",
       "...              ...          ...          ...         ...   ...   \n",
       "22831        zmynd11   791.469333   367.349000  582.122504   9.0   \n",
       "22832        zmynd11  1512.678667  1730.880333  417.469720   9.0   \n",
       "22833        zmynd11  2017.345333   356.880333  506.077985   9.0   \n",
       "22834        zmynd11  1404.381333   131.213667  291.453541   9.0   \n",
       "22835        zmynd11   203.802667   622.349000  519.518930   9.0   \n",
       "\n",
       "       ambiguity score  \n",
       "0                    0  \n",
       "1                    0  \n",
       "2                    0  \n",
       "3                    0  \n",
       "4                    1  \n",
       "...                ...  \n",
       "22831                1  \n",
       "22832                0  \n",
       "22833                0  \n",
       "22834                0  \n",
       "22835                0  \n",
       "\n",
       "[22836 rows x 6 columns]"
      ]
     },
     "execution_count": 8,
     "metadata": {},
     "output_type": "execute_result"
    }
   ],
   "source": [
    "gene_locations"
   ]
  },
  {
   "cell_type": "code",
   "execution_count": 9,
   "metadata": {},
   "outputs": [],
   "source": [
    "##filter ambiguity\n",
    "#gene_locations_filt = gene_locations_filt[gene_locations_filt[\"ambiguity score\"] < 2]"
   ]
  },
  {
   "cell_type": "code",
   "execution_count": 10,
   "metadata": {},
   "outputs": [],
   "source": [
    "#separate fake genes\n",
    "fake_genes = gene_locations[gene_locations[\"genes\"].str.startswith(\"fake\")]"
   ]
  },
  {
   "cell_type": "code",
   "execution_count": 11,
   "metadata": {},
   "outputs": [],
   "source": [
    "#separate true genes\n",
    "true_genes = gene_locations.drop(fake_genes.index)"
   ]
  },
  {
   "cell_type": "code",
   "execution_count": 12,
   "metadata": {},
   "outputs": [
    {
     "data": {
      "image/png": "[encoded data removed]",
      "text/plain": [
       "<Figure size 432x288 with 1 Axes>"
      ]
     },
     "metadata": {
      "needs_background": "light"
     },
     "output_type": "display_data"
    },
    {
     "data": {
      "image/png": "[encoded data removed]",
      "text/plain": [
       "<Figure size 432x288 with 1 Axes>"
      ]
     },
     "metadata": {
      "needs_background": "light"
     },
     "output_type": "display_data"
    }
   ],
   "source": [
    "ambiguity_plots(true_genes,fake_genes)"
   ]
  },
  {
   "cell_type": "code",
   "execution_count": 13,
   "metadata": {},
   "outputs": [
    {
     "data": {
      "text/plain": [
       "0.04558591697320021"
      ]
     },
     "execution_count": 13,
     "metadata": {},
     "output_type": "execute_result"
    }
   ],
   "source": [
    "#total percent fake for dash decoder\n",
    "len(fake_genes)/(len(true_genes)+len(fake_genes))"
   ]
  },
  {
   "cell_type": "code",
   "execution_count": 14,
   "metadata": {},
   "outputs": [],
   "source": [
    "codebook = pd.read_csv(codebook_path)"
   ]
  },
  {
   "cell_type": "code",
   "execution_count": 15,
   "metadata": {},
   "outputs": [
    {
     "data": {
      "text/plain": [
       "0.3349970302350357"
      ]
     },
     "execution_count": 15,
     "metadata": {},
     "output_type": "execute_result"
    }
   ],
   "source": [
    "#read in codebook\n",
    "codebook = pd.read_csv(codebook_path, index_col=\"Gene\")\n",
    "#calculate false positive rate for dash ouput\n",
    "fakebook = codebook[codebook.index.str.startswith(\"fake\")]\n",
    "\n",
    "M_on = len(codebook)\n",
    "M_off = len(fakebook)\n",
    "N_off = len(fake_genes)\n",
    "N_on = len(true_genes)\n",
    "false_count_freq = N_off/M_off\n",
    "false_positive_counts = M_on*false_count_freq\n",
    "norm_false_positive_rate = false_positive_counts/N_on\n",
    "\n",
    "norm_false_positive_rate"
   ]
  },
  {
   "cell_type": "markdown",
   "metadata": {},
   "source": [
    "# Compare with MATLAB"
   ]
  },
  {
   "cell_type": "code",
   "execution_count": 16,
   "metadata": {},
   "outputs": [],
   "source": [
    "matlab = pd.read_csv(\"/groups/CaiLab/analyses/Arun/08122021_AutomationTestes_SIgnaling_TF/Strictness2_Python_Pos13_20/MMStack_Pos13/Segmentation/Channel_1/gene_locations_assigned_to_cell.csv\")"
   ]
  },
  {
   "cell_type": "code",
   "execution_count": 17,
   "metadata": {},
   "outputs": [],
   "source": [
    "pos13_z0 = matlab[matlab[\"z\"]==0]"
   ]
  },
  {
   "cell_type": "code",
   "execution_count": 18,
   "metadata": {},
   "outputs": [],
   "source": [
    "#separate fake genes\n",
    "fake_genes = gene_locations[gene_locations[\"genes\"].str.startswith(\"fake\")]\n",
    "fake_genes_mat = pos13_z0[pos13_z0[\"gene\"].str.startswith(\"fake\")]"
   ]
  },
  {
   "cell_type": "code",
   "execution_count": 19,
   "metadata": {},
   "outputs": [],
   "source": [
    "#separate true genes\n",
    "true_genes = gene_locations.drop(fake_genes.index)\n",
    "true_genes_mat = pos13_z0 .drop(fake_genes_mat.index)"
   ]
  },
  {
   "cell_type": "code",
   "execution_count": 39,
   "metadata": {},
   "outputs": [
    {
     "data": {
      "text/plain": [
       "0.33897909667786486"
      ]
     },
     "execution_count": 39,
     "metadata": {},
     "output_type": "execute_result"
    }
   ],
   "source": [
    "len(true_genes)/len(true_genes_mat)"
   ]
  },
  {
   "cell_type": "code",
   "execution_count": 20,
   "metadata": {},
   "outputs": [
    {
     "data": {
      "text/plain": [
       "0.04558591697320021"
      ]
     },
     "execution_count": 20,
     "metadata": {},
     "output_type": "execute_result"
    }
   ],
   "source": [
    "#total percent fake for dash decoder\n",
    "len(fake_genes)/(len(true_genes)+len(fake_genes))"
   ]
  },
  {
   "cell_type": "code",
   "execution_count": 21,
   "metadata": {},
   "outputs": [
    {
     "data": {
      "text/plain": [
       "0.09027109627030393"
      ]
     },
     "execution_count": 21,
     "metadata": {},
     "output_type": "execute_result"
    }
   ],
   "source": [
    "#total percent fake for matlab decoder\n",
    "len(fake_genes_mat)/(len(true_genes_mat)+len(fake_genes_mat))"
   ]
  },
  {
   "cell_type": "code",
   "execution_count": 22,
   "metadata": {},
   "outputs": [
    {
     "data": {
      "text/plain": [
       "0.3349970302350357"
      ]
     },
     "execution_count": 22,
     "metadata": {},
     "output_type": "execute_result"
    }
   ],
   "source": [
    "#read in codebook\n",
    "codebook = pd.read_csv(codebook_path, index_col=\"Gene\")\n",
    "#calculate false positive rate for dash ouput\n",
    "fakebook = codebook[codebook.index.str.startswith(\"fake\")]\n",
    "\n",
    "M_on = len(codebook)\n",
    "M_off = len(fakebook)\n",
    "N_off = len(fake_genes)\n",
    "N_on = len(true_genes)\n",
    "false_count_freq = N_off/M_off\n",
    "false_positive_counts = M_on*false_count_freq\n",
    "norm_false_positive_rate = false_positive_counts/N_on\n",
    "\n",
    "norm_false_positive_rate"
   ]
  },
  {
   "cell_type": "code",
   "execution_count": 23,
   "metadata": {},
   "outputs": [
    {
     "data": {
      "text/plain": [
       "0.6959592705654158"
      ]
     },
     "execution_count": 23,
     "metadata": {},
     "output_type": "execute_result"
    }
   ],
   "source": [
    "#calculate false positive rate for matlab decoder\n",
    "fakebook = codebook[codebook.index.str.startswith(\"fake\")]\n",
    "\n",
    "M_on = len(codebook)\n",
    "M_off = len(fakebook)\n",
    "N_off = len(fake_genes_mat)\n",
    "N_on = len(true_genes_mat)\n",
    "false_count_freq = N_off/M_off\n",
    "false_positive_counts = M_on*false_count_freq\n",
    "norm_false_positive_rate_mat = false_positive_counts/N_on\n",
    "\n",
    "norm_false_positive_rate_mat"
   ]
  },
  {
   "cell_type": "code",
   "execution_count": 24,
   "metadata": {},
   "outputs": [
    {
     "name": "stdout",
     "output_type": "stream",
     "text": [
      "difference in genes =  0\n"
     ]
    }
   ],
   "source": [
    "print(\"difference in genes = \", len(set(true_genes_mat[\"gene\"]) - set(true_genes[\"genes\"])))"
   ]
  },
  {
   "cell_type": "code",
   "execution_count": 25,
   "metadata": {},
   "outputs": [
    {
     "name": "stdout",
     "output_type": "stream",
     "text": [
      "difference in fake genes =  1\n"
     ]
    }
   ],
   "source": [
    "print(\"difference in fake genes = \", len(set(fake_genes_mat[\"gene\"]) - set(fake_genes[\"genes\"])))"
   ]
  },
  {
   "cell_type": "code",
   "execution_count": 26,
   "metadata": {},
   "outputs": [],
   "source": [
    "gene_counts_dash_decoder = pd.DataFrame(gene_locations.groupby(['genes']).size()).reset_index()\n",
    "gene_counts_dash_decoder.columns = [\"Genes\",\"DASH Decoder\"]\n",
    "gene_counts_matlab_decoder = pd.DataFrame(pos13_z0.groupby(['gene']).size()).reset_index()\n",
    "gene_counts_matlab_decoder.columns = [\"Genes\",\"MATLAB Decoder\"]"
   ]
  },
  {
   "cell_type": "code",
   "execution_count": 27,
   "metadata": {},
   "outputs": [],
   "source": [
    "comb = pd.merge(gene_counts_matlab_decoder,gene_counts_dash_decoder)"
   ]
  },
  {
   "cell_type": "code",
   "execution_count": 28,
   "metadata": {},
   "outputs": [
    {
     "data": {
      "text/html": [
       "<div>\n",
       "<style scoped>\n",
       "    .dataframe tbody tr th:only-of-type {\n",
       "        vertical-align: middle;\n",
       "    }\n",
       "\n",
       "    .dataframe tbody tr th {\n",
       "        vertical-align: top;\n",
       "    }\n",
       "\n",
       "    .dataframe thead th {\n",
       "        text-align: right;\n",
       "    }\n",
       "</style>\n",
       "<table border=\"1\" class=\"dataframe\">\n",
       "  <thead>\n",
       "    <tr style=\"text-align: right;\">\n",
       "      <th></th>\n",
       "      <th>Genes</th>\n",
       "      <th>MATLAB Decoder</th>\n",
       "      <th>DASH Decoder</th>\n",
       "    </tr>\n",
       "  </thead>\n",
       "  <tbody>\n",
       "    <tr>\n",
       "      <th>0</th>\n",
       "      <td>2810021j22rik</td>\n",
       "      <td>54</td>\n",
       "      <td>14</td>\n",
       "    </tr>\n",
       "    <tr>\n",
       "      <th>1</th>\n",
       "      <td>4931423n10rik</td>\n",
       "      <td>55</td>\n",
       "      <td>14</td>\n",
       "    </tr>\n",
       "    <tr>\n",
       "      <th>2</th>\n",
       "      <td>9130019o22rik</td>\n",
       "      <td>78</td>\n",
       "      <td>16</td>\n",
       "    </tr>\n",
       "    <tr>\n",
       "      <th>3</th>\n",
       "      <td>aatf</td>\n",
       "      <td>311</td>\n",
       "      <td>133</td>\n",
       "    </tr>\n",
       "    <tr>\n",
       "      <th>4</th>\n",
       "      <td>aebp2</td>\n",
       "      <td>165</td>\n",
       "      <td>70</td>\n",
       "    </tr>\n",
       "    <tr>\n",
       "      <th>...</th>\n",
       "      <td>...</td>\n",
       "      <td>...</td>\n",
       "      <td>...</td>\n",
       "    </tr>\n",
       "    <tr>\n",
       "      <th>506</th>\n",
       "      <td>zic2</td>\n",
       "      <td>166</td>\n",
       "      <td>17</td>\n",
       "    </tr>\n",
       "    <tr>\n",
       "      <th>507</th>\n",
       "      <td>zic3</td>\n",
       "      <td>106</td>\n",
       "      <td>24</td>\n",
       "    </tr>\n",
       "    <tr>\n",
       "      <th>508</th>\n",
       "      <td>zkscan14</td>\n",
       "      <td>124</td>\n",
       "      <td>12</td>\n",
       "    </tr>\n",
       "    <tr>\n",
       "      <th>509</th>\n",
       "      <td>zkscan6</td>\n",
       "      <td>91</td>\n",
       "      <td>23</td>\n",
       "    </tr>\n",
       "    <tr>\n",
       "      <th>510</th>\n",
       "      <td>zmynd11</td>\n",
       "      <td>231</td>\n",
       "      <td>59</td>\n",
       "    </tr>\n",
       "  </tbody>\n",
       "</table>\n",
       "<p>511 rows × 3 columns</p>\n",
       "</div>"
      ],
      "text/plain": [
       "             Genes  MATLAB Decoder  DASH Decoder\n",
       "0    2810021j22rik              54            14\n",
       "1    4931423n10rik              55            14\n",
       "2    9130019o22rik              78            16\n",
       "3             aatf             311           133\n",
       "4            aebp2             165            70\n",
       "..             ...             ...           ...\n",
       "506           zic2             166            17\n",
       "507           zic3             106            24\n",
       "508       zkscan14             124            12\n",
       "509        zkscan6              91            23\n",
       "510        zmynd11             231            59\n",
       "\n",
       "[511 rows x 3 columns]"
      ]
     },
     "execution_count": 28,
     "metadata": {},
     "output_type": "execute_result"
    }
   ],
   "source": [
    "comb"
   ]
  },
  {
   "cell_type": "code",
   "execution_count": 29,
   "metadata": {},
   "outputs": [
    {
     "data": {
      "text/plain": [
       "0.97"
      ]
     },
     "execution_count": 29,
     "metadata": {},
     "output_type": "execute_result"
    }
   ],
   "source": [
    "from scipy.stats import linregress\n",
    "#pearson calc\n",
    "linreg = linregress(x = comb[\"MATLAB Decoder\"], y = comb[\"DASH Decoder\"])\n",
    "pearsonr = linreg[2]\n",
    "pearsonr = round(pearsonr,2)\n",
    "pearsonr"
   ]
  },
  {
   "cell_type": "code",
   "execution_count": 30,
   "metadata": {},
   "outputs": [
    {
     "data": {
      "image/png": "[encoded data removed]",
      "text/plain": [
       "<Figure size 432x288 with 1 Axes>"
      ]
     },
     "metadata": {
      "needs_background": "light"
     },
     "output_type": "display_data"
    }
   ],
   "source": [
    "plt.scatter(comb[\"MATLAB Decoder\"],comb[\"DASH Decoder\"], s = 5, alpha=0.5)\n",
    "plt.ylabel(\"DASH Decoder Counts\", fontsize=12)\n",
    "plt.xlabel(\"MATLAB Decoder Counts\", fontsize=12)\n",
    "plt.xticks(fontsize=12, rotation=0)\n",
    "plt.yticks(fontsize=12, rotation=0)\n",
    "plt.annotate(f\"Pearson's r= {pearsonr}\", (1,1000), fontsize=12)\n",
    "sns.despine()"
   ]
  },
  {
   "cell_type": "markdown",
   "metadata": {},
   "source": [
    "# Plot genes on top of raw"
   ]
  },
  {
   "cell_type": "code",
   "execution_count": 31,
   "metadata": {},
   "outputs": [],
   "source": [
    "import plotly.express as px\n",
    "import plotly.graph_objects as go\n",
    "import numpy as np\n",
    "\n",
    "def plot_2d_locs_on_2d_image(df_locs_2d_1, img_2d, zmax=1000):\n",
    "    \n",
    "    #For Plotting 2d image\n",
    "    #-------------------------------------------\n",
    "    fig = px.imshow(\n",
    "        img_2d,\n",
    "        width=700,\n",
    "        height=700,\n",
    "        binary_string=True,\n",
    "        binary_compression_level=4,\n",
    "        binary_backend='pil',\n",
    "        zmax = zmax,\n",
    "        animation_frame=0\n",
    "    )\n",
    "    #-------------------------------------------\n",
    "    \n",
    "    #For Plotting 2d dots\n",
    "    #-------------------------------------------\n",
    "    fig.append_trace(go.Scattergl(\n",
    "        x=df_locs_2d_1.x,\n",
    "        y=df_locs_2d_1.y,\n",
    "        mode='markers',\n",
    "        marker_symbol='cross',\n",
    "        marker=dict(\n",
    "            #maxdisplayed=1000,\n",
    "            size=4\n",
    "            ),\n",
    "        name = \"Gaussian\"\n",
    "        ),1,1\n",
    "    )\n",
    "    #-------------------------------------------\n",
    "    fig.show()"
   ]
  },
  {
   "cell_type": "code",
   "execution_count": 32,
   "metadata": {},
   "outputs": [],
   "source": [
    "# #make collection of images across hyb cycles\n",
    "# pos=0\n",
    "# z=1\n",
    "# image_hyb = []\n",
    "# for i in [13,29,46,58]:\n",
    "#     img_raw = tf.imread(f'/groups/CaiLab/personal/Lex/raw/2020-08-08-takei/notebook_pyfiles/dapi_aligned/HybCycle_{i}/MMStack_Pos{pos}.ome.tif')\n",
    "#     image_hyb.append(img_raw[0][z])"
   ]
  },
  {
   "cell_type": "code",
   "execution_count": 33,
   "metadata": {},
   "outputs": [],
   "source": [
    "#image_hyb = np.array(image_hyb)"
   ]
  },
  {
   "cell_type": "code",
   "execution_count": 34,
   "metadata": {},
   "outputs": [],
   "source": [
    "#new_marv = gene_locations_new[gene_locations_new[\"genes\"]=='Marveld1'].sort_values(\"intensity\").round(4).reset_index(drop=True)"
   ]
  },
  {
   "cell_type": "code",
   "execution_count": 35,
   "metadata": {},
   "outputs": [],
   "source": [
    "#plot_2d_locs_on_2d_image(new_marv, image_hyb, zmax=3000)"
   ]
  },
  {
   "cell_type": "code",
   "execution_count": null,
   "metadata": {},
   "outputs": [],
   "source": []
  }
 ],
 "metadata": {
  "kernelspec": {
   "display_name": "Python (Cai Lab common)",
   "language": "python",
   "name": "python_env"
  },
  "language_info": {
   "codemirror_mode": {
    "name": "ipython",
    "version": 3
   },
   "file_extension": ".py",
   "mimetype": "text/x-python",
   "name": "python",
   "nbconvert_exporter": "python",
   "pygments_lexer": "ipython3",
   "version": "3.9.1"
  }
 },
 "nbformat": 4,
 "nbformat_minor": 2
}
