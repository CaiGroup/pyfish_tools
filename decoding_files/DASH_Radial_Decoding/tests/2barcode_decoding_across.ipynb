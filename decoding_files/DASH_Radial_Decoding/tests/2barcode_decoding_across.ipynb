{
 "cells": [
  {
   "cell_type": "code",
   "execution_count": null,
   "metadata": {},
   "outputs": [],
   "source": [
    "#data wrangling and analysis packages\n",
    "import pandas as pd\n",
    "import tifffile as tf\n",
    "import dash_radial_decoding as drd\n",
    "from importlib import reload\n",
    "import numpy as np\n",
    "#plotting packages and linear regression packages\n",
    "import matplotlib.pyplot as plt\n",
    "import seaborn as sns\n",
    "from scipy.stats import linregress\n",
    "#check ram\n",
    "import psutil"
   ]
  },
  {
   "cell_type": "code",
   "execution_count": null,
   "metadata": {},
   "outputs": [],
   "source": [
    "#get paths\n",
    "location_path = \"/groups/CaiLab/personal/Lex/raw/20k_dash_063021_3t3/notebook_pyfiles/dots_comb/final/MMStack_Pos0/Dot_Locations/locations_z_0.csv\"\n",
    "decoded_truth = pd.read_csv(\"/groups/CaiLab/personal/Lex/raw/20k_dash_063021_3t3/notebook_pyfiles/decoded/Pos_0/Z_Slice_0/pre_seg_diff_0_minseeds_4_filtered.csv\")\n",
    "codebook_path = \"/groups/CaiLab/personal/Lex/raw/20k_dash_063021_3t3/barcode_key/codebook_4channel_12hyb_140nt.csv\"\n",
    "output_dir = \"/groups/CaiLab/personal/Lex/data_analysis_code/decoding_files/DASH_Radial_Decoding/decoded/Pos0\""
   ]
  },
  {
   "cell_type": "code",
   "execution_count": null,
   "metadata": {},
   "outputs": [],
   "source": [
    "pd.read_csv(codebook_path )"
   ]
  },
  {
   "cell_type": "code",
   "execution_count": null,
   "metadata": {},
   "outputs": [],
   "source": [
    "12**4"
   ]
  },
  {
   "cell_type": "code",
   "execution_count": null,
   "metadata": {},
   "outputs": [],
   "source": [
    "drd.radial_decoding_parallel(location_path, codebook_path, n_neighbors=4,\n",
    "                    num_barcodes = 4, radius=np.sqrt(3),diff=0,\n",
    "                    min_seed=4, hybs = 12, output_dir = output_dir, ignore_errors=True)"
   ]
  },
  {
   "cell_type": "markdown",
   "metadata": {},
   "source": [
    "For sbatch submissions, request 4 cores and 32-50 GB ram for maximum speed. Generally should take less than 5 min."
   ]
  },
  {
   "cell_type": "code",
   "execution_count": null,
   "metadata": {},
   "outputs": [],
   "source": [
    "#read in output\n",
    "gene_locations = pd.read_csv(\"./decoded/Pos0/diff_0_minseed_4_z_0_finalgenes.csv\", index_col=0)"
   ]
  },
  {
   "cell_type": "code",
   "execution_count": null,
   "metadata": {},
   "outputs": [],
   "source": [
    "gene_locations"
   ]
  },
  {
   "cell_type": "code",
   "execution_count": null,
   "metadata": {},
   "outputs": [],
   "source": [
    "decoded_truth"
   ]
  },
  {
   "cell_type": "code",
   "execution_count": null,
   "metadata": {},
   "outputs": [],
   "source": [
    "gene_locations[gene_locations[\"genes\"] == gene_locations[\"genes\"][0]].sort_values(\"intensity\")"
   ]
  },
  {
   "cell_type": "code",
   "execution_count": null,
   "metadata": {},
   "outputs": [],
   "source": [
    "decoded_truth[decoded_truth[\"gene\"] == gene_locations[\"genes\"][0]].sort_values(\"intensity\")"
   ]
  },
  {
   "cell_type": "code",
   "execution_count": null,
   "metadata": {},
   "outputs": [],
   "source": [
    "gene_counts_dash_decoder = pd.DataFrame(gene_locations.groupby(['genes']).size()).reset_index()\n",
    "gene_counts_dash_decoder.columns = [\"Genes\",\"DASH Decoder\"]\n",
    "gene_counts_matlab_decoder = pd.DataFrame(decoded_truth.groupby(['gene']).size()).reset_index()\n",
    "gene_counts_matlab_decoder.columns = [\"Genes\",\"MATLAB Decoder\"]"
   ]
  },
  {
   "cell_type": "code",
   "execution_count": null,
   "metadata": {},
   "outputs": [],
   "source": [
    "len(gene_counts_dash_decoder)"
   ]
  },
  {
   "cell_type": "code",
   "execution_count": null,
   "metadata": {},
   "outputs": [],
   "source": [
    "len(gene_counts_matlab_decoder)"
   ]
  },
  {
   "cell_type": "code",
   "execution_count": null,
   "metadata": {},
   "outputs": [],
   "source": [
    "comb = pd.merge(gene_counts_matlab_decoder,gene_counts_dash_decoder)"
   ]
  },
  {
   "cell_type": "code",
   "execution_count": null,
   "metadata": {},
   "outputs": [],
   "source": [
    "comb"
   ]
  },
  {
   "cell_type": "code",
   "execution_count": null,
   "metadata": {},
   "outputs": [],
   "source": [
    "#plotting packages and linear regression packages\n",
    "import matplotlib.pyplot as plt\n",
    "import seaborn as sns\n",
    "from scipy.stats import linregress"
   ]
  },
  {
   "cell_type": "code",
   "execution_count": null,
   "metadata": {},
   "outputs": [],
   "source": [
    "#pearson calc\n",
    "linreg = linregress(x = comb[\"MATLAB Decoder\"], y = comb[\"DASH Decoder\"])\n",
    "pearsonr = linreg[2]\n",
    "pearsonr = round(pearsonr,2)\n",
    "pearsonr"
   ]
  },
  {
   "cell_type": "code",
   "execution_count": null,
   "metadata": {},
   "outputs": [],
   "source": [
    "plt.scatter(comb[\"MATLAB Decoder\"],comb[\"DASH Decoder\"], s = 5, alpha=0.5)\n",
    "plt.ylabel(\"DASH Decoder Counts\", fontsize=12)\n",
    "plt.xlabel(\"MATLAB Decoder Counts\", fontsize=12)\n",
    "plt.xticks(fontsize=12, rotation=0)\n",
    "plt.yticks(fontsize=12, rotation=0)\n",
    "plt.annotate(f\"Pearson's r= {pearsonr}\", (1,100), fontsize=12)\n",
    "sns.despine()"
   ]
  },
  {
   "cell_type": "code",
   "execution_count": null,
   "metadata": {},
   "outputs": [],
   "source": [
    "plt.scatter(comb[\"MATLAB Decoder\"],comb[\"DASH Decoder\"], s = 5, alpha=0.5)\n",
    "plt.ylabel(\"DASH Decoder Counts\", fontsize=12)\n",
    "plt.xlabel(\"MATLAB Decoder Counts\", fontsize=12)\n",
    "plt.xlim(0,40)\n",
    "plt.ylim(0,40)\n",
    "plt.xticks(fontsize=12, rotation=0)\n",
    "plt.yticks(fontsize=12, rotation=0)\n",
    "plt.annotate(f\"Pearson's r= {pearsonr}\", (1,35), fontsize=12)\n",
    "sns.despine()"
   ]
  },
  {
   "cell_type": "code",
   "execution_count": null,
   "metadata": {},
   "outputs": [],
   "source": [
    "#separate fake genes\n",
    "fake_genes = gene_locations[gene_locations[\"genes\"].str.startswith(\"fake\")]\n",
    "fake_genes_mat = decoded_truth[decoded_truth[\"gene\"].str.startswith(\"fake\")]"
   ]
  },
  {
   "cell_type": "code",
   "execution_count": null,
   "metadata": {},
   "outputs": [],
   "source": [
    "#separate true genes\n",
    "true_genes = gene_locations.drop(fake_genes.index)\n",
    "true_genes_mat = decoded_truth.drop(fake_genes_mat.index)"
   ]
  },
  {
   "cell_type": "code",
   "execution_count": null,
   "metadata": {},
   "outputs": [],
   "source": [
    "#dots lost between dash decoder and matlab decoder\n",
    "len(true_genes)-len(true_genes_mat)"
   ]
  },
  {
   "cell_type": "code",
   "execution_count": null,
   "metadata": {},
   "outputs": [],
   "source": [
    "#fold change in dots\n",
    "len(true_genes)/len(true_genes_mat)"
   ]
  },
  {
   "cell_type": "code",
   "execution_count": null,
   "metadata": {},
   "outputs": [],
   "source": [
    "#total percent fake for dash decoder\n",
    "len(fake_genes)/(len(true_genes)+len(fake_genes))"
   ]
  },
  {
   "cell_type": "code",
   "execution_count": null,
   "metadata": {},
   "outputs": [],
   "source": [
    "#total percent fake for matlab decoder\n",
    "len(fake_genes_mat)/(len(true_genes_mat)+len(fake_genes_mat))"
   ]
  },
  {
   "cell_type": "code",
   "execution_count": null,
   "metadata": {},
   "outputs": [],
   "source": [
    "codebook = pd.read_csv(codebook_path, index_col=0)\n",
    "#calculate false positive rate for dash ouput\n",
    "fakebook = codebook[codebook.index.str.startswith(\"fake\")]\n",
    "\n",
    "M_on = len(codebook)\n",
    "M_off = len(fakebook)\n",
    "N_off = len(fake_genes)\n",
    "N_on = len(true_genes)\n",
    "false_count_freq = N_off/M_off\n",
    "false_positive_counts = M_on*false_count_freq\n",
    "norm_false_positive_rate = false_positive_counts/N_on"
   ]
  },
  {
   "cell_type": "code",
   "execution_count": null,
   "metadata": {},
   "outputs": [],
   "source": [
    "norm_false_positive_rate"
   ]
  },
  {
   "cell_type": "code",
   "execution_count": null,
   "metadata": {},
   "outputs": [],
   "source": [
    "#calculate false positive rate for matlab decoder\n",
    "fakebook = codebook[codebook.index.str.startswith(\"fake\")]\n",
    "\n",
    "M_on = len(codebook)\n",
    "M_off = len(fakebook)\n",
    "N_off = len(fake_genes_mat)\n",
    "N_on = len(true_genes_mat)\n",
    "false_count_freq = N_off/M_off\n",
    "false_positive_counts = M_on*false_count_freq\n",
    "norm_false_positive_rate_mat = false_positive_counts/N_on"
   ]
  },
  {
   "cell_type": "code",
   "execution_count": null,
   "metadata": {},
   "outputs": [],
   "source": [
    "norm_false_positive_rate_mat"
   ]
  },
  {
   "cell_type": "code",
   "execution_count": null,
   "metadata": {},
   "outputs": [],
   "source": [
    "len(set(true_genes_mat[\"gene\"])-set(true_genes[\"genes\"]))"
   ]
  },
  {
   "cell_type": "code",
   "execution_count": null,
   "metadata": {},
   "outputs": [],
   "source": [
    "set(true_genes_mat[\"gene\"])-set(true_genes[\"genes\"])"
   ]
  },
  {
   "cell_type": "markdown",
   "metadata": {},
   "source": [
    "# Check RNA-seq"
   ]
  },
  {
   "cell_type": "code",
   "execution_count": null,
   "metadata": {},
   "outputs": [],
   "source": [
    "rnaseq = pd.read_csv(\"/groups/CaiLab/personal/Lex/data_analysis_code/post_analysis_files/nih3t3_FPKM.csv\")"
   ]
  },
  {
   "cell_type": "code",
   "execution_count": null,
   "metadata": {},
   "outputs": [],
   "source": [
    "rnaseq= rnaseq[[\"tracking_id\",\"3T3 B1\"]]\n",
    "rnaseq.columns = [\"Genes\",\"FPKM\"]\n",
    "rnaseq[\"Genes\"]=rnaseq[\"Genes\"].str.lower()"
   ]
  },
  {
   "cell_type": "code",
   "execution_count": null,
   "metadata": {},
   "outputs": [],
   "source": [
    "comb_matlab = pd.merge(rnaseq,gene_counts_matlab_decoder)\n",
    "comb_dash = pd.merge(rnaseq,gene_counts_dash_decoder)"
   ]
  },
  {
   "cell_type": "code",
   "execution_count": null,
   "metadata": {},
   "outputs": [],
   "source": [
    "sort_matlab = comb_matlab.sort_values([\"FPKM\"])\n",
    "sort_dash = comb_dash.sort_values([\"FPKM\"])"
   ]
  },
  {
   "cell_type": "code",
   "execution_count": null,
   "metadata": {},
   "outputs": [],
   "source": [
    "#pearson calc\n",
    "linreg = linregress(x = sort_matlab[\"FPKM\"], y = sort_matlab[\"MATLAB Decoder\"])\n",
    "pearsonr = linreg[2]\n",
    "pearsonr = round(pearsonr,2)\n",
    "pearsonr"
   ]
  },
  {
   "cell_type": "code",
   "execution_count": null,
   "metadata": {},
   "outputs": [],
   "source": [
    "#pearson calc\n",
    "linreg = linregress(x = sort_dash[\"FPKM\"], y = sort_dash[\"DASH Decoder\"])\n",
    "pearsonr = linreg[2]\n",
    "pearsonr = round(pearsonr,2)\n",
    "pearsonr"
   ]
  },
  {
   "cell_type": "markdown",
   "metadata": {},
   "source": [
    "# Overlay on top of raw"
   ]
  },
  {
   "cell_type": "code",
   "execution_count": null,
   "metadata": {},
   "outputs": [],
   "source": [
    "import plotly.express as px\n",
    "import plotly.graph_objects as go\n",
    "import numpy as np\n",
    "\n",
    "def plot_2d_locs_on_2d_image(df_locs_2d_1, img_2d, zmax=1000):\n",
    "    \n",
    "    #For Plotting 2d image\n",
    "    #-------------------------------------------\n",
    "    fig = px.imshow(\n",
    "        img_2d,\n",
    "        width=700,\n",
    "        height=700,\n",
    "        binary_string=True,\n",
    "        binary_compression_level=4,\n",
    "        binary_backend='pil',\n",
    "        zmax = zmax,\n",
    "        animation_frame=0\n",
    "    )\n",
    "    #-------------------------------------------\n",
    "    \n",
    "    #For Plotting 2d dots\n",
    "    #-------------------------------------------\n",
    "    fig.append_trace(go.Scattergl(\n",
    "        x=df_locs_2d_1.x,\n",
    "        y=df_locs_2d_1.y,\n",
    "        mode='markers',\n",
    "        marker_symbol='cross',\n",
    "        marker=dict(\n",
    "            #maxdisplayed=1000,\n",
    "            size=4\n",
    "            ),\n",
    "        name = \"Gaussian\"\n",
    "        ),1,1\n",
    "    )\n",
    "    #-------------------------------------------\n",
    "    fig.show()"
   ]
  },
  {
   "cell_type": "code",
   "execution_count": null,
   "metadata": {},
   "outputs": [],
   "source": [
    "rik = gene_locations[gene_locations[\"genes\"] == gene_locations[\"genes\"].unique()[3]]\n",
    "rik_mat = decoded_truth[decoded_truth[\"gene\"] == gene_locations[\"genes\"].unique()[3]]"
   ]
  },
  {
   "cell_type": "code",
   "execution_count": null,
   "metadata": {},
   "outputs": [],
   "source": [
    "rik"
   ]
  },
  {
   "cell_type": "code",
   "execution_count": null,
   "metadata": {},
   "outputs": [],
   "source": [
    "gene_locations[\"genes\"].unique()[3]"
   ]
  },
  {
   "cell_type": "code",
   "execution_count": null,
   "metadata": {},
   "outputs": [],
   "source": [
    "#make collection of images across hyb cycles\n",
    "pos=0\n",
    "z=0\n",
    "image_hyb = []\n",
    "for i in [0,3,6,11]:\n",
    "    img_raw = tf.imread(f'/groups/CaiLab/personal/Lex/raw/20k_dash_063021_3t3/notebook_pyfiles/aberr_corrected/HybCycle_{i}/MMStack_Pos{pos}.ome.tif')\n",
    "    image_hyb.append(img_raw[z])"
   ]
  },
  {
   "cell_type": "code",
   "execution_count": null,
   "metadata": {},
   "outputs": [],
   "source": [
    "#take certain channels\n",
    "image_hyb_ch = []\n",
    "k=0\n",
    "for i in [2,2,1,0]:\n",
    "    image_hyb_ch.append(image_hyb[k][i])\n",
    "    k += 1"
   ]
  },
  {
   "cell_type": "code",
   "execution_count": null,
   "metadata": {},
   "outputs": [],
   "source": [
    "image_hyb = np.array(image_hyb_ch)"
   ]
  },
  {
   "cell_type": "code",
   "execution_count": null,
   "metadata": {},
   "outputs": [],
   "source": [
    "rik_mat"
   ]
  },
  {
   "cell_type": "code",
   "execution_count": null,
   "metadata": {},
   "outputs": [],
   "source": [
    "rik"
   ]
  },
  {
   "cell_type": "code",
   "execution_count": null,
   "metadata": {},
   "outputs": [],
   "source": [
    "plot_2d_locs_on_2d_image(rik, image_hyb, zmax=4000)"
   ]
  },
  {
   "cell_type": "code",
   "execution_count": null,
   "metadata": {},
   "outputs": [],
   "source": [
    "plot_2d_locs_on_2d_image(rik_mat, image_hyb, zmax=4000)"
   ]
  },
  {
   "cell_type": "code",
   "execution_count": null,
   "metadata": {},
   "outputs": [],
   "source": [
    "mat = decoded_truth[decoded_truth[\"gene\"] == \"pmp2\"]"
   ]
  },
  {
   "cell_type": "code",
   "execution_count": null,
   "metadata": {},
   "outputs": [],
   "source": [
    "mat"
   ]
  },
  {
   "cell_type": "code",
   "execution_count": null,
   "metadata": {},
   "outputs": [],
   "source": [
    "gene_locations[gene_locations[\"genes\"] == \"pmp2\"]"
   ]
  },
  {
   "cell_type": "code",
   "execution_count": null,
   "metadata": {},
   "outputs": [],
   "source": [
    "#make collection of images across hyb cycles\n",
    "pos=0\n",
    "z=0\n",
    "image_hyb = []\n",
    "for i in [2,3,6,11]:\n",
    "    img_raw = tf.imread(f'/groups/CaiLab/personal/Lex/raw/20k_dash_063021_3t3/notebook_pyfiles/aberr_corrected/HybCycle_{i}/MMStack_Pos{pos}.ome.tif')\n",
    "    image_hyb.append(img_raw[z])"
   ]
  },
  {
   "cell_type": "code",
   "execution_count": null,
   "metadata": {},
   "outputs": [],
   "source": [
    "#take certain channels\n",
    "image_hyb_ch = []\n",
    "k=0\n",
    "for i in [2,3,3,1]:\n",
    "    image_hyb_ch.append(image_hyb[k][i])\n",
    "    k += 1"
   ]
  },
  {
   "cell_type": "code",
   "execution_count": null,
   "metadata": {},
   "outputs": [],
   "source": [
    "image_hyb = np.array(image_hyb_ch)"
   ]
  },
  {
   "cell_type": "code",
   "execution_count": null,
   "metadata": {},
   "outputs": [],
   "source": [
    "plot_2d_locs_on_2d_image(mat, image_hyb, zmax=4000)"
   ]
  },
  {
   "cell_type": "code",
   "execution_count": null,
   "metadata": {},
   "outputs": [],
   "source": []
  }
 ],
 "metadata": {
  "kernelspec": {
   "display_name": "Python (Cai Lab common)",
   "language": "python",
   "name": "python_env"
  },
  "language_info": {
   "codemirror_mode": {
    "name": "ipython",
    "version": 3
   },
   "file_extension": ".py",
   "mimetype": "text/x-python",
   "name": "python",
   "nbconvert_exporter": "python",
   "pygments_lexer": "ipython3",
   "version": "3.9.1"
  }
 },
 "nbformat": 4,
 "nbformat_minor": 2
}
