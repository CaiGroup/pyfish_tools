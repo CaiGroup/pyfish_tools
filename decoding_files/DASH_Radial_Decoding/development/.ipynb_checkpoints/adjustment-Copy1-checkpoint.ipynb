{
 "cells": [
  {
   "cell_type": "code",
   "execution_count": 1,
   "metadata": {},
   "outputs": [],
   "source": [
    "#general analysis packages\n",
    "import numpy as np\n",
    "import pandas as pd\n",
    "from importlib import reload\n",
    "import dash_radial_decoding as drd"
   ]
  },
  {
   "cell_type": "code",
   "execution_count": 2,
   "metadata": {},
   "outputs": [],
   "source": [
    "location_path = \"/groups/CaiLab/personal/Lex/raw/Linus_10k_cleared_080918_NIH3T3/notebook_pyfiles/dots_comb/ADCG/Pos_0/locations_z_0.csv\"\n",
    "codebook_path = \"/groups/CaiLab/personal/Lex/raw/Linus_10k_cleared_080918_NIH3T3/barcode_key/codebook_string.csv\"\n",
    "output_dir_new = \"/groups/CaiLab/personal/Lex/data_analysis_code/decoding_files/DASH_Radial_Decoding/development\""
   ]
  },
  {
   "cell_type": "code",
   "execution_count": 3,
   "metadata": {},
   "outputs": [],
   "source": [
    "codebook = pd.read_csv(codebook_path, index_col=0)\n",
    "location = pd.read_csv(location_path)"
   ]
  },
  {
   "cell_type": "code",
   "execution_count": 4,
   "metadata": {},
   "outputs": [
    {
     "data": {
      "text/html": [
       "<div>\n",
       "<style scoped>\n",
       "    .dataframe tbody tr th:only-of-type {\n",
       "        vertical-align: middle;\n",
       "    }\n",
       "\n",
       "    .dataframe tbody tr th {\n",
       "        vertical-align: top;\n",
       "    }\n",
       "\n",
       "    .dataframe thead th {\n",
       "        text-align: right;\n",
       "    }\n",
       "</style>\n",
       "<table border=\"1\" class=\"dataframe\">\n",
       "  <thead>\n",
       "    <tr style=\"text-align: right;\">\n",
       "      <th></th>\n",
       "      <th>Unnamed: 0</th>\n",
       "      <th>hyb</th>\n",
       "      <th>ch</th>\n",
       "      <th>x</th>\n",
       "      <th>y</th>\n",
       "      <th>z</th>\n",
       "      <th>size</th>\n",
       "      <th>intensity</th>\n",
       "    </tr>\n",
       "  </thead>\n",
       "  <tbody>\n",
       "    <tr>\n",
       "      <th>0</th>\n",
       "      <td>0</td>\n",
       "      <td>0</td>\n",
       "      <td>1</td>\n",
       "      <td>35.496967</td>\n",
       "      <td>47.474342</td>\n",
       "      <td>0</td>\n",
       "      <td>1.251960</td>\n",
       "      <td>4735.511773</td>\n",
       "    </tr>\n",
       "    <tr>\n",
       "      <th>1</th>\n",
       "      <td>1</td>\n",
       "      <td>0</td>\n",
       "      <td>1</td>\n",
       "      <td>37.507759</td>\n",
       "      <td>39.487866</td>\n",
       "      <td>0</td>\n",
       "      <td>1.321371</td>\n",
       "      <td>2981.720575</td>\n",
       "    </tr>\n",
       "    <tr>\n",
       "      <th>2</th>\n",
       "      <td>2</td>\n",
       "      <td>0</td>\n",
       "      <td>1</td>\n",
       "      <td>2.752118</td>\n",
       "      <td>29.119482</td>\n",
       "      <td>0</td>\n",
       "      <td>1.364721</td>\n",
       "      <td>2449.489442</td>\n",
       "    </tr>\n",
       "    <tr>\n",
       "      <th>3</th>\n",
       "      <td>3</td>\n",
       "      <td>0</td>\n",
       "      <td>1</td>\n",
       "      <td>18.588521</td>\n",
       "      <td>37.024593</td>\n",
       "      <td>0</td>\n",
       "      <td>1.380081</td>\n",
       "      <td>1699.325928</td>\n",
       "    </tr>\n",
       "    <tr>\n",
       "      <th>4</th>\n",
       "      <td>4</td>\n",
       "      <td>0</td>\n",
       "      <td>1</td>\n",
       "      <td>47.567539</td>\n",
       "      <td>48.493810</td>\n",
       "      <td>0</td>\n",
       "      <td>1.207778</td>\n",
       "      <td>2984.144538</td>\n",
       "    </tr>\n",
       "    <tr>\n",
       "      <th>...</th>\n",
       "      <td>...</td>\n",
       "      <td>...</td>\n",
       "      <td>...</td>\n",
       "      <td>...</td>\n",
       "      <td>...</td>\n",
       "      <td>...</td>\n",
       "      <td>...</td>\n",
       "      <td>...</td>\n",
       "    </tr>\n",
       "    <tr>\n",
       "      <th>2872278</th>\n",
       "      <td>6205968</td>\n",
       "      <td>79</td>\n",
       "      <td>1</td>\n",
       "      <td>766.602554</td>\n",
       "      <td>836.677924</td>\n",
       "      <td>0</td>\n",
       "      <td>1.600000</td>\n",
       "      <td>1596.274052</td>\n",
       "    </tr>\n",
       "    <tr>\n",
       "      <th>2872279</th>\n",
       "      <td>6205969</td>\n",
       "      <td>79</td>\n",
       "      <td>1</td>\n",
       "      <td>767.730267</td>\n",
       "      <td>0.990257</td>\n",
       "      <td>0</td>\n",
       "      <td>1.200000</td>\n",
       "      <td>2341.968393</td>\n",
       "    </tr>\n",
       "    <tr>\n",
       "      <th>2872280</th>\n",
       "      <td>6205970</td>\n",
       "      <td>79</td>\n",
       "      <td>1</td>\n",
       "      <td>1153.362498</td>\n",
       "      <td>1949.623801</td>\n",
       "      <td>0</td>\n",
       "      <td>1.600000</td>\n",
       "      <td>2517.086264</td>\n",
       "    </tr>\n",
       "    <tr>\n",
       "      <th>2872281</th>\n",
       "      <td>6205971</td>\n",
       "      <td>79</td>\n",
       "      <td>1</td>\n",
       "      <td>1279.595584</td>\n",
       "      <td>958.915639</td>\n",
       "      <td>0</td>\n",
       "      <td>1.600000</td>\n",
       "      <td>1001.672175</td>\n",
       "    </tr>\n",
       "    <tr>\n",
       "      <th>2872282</th>\n",
       "      <td>6205972</td>\n",
       "      <td>79</td>\n",
       "      <td>1</td>\n",
       "      <td>1858.551353</td>\n",
       "      <td>901.673958</td>\n",
       "      <td>0</td>\n",
       "      <td>1.600000</td>\n",
       "      <td>965.361665</td>\n",
       "    </tr>\n",
       "  </tbody>\n",
       "</table>\n",
       "<p>2872283 rows × 8 columns</p>\n",
       "</div>"
      ],
      "text/plain": [
       "         Unnamed: 0  hyb  ch            x            y  z      size  \\\n",
       "0                 0    0   1    35.496967    47.474342  0  1.251960   \n",
       "1                 1    0   1    37.507759    39.487866  0  1.321371   \n",
       "2                 2    0   1     2.752118    29.119482  0  1.364721   \n",
       "3                 3    0   1    18.588521    37.024593  0  1.380081   \n",
       "4                 4    0   1    47.567539    48.493810  0  1.207778   \n",
       "...             ...  ...  ..          ...          ... ..       ...   \n",
       "2872278     6205968   79   1   766.602554   836.677924  0  1.600000   \n",
       "2872279     6205969   79   1   767.730267     0.990257  0  1.200000   \n",
       "2872280     6205970   79   1  1153.362498  1949.623801  0  1.600000   \n",
       "2872281     6205971   79   1  1279.595584   958.915639  0  1.600000   \n",
       "2872282     6205972   79   1  1858.551353   901.673958  0  1.600000   \n",
       "\n",
       "           intensity  \n",
       "0        4735.511773  \n",
       "1        2981.720575  \n",
       "2        2449.489442  \n",
       "3        1699.325928  \n",
       "4        2984.144538  \n",
       "...              ...  \n",
       "2872278  1596.274052  \n",
       "2872279  2341.968393  \n",
       "2872280  2517.086264  \n",
       "2872281  1001.672175  \n",
       "2872282   965.361665  \n",
       "\n",
       "[2872283 rows x 8 columns]"
      ]
     },
     "execution_count": 4,
     "metadata": {},
     "output_type": "execute_result"
    }
   ],
   "source": [
    "location"
   ]
  },
  {
   "cell_type": "code",
   "execution_count": 7,
   "metadata": {},
   "outputs": [
    {
     "name": "stdout",
     "output_type": "stream",
     "text": [
      "This task took= 13.21 minutes :)\n"
     ]
    }
   ],
   "source": [
    "import time\n",
    "start = time.time()\n",
    "\n",
    "dot_idx,ambiguity_scores,codeword_score_list,total_distance_list = drd.radial_decoding(\n",
    "    location, codebook, n_neighbors=4,\n",
    "    num_barcodes = 4, radius=1,diff=1,\n",
    "    seed=0, hybs = 80)\n",
    "\n",
    "print(\"This task took=\", round((time.time()-start)/60, 2), \"minutes :)\")"
   ]
  },
  {
   "cell_type": "code",
   "execution_count": 8,
   "metadata": {},
   "outputs": [],
   "source": [
    "filtered_set = [set(i) for i in dot_idx]"
   ]
  },
  {
   "cell_type": "code",
   "execution_count": 9,
   "metadata": {},
   "outputs": [
    {
     "ename": "KeyboardInterrupt",
     "evalue": "",
     "output_type": "error",
     "traceback": [
      "\u001b[0;31m---------------------------------------------------------------------------\u001b[0m",
      "\u001b[0;31mKeyboardInterrupt\u001b[0m                         Traceback (most recent call last)",
      "\u001b[0;32m<ipython-input-9-fab39499da94>\u001b[0m in \u001b[0;36m<module>\u001b[0;34m\u001b[0m\n\u001b[1;32m     11\u001b[0m         \u001b[0;32mcontinue\u001b[0m\u001b[0;34m\u001b[0m\u001b[0m\n\u001b[1;32m     12\u001b[0m     \u001b[0;32mfor\u001b[0m \u001b[0m_search\u001b[0m \u001b[0;32min\u001b[0m \u001b[0msearch_set\u001b[0m\u001b[0;34m:\u001b[0m\u001b[0;34m\u001b[0m\u001b[0m\n\u001b[0;32m---> 13\u001b[0;31m         \u001b[0;32mif\u001b[0m \u001b[0m_set\u001b[0m \u001b[0;34m&\u001b[0m \u001b[0m_search\u001b[0m\u001b[0;34m:\u001b[0m\u001b[0;34m\u001b[0m\u001b[0m\n\u001b[0m\u001b[1;32m     14\u001b[0m             \u001b[0mtemp\u001b[0m\u001b[0;34m.\u001b[0m\u001b[0mappend\u001b[0m\u001b[0;34m(\u001b[0m\u001b[0m_search\u001b[0m\u001b[0;34m)\u001b[0m\u001b[0;34m\u001b[0m\u001b[0m\n\u001b[1;32m     15\u001b[0m     \u001b[0;32mfor\u001b[0m \u001b[0mitem\u001b[0m \u001b[0;32min\u001b[0m \u001b[0mnp\u001b[0m\u001b[0;34m.\u001b[0m\u001b[0munique\u001b[0m\u001b[0;34m(\u001b[0m\u001b[0mlist\u001b[0m\u001b[0;34m(\u001b[0m\u001b[0m_set\u001b[0m\u001b[0;34m)\u001b[0m\u001b[0;34m)\u001b[0m\u001b[0;34m:\u001b[0m\u001b[0;34m\u001b[0m\u001b[0m\n",
      "\u001b[0;31mKeyboardInterrupt\u001b[0m: "
     ]
    }
   ],
   "source": [
    "#group all sets with any matching dot indicies\n",
    "matching_element_list = []\n",
    "#make a copy of list for searching\n",
    "search_set = filtered_set.copy()\n",
    "#keep history of elements\n",
    "history_element = set()\n",
    "#lets group\n",
    "for _set in filtered_set:\n",
    "    temp=[]\n",
    "    if _set & history_element:\n",
    "        continue\n",
    "    for _search in search_set:\n",
    "        if _set & _search:\n",
    "            temp.append(_search)\n",
    "    for item in np.unique(list(_set)):\n",
    "        history_element.add(item)\n",
    "    matching_element_list.append(temp)"
   ]
  },
  {
   "cell_type": "code",
   "execution_count": 10,
   "metadata": {},
   "outputs": [],
   "source": [
    "#isolate only lists > 1\n",
    "filter_list = []\n",
    "for sublist in matching_element_list:\n",
    "    if len(sublist) > 1:\n",
    "        filter_list.append(sublist)"
   ]
  },
  {
   "cell_type": "code",
   "execution_count": 11,
   "metadata": {},
   "outputs": [],
   "source": [
    "#generate hash table for codeword score\n",
    "codeword_hash = {}\n",
    "for i in range(len(codeword_score_list)):\n",
    "    #if the key exists, add the codeword score to existing key\n",
    "    if tuple(sorted(codeword_score_list[i][0])) in codeword_hash:\n",
    "        new_value = codeword_hash[tuple(sorted(codeword_score_list[i][0]))] + codeword_score_list[i][1]\n",
    "        codeword_hash.update({tuple(sorted(codeword_score_list[i][0])):new_value})\n",
    "    else:\n",
    "        codeword_hash.update({tuple(sorted(codeword_score_list[i][0])):codeword_score_list[i][1]})"
   ]
  },
  {
   "cell_type": "code",
   "execution_count": 12,
   "metadata": {},
   "outputs": [],
   "source": [
    "#generate hash table for total distance\n",
    "distance_hash = {}\n",
    "for i in range(len(total_distance_list)):\n",
    "    #if the key exists, add the total distance to existing key\n",
    "    if tuple(sorted(total_distance_list[i][0])) in distance_hash:\n",
    "        new_value = distance_hash[tuple(sorted(total_distance_list[i][0]))] + total_distance_list[i][1]\n",
    "        distance_hash.update({tuple(sorted(total_distance_list[i][0])):new_value})\n",
    "    else:\n",
    "        distance_hash.update({tuple(sorted(total_distance_list[i][0])):total_distance_list[i][1]})"
   ]
  },
  {
   "cell_type": "code",
   "execution_count": 13,
   "metadata": {},
   "outputs": [],
   "source": [
    "def score_codewords(code_list,codeword_hash, distance_hash):\n",
    "    \"\"\"\n",
    "    This function will pick best overall codeword\n",
    "    Parameters\n",
    "    ----------\n",
    "    code_list: list of codword sets we are trying to compare\n",
    "    codeword_hash: a hash table to return overall codeword score\n",
    "    distance_hash: a hash table to return overall distance for codeword\n",
    "    \"\"\"\n",
    "    #keep score and distance for each dot sequence\n",
    "    track_score = []\n",
    "    track_distance = []\n",
    "    for codeword in code_list:\n",
    "        track_score.append(codeword_hash[tuple(sorted(codeword))])\n",
    "        track_distance.append(distance_hash[tuple(sorted(codeword))])\n",
    "    #check if there are equal scores\n",
    "    #if that is the case use pure distance (taking the shortest)\n",
    "    if len(np.where(track_score == np.amax(track_score))[0]) >= 2:\n",
    "        best_code = code_list[np.argmin(track_distance)]\n",
    "    else:\n",
    "        best_code = code_list[np.argmax(track_score)]\n",
    "    \n",
    "    return best_code\n",
    "\n",
    "def recover_codes(code_list, best_codeword):\n",
    "    \"\"\"\n",
    "    This function will try to recover codewords if the dots selected \n",
    "    from score_codewords() function is not repeated in the other choices\n",
    "    Parameters\n",
    "    ----------\n",
    "    code_list: list of codeword sets we analyzed from score_codewords()\n",
    "    best_codeword: the best codeword set chosen from score_codewords()\n",
    "    \"\"\"\n",
    "    #store winner history\n",
    "    winner_history = set()\n",
    "    for unique_dots in best_codeword:\n",
    "        winner_history.add(unique_dots)\n",
    "    #recover codewords if the winner dot sequence does not appear in other choices\n",
    "    recovered_codes = []\n",
    "    for i in range(len(code_list)):\n",
    "        if code_list[i] & winner_history:\n",
    "            continue\n",
    "        else:\n",
    "            recover_code = code_list[i]\n",
    "            recovered_codes.append(recover_code)\n",
    "            \n",
    "    return recovered_codes"
   ]
  },
  {
   "cell_type": "code",
   "execution_count": 16,
   "metadata": {},
   "outputs": [],
   "source": [
    "#pick the best final codewords\n",
    "final_codewords = []\n",
    "for codes in filter_list:\n",
    "    #get best code word list of sets\n",
    "    best_code = score_codewords(codes,codeword_hash, distance_hash)\n",
    "    #store winner\n",
    "    final_codewords.append(best_code)\n",
    "#     #check to see if we can recover any codewords\n",
    "#     recovered_codes = recover_codes(codes, best_code)\n",
    "#     #if there is one returned, we will add to final\n",
    "#     if len(recovered_codes) == 1:\n",
    "#         final_codewords.append(recovered_codes[0])\n",
    "#     #if nothing is returned then we will continue\n",
    "#     elif len(recovered_codes) == 0:\n",
    "#         continue\n",
    "#     #if there is multiple choices we will perform a while loop until the choices become 0\n",
    "#     else:\n",
    "#         while len(recovered_codes) != 0:\n",
    "#             #find the best codeword in recovered list\n",
    "#             best_2 = score_codewords(recovered_codes,codeword_hash, distance_hash)\n",
    "#             final_codewords.append(best_2)\n",
    "#             #check to see if we can recover any codewords again\n",
    "#             recovered_2 = recover_codes(recovered_codes, best_2)\n",
    "#             #if there is one choice returned we can add\n",
    "#             #otherwise we will repeat loop or end loop\n",
    "#             if len(recovered_2) == 1:\n",
    "#                 final_codewords.append(recovered_2[0])\n",
    "#             #reassign recovered_codes\n",
    "#             recovered_codes = recovered_2            "
   ]
  },
  {
   "cell_type": "code",
   "execution_count": 15,
   "metadata": {},
   "outputs": [
    {
     "data": {
      "text/plain": [
       "2773"
      ]
     },
     "execution_count": 15,
     "metadata": {},
     "output_type": "execute_result"
    }
   ],
   "source": [
    "len(final_codewords)"
   ]
  },
  {
   "cell_type": "code",
   "execution_count": 17,
   "metadata": {},
   "outputs": [
    {
     "data": {
      "text/plain": [
       "2436"
      ]
     },
     "execution_count": 17,
     "metadata": {},
     "output_type": "execute_result"
    }
   ],
   "source": [
    "len(final_codewords)"
   ]
  },
  {
   "cell_type": "code",
   "execution_count": null,
   "metadata": {},
   "outputs": [],
   "source": []
  }
 ],
 "metadata": {
  "kernelspec": {
   "display_name": "Python3.7",
   "language": "python",
   "name": "python3.7"
  },
  "language_info": {
   "codemirror_mode": {
    "name": "ipython",
    "version": 3
   },
   "file_extension": ".py",
   "mimetype": "text/x-python",
   "name": "python",
   "nbconvert_exporter": "python",
   "pygments_lexer": "ipython3",
   "version": "3.7.0"
  }
 },
 "nbformat": 4,
 "nbformat_minor": 2
}
