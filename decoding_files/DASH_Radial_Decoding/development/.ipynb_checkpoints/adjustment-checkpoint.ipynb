{
 "cells": [
  {
   "cell_type": "code",
   "execution_count": 1,
   "metadata": {},
   "outputs": [],
   "source": [
    "#general analysis packages\n",
    "import numpy as np\n",
    "import pandas as pd\n",
    "from importlib import reload\n",
    "import dash_radial_decoding as drd"
   ]
  },
  {
   "cell_type": "code",
   "execution_count": 5,
   "metadata": {},
   "outputs": [],
   "source": [
    "location_path = \"/groups/CaiLab/personal/Lex/raw/Linus_10k_cleared_080918_NIH3T3/notebook_pyfiles/dots_comb/ADCG/Pos_0/locations_z_0.csv\"\n",
    "codebook_path = \"/groups/CaiLab/personal/Lex/raw/Linus_10k_cleared_080918_NIH3T3/barcode_key/codebook_string.csv\"\n",
    "output_dir_new = \"/groups/CaiLab/personal/Lex/data_analysis_code/decoding_files/DASH_Radial_Decoding/development\""
   ]
  },
  {
   "cell_type": "code",
   "execution_count": 9,
   "metadata": {},
   "outputs": [],
   "source": [
    "codebook = pd.read_csv(codebook_path, index_col=0)\n",
    "location = pd.read_csv(location_path)"
   ]
  },
  {
   "cell_type": "code",
   "execution_count": 10,
   "metadata": {},
   "outputs": [
    {
     "data": {
      "text/html": [
       "<div>\n",
       "<style scoped>\n",
       "    .dataframe tbody tr th:only-of-type {\n",
       "        vertical-align: middle;\n",
       "    }\n",
       "\n",
       "    .dataframe tbody tr th {\n",
       "        vertical-align: top;\n",
       "    }\n",
       "\n",
       "    .dataframe thead th {\n",
       "        text-align: right;\n",
       "    }\n",
       "</style>\n",
       "<table border=\"1\" class=\"dataframe\">\n",
       "  <thead>\n",
       "    <tr style=\"text-align: right;\">\n",
       "      <th></th>\n",
       "      <th>Unnamed: 0</th>\n",
       "      <th>hyb</th>\n",
       "      <th>ch</th>\n",
       "      <th>x</th>\n",
       "      <th>y</th>\n",
       "      <th>z</th>\n",
       "      <th>size</th>\n",
       "      <th>intensity</th>\n",
       "    </tr>\n",
       "  </thead>\n",
       "  <tbody>\n",
       "    <tr>\n",
       "      <th>0</th>\n",
       "      <td>0</td>\n",
       "      <td>0</td>\n",
       "      <td>1</td>\n",
       "      <td>35.496967</td>\n",
       "      <td>47.474342</td>\n",
       "      <td>0</td>\n",
       "      <td>1.251960</td>\n",
       "      <td>4735.511773</td>\n",
       "    </tr>\n",
       "    <tr>\n",
       "      <th>1</th>\n",
       "      <td>1</td>\n",
       "      <td>0</td>\n",
       "      <td>1</td>\n",
       "      <td>37.507759</td>\n",
       "      <td>39.487866</td>\n",
       "      <td>0</td>\n",
       "      <td>1.321371</td>\n",
       "      <td>2981.720575</td>\n",
       "    </tr>\n",
       "    <tr>\n",
       "      <th>2</th>\n",
       "      <td>2</td>\n",
       "      <td>0</td>\n",
       "      <td>1</td>\n",
       "      <td>2.752118</td>\n",
       "      <td>29.119482</td>\n",
       "      <td>0</td>\n",
       "      <td>1.364721</td>\n",
       "      <td>2449.489442</td>\n",
       "    </tr>\n",
       "    <tr>\n",
       "      <th>3</th>\n",
       "      <td>3</td>\n",
       "      <td>0</td>\n",
       "      <td>1</td>\n",
       "      <td>18.588521</td>\n",
       "      <td>37.024593</td>\n",
       "      <td>0</td>\n",
       "      <td>1.380081</td>\n",
       "      <td>1699.325928</td>\n",
       "    </tr>\n",
       "    <tr>\n",
       "      <th>4</th>\n",
       "      <td>4</td>\n",
       "      <td>0</td>\n",
       "      <td>1</td>\n",
       "      <td>47.567539</td>\n",
       "      <td>48.493810</td>\n",
       "      <td>0</td>\n",
       "      <td>1.207778</td>\n",
       "      <td>2984.144538</td>\n",
       "    </tr>\n",
       "    <tr>\n",
       "      <th>...</th>\n",
       "      <td>...</td>\n",
       "      <td>...</td>\n",
       "      <td>...</td>\n",
       "      <td>...</td>\n",
       "      <td>...</td>\n",
       "      <td>...</td>\n",
       "      <td>...</td>\n",
       "      <td>...</td>\n",
       "    </tr>\n",
       "    <tr>\n",
       "      <th>2872278</th>\n",
       "      <td>6205968</td>\n",
       "      <td>79</td>\n",
       "      <td>1</td>\n",
       "      <td>766.602554</td>\n",
       "      <td>836.677924</td>\n",
       "      <td>0</td>\n",
       "      <td>1.600000</td>\n",
       "      <td>1596.274052</td>\n",
       "    </tr>\n",
       "    <tr>\n",
       "      <th>2872279</th>\n",
       "      <td>6205969</td>\n",
       "      <td>79</td>\n",
       "      <td>1</td>\n",
       "      <td>767.730267</td>\n",
       "      <td>0.990257</td>\n",
       "      <td>0</td>\n",
       "      <td>1.200000</td>\n",
       "      <td>2341.968393</td>\n",
       "    </tr>\n",
       "    <tr>\n",
       "      <th>2872280</th>\n",
       "      <td>6205970</td>\n",
       "      <td>79</td>\n",
       "      <td>1</td>\n",
       "      <td>1153.362498</td>\n",
       "      <td>1949.623801</td>\n",
       "      <td>0</td>\n",
       "      <td>1.600000</td>\n",
       "      <td>2517.086264</td>\n",
       "    </tr>\n",
       "    <tr>\n",
       "      <th>2872281</th>\n",
       "      <td>6205971</td>\n",
       "      <td>79</td>\n",
       "      <td>1</td>\n",
       "      <td>1279.595584</td>\n",
       "      <td>958.915639</td>\n",
       "      <td>0</td>\n",
       "      <td>1.600000</td>\n",
       "      <td>1001.672175</td>\n",
       "    </tr>\n",
       "    <tr>\n",
       "      <th>2872282</th>\n",
       "      <td>6205972</td>\n",
       "      <td>79</td>\n",
       "      <td>1</td>\n",
       "      <td>1858.551353</td>\n",
       "      <td>901.673958</td>\n",
       "      <td>0</td>\n",
       "      <td>1.600000</td>\n",
       "      <td>965.361665</td>\n",
       "    </tr>\n",
       "  </tbody>\n",
       "</table>\n",
       "<p>2872283 rows × 8 columns</p>\n",
       "</div>"
      ],
      "text/plain": [
       "         Unnamed: 0  hyb  ch            x            y  z      size  \\\n",
       "0                 0    0   1    35.496967    47.474342  0  1.251960   \n",
       "1                 1    0   1    37.507759    39.487866  0  1.321371   \n",
       "2                 2    0   1     2.752118    29.119482  0  1.364721   \n",
       "3                 3    0   1    18.588521    37.024593  0  1.380081   \n",
       "4                 4    0   1    47.567539    48.493810  0  1.207778   \n",
       "...             ...  ...  ..          ...          ... ..       ...   \n",
       "2872278     6205968   79   1   766.602554   836.677924  0  1.600000   \n",
       "2872279     6205969   79   1   767.730267     0.990257  0  1.200000   \n",
       "2872280     6205970   79   1  1153.362498  1949.623801  0  1.600000   \n",
       "2872281     6205971   79   1  1279.595584   958.915639  0  1.600000   \n",
       "2872282     6205972   79   1  1858.551353   901.673958  0  1.600000   \n",
       "\n",
       "           intensity  \n",
       "0        4735.511773  \n",
       "1        2981.720575  \n",
       "2        2449.489442  \n",
       "3        1699.325928  \n",
       "4        2984.144538  \n",
       "...              ...  \n",
       "2872278  1596.274052  \n",
       "2872279  2341.968393  \n",
       "2872280  2517.086264  \n",
       "2872281  1001.672175  \n",
       "2872282   965.361665  \n",
       "\n",
       "[2872283 rows x 8 columns]"
      ]
     },
     "execution_count": 10,
     "metadata": {},
     "output_type": "execute_result"
    }
   ],
   "source": [
    "location"
   ]
  },
  {
   "cell_type": "code",
   "execution_count": 11,
   "metadata": {},
   "outputs": [
    {
     "name": "stdout",
     "output_type": "stream",
     "text": [
      "This task took= 11.98 minutes :)\n"
     ]
    }
   ],
   "source": [
    "import time\n",
    "start = time.time()\n",
    "\n",
    "dot_idx,ambiguity_scores,codeword_score_list,total_distance_list = drd.radial_decoding(\n",
    "    location, codebook, n_neighbors=4,\n",
    "    num_barcodes = 4, radius=1,diff=1,\n",
    "    seed=0, hybs = 80)\n",
    "\n",
    "print(\"This task took=\", round((time.time()-start)/60, 2), \"minutes :)\")"
   ]
  },
  {
   "cell_type": "code",
   "execution_count": 20,
   "metadata": {},
   "outputs": [],
   "source": [
    "dot_set = [set(i) for i in dot_idx]"
   ]
  },
  {
   "cell_type": "code",
   "execution_count": 21,
   "metadata": {},
   "outputs": [
    {
     "ename": "KeyboardInterrupt",
     "evalue": "",
     "output_type": "error",
     "traceback": [
      "\u001b[0;31m---------------------------------------------------------------------------\u001b[0m",
      "\u001b[0;31mKeyboardInterrupt\u001b[0m                         Traceback (most recent call last)",
      "\u001b[0;32m<ipython-input-21-764b5f807c76>\u001b[0m in \u001b[0;36m<module>\u001b[0;34m\u001b[0m\n\u001b[0;32m----> 1\u001b[0;31m \u001b[0mcomplete_set\u001b[0m \u001b[0;34m=\u001b[0m \u001b[0mdrd\u001b[0m\u001b[0;34m.\u001b[0m\u001b[0mpick_best_codeword\u001b[0m\u001b[0;34m(\u001b[0m\u001b[0mdot_set\u001b[0m\u001b[0;34m,\u001b[0m \u001b[0mcodeword_score_list\u001b[0m\u001b[0;34m,\u001b[0m\u001b[0mtotal_distance_list\u001b[0m\u001b[0;34m)\u001b[0m\u001b[0;34m\u001b[0m\u001b[0m\n\u001b[0m",
      "\u001b[0;32m/central/groups/CaiLab/personal/Lex/data_analysis_code/decoding_files/DASH_Radial_Decoding/development/dash_radial_decoding.py\u001b[0m in \u001b[0;36mpick_best_codeword\u001b[0;34m(filtered_set, codeword_scores, total_distances)\u001b[0m\n\u001b[1;32m     63\u001b[0m             \u001b[0;32mcontinue\u001b[0m\u001b[0;34m\u001b[0m\u001b[0m\n\u001b[1;32m     64\u001b[0m         \u001b[0;32mfor\u001b[0m \u001b[0m_search\u001b[0m \u001b[0;32min\u001b[0m \u001b[0msearch_set\u001b[0m\u001b[0;34m:\u001b[0m\u001b[0;34m\u001b[0m\u001b[0m\n\u001b[0;32m---> 65\u001b[0;31m             \u001b[0;32mif\u001b[0m \u001b[0m_set\u001b[0m \u001b[0;34m&\u001b[0m \u001b[0m_search\u001b[0m\u001b[0;34m:\u001b[0m\u001b[0;34m\u001b[0m\u001b[0m\n\u001b[0m\u001b[1;32m     66\u001b[0m                 \u001b[0mtemp\u001b[0m\u001b[0;34m.\u001b[0m\u001b[0mappend\u001b[0m\u001b[0;34m(\u001b[0m\u001b[0m_search\u001b[0m\u001b[0;34m)\u001b[0m\u001b[0;34m\u001b[0m\u001b[0m\n\u001b[1;32m     67\u001b[0m         \u001b[0;32mfor\u001b[0m \u001b[0mitem\u001b[0m \u001b[0;32min\u001b[0m \u001b[0mnp\u001b[0m\u001b[0;34m.\u001b[0m\u001b[0munique\u001b[0m\u001b[0;34m(\u001b[0m\u001b[0mlist\u001b[0m\u001b[0;34m(\u001b[0m\u001b[0m_set\u001b[0m\u001b[0;34m)\u001b[0m\u001b[0;34m)\u001b[0m\u001b[0;34m:\u001b[0m\u001b[0;34m\u001b[0m\u001b[0m\n",
      "\u001b[0;31mKeyboardInterrupt\u001b[0m: "
     ]
    }
   ],
   "source": [
    "complete_set = drd.pick_best_codeword(dot_set, codeword_score_list,total_distance_list)"
   ]
  },
  {
   "cell_type": "code",
   "execution_count": null,
   "metadata": {},
   "outputs": [],
   "source": [
    "complete_set"
   ]
  },
  {
   "cell_type": "code",
   "execution_count": null,
   "metadata": {},
   "outputs": [],
   "source": [
    "#write file\n",
    "pd.DataFrame(complete_set).to_csv(\"complete_set.csv\")"
   ]
  },
  {
   "cell_type": "code",
   "execution_count": null,
   "metadata": {},
   "outputs": [],
   "source": []
  }
 ],
 "metadata": {
  "kernelspec": {
   "display_name": "Python3.7",
   "language": "python",
   "name": "python3.7"
  },
  "language_info": {
   "codemirror_mode": {
    "name": "ipython",
    "version": 3
   },
   "file_extension": ".py",
   "mimetype": "text/x-python",
   "name": "python",
   "nbconvert_exporter": "python",
   "pygments_lexer": "ipython3",
   "version": "3.7.0"
  }
 },
 "nbformat": 4,
 "nbformat_minor": 2
}
