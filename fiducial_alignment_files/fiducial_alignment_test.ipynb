{
 "cells": [
  {
   "cell_type": "code",
   "execution_count": null,
   "metadata": {},
   "outputs": [],
   "source": [
    "#basic analysis package\n",
    "import numpy as np\n",
    "import pandas as pd\n",
    "from pathlib import Path\n",
    "import tifffile as tf\n",
    "from importlib import reload\n",
    "from util import pil_imread\n",
    "#custom packages\n",
    "from fiducial_alignment_affine import *"
   ]
  },
  {
   "cell_type": "code",
   "execution_count": null,
   "metadata": {},
   "outputs": [],
   "source": [
    "import plotly.express as px\n",
    "import plotly.graph_objects as go\n",
    "import numpy as np\n",
    "\n",
    "def plot_2d_image(img_2d, zmax=1000, animation = True):\n",
    "    \n",
    "    if animation == True:   \n",
    "    #For Plotting 2d image\n",
    "        #-------------------------------------------\n",
    "        fig = px.imshow(\n",
    "            img_2d,\n",
    "            width=700,\n",
    "            height=700,\n",
    "            binary_string=True,\n",
    "            binary_compression_level=4,\n",
    "            binary_backend='pil',\n",
    "            zmax = zmax,\n",
    "            animation_frame=0\n",
    "        )\n",
    "        #-------------------------------------------\n",
    "\n",
    "        fig.show()\n",
    "    else:\n",
    "        #For Plotting 2d image\n",
    "        #-------------------------------------------\n",
    "        fig = px.imshow(\n",
    "            img_2d,\n",
    "            width=700,\n",
    "            height=700,\n",
    "            binary_string=True,\n",
    "            binary_compression_level=4,\n",
    "            binary_backend='pil',\n",
    "            zmax = zmax,\n",
    "        )\n",
    "        #-------------------------------------------\n",
    "\n",
    "        fig.show()"
   ]
  },
  {
   "cell_type": "code",
   "execution_count": null,
   "metadata": {},
   "outputs": [],
   "source": [
    "def plot_2d_locs_on_2d_image(df_locs_2d_1, img_2d, zmax=1000):\n",
    "    \n",
    "    #For Plotting 2d image\n",
    "    #-------------------------------------------\n",
    "    fig = px.imshow(\n",
    "        img_2d,\n",
    "        width=700,\n",
    "        height=700,\n",
    "        binary_string=True,\n",
    "        binary_compression_level=4,\n",
    "        binary_backend='pil',\n",
    "        zmax = zmax\n",
    "    )\n",
    "    #-------------------------------------------\n",
    "    \n",
    "    #For Plotting 2d dots\n",
    "    #-------------------------------------------\n",
    "    fig.add_trace(go.Scattergl(\n",
    "        x=df_locs_2d_1.x,\n",
    "        y=df_locs_2d_1.y,\n",
    "        mode='markers',\n",
    "        marker_symbol='cross',\n",
    "        marker=dict(\n",
    "            #maxdisplayed=1000,\n",
    "            size=4\n",
    "            ),\n",
    "        name = \"Gaussian\"\n",
    "        )\n",
    "    )\n",
    "    #-------------------------------------------\n",
    "    \n",
    "    fig.show()"
   ]
  },
  {
   "cell_type": "code",
   "execution_count": null,
   "metadata": {},
   "outputs": [],
   "source": [
    "#get image paths\n",
    "Pos = 1\n",
    "bead_src = Path(\"/groups/CaiLab/personal/Lex/raw/082121_12k_nih3t3/fiducials\")\n",
    "bead_src = bead_src / f\"MMStack_Pos{Pos}.ome.tif\"\n",
    "\n",
    "tiff_src = Path(\"/groups/CaiLab/personal/Lex/raw/082121_12k_nih3t3/notebook_pyfiles/dapi_aligned/HybCycle_50\")\n",
    "tiff_src = tiff_src / f\"MMStack_Pos{Pos}.ome.tif\"\n",
    "\n",
    "tiff_src_noalign = Path(\"/groups/CaiLab/personal/Lex/raw/082121_12k_nih3t3/HybCycle_50\")\n",
    "tiff_src_noalign = tiff_src_noalign / f\"MMStack_Pos{Pos}.ome.tif\""
   ]
  },
  {
   "cell_type": "code",
   "execution_count": null,
   "metadata": {},
   "outputs": [],
   "source": [
    "#read in image\n",
    "beads = pil_imread(str(bead_src), swapaxes=True)\n",
    "raw = pil_imread(str(tiff_src),swapaxes=True)"
   ]
  },
  {
   "cell_type": "code",
   "execution_count": null,
   "metadata": {},
   "outputs": [],
   "source": [
    "raw.shape"
   ]
  },
  {
   "cell_type": "code",
   "execution_count": null,
   "metadata": {},
   "outputs": [],
   "source": [
    "beads.shape"
   ]
  },
  {
   "cell_type": "code",
   "execution_count": null,
   "metadata": {},
   "outputs": [],
   "source": [
    "#look at beads\n",
    "plot_2d_image(beads[0], zmax=2000)"
   ]
  },
  {
   "cell_type": "code",
   "execution_count": null,
   "metadata": {},
   "outputs": [],
   "source": [
    "#look at raw\n",
    "plot_2d_image(raw[0], zmax=5000)"
   ]
  },
  {
   "cell_type": "code",
   "execution_count": null,
   "metadata": {},
   "outputs": [],
   "source": [
    "#check how off\n",
    "plot_2d_image(np.array([raw[0][3],beads[0][3]]), zmax=5000)"
   ]
  },
  {
   "cell_type": "markdown",
   "metadata": {},
   "source": [
    "# Test fiducial alignment on one position"
   ]
  },
  {
   "cell_type": "code",
   "execution_count": null,
   "metadata": {},
   "outputs": [],
   "source": [
    "import time\n",
    "start = time.time()\n",
    "\n",
    "image,error = fiducial_alignment_single(tiff_src, bead_src, region_size=9, min_distance=10,\n",
    "                                    threshold_abs=2000, num_peaks=1000, max_dist=1.4,\n",
    "                                    include_dapi=False, swapaxes=True, write=False)\n",
    "print(f\"This task took {(time.time()-start)/60} min\")"
   ]
  },
  {
   "cell_type": "code",
   "execution_count": null,
   "metadata": {},
   "outputs": [],
   "source": [
    "error"
   ]
  },
  {
   "cell_type": "code",
   "execution_count": null,
   "metadata": {},
   "outputs": [],
   "source": [
    "plot_2d_image(image[0], zmax=1000)"
   ]
  },
  {
   "cell_type": "markdown",
   "metadata": {},
   "source": [
    "# Check sbatch"
   ]
  },
  {
   "cell_type": "code",
   "execution_count": null,
   "metadata": {},
   "outputs": [],
   "source": [
    "#get image paths\n",
    "hyb = 50\n",
    "Pos = 1\n",
    "bead_src = Path(\"/groups/CaiLab/personal/Lex/raw/082121_12k_nih3t3/fiducials\")\n",
    "bead_src = bead_src / f\"MMStack_Pos{Pos}.ome.tif\"\n",
    "\n",
    "tiff_src = Path(f\"/groups/CaiLab/personal/Lex/raw/082121_12k_nih3t3/notebook_pyfiles/dapi_aligned/fiducial_aligned/HybCycle_{hyb}\")\n",
    "tiff_src = tiff_src / f\"MMStack_Pos{Pos}.ome.tif\""
   ]
  },
  {
   "cell_type": "code",
   "execution_count": null,
   "metadata": {},
   "outputs": [],
   "source": [
    "#read in image\n",
    "beads = pil_imread(str(bead_src), swapaxes=True)\n",
    "aligned= pil_imread(str(tiff_src),swapaxes=False)"
   ]
  },
  {
   "cell_type": "code",
   "execution_count": null,
   "metadata": {},
   "outputs": [],
   "source": [
    "#check how off\n",
    "plot_2d_image(np.array([aligned[1][0],beads[1][0]]), zmax=4000)"
   ]
  },
  {
   "cell_type": "code",
   "execution_count": null,
   "metadata": {},
   "outputs": [],
   "source": [
    "#check how off\n",
    "plot_2d_image(np.array([aligned[1][1],beads[1][1]]), zmax=4000)"
   ]
  },
  {
   "cell_type": "code",
   "execution_count": null,
   "metadata": {},
   "outputs": [],
   "source": [
    "#check how off\n",
    "plot_2d_image(np.array([aligned[1][2],beads[1][2]]), zmax=4000)"
   ]
  },
  {
   "cell_type": "code",
   "execution_count": null,
   "metadata": {},
   "outputs": [],
   "source": [
    "#check how off\n",
    "plot_2d_image(np.array([aligned[1][3],beads[1][3]]), zmax=4000)"
   ]
  },
  {
   "cell_type": "code",
   "execution_count": null,
   "metadata": {},
   "outputs": [],
   "source": [
    "#check how off\n",
    "plot_2d_image(np.array([aligned[1][4],beads[1][4]]), zmax=500)"
   ]
  },
  {
   "cell_type": "code",
   "execution_count": null,
   "metadata": {},
   "outputs": [],
   "source": [
    "path_to_files =\"/groups/CaiLab/personal/Lex/raw/082121_12k_nih3t3/notebook_pyfiles/dapi_aligned/fiducial_aligned\"\n",
    "plot_error(path_to_files, num_hybcycles = 60, num_channels = 4, savefig = True, by_pos = False)"
   ]
  }
 ],
 "metadata": {
  "kernelspec": {
   "display_name": "Python3.7",
   "language": "python",
   "name": "python3.7"
  },
  "language_info": {
   "codemirror_mode": {
    "name": "ipython",
    "version": 3
   },
   "file_extension": ".py",
   "mimetype": "text/x-python",
   "name": "python",
   "nbconvert_exporter": "python",
   "pygments_lexer": "ipython3",
   "version": "3.7.0"
  }
 },
 "nbformat": 4,
 "nbformat_minor": 2
}
