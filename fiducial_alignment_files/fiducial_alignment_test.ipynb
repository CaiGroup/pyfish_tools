{
 "cells": [
  {
   "cell_type": "code",
   "execution_count": null,
   "metadata": {},
   "outputs": [],
   "source": [
    "#basic analysis package\n",
    "import numpy as np\n",
    "import pandas as pd\n",
    "from pathlib import Path\n",
    "import tifffile as tf\n",
    "from importlib import reload\n",
    "from util import pil_imread\n",
    "#cusom packages\n",
    "import fiducial_alignment_affine as fa_affine"
   ]
  },
  {
   "cell_type": "code",
   "execution_count": null,
   "metadata": {},
   "outputs": [],
   "source": [
    "import plotly.express as px\n",
    "import plotly.graph_objects as go\n",
    "import numpy as np\n",
    "\n",
    "def plot_2d_image(img_2d, zmax=1000, animation = True):\n",
    "    \n",
    "    if animation == True:   \n",
    "    #For Plotting 2d image\n",
    "        #-------------------------------------------\n",
    "        fig = px.imshow(\n",
    "            img_2d,\n",
    "            width=700,\n",
    "            height=700,\n",
    "            binary_string=True,\n",
    "            binary_compression_level=4,\n",
    "            binary_backend='pil',\n",
    "            zmax = zmax,\n",
    "            animation_frame=0\n",
    "        )\n",
    "        #-------------------------------------------\n",
    "\n",
    "        fig.show()\n",
    "    else:\n",
    "        #For Plotting 2d image\n",
    "        #-------------------------------------------\n",
    "        fig = px.imshow(\n",
    "            img_2d,\n",
    "            width=700,\n",
    "            height=700,\n",
    "            binary_string=True,\n",
    "            binary_compression_level=4,\n",
    "            binary_backend='pil',\n",
    "            zmax = zmax,\n",
    "        )\n",
    "        #-------------------------------------------\n",
    "\n",
    "        fig.show()"
   ]
  },
  {
   "cell_type": "code",
   "execution_count": null,
   "metadata": {},
   "outputs": [],
   "source": [
    "def plot_2d_locs_on_2d_image(df_locs_2d_1, img_2d, zmax=1000):\n",
    "    \n",
    "    #For Plotting 2d image\n",
    "    #-------------------------------------------\n",
    "    fig = px.imshow(\n",
    "        img_2d,\n",
    "        width=700,\n",
    "        height=700,\n",
    "        binary_string=True,\n",
    "        binary_compression_level=4,\n",
    "        binary_backend='pil',\n",
    "        zmax = zmax\n",
    "    )\n",
    "    #-------------------------------------------\n",
    "    \n",
    "    #For Plotting 2d dots\n",
    "    #-------------------------------------------\n",
    "    fig.add_trace(go.Scattergl(\n",
    "        x=df_locs_2d_1.x,\n",
    "        y=df_locs_2d_1.y,\n",
    "        mode='markers',\n",
    "        marker_symbol='cross',\n",
    "        marker=dict(\n",
    "            #maxdisplayed=1000,\n",
    "            size=4\n",
    "            ),\n",
    "        name = \"Gaussian\"\n",
    "        )\n",
    "    )\n",
    "    #-------------------------------------------\n",
    "    \n",
    "    fig.show()"
   ]
  },
  {
   "cell_type": "code",
   "execution_count": null,
   "metadata": {},
   "outputs": [],
   "source": [
    "#get image paths\n",
    "Pos = 15\n",
    "bead_src = Path(\"/groups/CaiLab/personal/Lex/raw/050222_150genes4binding/fiducials\")\n",
    "bead_src = bead_src / f\"MMStack_Pos{Pos}.ome.tif\"\n",
    "\n",
    "tiff_src = Path(\"/groups/CaiLab/personal/Lex/raw/050222_150genes4binding/notebook_pyfiles/dapi_aligned/HybCycle_22\")\n",
    "tiff_src = tiff_src / f\"MMStack_Pos{Pos}.ome.tif\"\n",
    "\n",
    "tiff_src_noalign = Path(\"/groups/CaiLab/personal/Lex/raw/050222_150genes4binding/HybCycle_22\")\n",
    "tiff_src_noalign = tiff_src_noalign / f\"MMStack_Pos{Pos}.ome.tif\""
   ]
  },
  {
   "cell_type": "code",
   "execution_count": null,
   "metadata": {},
   "outputs": [],
   "source": [
    "#read in image\n",
    "beads = pil_imread(str(bead_src), swapaxes=True)\n",
    "raw = pil_imread((str(tiff_src)), swapaxes=True)"
   ]
  },
  {
   "cell_type": "code",
   "execution_count": null,
   "metadata": {},
   "outputs": [],
   "source": [
    "raw.shape"
   ]
  },
  {
   "cell_type": "code",
   "execution_count": null,
   "metadata": {},
   "outputs": [],
   "source": [
    "beads.shape"
   ]
  },
  {
   "cell_type": "code",
   "execution_count": null,
   "metadata": {},
   "outputs": [],
   "source": [
    "#look at beads\n",
    "plot_2d_image(beads[0], zmax=2000)"
   ]
  },
  {
   "cell_type": "code",
   "execution_count": null,
   "metadata": {},
   "outputs": [],
   "source": [
    "#look at raw\n",
    "plot_2d_image(raw[0], zmax=500)"
   ]
  },
  {
   "cell_type": "code",
   "execution_count": null,
   "metadata": {},
   "outputs": [],
   "source": [
    "#check how off\n",
    "plot_2d_image(np.array([raw[0][0],beads[0][0]]), zmax=5000)"
   ]
  },
  {
   "cell_type": "markdown",
   "metadata": {},
   "source": [
    "# Test fiducial alignment on one position"
   ]
  },
  {
   "cell_type": "code",
   "execution_count": null,
   "metadata": {},
   "outputs": [],
   "source": [
    "import time\n",
    "start = time.time()\n",
    "\n",
    "image,error = fa_affine.fiducial_alignment_single(tiff_src, bead_src, region_size=9, min_distance=5,\n",
    "                                                  threshold_abs=800, num_peaks=100, max_dist=1.0,ransac_threshold=0.5,\n",
    "                                                  include_dapi=False,use_ref_coord=True, swapaxes=True, write=False)\n",
    "print(f\"This task took {(time.time()-start)/60} min\")"
   ]
  },
  {
   "cell_type": "code",
   "execution_count": null,
   "metadata": {},
   "outputs": [],
   "source": [
    "#look at displacement ([channel, percent change, displacement])\n",
    "error"
   ]
  },
  {
   "cell_type": "code",
   "execution_count": null,
   "metadata": {},
   "outputs": [],
   "source": [
    "#look at image to make sure transform looks normal\n",
    "plot_2d_image(image[0], zmax=3000)"
   ]
  },
  {
   "cell_type": "code",
   "execution_count": null,
   "metadata": {},
   "outputs": [],
   "source": [
    "#check how off\n",
    "plot_2d_image(np.array([beads[0][0],image[0][0]]), zmax=5000)"
   ]
  },
  {
   "cell_type": "markdown",
   "metadata": {},
   "source": [
    "# Check sbatch"
   ]
  },
  {
   "cell_type": "code",
   "execution_count": null,
   "metadata": {},
   "outputs": [],
   "source": [
    "path_to_files =\"/groups/CaiLab/personal/Lex/raw/Linus_10k_cleared_080918_NIH3T3/notebook_pyfiles/dapi_aligned/fiducial_aligned\"\n",
    "fa_affine.plot_error(path_to_files, num_hybcycles = 80, num_channels = 4, savefig = True, by_pos = False)"
   ]
  },
  {
   "cell_type": "code",
   "execution_count": null,
   "metadata": {},
   "outputs": [],
   "source": [
    "path_to_files =\"/groups/CaiLab/personal/Lex/raw/Linus_10k_cleared_080918_NIH3T3/notebook_pyfiles/dapi_aligned/fiducial_aligned_gaussian\"\n",
    "fa_affine.plot_error(path_to_files, num_hybcycles = 80, num_channels = 4, savefig = True, by_pos = False)"
   ]
  },
  {
   "cell_type": "markdown",
   "metadata": {},
   "source": [
    "# Check average fwhm per field of view"
   ]
  },
  {
   "cell_type": "code",
   "execution_count": null,
   "metadata": {},
   "outputs": [],
   "source": [
    "hybs = np.arange(0,23,1)\n",
    "poss = np.arange(0,64,1)\n",
    "bad_pos = []\n",
    "for hyb in hybs:\n",
    "    for pos in poss:\n",
    "        #check if file exists\n",
    "        try:\n",
    "            src = f\"/groups/CaiLab/personal/Lex/raw/050222_150genes4binding/notebook_pyfiles/dapi_aligned/fiducial_aligned/HybCycle_{hyb}/MMStack_Pos{pos}_error.txt\"\n",
    "            error = pd.read_csv(src, sep = \" \", header=None)\n",
    "        except:\n",
    "            bad_pos.append(pos)\n",
    "\n",
    "error_list = []\n",
    "filt_pos = set(poss) - set(bad_pos) \n",
    "for hyb in hybs:\n",
    "    for pos in filt_pos:\n",
    "        src = f\"/groups/CaiLab/personal/Lex/raw/050222_150genes4binding/notebook_pyfiles/dapi_aligned/fiducial_aligned/HybCycle_{hyb}/MMStack_Pos{pos}_error.txt\"\n",
    "        error = pd.read_csv(src, sep = \" \", header=None)\n",
    "        error_list.append(error)"
   ]
  },
  {
   "cell_type": "code",
   "execution_count": null,
   "metadata": {},
   "outputs": [],
   "source": [
    "comb_error = pd.concat(error_list)\n",
    "comb_error.columns = [\"channel\", \"percent improvement\", \"fwhm\"]"
   ]
  },
  {
   "cell_type": "code",
   "execution_count": null,
   "metadata": {},
   "outputs": [],
   "source": [
    "comb_error.groupby(\"channel\").sem()[\"fwhm\"][0]*100"
   ]
  },
  {
   "cell_type": "code",
   "execution_count": null,
   "metadata": {},
   "outputs": [],
   "source": [
    "comb_error.groupby(\"channel\").mean()[\"fwhm\"][0]*100"
   ]
  },
  {
   "cell_type": "code",
   "execution_count": null,
   "metadata": {},
   "outputs": [],
   "source": []
  }
 ],
 "metadata": {
  "kernelspec": {
   "display_name": "Python3.7",
   "language": "python",
   "name": "python3.7"
  },
  "language_info": {
   "codemirror_mode": {
    "name": "ipython",
    "version": 3
   },
   "file_extension": ".py",
   "mimetype": "text/x-python",
   "name": "python",
   "nbconvert_exporter": "python",
   "pygments_lexer": "ipython3",
   "version": "3.7.0"
  }
 },
 "nbformat": 4,
 "nbformat_minor": 2
}
