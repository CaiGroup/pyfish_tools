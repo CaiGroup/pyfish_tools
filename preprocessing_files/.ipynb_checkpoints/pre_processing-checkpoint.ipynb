{
 "cells": [
  {
   "cell_type": "code",
   "execution_count": null,
   "metadata": {},
   "outputs": [],
   "source": [
    "#general analysis packages\n",
    "import numpy as np\n",
    "#directory management\n",
    "import os\n",
    "#plotting packages\n",
    "import matplotlib.pyplot as plt\n",
    "import plotly.express as px\n",
    "#image reading\n",
    "import tifffile as tf\n",
    "from util import pil_imread\n",
    "#import custom functions\n",
    "from pre_processing import *"
   ]
  },
  {
   "cell_type": "code",
   "execution_count": null,
   "metadata": {},
   "outputs": [],
   "source": [
    "def plot_2d_image(img_2d, zmax):\n",
    "    \n",
    "    #For Plotting 2d image\n",
    "    #-------------------------------------------\n",
    "    fig = px.imshow(\n",
    "        img_2d,\n",
    "        width=700,\n",
    "        height=700,\n",
    "        binary_string=True,\n",
    "        binary_compression_level=4,\n",
    "        binary_backend='pil',\n",
    "        zmax = zmax,\n",
    "        animation_frame=0\n",
    "    )\n",
    "    \n",
    "    fig.show()"
   ]
  },
  {
   "cell_type": "code",
   "execution_count": null,
   "metadata": {},
   "outputs": [],
   "source": [
    "def plot_tiff_3d(tiff_ch, vmax=10, figsize=(10,10), log = True):\n",
    "    \"\"\"\n",
    "    Inputs:\n",
    "        tiff_ch : a 3d tiff channel\n",
    "        vmax : increase to decrease brightness, decrease to increase brightness\n",
    "        figsize : Figure Size\n",
    "        log : Takes log of image for visualization\n",
    "    Outputs:\n",
    "        Plots of 3d image\n",
    "    \"\"\"\n",
    "    \n",
    "    #Make Log of tiff for visualization\n",
    "    #----------------------------------------\n",
    "    if log == True:\n",
    "        tiff_ch = np.log(tiff_ch)\n",
    "    #----------------------------------------\n",
    "    \n",
    "    #Loop through each z \n",
    "    #----------------------------------------\n",
    "    for i in range(len(tiff_ch)):\n",
    "        plt.figure(figsize=figsize)\n",
    "        plt.imshow(tiff_ch[i], cmap='gray', vmax=vmax)\n",
    "    #----------------------------------------"
   ]
  },
  {
   "cell_type": "markdown",
   "metadata": {},
   "source": [
    "# Load image"
   ]
  },
  {
   "cell_type": "code",
   "execution_count": null,
   "metadata": {},
   "outputs": [],
   "source": [
    "#path to your hyb data\n",
    "pos=28\n",
    "gen_path =\"../dapi_aligned\"\n",
    "tiff = tf.imread(gen_path + f\"/HybCycle_10/MMStack_Pos{pos}.ome.tif\")\n",
    "#tiff = np.swapaxes(tiff,0,1)\n",
    "\n",
    "#path to your background\n",
    "gen_path = \"../../initial_background\"\n",
    "tiff_bkgrd = tf.imread(gen_path + f\"/MMStack_Pos{pos}.ome.tif\")\n",
    "#tiff_bkgrd = np.swapaxes(tiff_bkgrd,0,1)"
   ]
  },
  {
   "cell_type": "code",
   "execution_count": null,
   "metadata": {},
   "outputs": [],
   "source": [
    "tiff.shape"
   ]
  },
  {
   "cell_type": "code",
   "execution_count": null,
   "metadata": {},
   "outputs": [],
   "source": [
    "tiff_bkgrd.shape"
   ]
  },
  {
   "cell_type": "code",
   "execution_count": null,
   "metadata": {},
   "outputs": [],
   "source": [
    "#check hyb image\n",
    "plot_2d_image(tiff, zmax=1500)"
   ]
  },
  {
   "cell_type": "code",
   "execution_count": null,
   "metadata": {},
   "outputs": [],
   "source": [
    "#check background\n",
    "plot_2d_image(tiff_bkgrd, zmax=1500)"
   ]
  },
  {
   "cell_type": "markdown",
   "metadata": {},
   "source": [
    "# Remove fiducials"
   ]
  },
  {
   "cell_type": "code",
   "execution_count": null,
   "metadata": {},
   "outputs": [],
   "source": [
    "# adj_tiff = remove_fiducials(tiff_bkgrd, tiff, size=9,min_distance=10,threshold_abs=1000,\n",
    "#                        num_peaks=3000, edge='return')"
   ]
  },
  {
   "cell_type": "code",
   "execution_count": null,
   "metadata": {},
   "outputs": [],
   "source": [
    "# plot_2d_image(adj_tiff[1], zmax=3000)"
   ]
  },
  {
   "cell_type": "markdown",
   "metadata": {},
   "source": [
    "# Background Correction"
   ]
  },
  {
   "cell_type": "code",
   "execution_count": null,
   "metadata": {},
   "outputs": [],
   "source": [
    "#check without background subtraction\n",
    "corrected = background_correct_image(tiff,Gaussian_and_Gamma_Correction,stack_bkgrd=None,\n",
    "                                     z=1, size=2048, gamma=1.4, sigma=30)"
   ]
  },
  {
   "cell_type": "code",
   "execution_count": null,
   "metadata": {},
   "outputs": [],
   "source": [
    "plot_2d_image(corrected[0], zmax=1500)"
   ]
  },
  {
   "cell_type": "code",
   "execution_count": null,
   "metadata": {},
   "outputs": [],
   "source": [
    "#check with background subtraction\n",
    "corrected = background_correct_image(tiff,Gaussian_and_Gamma_Correction,\n",
    "                                     stack_bkgrd=tiff_bkgrd, z=1, size=2048, gamma=1.4, sigma=30)"
   ]
  },
  {
   "cell_type": "code",
   "execution_count": null,
   "metadata": {},
   "outputs": [],
   "source": [
    "tiff.shape"
   ]
  },
  {
   "cell_type": "code",
   "execution_count": null,
   "metadata": {},
   "outputs": [],
   "source": [
    "plot_2d_image(corrected[0], zmax=800)"
   ]
  },
  {
   "cell_type": "markdown",
   "metadata": {},
   "source": [
    "# High Pass Gaussian Filter"
   ]
  },
  {
   "cell_type": "markdown",
   "metadata": {},
   "source": [
    "Don't do if you already did background correction."
   ]
  },
  {
   "cell_type": "code",
   "execution_count": null,
   "metadata": {},
   "outputs": [],
   "source": [
    "#hpgb_image = high_pass_gaussian(tiff, kern=19, sigma=40)"
   ]
  },
  {
   "cell_type": "code",
   "execution_count": null,
   "metadata": {},
   "outputs": [],
   "source": [
    "#plot_2d_image(hpgb_image[0], zmax=800)"
   ]
  },
  {
   "cell_type": "markdown",
   "metadata": {},
   "source": [
    "# RL Deconvolution"
   ]
  },
  {
   "cell_type": "code",
   "execution_count": null,
   "metadata": {},
   "outputs": [],
   "source": [
    "#good old Lucy\n",
    "#lb for leica boss and boc for box of chocolates\n",
    "rl_img_hpgb, psf = RL_deconvolution(corrected[:,:4,:,:], kern_rl=5, sigma=(1.8,1.6,1.5,1.3), \n",
    "                   radius=(4,4,4,4), model=\"gaussian\", microscope = \"lb\")"
   ]
  },
  {
   "cell_type": "code",
   "execution_count": null,
   "metadata": {},
   "outputs": [],
   "source": [
    "plt.imshow(psf)"
   ]
  },
  {
   "cell_type": "code",
   "execution_count": null,
   "metadata": {},
   "outputs": [],
   "source": [
    "#deconvolved using a gaussian psf\n",
    "plot_2d_image(rl_img_hpgb[0], zmax=1000)"
   ]
  },
  {
   "cell_type": "code",
   "execution_count": null,
   "metadata": {},
   "outputs": [],
   "source": [
    "#good old Lucy\n",
    "#lb for leica boss and boc for box of chocolates\n",
    "rl_img_hpgb, psf = RL_deconvolution(corrected[:,:4,:,:], kern_rl=5, sigma=(1.8,1.6,1.5,1.3), \n",
    "                   radius=(3,3,3,3), model=\"airy_disc\", microscope = \"lb\")"
   ]
  },
  {
   "cell_type": "code",
   "execution_count": null,
   "metadata": {},
   "outputs": [],
   "source": [
    "plt.imshow(psf)"
   ]
  },
  {
   "cell_type": "code",
   "execution_count": null,
   "metadata": {},
   "outputs": [],
   "source": [
    "np.sum(psf)"
   ]
  },
  {
   "cell_type": "code",
   "execution_count": null,
   "metadata": {},
   "outputs": [],
   "source": [
    "#deconvolved using an airy disc psf\n",
    "plot_2d_image(rl_img_hpgb[0], zmax=1000)"
   ]
  },
  {
   "cell_type": "code",
   "execution_count": null,
   "metadata": {},
   "outputs": [],
   "source": [
    "#compare with non deconvolved\n",
    "plot_2d_image(corrected[0], zmax=800)"
   ]
  },
  {
   "cell_type": "markdown",
   "metadata": {},
   "source": [
    "# Low Pass Gaussian"
   ]
  },
  {
   "cell_type": "code",
   "execution_count": null,
   "metadata": {},
   "outputs": [],
   "source": [
    "#lpgf\n",
    "lpgb = low_pass_gaussian(corrected, kern = 3)"
   ]
  },
  {
   "cell_type": "code",
   "execution_count": null,
   "metadata": {},
   "outputs": [],
   "source": [
    "plot_2d_image(lpgb[0], zmax=1500)"
   ]
  },
  {
   "cell_type": "code",
   "execution_count": null,
   "metadata": {},
   "outputs": [],
   "source": [
    "#check output, also can check if rolling ball will help\n",
    "gen_path =\"../dapi_aligned\"\n",
    "image_path = gen_path + f\"/HybCycle_10/MMStack_Pos{pos}.ome.tif\"\n",
    "gen_path = \"../../initial_background\"\n",
    "backgrd= gen_path +f\"/MMStack_Pos{pos}.ome.tif\"\n",
    "bkgrd_corr_one(image_path, correction_type = Gaussian_and_Gamma_Correction , stack_bkgrd=backgrd, swapaxes=False, \n",
    "                   z=1, size=2048, gamma = 1.4, sigma=30, rb_radius=5, rollingball=False, lowpass=True)"
   ]
  },
  {
   "cell_type": "code",
   "execution_count": null,
   "metadata": {},
   "outputs": [],
   "source": [
    "img = tf.imread('../pre_processed_images/HybCycle_10/MMStack_Pos28.tif')\n",
    "plot_2d_image(img[0], zmax=1500)"
   ]
  },
  {
   "cell_type": "code",
   "execution_count": null,
   "metadata": {},
   "outputs": [],
   "source": [
    "plt.scatter(lpgb[0][0].flatten(), img[0][0].flatten())"
   ]
  },
  {
   "cell_type": "markdown",
   "metadata": {},
   "source": [
    "# Check sbatch"
   ]
  },
  {
   "cell_type": "code",
   "execution_count": null,
   "metadata": {},
   "outputs": [],
   "source": [
    "#corrected\n",
    "gen_path = \"\"\n",
    "tiff = tf.imread(gen_path + \"/HybCycle_0/MMStack_Pos0.ome.tif\")"
   ]
  },
  {
   "cell_type": "code",
   "execution_count": null,
   "metadata": {},
   "outputs": [],
   "source": [
    "tiff.shape"
   ]
  },
  {
   "cell_type": "code",
   "execution_count": null,
   "metadata": {},
   "outputs": [],
   "source": [
    "plot_2d_image(tiff[1], zmax=1500)"
   ]
  },
  {
   "cell_type": "code",
   "execution_count": null,
   "metadata": {},
   "outputs": [],
   "source": []
  }
 ],
 "metadata": {
  "kernelspec": {
   "display_name": "Python (Cai Lab common)",
   "language": "python",
   "name": "python_env"
  },
  "language_info": {
   "codemirror_mode": {
    "name": "ipython",
    "version": 3
   },
   "file_extension": ".py",
   "mimetype": "text/x-python",
   "name": "python",
   "nbconvert_exporter": "python",
   "pygments_lexer": "ipython3",
   "version": "3.9.1"
  }
 },
 "nbformat": 4,
 "nbformat_minor": 2
}
