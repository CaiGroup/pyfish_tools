{
 "cells": [
  {
   "cell_type": "markdown",
   "metadata": {},
   "source": [
    "Author or notebook: Arun Chakravorty"
   ]
  },
  {
   "cell_type": "code",
   "execution_count": null,
   "metadata": {},
   "outputs": [],
   "source": [
    "#general packages\n",
    "import math\n",
    "import numpy as np\n",
    "import pandas as pd\n",
    "import glob\n",
    "import json\n",
    "#image processing packages\n",
    "import tifffile as tf\n",
    "from skimage.measure import regionprops\n",
    "from PIL import Image\n",
    "#plotting packages\n",
    "import seaborn as sns\n",
    "import plotly.express as px\n",
    "import matplotlib.pyplot as plt"
   ]
  },
  {
   "cell_type": "code",
   "execution_count": null,
   "metadata": {},
   "outputs": [],
   "source": [
    "def CreateDictionary(image, pos, positionfile):\n",
    "    '''\n",
    "    From a given ROI map, creates a dictionary of the locations\n",
    "    \n",
    "    Parameters\n",
    "    ----------\n",
    "    image: numpy array of mask\n",
    "    pos: position number\n",
    "    positionfile:dataframe of position information from .pos file\n",
    "    '''\n",
    "    #get information about masks\n",
    "    regions = regionprops(image)\n",
    "    finaldict = dict()\n",
    "    for props in regions:\n",
    "        y0, x0 = props.centroid\n",
    "        # Now need to identify the proper offset\n",
    "        subsetpositionfile = positionfile[positionfile['label'] == 'Pos' + str(int(pos))]\n",
    "        x_final = x0 + subsetpositionfile['xpx'].values[0]\n",
    "        y_final = y0 + subsetpositionfile['ypx'].values[0]\n",
    "        fullkey = 'cell' + str(props.label) + '.0_pos' + str(pos)\n",
    "        finaldict[fullkey] = [x0, y0, x_final, y_final, 'Pos'+str(int(pos))]\n",
    "    return finaldict\n",
    "\n",
    "def CreateDf(dictionary):\n",
    "    tempdf = pd.DataFrame(dictionary)\n",
    "    return tempdf\n",
    "\n",
    "def Merge(dict1, dict2):\n",
    "    return(dict2.update(dict1))\n",
    "\n",
    "def get_stage_positions(filename, px_size=0.11):\n",
    "    \"\"\"\n",
    "    getStagePositions:\n",
    "    Parse a MicroManager position list to return the X,Y,Z\n",
    "    positions and names of each position.\n",
    "    \n",
    "    Parameters\n",
    "    ----------\n",
    "    filename: position file src\n",
    "    px_size: pixel size\n",
    "    \"\"\"\n",
    "\n",
    "    with open(filename) as f:\n",
    "        content = json.load(f)\n",
    "\n",
    "    positions = []\n",
    "\n",
    "    for pos in content['POSITIONS']:\n",
    "\n",
    "        z_name = pos['DEFAULT_Z_STAGE']\n",
    "        xy_name = pos['DEFAULT_XY_STAGE']\n",
    "        \n",
    "        gridcol = pos.get('GRID_COL', -1)\n",
    "        gridrow = pos.get('GRID_ROW', -1)\n",
    "\n",
    "        posinfo = {\n",
    "            'label': pos['LABEL'],\n",
    "            'gridrow': gridrow,\n",
    "            'gridcol': gridcol\n",
    "        }\n",
    "        \n",
    "\n",
    "        for dev in pos['DEVICES']:\n",
    "\n",
    "            if dev['DEVICE'] == z_name:\n",
    "                posinfo['z'] = dev['X']\n",
    "\n",
    "            if dev['DEVICE'] == xy_name:\n",
    "                posinfo['x'] = dev['X']\n",
    "                posinfo['xpx'] = round(dev['X']/px_size)\n",
    "                posinfo['y'] = dev['Y']\n",
    "                posinfo['ypx'] = round(dev['Y']/px_size)\n",
    "\n",
    "        positions.append(posinfo)\n",
    "\n",
    "    return positions"
   ]
  },
  {
   "cell_type": "markdown",
   "metadata": {},
   "source": [
    "### Import the masks "
   ]
  },
  {
   "cell_type": "code",
   "execution_count": null,
   "metadata": {},
   "outputs": [],
   "source": [
    "# Using tifffile to read in an image as a numpy array\n",
    "mask1 = tf.imread('/groups/CaiLab/personal/Lex/raw/051222_150genes_E9.5/notebook_pyfiles/edges_deleted/MMStack_Pos2.ome.tif')\n",
    "mask1.max()"
   ]
  },
  {
   "cell_type": "code",
   "execution_count": null,
   "metadata": {},
   "outputs": [],
   "source": [
    "# Identifying regions\n",
    "regions = regionprops(mask1)\n",
    "len(regions)"
   ]
  },
  {
   "cell_type": "code",
   "execution_count": null,
   "metadata": {},
   "outputs": [],
   "source": [
    "#look at mask\n",
    "plt.imshow((mask1).astype(int), cmap=\"gray\")\n",
    "plt.show()"
   ]
  },
  {
   "cell_type": "markdown",
   "metadata": {},
   "source": [
    "### Test"
   ]
  },
  {
   "cell_type": "code",
   "execution_count": null,
   "metadata": {},
   "outputs": [],
   "source": [
    "#get centroid for each mask\n",
    "sns.reset_orig()\n",
    "\n",
    "fig, ax = plt.subplots()\n",
    "ax.imshow(mask1, cmap=plt.cm.gray)\n",
    "\n",
    "testdict = dict()\n",
    "for props in regions:\n",
    "    #print(props.label)\n",
    "    y0, x0 = props.centroid\n",
    "    testdict[props.label] = [x0, y0]\n",
    "    ax.plot(x0, y0, '.g', markersize=2)"
   ]
  },
  {
   "cell_type": "code",
   "execution_count": null,
   "metadata": {},
   "outputs": [],
   "source": [
    "testdict = CreateDf(testdict)\n",
    "testdict.T"
   ]
  },
  {
   "cell_type": "markdown",
   "metadata": {},
   "source": [
    "### Position offsets "
   ]
  },
  {
   "cell_type": "code",
   "execution_count": null,
   "metadata": {},
   "outputs": [],
   "source": [
    "#read in position file\n",
    "pos_file = '/groups/CaiLab/personal/Lex/raw/051222_150genes_E9.5/section2.pos'"
   ]
  },
  {
   "cell_type": "code",
   "execution_count": null,
   "metadata": {},
   "outputs": [],
   "source": [
    "#get information\n",
    "positions = get_stage_positions(pos_file)\n",
    "pos_df = pd.DataFrame(positions)\n",
    "\n",
    "for i in pos_df.index.values:\n",
    "    pos_df.loc[i,'label'] = 'Pos'+str(i)"
   ]
  },
  {
   "cell_type": "code",
   "execution_count": null,
   "metadata": {},
   "outputs": [],
   "source": [
    "pos_df"
   ]
  },
  {
   "cell_type": "markdown",
   "metadata": {},
   "source": [
    "### Defining Function"
   ]
  },
  {
   "cell_type": "code",
   "execution_count": null,
   "metadata": {
    "scrolled": false
   },
   "outputs": [],
   "source": [
    "#create dictionary \n",
    "newdict = dict()\n",
    "for pos in range(0,98): \n",
    "    filename = f'/groups/CaiLab/personal/Lex/raw/051222_150genes_E9.5/notebook_pyfiles/edges_deleted/MMStack_Pos{pos}.ome.tif'\n",
    "    image = np.flipud(tf.imread(filename))\n",
    "    tempdict = CreateDictionary(image, pos, pos_df)\n",
    "    newdict.update(tempdict)"
   ]
  },
  {
   "cell_type": "code",
   "execution_count": null,
   "metadata": {},
   "outputs": [],
   "source": [
    "#transpose and rename columns\n",
    "CellLocationsAndPositions = pd.DataFrame(newdict).T\n",
    "CellLocationsAndPositions = CellLocationsAndPositions.rename(columns = {0: \"X_rel\", 1: \"Y_rel\", 2: \"X_final\", 3: \"Y_final\", 4: \"Pos\"})"
   ]
  },
  {
   "cell_type": "code",
   "execution_count": null,
   "metadata": {},
   "outputs": [],
   "source": [
    "CellLocationsAndPositions"
   ]
  },
  {
   "cell_type": "code",
   "execution_count": null,
   "metadata": {},
   "outputs": [],
   "source": [
    "sns.set(rc={'figure.figsize':(100,100)})\n",
    "sns.scatterplot(data = CellLocationsAndPositions, x='X_final', y='Y_final')\n",
    "plt.show()"
   ]
  },
  {
   "cell_type": "code",
   "execution_count": null,
   "metadata": {},
   "outputs": [],
   "source": [
    "#CellLocationsAndPositions.to_csv('/groups/CaiLab/personal/Arun/raw/20220305_TestesAutomation/notebook_pyfiles/post_analysis_files/calculated_cell_locations.csv')"
   ]
  }
 ],
 "metadata": {
  "kernelspec": {
   "display_name": "Python3.7",
   "language": "python",
   "name": "python3.7"
  },
  "language_info": {
   "codemirror_mode": {
    "name": "ipython",
    "version": 3
   },
   "file_extension": ".py",
   "mimetype": "text/x-python",
   "name": "python",
   "nbconvert_exporter": "python",
   "pygments_lexer": "ipython3",
   "version": "3.7.0"
  }
 },
 "nbformat": 4,
 "nbformat_minor": 2
}
