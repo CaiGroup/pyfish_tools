{
 "cells": [
  {
   "cell_type": "code",
   "execution_count": null,
   "metadata": {},
   "outputs": [],
   "source": [
    "#general packages\n",
    "import pandas as pd\n",
    "import numpy as np\n",
    "#plotting packages\n",
    "import seaborn as sns\n",
    "import matplotlib.pyplot as plt\n",
    "#pearsonr package\n",
    "from scipy.stats import pearsonr\n",
    "#import custom package\n",
    "from helpers.stain_intron_quant_main import gen_figure"
   ]
  },
  {
   "cell_type": "markdown",
   "metadata": {},
   "source": [
    "## Make figures"
   ]
  },
  {
   "cell_type": "code",
   "execution_count": null,
   "metadata": {},
   "outputs": [],
   "source": [
    "#read in results\n",
    "info = pd.read_csv(\"./results/Hes1_vs_EU.csv\", index_col=0)\n",
    "introns=pd.read_csv(\"./results/intron_spot_info.csv\", index_col=0)"
   ]
  },
  {
   "cell_type": "code",
   "execution_count": null,
   "metadata": {},
   "outputs": [],
   "source": [
    "#show different times\n",
    "info[\"Time\"].unique()"
   ]
  },
  {
   "cell_type": "code",
   "execution_count": null,
   "metadata": {},
   "outputs": [],
   "source": [
    "#get mean stain intensity per time\n",
    "mean_values = info.groupby(\"Time\").mean()\n",
    "mean_values.index = mean_values.index.str.strip()\n",
    "mean_values_sorted = mean_values.reindex([\"0h\", \"1h\", \"1.5h\", \"2h\", \"2.5h\", \"3h\",\"4h\",\"5h\",\"6h\"])"
   ]
  },
  {
   "cell_type": "code",
   "execution_count": null,
   "metadata": {},
   "outputs": [],
   "source": [
    "#get intron counts per cell by time\n",
    "intron_counts_per_cell = []\n",
    "for time in introns[\"Time\"].unique():\n",
    "    counts_per_cell = pd.DataFrame(introns[introns[\"Time\"] == time].groupby(\"cell id\").size())\n",
    "    counts_per_cell.columns = [\"Counts\"]\n",
    "    counts_per_cell[\"Time\"] = time\n",
    "    intron_counts_per_cell.append(counts_per_cell)\n",
    "final_introns = pd.concat(intron_counts_per_cell)"
   ]
  },
  {
   "cell_type": "code",
   "execution_count": null,
   "metadata": {},
   "outputs": [],
   "source": [
    "#get mean intron counts per cell\n",
    "final_intron_mean = final_introns.groupby(\"Time\").mean()\n",
    "final_intron_mean.index = final_intron_mean.index.str.strip()\n",
    "final_intron_mean_sorted = final_intron_mean.reindex([\"0h\", \"1h\", \"1.5h\", \"2h\", \"2.5h\", \"3h\",\"4h\",\"5h\",\"6h\"])"
   ]
  },
  {
   "cell_type": "code",
   "execution_count": null,
   "metadata": {},
   "outputs": [],
   "source": [
    "#cells per time point\n",
    "final_introns.groupby(\"Time\").size()"
   ]
  },
  {
   "cell_type": "code",
   "execution_count": null,
   "metadata": {},
   "outputs": [],
   "source": [
    "#make figure nice\n",
    "plt.figure(dpi=150)\n",
    "#mean line plots per stain\n",
    "plt.plot(mean_values_sorted.index, mean_values_sorted[\"Hes1\"], color = \"gray\", linewidth = 1, label = \"Hes1\")\n",
    "plt.plot(mean_values_sorted.index, mean_values_sorted[\"EU\"], color = \"red\", linewidth = 1, label = \"EU\")\n",
    "#plot legend outside image\n",
    "plt.legend(bbox_to_anchor=(1.0, 1.05))\n",
    "\n",
    "#make strip plot of cells\n",
    "sns.stripplot(x = info[\"Time\"], y = info[\"Hes1\"], alpha = 0.2, \n",
    "              color = \"gray\",  order = [\"0h\", \"1h\", \"1.5h\", \"2h\", \"2.5h\", \"3h\",\"4h\",\"5h\",\"6h\"], label = \"Hes1\")\n",
    "sns.stripplot(x = info[\"Time\"], y = info[\"EU\"], alpha = 0.2, \n",
    "              color = \"red\",  order = [\"0h\", \"1h\", \"1.5h\", \"2h\", \"2.5h\", \"3h\",\"4h\",\"5h\",\"6h\"], label = \"EU\")\n",
    "\n",
    "\n",
    "plt.ylabel(\"Mean Intensity (a.u.)\", fontsize=12)\n",
    "plt.xlabel(\"Time\", fontsize=12)\n",
    "sns.despine()\n",
    "plt.ylim(0,20000)\n",
    "plt.show()\n",
    "\n",
    "plt.figure(dpi=150)\n",
    "plt.plot(final_intron_mean_sorted.index, final_intron_mean_sorted[\"Counts\"], color = \"blue\", linewidth = 1, label = \"Introns\")\n",
    "sns.despine()\n",
    "plt.xlabel(\"Time\")\n",
    "plt.ylabel(\"Mean Intron Counts/Cell\")\n",
    "plt.show()"
   ]
  },
  {
   "cell_type": "markdown",
   "metadata": {},
   "source": [
    "## Get R values"
   ]
  },
  {
   "cell_type": "code",
   "execution_count": null,
   "metadata": {},
   "outputs": [],
   "source": [
    "def calc_pearsonr(df):\n",
    "    \"\"\"\n",
    "    Function to calculate correlation between two stains\n",
    "    \"\"\"\n",
    "    column_names = df.columns\n",
    "    time_r = []\n",
    "    for time in df[\"Time\"].unique():\n",
    "        df_time = df[df[\"Time\"]==time]\n",
    "        stain1 = df_time[f\"{column_names[1]}\"].values\n",
    "        stain2 = df_time[f\"{column_names[2]}\"].values\n",
    "        r = pearsonr(stain1,stain2)[0]\n",
    "        time_r.append([time,r])\n",
    "        \n",
    "    time_r = pd.DataFrame(time_r)\n",
    "    time_r.columns = [\"Time\", \"Pearson's R\"]\n",
    "        \n",
    "    return time_r"
   ]
  },
  {
   "cell_type": "code",
   "execution_count": null,
   "metadata": {},
   "outputs": [],
   "source": [
    "#hes vs eu\n",
    "hes_v_eu = calc_pearsonr(info)"
   ]
  },
  {
   "cell_type": "code",
   "execution_count": null,
   "metadata": {},
   "outputs": [],
   "source": [
    "for time in hes_v_eu[\"Time\"].unique():\n",
    "    info_slice = info[info[\"Time\"]==time]\n",
    "    r_info = hes_v_eu[hes_v_eu[\"Time\"] == time].iloc[0][1]\n",
    "    plt = gen_figure(info_slice, time_course=False, no_intercept=True)\n",
    "    max_y = plt.yticks()[0][len(plt.yticks()[0])-2]\n",
    "    plt.annotate(f\"Pearson's R = {round(r_info,2)}\", (0,max_y))\n",
    "    plt.show()"
   ]
  },
  {
   "cell_type": "code",
   "execution_count": null,
   "metadata": {},
   "outputs": [],
   "source": [
    "#reorganize intron counts df\n",
    "final_introns = final_introns.reset_index()\n",
    "final_introns.columns = [\"Cell id\", \"Counts\", \"Time\"]"
   ]
  },
  {
   "cell_type": "code",
   "execution_count": null,
   "metadata": {},
   "outputs": [],
   "source": [
    "#merge dfs\n",
    "df_merged = pd.merge(info, final_introns, on=[\"Cell id\", \"Time\"], how='inner')"
   ]
  },
  {
   "cell_type": "code",
   "execution_count": null,
   "metadata": {},
   "outputs": [],
   "source": [
    "#pearson r for Hes1 vs intron counts\n",
    "df_merged_iso = df_merged[[\"Cell id\",\"Hes1\", \"Counts\", \"Time\"]]\n",
    "hes_v_introns = calc_pearsonr(df_merged_iso)"
   ]
  },
  {
   "cell_type": "code",
   "execution_count": null,
   "metadata": {},
   "outputs": [],
   "source": [
    "for time in hes_v_introns[\"Time\"].unique():\n",
    "    info_slice = df_merged_iso[df_merged_iso[\"Time\"]==time]\n",
    "    r_info = hes_v_introns[hes_v_introns[\"Time\"] == time].iloc[0][1]\n",
    "    plt = gen_figure(info_slice, time_course=False, no_intercept=True)\n",
    "    max_y = plt.yticks()[0][len(plt.yticks()[0])-2]\n",
    "    plt.annotate(f\"Pearson's R = {round(r_info,2)}\", (0,max_y))\n",
    "    plt.show()"
   ]
  },
  {
   "cell_type": "code",
   "execution_count": null,
   "metadata": {},
   "outputs": [],
   "source": [
    "#pearson r for Eu vs intron counts\n",
    "df_merged_iso = df_merged[[\"Cell id\",\"EU\", \"Counts\", \"Time\"]]\n",
    "eu_v_introns = calc_pearsonr(df_merged_iso)"
   ]
  },
  {
   "cell_type": "code",
   "execution_count": null,
   "metadata": {},
   "outputs": [],
   "source": [
    "for time in hes_v_eu[\"Time\"].unique():\n",
    "    info_slice = df_merged_iso[df_merged_iso[\"Time\"]==time]\n",
    "    r_info = eu_v_introns[eu_v_introns[\"Time\"] == time].iloc[0][1]\n",
    "    plt = gen_figure(info_slice, time_course=False, no_intercept=True)\n",
    "    max_y = plt.yticks()[0][len(plt.yticks()[0])-2]\n",
    "    plt.annotate(f\"Pearson's R = {round(r_info,2)}\", (0,max_y))\n",
    "    plt.show()"
   ]
  },
  {
   "cell_type": "code",
   "execution_count": null,
   "metadata": {},
   "outputs": [],
   "source": []
  }
 ],
 "metadata": {
  "kernelspec": {
   "display_name": "Python3.7",
   "language": "python",
   "name": "python3.7"
  },
  "language_info": {
   "codemirror_mode": {
    "name": "ipython",
    "version": 3
   },
   "file_extension": ".py",
   "mimetype": "text/x-python",
   "name": "python",
   "nbconvert_exporter": "python",
   "pygments_lexer": "ipython3",
   "version": "3.7.0"
  }
 },
 "nbformat": 4,
 "nbformat_minor": 2
}
